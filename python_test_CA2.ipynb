{
 "cells": [
  {
   "cell_type": "code",
   "execution_count": 1,
   "id": "a6605cc4-dcf8-40f2-9330-9338879d3061",
   "metadata": {},
   "outputs": [
    {
     "name": "stdin",
     "output_type": "stream",
     "text": [
      "Choose calculation type:\n",
      "1 for Area of Triangle\n",
      "2 for Volume of Triangular Prism\n",
      "Enter your choice (1 or 2):  3\n"
     ]
    },
    {
     "name": "stdout",
     "output_type": "stream",
     "text": [
      "Invalid input. Please enter 1 or 2.\n"
     ]
    },
    {
     "name": "stdin",
     "output_type": "stream",
     "text": [
      "Choose calculation type:\n",
      "1 for Area of Triangle\n",
      "2 for Volume of Triangular Prism\n",
      "Enter your choice (1 or 2):  2\n",
      "Enter the length of the triangular prism (in units):  15\n",
      "Enter the width of the triangular prism (in units):  20cm\n"
     ]
    },
    {
     "name": "stdout",
     "output_type": "stream",
     "text": [
      "Invalid input. Please enter a numeric value.\n"
     ]
    },
    {
     "name": "stdin",
     "output_type": "stream",
     "text": [
      "Enter the width of the triangular prism (in units):  33\n",
      "Enter the height of the triangular prism (in units):  6.555\n"
     ]
    },
    {
     "name": "stdout",
     "output_type": "stream",
     "text": [
      "The volume of the triangular prism with length 15.0, width 33.0, and height 6.555 is 1081.58 cubic units.\n"
     ]
    }
   ],
   "source": [
    "def calculate_triangle_area(base, height):\n",
    "    \"\"\"Calculate the area of a triangle.\"\"\"\n",
    "    return (base * height) / 2\n",
    "\n",
    "def calculate_prism_volume(length, width, height):\n",
    "    \"\"\"Calculate the volume of a triangular prism.\"\"\"\n",
    "    return (length * width * height) / 3\n",
    "\n",
    "def get_float_input(prompt):\n",
    "    \"\"\"Get a float input from the user, handling invalid inputs.\"\"\"\n",
    "    while True:\n",
    "        try:\n",
    "            return float(input(prompt))\n",
    "        except ValueError:\n",
    "            print(\"Invalid input. Please enter a numeric value.\")\n",
    "\n",
    "def main():\n",
    "    while True:\n",
    "        choice = input(\"Choose calculation type:\\n1 for Area of Triangle\\n2 for Volume of Triangular Prism\\nEnter your choice (1 or 2): \")\n",
    "        if choice in ['1', '2']:\n",
    "            break\n",
    "        else:\n",
    "            print(\"Invalid input. Please enter 1 or 2.\")\n",
    "\n",
    "    if choice == '1':\n",
    "        base = get_float_input(\"Enter the base of the triangle (in units): \")\n",
    "        height = get_float_input(\"Enter the height of the triangle (in units): \")\n",
    "        area = calculate_triangle_area(base, height)\n",
    "        print(f\"The area of the triangle with base {base} and height {height} is {area:.2f} square units.\")\n",
    "    else:\n",
    "        length = get_float_input(\"Enter the length of the triangular prism (in units): \")\n",
    "        width = get_float_input(\"Enter the width of the triangular prism (in units): \")\n",
    "        height = get_float_input(\"Enter the height of the triangular prism (in units): \")\n",
    "        volume = calculate_prism_volume(length, width, height)\n",
    "        print(f\"The volume of the triangular prism with length {length}, width {width}, and height {height} is {volume:.2f} cubic units.\")\n",
    "\n",
    "if __name__ == \"__main__\":\n",
    "    main()\n"
   ]
  },
  {
   "cell_type": "code",
   "execution_count": null,
   "id": "9f83c097-4df6-46b3-9f34-d2102536392b",
   "metadata": {},
   "outputs": [],
   "source": []
  }
 ],
 "metadata": {
  "kernelspec": {
   "display_name": "Python 3 (ipykernel)",
   "language": "python",
   "name": "python3"
  },
  "language_info": {
   "codemirror_mode": {
    "name": "ipython",
    "version": 3
   },
   "file_extension": ".py",
   "mimetype": "text/x-python",
   "name": "python",
   "nbconvert_exporter": "python",
   "pygments_lexer": "ipython3",
   "version": "3.11.5"
  }
 },
 "nbformat": 4,
 "nbformat_minor": 5
}
