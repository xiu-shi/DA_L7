{
 "cells": [
  {
   "cell_type": "markdown",
   "metadata": {},
   "source": [
    "Ex1"
   ]
  },
  {
   "cell_type": "code",
   "execution_count": 1,
   "metadata": {},
   "outputs": [
    {
     "name": "stdout",
     "output_type": "stream",
     "text": [
      "Enter Hours: 56\n",
      "Enter Rate: 7.67\n",
      "Pay: 490.88\n"
     ]
    }
   ],
   "source": [
    "hours = float(input(\"Enter Hours: \"))\n",
    "rate = float(input(\"Enter Rate: \"))\n",
    "\n",
    "if hours>40:\n",
    "    otpay = ((hours-40)*(rate*1.5))\n",
    "    pay = (40*rate)\n",
    "    totalpay = pay + otpay\n",
    "    print(\"Pay:\",totalpay)\n",
    "else:\n",
    "    totalpay = (hours*rate)\n",
    "    print(\"Pay:\",totalpay) "
   ]
  },
  {
   "cell_type": "markdown",
   "metadata": {},
   "source": [
    "Ex2"
   ]
  },
  {
   "cell_type": "code",
   "execution_count": 2,
   "metadata": {},
   "outputs": [
    {
     "name": "stdout",
     "output_type": "stream",
     "text": [
      "Enter Hours: l;j\n",
      "Error, please enter numeric input\n"
     ]
    }
   ],
   "source": [
    "hours = input(\"Enter Hours: \")\n",
    "try:\n",
    "    hours=float(hours)\n",
    "    rate = input(\"Enter Rate: \")\n",
    "    try:\n",
    "        rate=float(rate)\n",
    "        if hours>40:\n",
    "            otpay = ((hours-40)*(rate*1.5))\n",
    "            pay = (40*rate)\n",
    "            totalpay = pay + otpay\n",
    "            print(\"Pay:\",totalpay)\n",
    "        else:\n",
    "            totalpay = (hours*rate)\n",
    "            print(\"Pay:\",totalpay)\n",
    "    except:\n",
    "        print('Error, please enter numeric input')\n",
    "except:\n",
    "    print('Error, please enter numeric input')"
   ]
  },
  {
   "cell_type": "markdown",
   "metadata": {},
   "source": [
    "Ex3"
   ]
  },
  {
   "cell_type": "code",
   "execution_count": 3,
   "metadata": {},
   "outputs": [
    {
     "name": "stdout",
     "output_type": "stream",
     "text": [
      "Enter score:0.3\n",
      "F\n"
     ]
    }
   ],
   "source": [
    "score = input(\"Enter score:\")\n",
    "try:\n",
    "    score = float(score)\n",
    "    if score>=0.9 and score<=1.0:\n",
    "        print(\"A\")\n",
    "    elif score >=0.8 and score<0.9:\n",
    "        print(\"B\")\n",
    "    elif score >=0.7 and score<0.8:\n",
    "        print(\"C\")\n",
    "    elif score >=0.6 and score<0.7:\n",
    "        print(\"D\")   \n",
    "    elif score <0.6:\n",
    "        print(\"F\")\n",
    "    else:\n",
    "        print(\"Bad Score\")\n",
    "except:\n",
    "    print('Bad Score')"
   ]
  },
  {
   "cell_type": "code",
   "execution_count": null,
   "metadata": {},
   "outputs": [],
   "source": []
  }
 ],
 "metadata": {
  "kernelspec": {
   "display_name": "Python 3 (ipykernel)",
   "language": "python",
   "name": "python3"
  },
  "language_info": {
   "codemirror_mode": {
    "name": "ipython",
    "version": 3
   },
   "file_extension": ".py",
   "mimetype": "text/x-python",
   "name": "python",
   "nbconvert_exporter": "python",
   "pygments_lexer": "ipython3",
   "version": "3.11.4"
  }
 },
 "nbformat": 4,
 "nbformat_minor": 2
}
