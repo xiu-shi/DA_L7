{
 "cells": [
  {
   "cell_type": "markdown",
   "metadata": {},
   "source": [
    "Ex2"
   ]
  },
  {
   "cell_type": "code",
   "execution_count": 1,
   "metadata": {},
   "outputs": [
    {
     "name": "stdout",
     "output_type": "stream",
     "text": [
      "Enter your name:\n",
      "\n",
      "David\n",
      "Hello David\n"
     ]
    }
   ],
   "source": [
    "print(\"Enter your name:\\n\")\n",
    "username = input()\n",
    "print(\"Hello \" + username)"
   ]
  },
  {
   "cell_type": "markdown",
   "metadata": {},
   "source": [
    "Ex3"
   ]
  },
  {
   "cell_type": "code",
   "execution_count": 2,
   "metadata": {},
   "outputs": [
    {
     "name": "stdout",
     "output_type": "stream",
     "text": [
      "Enter Hours:\n",
      "30\n",
      "Enter Rate:\n",
      "12\n",
      "Pay:  360.0\n"
     ]
    }
   ],
   "source": [
    "print(\"Enter Hours:\")\n",
    "hours = int(input())\n",
    "print(\"Enter Rate:\")\n",
    "rate = float(input())\n",
    "pay = hours * rate\n",
    "print(\"Pay: \" , pay)"
   ]
  },
  {
   "cell_type": "markdown",
   "metadata": {},
   "source": [
    "Ex4"
   ]
  },
  {
   "cell_type": "code",
   "execution_count": 3,
   "metadata": {},
   "outputs": [
    {
     "name": "stdout",
     "output_type": "stream",
     "text": [
      "8\n",
      "<class 'int'>\n",
      "8.5\n",
      "<class 'float'>\n",
      "4.0\n",
      "<class 'float'>\n",
      "11\n",
      "<class 'int'>\n"
     ]
    }
   ],
   "source": [
    "width = 17\n",
    "height = 12.0\n",
    "\n",
    "\n",
    "#1\n",
    "ans1 = width//2\n",
    "print(ans1)\n",
    "print(type(ans1))\n",
    "\n",
    "#2\n",
    "ans2 = width/2.0\n",
    "print(ans2)\n",
    "print(type(ans2))\n",
    "\n",
    "#3\n",
    "ans3 = height/3\n",
    "print(ans3)\n",
    "print(type(ans3))\n",
    "\n",
    "#4\n",
    "ans4 = 1 + 2 * 5\n",
    "print(ans4)\n",
    "print(type(ans4))"
   ]
  },
  {
   "cell_type": "markdown",
   "metadata": {},
   "source": [
    "Ex5"
   ]
  },
  {
   "cell_type": "code",
   "execution_count": 5,
   "metadata": {},
   "outputs": [
    {
     "name": "stdout",
     "output_type": "stream",
     "text": [
      "Enter Celsius temperature:\n",
      "23.8\n",
      "The Temperature in Fahrenheit is  74.84\n"
     ]
    }
   ],
   "source": [
    "print(\"Enter Celsius temperature:\")\n",
    "celsius = float(input())\n",
    "fahrenheit = (celsius * (9/5)) + 32\n",
    "print(\"The Temperature in Fahrenheit is \",fahrenheit)"
   ]
  },
  {
   "cell_type": "code",
   "execution_count": null,
   "metadata": {},
   "outputs": [],
   "source": []
  }
 ],
 "metadata": {
  "kernelspec": {
   "display_name": "Python 3 (ipykernel)",
   "language": "python",
   "name": "python3"
  },
  "language_info": {
   "codemirror_mode": {
    "name": "ipython",
    "version": 3
   },
   "file_extension": ".py",
   "mimetype": "text/x-python",
   "name": "python",
   "nbconvert_exporter": "python",
   "pygments_lexer": "ipython3",
   "version": "3.11.4"
  }
 },
 "nbformat": 4,
 "nbformat_minor": 2
}
