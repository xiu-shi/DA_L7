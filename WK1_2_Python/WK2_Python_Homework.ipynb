{
 "cells": [
  {
   "cell_type": "code",
   "execution_count": 1,
   "id": "7eb29a24",
   "metadata": {},
   "outputs": [
    {
     "name": "stdout",
     "output_type": "stream",
     "text": [
      "How many hours have you worked? 41\n",
      "Total pay: $410.0\n"
     ]
    }
   ],
   "source": [
    "# Week 2 conditional execution exercises 2\n",
    "\n",
    "user_input = input(\"How many hours have you worked? \")\n",
    "\n",
    "try:\n",
    "    base_hrs = float(user_input)  # Assuming fractional hours are allowed, otherwise use int(user_input)\n",
    "except ValueError:\n",
    "    raise ValueError(\"Input must be a numeric value.\")\n",
    "\n",
    "pay_rate = 10.00\n",
    "\n",
    "total_pay = base_hrs * pay_rate\n",
    "\n",
    "# Print or otherwise use total_pay\n",
    "print(f'Total pay: ${total_pay}')\n",
    "\n"
   ]
  },
  {
   "cell_type": "code",
   "execution_count": null,
   "id": "54d6da59",
   "metadata": {},
   "outputs": [],
   "source": []
  },
  {
   "cell_type": "code",
   "execution_count": 2,
   "id": "91b36688",
   "metadata": {},
   "outputs": [
    {
     "name": "stdout",
     "output_type": "stream",
     "text": [
      "Enter a value between 0.0 and 1.0: 1\n",
      "You score: 1.0\n"
     ]
    }
   ],
   "source": [
    "# Week 2 conditional execution exercises 3\n",
    "def get_input_within_range(prompt):\n",
    "    while True:\n",
    "        user_input = input(prompt)\n",
    "        try:\n",
    "            numeric_value = float(user_input)\n",
    "            if 0.0 <= numeric_value <= 1.0:\n",
    "                return numeric_value\n",
    "            else:\n",
    "                print(\"Please enter a value between 0.0 and 1.0.\")\n",
    "        except ValueError:\n",
    "            print(\"Invalid input. Please enter a numeric value.\")\n",
    "\n",
    "# Get the user input within the specified range\n",
    "score = get_input_within_range(\"Enter a value between 0.0 and 1.0: \")\n",
    "\n",
    "# Output the score\n",
    "print(f\"You score: {score}\")\n"
   ]
  },
  {
   "cell_type": "code",
   "execution_count": null,
   "id": "3aa13ba5",
   "metadata": {},
   "outputs": [],
   "source": []
  },
  {
   "cell_type": "code",
   "execution_count": 3,
   "id": "87d149b7",
   "metadata": {},
   "outputs": [
    {
     "name": "stdout",
     "output_type": "stream",
     "text": [
      "What's your score? 1\n",
      "You score is: 1.0\n",
      "Your grade is: A\n"
     ]
    }
   ],
   "source": [
    "# Week 2 conditional execution exercises 3+\n",
    "\n",
    "def user_input_range(prompt):\n",
    "    while True:\n",
    "        user_input = input(prompt)\n",
    "        try:\n",
    "            num = float(user_input)\n",
    "            if 0.0 <= num <= 1.0:\n",
    "                return num\n",
    "            else:\n",
    "                print(\"Please enter your grade between 0.0 and 1.0.\")\n",
    "                \n",
    "        except ValueError:\n",
    "            print(\"Invalid input. Please enter a numeric grade.\")\n",
    "            \n",
    "# Get the validated numeric score from the user\n",
    "numeric_score = user_input_range(\"What's your score? \")\n",
    "\n",
    "# Print the numeric score\n",
    "print(f\"You score is: {numeric_score}\")\n",
    "\n",
    "if numeric_score >= 0.9:\n",
    "    letter_grade = \"A\"\n",
    "elif numeric_score >= 0.8:\n",
    "    letter_grade = \"B\"\n",
    "elif numeric_score >= 0.7:\n",
    "    letter_grade = \"C\"\n",
    "elif numeric_score >= 0.6:\n",
    "    letter_grade = \"D\"\n",
    "else:\n",
    "    letter_grade = \"F\"\n",
    "\n",
    "# Print the letter grade\n",
    "print(f'Your grade is: {letter_grade}')\n"
   ]
  },
  {
   "cell_type": "code",
   "execution_count": null,
   "id": "9c219777",
   "metadata": {},
   "outputs": [],
   "source": []
  }
 ],
 "metadata": {
  "kernelspec": {
   "display_name": "Python 3 (ipykernel)",
   "language": "python",
   "name": "python3"
  },
  "language_info": {
   "codemirror_mode": {
    "name": "ipython",
    "version": 3
   },
   "file_extension": ".py",
   "mimetype": "text/x-python",
   "name": "python",
   "nbconvert_exporter": "python",
   "pygments_lexer": "ipython3",
   "version": "3.11.4"
  }
 },
 "nbformat": 4,
 "nbformat_minor": 5
}
