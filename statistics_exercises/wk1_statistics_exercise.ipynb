{
 "cells": [
  {
   "cell_type": "code",
   "execution_count": null,
   "id": "d55c10e4",
   "metadata": {},
   "outputs": [],
   "source": [
    "#IMPORTING LIBRARIES\n",
    "# import pandas as pd\n",
    "# import statistics as stats\n",
    "# import numpy as np\n",
    "# import matplotlib.pyplot as plt\n",
    "# import seaborn as sns"
   ]
  },
  {
   "cell_type": "markdown",
   "id": "9d04bd99",
   "metadata": {},
   "source": [
    "Exercise 1.\n",
    "A purchasing department finds that 75% of its special orders are received on time. \n",
    "Of those received on time, 80% fully meet the specifications. \n",
    "Of those who arrive late, 60% comply. \n",
    "A random package is chosen:\n",
    "a) What is the probability that it meets the specifications? \n",
    "b) If an order was chosen that does not meet specifications, what is the probability that it was received\n",
    "on time? "
   ]
  },
  {
   "cell_type": "markdown",
   "id": "aa4f6751",
   "metadata": {},
   "source": [
    "Workings a):\n",
    "Conditional Probabilities\n",
    "Event A = Order Received on time (75%)\n",
    "Event B = Met Spec on time (80%)"
   ]
  },
  {
   "cell_type": "code",
   "execution_count": null,
   "id": "aa83b731",
   "metadata": {},
   "outputs": [],
   "source": []
  },
  {
   "cell_type": "code",
   "execution_count": null,
   "id": "88bde9a7",
   "metadata": {},
   "outputs": [],
   "source": []
  },
  {
   "cell_type": "markdown",
   "id": "46952883",
   "metadata": {},
   "source": [
    "Exercise 2.\n",
    "Every night James rolls a dice to decide how he is going to wake up the next day to go to college. If the\n",
    "number turns out to be even, he will use the alarm of his cell phone and, if not, he will use the alarm\n",
    "clock. \n",
    "5% of the times that his cell phone alarm sounds, he falls asleep, while only 1% of the times that\n",
    "he uses the alarm clock, he falls asleep and then fails to get to school on time.\n",
    "\n",
    "a) What is the probability that, on any given day, James falls asleep? \n",
    "\n",
    "b) If it is known that on a certain day James attended college on time, what is the probability that he\n",
    "chose to wake up with the alarm on his cell phone? "
   ]
  },
  {
   "cell_type": "code",
   "execution_count": null,
   "id": "c05e936c",
   "metadata": {},
   "outputs": [],
   "source": []
  },
  {
   "cell_type": "code",
   "execution_count": null,
   "id": "66eae6ff",
   "metadata": {},
   "outputs": [],
   "source": []
  },
  {
   "cell_type": "markdown",
   "id": "94d8e7e9",
   "metadata": {},
   "source": [
    "Exercise 3.\n",
    "If we throw 3 coins, find the probability of getting:\n",
    "a) Two heads. \n",
    "b) Two tails. "
   ]
  },
  {
   "cell_type": "code",
   "execution_count": null,
   "id": "2d4e70cf",
   "metadata": {},
   "outputs": [],
   "source": []
  },
  {
   "cell_type": "code",
   "execution_count": null,
   "id": "befbf37a",
   "metadata": {},
   "outputs": [],
   "source": []
  },
  {
   "cell_type": "markdown",
   "id": "1592eec8",
   "metadata": {},
   "source": [
    "Exercise 4.\n",
    "We roll a dice, and we want to know the probability of:\n",
    "a) Getting an even number. \n",
    "b) Getting a multiple of 6. \n",
    "c) A number greater than 4. "
   ]
  },
  {
   "cell_type": "code",
   "execution_count": null,
   "id": "dbb60576",
   "metadata": {},
   "outputs": [],
   "source": []
  },
  {
   "cell_type": "code",
   "execution_count": null,
   "id": "205a3995",
   "metadata": {},
   "outputs": [],
   "source": []
  },
  {
   "cell_type": "markdown",
   "id": "fabe6525",
   "metadata": {},
   "source": [
    "Exercise 5.\n",
    "An urn contains 8 red balls, 5 yellow balls and 7 green balls. If we randomly picked one, what is the\n",
    "probability of:\n",
    "a) Getting a red ball? \n",
    "b) Getting a green ball? \n",
    "c) Getting a yellow ball? \n",
    "d) Not getting a red ball? \n",
    "e) Not getting a yellow ball? \n",
    "f) If we know that the ball is not red, what is the probability of getting a green one? "
   ]
  },
  {
   "cell_type": "code",
   "execution_count": null,
   "id": "1e106172",
   "metadata": {},
   "outputs": [],
   "source": []
  },
  {
   "cell_type": "code",
   "execution_count": null,
   "id": "ead0c63d",
   "metadata": {},
   "outputs": [],
   "source": []
  },
  {
   "cell_type": "markdown",
   "id": "6ce6dfa5",
   "metadata": {},
   "source": [
    "Exercise 6.\n",
    "Being P(A) = 0.50, P(B) = 0,30 and P(A U B) = 0.70, Calculate P(A ∩ B). "
   ]
  },
  {
   "cell_type": "code",
   "execution_count": null,
   "id": "595c904d",
   "metadata": {},
   "outputs": [],
   "source": []
  },
  {
   "cell_type": "code",
   "execution_count": null,
   "id": "8d9d4e66",
   "metadata": {},
   "outputs": [],
   "source": []
  },
  {
   "cell_type": "markdown",
   "id": "f0e4f5bc",
   "metadata": {},
   "source": [
    "\n",
    "Exercise 7.\n",
    "In a classroom of 40 students, 10 of them are boys. Between the boys, 3 can speak another language\n",
    "while 50% of the girls can speak a foreign language. If we randomly pick a student:\n",
    "a) What is the probability of this to be a girl? \n",
    "b) What is the probability of this to speak a foreign language? \n",
    "c) If the student does not speak a foreign language, what is the probability of this person to be a boy?"
   ]
  },
  {
   "cell_type": "code",
   "execution_count": null,
   "id": "449b7a73",
   "metadata": {},
   "outputs": [],
   "source": []
  },
  {
   "cell_type": "code",
   "execution_count": null,
   "id": "ef4e9528",
   "metadata": {},
   "outputs": [],
   "source": []
  }
 ],
 "metadata": {
  "kernelspec": {
   "display_name": "Python 3 (ipykernel)",
   "language": "python",
   "name": "python3"
  },
  "language_info": {
   "codemirror_mode": {
    "name": "ipython",
    "version": 3
   },
   "file_extension": ".py",
   "mimetype": "text/x-python",
   "name": "python",
   "nbconvert_exporter": "python",
   "pygments_lexer": "ipython3",
   "version": "3.11.4"
  }
 },
 "nbformat": 4,
 "nbformat_minor": 5
}
