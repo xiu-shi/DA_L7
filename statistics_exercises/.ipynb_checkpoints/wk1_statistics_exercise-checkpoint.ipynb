{
 "cells": [
  {
   "cell_type": "code",
   "execution_count": null,
   "id": "d2733c12",
   "metadata": {},
   "outputs": [],
   "source": [
    "#IMPORTING LIBRARIES\n",
    "# import pandas as pd\n",
    "# import statistics as stats\n",
    "# import numpy as np\n",
    "# import matplotlib.pyplot as plt\n",
    "# import seaborn as sns"
   ]
  },
  {
   "cell_type": "markdown",
   "id": "081c8aae",
   "metadata": {},
   "source": [
    "Exercise 1.\n",
    "A purchasing department finds that 75% of its special orders are received on time. \n",
    "Of those received on time, 80% fully meet the specifications. \n",
    "Of those who arrive late, 60% comply. \n",
    "A random package is chosen:\n",
    "a) What is the probability that it meets the specifications? \n",
    "b) If an order was chosen that does not meet specifications, what is the probability that it was received\n",
    "on time? "
   ]
  },
  {
   "cell_type": "markdown",
   "id": "70491451",
   "metadata": {},
   "source": [
    "Workings a):\n",
    "Conditional Probabilities\n",
    "Event A = Order Received on time (75%)\n",
    "Event B = Met Spec on time (80%)\n",
    "\n",
    "Identify Events & Probabilities:\n",
    "\n",
    "    A = Receiving the order on time\n",
    "    B = Meeting the specifications\n",
    "    A′ = Receiving the order late\n",
    "\n",
    "Given:\n",
    "\n",
    "    P(A)=0.75P(A)=0.75 (75% orders received on time)\n",
    "    P(A′)=0.25P(A′)=0.25 (25% orders are late)\n",
    "    P(B∣A)=0.8P(B∣A)=0.8 (80% meet specs if on time)\n",
    "    P(B∣A′)=0.6P(B∣A′)=0.6 (60% meet specs if late)\n",
    "\n",
    "Calculate Probability using Law of Total Probability:\n",
    "P(B)=P(A)×P(B∣A)+P(A′)×P(B∣A′)\n",
    "P(B)=P(A)×P(B∣A)+P(A′)×P(B∣A′)\n",
    "P(B)=0.75×0.8+0.25×0.6\n",
    "P(B)=(0.75×0.8)+(0.25*0.6)\n"
   ]
  },
  {
   "cell_type": "code",
   "execution_count": 4,
   "id": "9ab70682",
   "metadata": {},
   "outputs": [
    {
     "data": {
      "text/plain": [
       "0.7500000000000001"
      ]
     },
     "execution_count": 4,
     "metadata": {},
     "output_type": "execute_result"
    }
   ],
   "source": [
    "float( 0.75 * 0.8) + (0.25 * 0.6)"
   ]
  },
  {
   "cell_type": "markdown",
   "id": "38d7ba3f",
   "metadata": {},
   "source": [
    "test mac pro"
   ]
  },
  {
   "cell_type": "markdown",
   "id": "ef2c3818",
   "metadata": {},
   "source": [
    "Workings b): "
   ]
  },
  {
   "cell_type": "code",
   "execution_count": null,
   "id": "e072e3dc",
   "metadata": {},
   "outputs": [],
   "source": []
  },
  {
   "cell_type": "code",
   "execution_count": null,
   "id": "6b6c93c0",
   "metadata": {},
   "outputs": [],
   "source": []
  },
  {
   "cell_type": "markdown",
   "id": "a82b0933",
   "metadata": {},
   "source": [
    "Exercise 2.\n",
    "Every night James rolls a dice to decide how he is going to wake up the next day to go to college. If the\n",
    "number turns out to be even, he will use the alarm of his cell phone and, if not, he will use the alarm\n",
    "clock. \n",
    "5% of the times that his cell phone alarm sounds, he falls asleep, while only 1% of the times that\n",
    "he uses the alarm clock, he falls asleep and then fails to get to school on time.\n",
    "\n",
    "a) What is the probability that, on any given day, James falls asleep? \n",
    "\n",
    "b) If it is known that on a certain day James attended college on time, what is the probability that he\n",
    "chose to wake up with the alarm on his cell phone? "
   ]
  },
  {
   "cell_type": "code",
   "execution_count": null,
   "id": "dce162ba",
   "metadata": {},
   "outputs": [],
   "source": []
  },
  {
   "cell_type": "code",
   "execution_count": null,
   "id": "5a22ab62",
   "metadata": {},
   "outputs": [],
   "source": []
  },
  {
   "cell_type": "markdown",
   "id": "95efed0c",
   "metadata": {},
   "source": [
    "Exercise 3.\n",
    "If we throw 3 coins, find the probability of getting:\n",
    "a) Two heads. \n",
    "b) Two tails. "
   ]
  },
  {
   "cell_type": "code",
   "execution_count": null,
   "id": "cea285e1",
   "metadata": {},
   "outputs": [],
   "source": []
  },
  {
   "cell_type": "code",
   "execution_count": null,
   "id": "a662dbf3",
   "metadata": {},
   "outputs": [],
   "source": []
  },
  {
   "cell_type": "markdown",
   "id": "ad82ca53",
   "metadata": {},
   "source": [
    "Exercise 4.\n",
    "We roll a dice, and we want to know the probability of:\n",
    "a) Getting an even number. \n",
    "b) Getting a multiple of 6. \n",
    "c) A number greater than 4. "
   ]
  },
  {
   "cell_type": "code",
   "execution_count": null,
   "id": "6bdde262",
   "metadata": {},
   "outputs": [],
   "source": []
  },
  {
   "cell_type": "code",
   "execution_count": null,
   "id": "39080872",
   "metadata": {},
   "outputs": [],
   "source": []
  },
  {
   "cell_type": "markdown",
   "id": "79d21c33",
   "metadata": {},
   "source": [
    "Exercise 5.\n",
    "An urn contains 8 red balls, 5 yellow balls and 7 green balls. If we randomly picked one, what is the\n",
    "probability of:\n",
    "a) Getting a red ball? \n",
    "b) Getting a green ball? \n",
    "c) Getting a yellow ball? \n",
    "d) Not getting a red ball? \n",
    "e) Not getting a yellow ball? \n",
    "f) If we know that the ball is not red, what is the probability of getting a green one? "
   ]
  },
  {
   "cell_type": "code",
   "execution_count": null,
   "id": "968bca0c",
   "metadata": {},
   "outputs": [],
   "source": []
  },
  {
   "cell_type": "code",
   "execution_count": null,
   "id": "135bc3ff",
   "metadata": {},
   "outputs": [],
   "source": []
  },
  {
   "cell_type": "markdown",
   "id": "c43c8c9f",
   "metadata": {},
   "source": [
    "Exercise 6.\n",
    "Being P(A) = 0.50, P(B) = 0,30 and P(A U B) = 0.70, Calculate P(A ∩ B). "
   ]
  },
  {
   "cell_type": "code",
   "execution_count": null,
   "id": "591b23ba",
   "metadata": {},
   "outputs": [],
   "source": []
  },
  {
   "cell_type": "code",
   "execution_count": null,
   "id": "73fad867",
   "metadata": {},
   "outputs": [],
   "source": []
  },
  {
   "cell_type": "markdown",
   "id": "e93e1af2",
   "metadata": {},
   "source": [
    "\n",
    "Exercise 7.\n",
    "In a classroom of 40 students, 10 of them are boys. Between the boys, 3 can speak another language\n",
    "while 50% of the girls can speak a foreign language. If we randomly pick a student:\n",
    "a) What is the probability of this to be a girl? \n",
    "b) What is the probability of this to speak a foreign language? \n",
    "c) If the student does not speak a foreign language, what is the probability of this person to be a boy?"
   ]
  },
  {
   "cell_type": "code",
   "execution_count": null,
   "id": "d2d18f01",
   "metadata": {},
   "outputs": [],
   "source": []
  },
  {
   "cell_type": "code",
   "execution_count": null,
   "id": "cbf51c47",
   "metadata": {},
   "outputs": [],
   "source": []
  }
 ],
 "metadata": {
  "kernelspec": {
   "display_name": "Python 3 (ipykernel)",
   "language": "python",
   "name": "python3"
  },
  "language_info": {
   "codemirror_mode": {
    "name": "ipython",
    "version": 3
   },
   "file_extension": ".py",
   "mimetype": "text/x-python",
   "name": "python",
   "nbconvert_exporter": "python",
   "pygments_lexer": "ipython3",
   "version": "3.9.18"
  }
 },
 "nbformat": 4,
 "nbformat_minor": 5
}
