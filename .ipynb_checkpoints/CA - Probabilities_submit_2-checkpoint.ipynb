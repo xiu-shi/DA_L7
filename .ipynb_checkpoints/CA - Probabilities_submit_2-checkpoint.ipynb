{
 "cells": [
  {
   "cell_type": "markdown",
   "id": "65a127ae",
   "metadata": {},
   "source": [
    "Probabilities 2. The annual freshwater withdrawal in Sydney is normally distributed with an average of 10.5\n",
    "billion cubic meters (bcm) with a standard deviation of 2 bcm. If 4 years are picked randomly,\n",
    "what is the probability that in two years the annual freshwater withdrawal was greater than 11\n",
    "bcm? "
   ]
  },
  {
   "cell_type": "code",
   "execution_count": 1,
   "id": "24ccf999",
   "metadata": {},
   "outputs": [],
   "source": [
    "import numpy as np\n",
    "import pandas as pd\n",
    "import statistics as stats\n",
    "import math\n",
    "from scipy.stats import norm\n",
    "from scipy.stats import binom"
   ]
  },
  {
   "cell_type": "markdown",
   "id": "c93f04b5",
   "metadata": {},
   "source": [
    "We know it’s normally distribution as it’s a bell curve shape.\n",
    "On average Sydney uses 10.5 billion cubic meters of water in a year, p is 0.25"
   ]
  },
  {
   "cell_type": "code",
   "execution_count": 2,
   "id": "0f35a7cd",
   "metadata": {},
   "outputs": [],
   "source": [
    "p = ( 11 - 10.5 ) / 2\n",
    "#print(p)"
   ]
  },
  {
   "cell_type": "markdown",
   "id": "475d2438",
   "metadata": {},
   "source": [
    "Given it's a normal distribution, norm.cdf(p) works out random variable, then subtract to work out one year's water usage great than 11bcm"
   ]
  },
  {
   "cell_type": "code",
   "execution_count": 3,
   "id": "7c2c0fa8",
   "metadata": {},
   "outputs": [],
   "source": [
    "one_year_chance = 1 - norm.cdf(p)"
   ]
  },
  {
   "cell_type": "code",
   "execution_count": 4,
   "id": "a68d9811",
   "metadata": {},
   "outputs": [],
   "source": [
    "total_years = 4\n",
    "random_years = 2"
   ]
  },
  {
   "cell_type": "markdown",
   "id": "47bf3158",
   "metadata": {},
   "source": [
    "Use function binom.pmf binomial distribution to work out the probability of have 2 random years out of 4 years freshwater consumption."
   ]
  },
  {
   "cell_type": "code",
   "execution_count": 6,
   "id": "f4845a17",
   "metadata": {},
   "outputs": [],
   "source": [
    "result = binom.pmf(random_years,total_years, one_year_chance)"
   ]
  },
  {
   "cell_type": "code",
   "execution_count": 7,
   "id": "f6768542",
   "metadata": {},
   "outputs": [
    {
     "name": "stdout",
     "output_type": "stream",
     "text": [
      "The probability of 2 years out of 4 years will consume freshwater greater than 11 bcm is 0.34634073294108836.\n"
     ]
    }
   ],
   "source": [
    "print(f\"The probability of 2 years out of 4 years will consume freshwater greater than 11 bcm is {result}.\")"
   ]
  }
 ],
 "metadata": {
  "kernelspec": {
   "display_name": "Python 3 (ipykernel)",
   "language": "python",
   "name": "python3"
  },
  "language_info": {
   "codemirror_mode": {
    "name": "ipython",
    "version": 3
   },
   "file_extension": ".py",
   "mimetype": "text/x-python",
   "name": "python",
   "nbconvert_exporter": "python",
   "pygments_lexer": "ipython3",
   "version": "3.11.4"
  }
 },
 "nbformat": 4,
 "nbformat_minor": 5
}
