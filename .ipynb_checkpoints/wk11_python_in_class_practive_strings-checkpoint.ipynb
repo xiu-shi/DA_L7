{
 "cells": [
  {
   "cell_type": "code",
   "execution_count": 1,
   "id": "d0609c26",
   "metadata": {},
   "outputs": [],
   "source": [
    "name = \"David McQuaid\""
   ]
  },
  {
   "cell_type": "code",
   "execution_count": 2,
   "id": "4bf70f2e",
   "metadata": {},
   "outputs": [
    {
     "data": {
      "text/plain": [
       "str"
      ]
     },
     "execution_count": 2,
     "metadata": {},
     "output_type": "execute_result"
    }
   ],
   "source": [
    "type(name)"
   ]
  },
  {
   "cell_type": "code",
   "execution_count": 3,
   "id": "fc479554",
   "metadata": {},
   "outputs": [
    {
     "data": {
      "text/plain": [
       "'a'"
      ]
     },
     "execution_count": 3,
     "metadata": {},
     "output_type": "execute_result"
    }
   ],
   "source": [
    "name[1]"
   ]
  },
  {
   "cell_type": "code",
   "execution_count": 4,
   "id": "83381d0d",
   "metadata": {},
   "outputs": [
    {
     "data": {
      "text/plain": [
       "' '"
      ]
     },
     "execution_count": 4,
     "metadata": {},
     "output_type": "execute_result"
    }
   ],
   "source": [
    "name[5]"
   ]
  },
  {
   "cell_type": "code",
   "execution_count": 5,
   "id": "1d0a8d6e",
   "metadata": {},
   "outputs": [
    {
     "data": {
      "text/plain": [
       "13"
      ]
     },
     "execution_count": 5,
     "metadata": {},
     "output_type": "execute_result"
    }
   ],
   "source": [
    "len(name)"
   ]
  },
  {
   "cell_type": "code",
   "execution_count": 6,
   "id": "236acd04",
   "metadata": {},
   "outputs": [],
   "source": [
    "s = \"Monty Python\""
   ]
  },
  {
   "cell_type": "code",
   "execution_count": 7,
   "id": "6cc52e9b",
   "metadata": {},
   "outputs": [
    {
     "data": {
      "text/plain": [
       "'Monty'"
      ]
     },
     "execution_count": 7,
     "metadata": {},
     "output_type": "execute_result"
    }
   ],
   "source": [
    "s[0:5] # or leave first char blank then s[:5]"
   ]
  },
  {
   "cell_type": "code",
   "execution_count": 8,
   "id": "25626dac",
   "metadata": {},
   "outputs": [
    {
     "data": {
      "text/plain": [
       "'Monty Python'"
      ]
     },
     "execution_count": 8,
     "metadata": {},
     "output_type": "execute_result"
    }
   ],
   "source": [
    "s[ : ] #leave space both end would select everything"
   ]
  },
  {
   "cell_type": "code",
   "execution_count": null,
   "id": "97e0ef90",
   "metadata": {},
   "outputs": [],
   "source": []
  }
 ],
 "metadata": {
  "kernelspec": {
   "display_name": "Python 3 (ipykernel)",
   "language": "python",
   "name": "python3"
  },
  "language_info": {
   "codemirror_mode": {
    "name": "ipython",
    "version": 3
   },
   "file_extension": ".py",
   "mimetype": "text/x-python",
   "name": "python",
   "nbconvert_exporter": "python",
   "pygments_lexer": "ipython3",
   "version": "3.11.4"
  }
 },
 "nbformat": 4,
 "nbformat_minor": 5
}
