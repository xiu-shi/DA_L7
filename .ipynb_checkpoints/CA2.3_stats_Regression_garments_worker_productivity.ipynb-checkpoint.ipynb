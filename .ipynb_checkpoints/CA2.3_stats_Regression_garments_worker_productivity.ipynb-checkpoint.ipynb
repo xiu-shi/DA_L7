{
 "cells": [
  {
   "cell_type": "markdown",
   "id": "b392d7ce-9311-4fd2-929e-3420871d787c",
   "metadata": {},
   "source": [
    "# Regression Analysis - part 3\n",
    "\n",
    "Use some variables of the dataset to perform regression analysis. You should identify the key variables that\n",
    "influence employee’s productivity."
   ]
  },
  {
   "cell_type": "code",
   "execution_count": 1,
   "id": "5bde191a-b785-423c-92c6-357617425dfc",
   "metadata": {},
   "outputs": [
    {
     "data": {
      "text/html": [
       "<div>\n",
       "<style scoped>\n",
       "    .dataframe tbody tr th:only-of-type {\n",
       "        vertical-align: middle;\n",
       "    }\n",
       "\n",
       "    .dataframe tbody tr th {\n",
       "        vertical-align: top;\n",
       "    }\n",
       "\n",
       "    .dataframe thead th {\n",
       "        text-align: right;\n",
       "    }\n",
       "</style>\n",
       "<table border=\"1\" class=\"dataframe\">\n",
       "  <thead>\n",
       "    <tr style=\"text-align: right;\">\n",
       "      <th></th>\n",
       "      <th>department</th>\n",
       "      <th>day</th>\n",
       "      <th>team</th>\n",
       "      <th>targeted_productivity</th>\n",
       "      <th>smv</th>\n",
       "      <th>wip</th>\n",
       "      <th>over_time</th>\n",
       "      <th>incentive</th>\n",
       "      <th>idle_time</th>\n",
       "      <th>idle_men</th>\n",
       "      <th>no_of_style_change</th>\n",
       "      <th>no_of_workers</th>\n",
       "      <th>actual_productivity</th>\n",
       "    </tr>\n",
       "  </thead>\n",
       "  <tbody>\n",
       "    <tr>\n",
       "      <th>0</th>\n",
       "      <td>sweing</td>\n",
       "      <td>Thursday</td>\n",
       "      <td>8</td>\n",
       "      <td>0.8</td>\n",
       "      <td>26.16</td>\n",
       "      <td>1108</td>\n",
       "      <td>7080</td>\n",
       "      <td>98</td>\n",
       "      <td>0.0</td>\n",
       "      <td>0</td>\n",
       "      <td>0</td>\n",
       "      <td>59.0</td>\n",
       "      <td>0.940725</td>\n",
       "    </tr>\n",
       "    <tr>\n",
       "      <th>1</th>\n",
       "      <td>sweing</td>\n",
       "      <td>Thursday</td>\n",
       "      <td>11</td>\n",
       "      <td>0.8</td>\n",
       "      <td>11.41</td>\n",
       "      <td>968</td>\n",
       "      <td>3660</td>\n",
       "      <td>50</td>\n",
       "      <td>0.0</td>\n",
       "      <td>0</td>\n",
       "      <td>0</td>\n",
       "      <td>30.5</td>\n",
       "      <td>0.800570</td>\n",
       "    </tr>\n",
       "    <tr>\n",
       "      <th>2</th>\n",
       "      <td>sweing</td>\n",
       "      <td>Thursday</td>\n",
       "      <td>12</td>\n",
       "      <td>0.8</td>\n",
       "      <td>11.41</td>\n",
       "      <td>968</td>\n",
       "      <td>3660</td>\n",
       "      <td>50</td>\n",
       "      <td>0.0</td>\n",
       "      <td>0</td>\n",
       "      <td>0</td>\n",
       "      <td>30.5</td>\n",
       "      <td>0.800570</td>\n",
       "    </tr>\n",
       "    <tr>\n",
       "      <th>3</th>\n",
       "      <td>sweing</td>\n",
       "      <td>Thursday</td>\n",
       "      <td>6</td>\n",
       "      <td>0.8</td>\n",
       "      <td>25.90</td>\n",
       "      <td>1170</td>\n",
       "      <td>1920</td>\n",
       "      <td>50</td>\n",
       "      <td>0.0</td>\n",
       "      <td>0</td>\n",
       "      <td>0</td>\n",
       "      <td>56.0</td>\n",
       "      <td>0.800382</td>\n",
       "    </tr>\n",
       "    <tr>\n",
       "      <th>4</th>\n",
       "      <td>sweing</td>\n",
       "      <td>Thursday</td>\n",
       "      <td>7</td>\n",
       "      <td>0.8</td>\n",
       "      <td>25.90</td>\n",
       "      <td>984</td>\n",
       "      <td>6720</td>\n",
       "      <td>38</td>\n",
       "      <td>0.0</td>\n",
       "      <td>0</td>\n",
       "      <td>0</td>\n",
       "      <td>56.0</td>\n",
       "      <td>0.800125</td>\n",
       "    </tr>\n",
       "  </tbody>\n",
       "</table>\n",
       "</div>"
      ],
      "text/plain": [
       "  department       day  team  targeted_productivity    smv   wip  over_time  \\\n",
       "0     sweing  Thursday     8                    0.8  26.16  1108       7080   \n",
       "1     sweing  Thursday    11                    0.8  11.41   968       3660   \n",
       "2     sweing  Thursday    12                    0.8  11.41   968       3660   \n",
       "3     sweing  Thursday     6                    0.8  25.90  1170       1920   \n",
       "4     sweing  Thursday     7                    0.8  25.90   984       6720   \n",
       "\n",
       "   incentive  idle_time  idle_men  no_of_style_change  no_of_workers  \\\n",
       "0         98        0.0         0                   0           59.0   \n",
       "1         50        0.0         0                   0           30.5   \n",
       "2         50        0.0         0                   0           30.5   \n",
       "3         50        0.0         0                   0           56.0   \n",
       "4         38        0.0         0                   0           56.0   \n",
       "\n",
       "   actual_productivity  \n",
       "0             0.940725  \n",
       "1             0.800570  \n",
       "2             0.800570  \n",
       "3             0.800382  \n",
       "4             0.800125  "
      ]
     },
     "execution_count": 1,
     "metadata": {},
     "output_type": "execute_result"
    }
   ],
   "source": [
    "import numpy as np\n",
    "import pandas as pd\n",
    "df = pd.read_csv(\"/Users/janet.xuishi/Documents/DA_L7/CA2.0_stats_garments_worker_productivity.csv\")\n",
    "df.head()"
   ]
  },
  {
   "cell_type": "code",
   "execution_count": 2,
   "id": "e93c45ab",
   "metadata": {},
   "outputs": [
    {
     "name": "stdout",
     "output_type": "stream",
     "text": [
      "['team', 'targeted_productivity', 'smv', 'wip', 'over_time', 'incentive', 'idle_time', 'idle_men', 'no_of_style_change', 'no_of_workers']\n"
     ]
    }
   ],
   "source": [
    "# We need to select relevant columns to define our variables\n",
    "var_columns = df.select_dtypes(include = [np.number]).columns.tolist()\n",
    "var_columns.remove(\"actual_productivity\")\n",
    "print(var_columns)"
   ]
  },
  {
   "cell_type": "code",
   "execution_count": 3,
   "id": "650d10b1",
   "metadata": {},
   "outputs": [],
   "source": [
    "# We are using numeric variables as potential predictors.\n",
    "# X are indepent variables, y is the dependent variable\n",
    "X = df[var_columns]\n",
    "y = df[\"actual_productivity\"]\n",
    "# print(X,y)"
   ]
  },
  {
   "cell_type": "code",
   "execution_count": 4,
   "id": "d8df0427",
   "metadata": {},
   "outputs": [],
   "source": [
    "# Import library\n",
    "# We need to split the data into training and testing. \n",
    "# In this CA, we use 80% to train and 20% of data to test\n",
    "from sklearn.model_selection import train_test_split\n",
    "X_train, X_test, y_train, y_test = train_test_split(X, y, test_size = 0.20, random_state = 0)"
   ]
  },
  {
   "cell_type": "code",
   "execution_count": 5,
   "id": "65d69215",
   "metadata": {},
   "outputs": [],
   "source": [
    "# Import library\n",
    "# Create regression model\n",
    "from sklearn.linear_model import LinearRegression\n",
    "regressor = LinearRegression()"
   ]
  },
  {
   "cell_type": "code",
   "execution_count": 6,
   "id": "d76be442",
   "metadata": {},
   "outputs": [
    {
     "data": {
      "text/html": [
       "<style>#sk-container-id-1 {color: black;}#sk-container-id-1 pre{padding: 0;}#sk-container-id-1 div.sk-toggleable {background-color: white;}#sk-container-id-1 label.sk-toggleable__label {cursor: pointer;display: block;width: 100%;margin-bottom: 0;padding: 0.3em;box-sizing: border-box;text-align: center;}#sk-container-id-1 label.sk-toggleable__label-arrow:before {content: \"▸\";float: left;margin-right: 0.25em;color: #696969;}#sk-container-id-1 label.sk-toggleable__label-arrow:hover:before {color: black;}#sk-container-id-1 div.sk-estimator:hover label.sk-toggleable__label-arrow:before {color: black;}#sk-container-id-1 div.sk-toggleable__content {max-height: 0;max-width: 0;overflow: hidden;text-align: left;background-color: #f0f8ff;}#sk-container-id-1 div.sk-toggleable__content pre {margin: 0.2em;color: black;border-radius: 0.25em;background-color: #f0f8ff;}#sk-container-id-1 input.sk-toggleable__control:checked~div.sk-toggleable__content {max-height: 200px;max-width: 100%;overflow: auto;}#sk-container-id-1 input.sk-toggleable__control:checked~label.sk-toggleable__label-arrow:before {content: \"▾\";}#sk-container-id-1 div.sk-estimator input.sk-toggleable__control:checked~label.sk-toggleable__label {background-color: #d4ebff;}#sk-container-id-1 div.sk-label input.sk-toggleable__control:checked~label.sk-toggleable__label {background-color: #d4ebff;}#sk-container-id-1 input.sk-hidden--visually {border: 0;clip: rect(1px 1px 1px 1px);clip: rect(1px, 1px, 1px, 1px);height: 1px;margin: -1px;overflow: hidden;padding: 0;position: absolute;width: 1px;}#sk-container-id-1 div.sk-estimator {font-family: monospace;background-color: #f0f8ff;border: 1px dotted black;border-radius: 0.25em;box-sizing: border-box;margin-bottom: 0.5em;}#sk-container-id-1 div.sk-estimator:hover {background-color: #d4ebff;}#sk-container-id-1 div.sk-parallel-item::after {content: \"\";width: 100%;border-bottom: 1px solid gray;flex-grow: 1;}#sk-container-id-1 div.sk-label:hover label.sk-toggleable__label {background-color: #d4ebff;}#sk-container-id-1 div.sk-serial::before {content: \"\";position: absolute;border-left: 1px solid gray;box-sizing: border-box;top: 0;bottom: 0;left: 50%;z-index: 0;}#sk-container-id-1 div.sk-serial {display: flex;flex-direction: column;align-items: center;background-color: white;padding-right: 0.2em;padding-left: 0.2em;position: relative;}#sk-container-id-1 div.sk-item {position: relative;z-index: 1;}#sk-container-id-1 div.sk-parallel {display: flex;align-items: stretch;justify-content: center;background-color: white;position: relative;}#sk-container-id-1 div.sk-item::before, #sk-container-id-1 div.sk-parallel-item::before {content: \"\";position: absolute;border-left: 1px solid gray;box-sizing: border-box;top: 0;bottom: 0;left: 50%;z-index: -1;}#sk-container-id-1 div.sk-parallel-item {display: flex;flex-direction: column;z-index: 1;position: relative;background-color: white;}#sk-container-id-1 div.sk-parallel-item:first-child::after {align-self: flex-end;width: 50%;}#sk-container-id-1 div.sk-parallel-item:last-child::after {align-self: flex-start;width: 50%;}#sk-container-id-1 div.sk-parallel-item:only-child::after {width: 0;}#sk-container-id-1 div.sk-dashed-wrapped {border: 1px dashed gray;margin: 0 0.4em 0.5em 0.4em;box-sizing: border-box;padding-bottom: 0.4em;background-color: white;}#sk-container-id-1 div.sk-label label {font-family: monospace;font-weight: bold;display: inline-block;line-height: 1.2em;}#sk-container-id-1 div.sk-label-container {text-align: center;}#sk-container-id-1 div.sk-container {/* jupyter's `normalize.less` sets `[hidden] { display: none; }` but bootstrap.min.css set `[hidden] { display: none !important; }` so we also need the `!important` here to be able to override the default hidden behavior on the sphinx rendered scikit-learn.org. See: https://github.com/scikit-learn/scikit-learn/issues/21755 */display: inline-block !important;position: relative;}#sk-container-id-1 div.sk-text-repr-fallback {display: none;}</style><div id=\"sk-container-id-1\" class=\"sk-top-container\"><div class=\"sk-text-repr-fallback\"><pre>LinearRegression()</pre><b>In a Jupyter environment, please rerun this cell to show the HTML representation or trust the notebook. <br />On GitHub, the HTML representation is unable to render, please try loading this page with nbviewer.org.</b></div><div class=\"sk-container\" hidden><div class=\"sk-item\"><div class=\"sk-estimator sk-toggleable\"><input class=\"sk-toggleable__control sk-hidden--visually\" id=\"sk-estimator-id-1\" type=\"checkbox\" checked><label for=\"sk-estimator-id-1\" class=\"sk-toggleable__label sk-toggleable__label-arrow\">LinearRegression</label><div class=\"sk-toggleable__content\"><pre>LinearRegression()</pre></div></div></div></div></div>"
      ],
      "text/plain": [
       "LinearRegression()"
      ]
     },
     "execution_count": 6,
     "metadata": {},
     "output_type": "execute_result"
    }
   ],
   "source": [
    "# Plug in the training data\n",
    "regressor.fit(X_train, y_train)"
   ]
  },
  {
   "cell_type": "code",
   "execution_count": 7,
   "id": "a4bc8842",
   "metadata": {},
   "outputs": [],
   "source": [
    "# Predicting values for the test set\n",
    "y_pred = regressor.predict(X_test)"
   ]
  },
  {
   "cell_type": "code",
   "execution_count": 8,
   "id": "a8750cbe",
   "metadata": {},
   "outputs": [],
   "source": [
    "# Score the model based on the training data\n",
    "training_score = regressor.score(X_train, y_train)"
   ]
  },
  {
   "cell_type": "code",
   "execution_count": 9,
   "id": "0eb0cea4",
   "metadata": {},
   "outputs": [],
   "source": [
    "coefficients = regressor.coef_"
   ]
  },
  {
   "cell_type": "code",
   "execution_count": 10,
   "id": "1f79cf90",
   "metadata": {},
   "outputs": [
    {
     "name": "stdout",
     "output_type": "stream",
     "text": [
      "                       Coefficient\n",
      "team                      -0.00394\n",
      "targeted_productivity      0.64915\n",
      "smv                       -0.00319\n",
      "wip                       -0.00000\n",
      "over_time                 -0.00000\n",
      "incentive                  0.00288\n",
      "idle_time                  0.00034\n",
      "idle_men                  -0.00741\n",
      "no_of_style_change        -0.00046\n",
      "no_of_workers              0.00122\n",
      "The trained score is at: 0.8177377944594191\n"
     ]
    }
   ],
   "source": [
    "# To list out the numeric variables as potential predictors: \n",
    "coeff_df = round(pd.DataFrame(coefficients, X.columns, columns = [\"Coefficient\"]),5)\n",
    "print(coeff_df)\n",
    "\n",
    "# print out training scores\n",
    "print(f\"The trained score is at: {training_score}\")"
   ]
  },
  {
   "cell_type": "code",
   "execution_count": 11,
   "id": "a1d51e0e",
   "metadata": {},
   "outputs": [],
   "source": [
    "# Create visualization to better understand the major influence variable/s and minor influence variable/s"
   ]
  },
  {
   "cell_type": "code",
   "execution_count": 12,
   "id": "4ac23c73",
   "metadata": {},
   "outputs": [],
   "source": [
    "import matplotlib.pyplot as plt\n",
    "import seaborn as sns"
   ]
  },
  {
   "cell_type": "code",
   "execution_count": 13,
   "id": "043b45f7",
   "metadata": {},
   "outputs": [],
   "source": [
    "sns.set(style = \"whitegrid\")"
   ]
  },
  {
   "cell_type": "code",
   "execution_count": 14,
   "id": "e5239fe6",
   "metadata": {},
   "outputs": [],
   "source": [
    "# Create the Coefficient data frame for visualization\n",
    "coeff_df = pd.DataFrame({\n",
    "    \"Variable\": [\"team\",\n",
    "                 \"targeted_productivity\",\n",
    "                 \"smv\",\n",
    "                 \"wip\",\n",
    "                 \"over_time\",\n",
    "                 \"incentive\",\n",
    "                 \"idle_time\",\n",
    "                 \"idle_men\",\n",
    "                 \"no_of_style_change\",\n",
    "                 \"no_of_workers\"\n",
    "                ],\n",
    " \"Coefficient\": [-0.00394,\n",
    "                0.64915,\n",
    "                -0.00319,\n",
    "                -0.00000,\n",
    "                -0.00000,\n",
    "                0.00288,\n",
    "                0.00034,\n",
    "                -0.00741,\n",
    "                -0.00046,\n",
    "                0.00122\n",
    "                 ]\n",
    "})"
   ]
  },
  {
   "cell_type": "code",
   "execution_count": 15,
   "id": "6d042a49",
   "metadata": {},
   "outputs": [],
   "source": [
    "# Sort the Data Frame based on absolute value of coefficients for better visual presentation\n",
    "coeff_df[\"abs_coefficient\"] = coeff_df[\"Coefficient\"].abs()\n",
    "coeff_df = coeff_df.sort_values(by = \"abs_coefficient\", ascending = False).drop(\"abs_coefficient\",axis = 1)"
   ]
  },
  {
   "cell_type": "code",
   "execution_count": 16,
   "id": "bbbbb4c8",
   "metadata": {},
   "outputs": [
    {
     "name": "stderr",
     "output_type": "stream",
     "text": [
      "/Users/janet.xuishi/opt/anaconda3/lib/python3.9/site-packages/seaborn/_oldcore.py:1498: FutureWarning: is_categorical_dtype is deprecated and will be removed in a future version. Use isinstance(dtype, CategoricalDtype) instead\n",
      "  if pd.api.types.is_categorical_dtype(vector):\n",
      "/Users/janet.xuishi/opt/anaconda3/lib/python3.9/site-packages/seaborn/_oldcore.py:1498: FutureWarning: is_categorical_dtype is deprecated and will be removed in a future version. Use isinstance(dtype, CategoricalDtype) instead\n",
      "  if pd.api.types.is_categorical_dtype(vector):\n",
      "/Users/janet.xuishi/opt/anaconda3/lib/python3.9/site-packages/seaborn/_oldcore.py:1498: FutureWarning: is_categorical_dtype is deprecated and will be removed in a future version. Use isinstance(dtype, CategoricalDtype) instead\n",
      "  if pd.api.types.is_categorical_dtype(vector):\n"
     ]
    },
    {
     "data": {
      "image/png": "[encoded data removed]",
      "text/plain": [
       "<Figure size 1200x800 with 1 Axes>"
      ]
     },
     "metadata": {},
     "output_type": "display_data"
    }
   ],
   "source": [
    "# Create a bar plot\n",
    "plt.figure(figsize = (12,8))\n",
    "sns.barplot(y = \"Coefficient\", \n",
    "            x = \"Variable\", data = coeff_df, palette = \"vlag\")\n",
    "# Titles and labels definition \n",
    "plt.title(\"Influence of Various Factors on Employees' Productivity\")\n",
    "plt.ylabel(\"Coefficient\")\n",
    "plt.xlabel(\"Variables\")\n",
    "plt.show()"
   ]
  },
  {
   "cell_type": "code",
   "execution_count": null,
   "id": "82aa8c54",
   "metadata": {},
   "outputs": [],
   "source": []
  },
  {
   "cell_type": "markdown",
   "id": "0916f5e0",
   "metadata": {},
   "source": [
    "Conclusion:\n",
    "The model trained score is at: 0.8177377944594191, indicates model is capturing variation in productivity based on given independent variables.\n",
    "Coefficients results:\n",
    "There are mix of positive and negative coefficient values, the \"targeted_productivity\" at 0.649 indicates a positive effect on productivity. The other positive coefficient values are not as high as 0.649 to significantly impact the productivity, however it should not be ignored in the real world."
   ]
  }
 ],
 "metadata": {
  "kernelspec": {
   "display_name": "Python 3 (ipykernel)",
   "language": "python",
   "name": "python3"
  },
  "language_info": {
   "codemirror_mode": {
    "name": "ipython",
    "version": 3
   },
   "file_extension": ".py",
   "mimetype": "text/x-python",
   "name": "python",
   "nbconvert_exporter": "python",
   "pygments_lexer": "ipython3",
   "version": "3.9.18"
  }
 },
 "nbformat": 4,
 "nbformat_minor": 5
}
