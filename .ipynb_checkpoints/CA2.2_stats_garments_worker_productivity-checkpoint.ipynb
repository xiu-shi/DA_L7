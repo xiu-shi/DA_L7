{
 "cells": [
  {
   "cell_type": "markdown",
   "id": "81131956-2182-455f-9ba9-cd07d872c3ee",
   "metadata": {},
   "source": [
    "# Stats CA2.2\n",
    "\n",
    "Inferential Statistics - part 2\n",
    "\n",
    "Formulate an appropriate analysis to determine the real average productivity of these workers each day of\n",
    "the week. Is there any difference between the days? Along with your results, provide a possible explanation\n",
    "on the outcome.\n"
   ]
  },
  {
   "cell_type": "code",
   "execution_count": null,
   "id": "4d4136b9-acac-4dc1-9590-d63d0f88e03b",
   "metadata": {},
   "outputs": [],
   "source": []
  }
 ],
 "metadata": {
  "kernelspec": {
   "display_name": "Python 3 (ipykernel)",
   "language": "python",
   "name": "python3"
  },
  "language_info": {
   "codemirror_mode": {
    "name": "ipython",
    "version": 3
   },
   "file_extension": ".py",
   "mimetype": "text/x-python",
   "name": "python",
   "nbconvert_exporter": "python",
   "pygments_lexer": "ipython3",
   "version": "3.11.5"
  }
 },
 "nbformat": 4,
 "nbformat_minor": 5
}
