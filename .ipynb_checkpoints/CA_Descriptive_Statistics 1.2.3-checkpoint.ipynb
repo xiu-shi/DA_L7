{
 "cells": [
  {
   "cell_type": "markdown",
   "id": "e75349e2",
   "metadata": {},
   "source": [
    "Assessment Details\n",
    "Descriptive Statistics\n",
    "1. In today's data-driven world, the ability to extract meaningful insights from raw data is a fundamental\n",
    "skill for professionals in various fields. Your first task focuses on the analysis of two critical graphs\n",
    "related to water consumption in Australia. Water is a precious and finite resource, and understanding\n",
    "\n",
    "its consumption patterns is vital for sustainable resource management and informed decision-\n",
    "making."
   ]
  },
  {
   "cell_type": "markdown",
   "id": "37ac4ead",
   "metadata": {},
   "source": [
    "CA 1\n",
    "''' \n",
    "Water Consumption in Australia in 2021\n",
    "Residential(house) 57%\n",
    "Residential(apartments)13%\n",
    "Business 10%\n",
    "Government 6%\n",
    "Industry 11%\n",
    "Other 3%\n",
    "\n",
    "Residential Water Usage in Australia in 2021\n",
    "Bathroom 28%\n",
    "Toilet 15%\n",
    "Washing Clothes 20%\n",
    "Kitchen 10%\n",
    "Garden 27%\n",
    "'''"
   ]
  },
  {
   "cell_type": "code",
   "execution_count": 1,
   "id": "9f166035",
   "metadata": {},
   "outputs": [
    {
     "data": {
      "text/plain": [
       "'\\n\\nWater Consumption in Australia in 2021\\nResidential(house) 57%\\nResidential(apartments)13%\\nBusiness 10%\\nGovernment 6%\\nIndustry 11%\\nOther 3%\\n\\nResidential Water Usage in Australia in 2021\\nBathroom 28%\\nToilet 15%\\nWashing Clothes 20%\\nKitchen 10%\\nGarden 27%\\n\\n'"
      ]
     },
     "execution_count": 1,
     "metadata": {},
     "output_type": "execute_result"
    }
   ],
   "source": [
    "'''\n",
    "\n",
    "Water Consumption in Australia in 2021\n",
    "Residential(house) 57%\n",
    "Residential(apartments)13%\n",
    "Business 10%\n",
    "Government 6%\n",
    "Industry 11%\n",
    "Other 3%\n",
    "\n",
    "Residential Water Usage in Australia in 2021\n",
    "Bathroom 28%\n",
    "Toilet 15%\n",
    "Washing Clothes 20%\n",
    "Kitchen 10%\n",
    "Garden 27%\n",
    "\n",
    "'''"
   ]
  },
  {
   "cell_type": "code",
   "execution_count": 2,
   "id": "e039c2a5",
   "metadata": {},
   "outputs": [],
   "source": [
    "import pandas as pd\n",
    "import statistics as stats\n",
    "import numpy as np\n",
    "import matplotlib.pyplot as plt\n",
    "import seaborn as sns"
   ]
  },
  {
   "cell_type": "code",
   "execution_count": 3,
   "id": "61c805e7",
   "metadata": {},
   "outputs": [],
   "source": [
    "#dataset = pd.read_csv('/Users/eupirate/Documents/DA_L7_CCT/CA_water_withdrawals.csv')"
   ]
  },
  {
   "cell_type": "code",
   "execution_count": 4,
   "id": "b3f90550",
   "metadata": {},
   "outputs": [],
   "source": [
    "# Descriptive Statistics 1 - Water Consumption in Australia in 2021"
   ]
  },
  {
   "cell_type": "code",
   "execution_count": 5,
   "id": "bc2a2d2d",
   "metadata": {},
   "outputs": [],
   "source": [
    "import pandas as pd\n",
    "\n",
    "# Create a DataFrame to represent water consumption in AUS in 2021 data\n",
    "water_con_data = {\n",
    "    'Sector': ['R(house)', 'R(apartments)', 'Business', 'Government', 'Industry', 'Other'],\n",
    "    'Water Consumption (%)': [57, 13, 10, 6, 11, 3]\n",
    "}\n",
    "\n",
    "# Convert data to a DataFrame\n",
    "df = pd.DataFrame(water_con_data)\n",
    "water_con_df = pd.DataFrame(water_con_data)"
   ]
  },
  {
   "cell_type": "code",
   "execution_count": 6,
   "id": "1174179c",
   "metadata": {},
   "outputs": [],
   "source": [
    "# Calculate mean and median for AUS water consumption\n",
    "water_con_mean = water_con_df['Water Consumption (%)'].mean()\n",
    "water_con_median = water_con_df['Water Consumption (%)'].median()"
   ]
  },
  {
   "cell_type": "code",
   "execution_count": 7,
   "id": "90530954",
   "metadata": {},
   "outputs": [
    {
     "name": "stdout",
     "output_type": "stream",
     "text": [
      "Mean: 16.666666666666668%\n",
      "Median: 10.5%\n"
     ]
    }
   ],
   "source": [
    "print(f\"Mean: {water_con_mean}%\")\n",
    "print(f\"Median: {water_con_median}%\")"
   ]
  },
  {
   "cell_type": "code",
   "execution_count": 8,
   "id": "40f08b74",
   "metadata": {},
   "outputs": [],
   "source": [
    "# Descriptive Statistics 1 - Residential Water Usage in Australia in 2021"
   ]
  },
  {
   "cell_type": "code",
   "execution_count": 9,
   "id": "9fff80d7",
   "metadata": {},
   "outputs": [],
   "source": [
    "import pandas as pd\n",
    "\n",
    "# Create a DataFrame for residential water usage\n",
    "residential_data = {\n",
    "    'Usage': ['Bathroom', 'Toilet', 'Washing Clothes', 'Kitchen', 'Garden'],\n",
    "    'Water Consumption (%)': [28, 15, 20, 10, 27]\n",
    "}\n",
    "# Convert data to a DataFrame\n",
    "df = pd.DataFrame(residential_data)\n",
    "residential_df = pd.DataFrame(residential_data)"
   ]
  },
  {
   "cell_type": "code",
   "execution_count": 10,
   "id": "b825c8c9",
   "metadata": {},
   "outputs": [],
   "source": [
    "# Calculate mean and median for residential water consumption\n",
    "residential_mean = residential_df['Water Consumption (%)'].mean()\n",
    "residential_median = residential_df['Water Consumption (%)'].median()"
   ]
  },
  {
   "cell_type": "code",
   "execution_count": 11,
   "id": "8fc995f4",
   "metadata": {},
   "outputs": [
    {
     "name": "stdout",
     "output_type": "stream",
     "text": [
      "Mean: 20.0%\n",
      "Median: 20.0%\n"
     ]
    }
   ],
   "source": [
    "print(f\"Mean: {residential_mean}%\")\n",
    "print(f\"Median: {residential_median}%\")"
   ]
  },
  {
   "cell_type": "code",
   "execution_count": 12,
   "id": "ba5f0a3b",
   "metadata": {},
   "outputs": [],
   "source": [
    "# Calculate the range\n",
    "residential_max = residential_df['Water Consumption (%)'].max()\n",
    "residential_min = residential_df['Water Consumption (%)'].min()\n",
    "residential_range = residential_max - residential_min"
   ]
  },
  {
   "cell_type": "code",
   "execution_count": 13,
   "id": "8c9030d7",
   "metadata": {},
   "outputs": [
    {
     "name": "stdout",
     "output_type": "stream",
     "text": [
      "Overall Water Consumption in Australia in 2021:\n",
      "             Usage  Water Consumption (%)\n",
      "0         Bathroom                     28\n",
      "1           Toilet                     15\n",
      "2  Washing Clothes                     20\n",
      "3          Kitchen                     10\n",
      "4           Garden                     27\n",
      "\n",
      "Residential Water Usage in Australia in 2021:\n",
      "             Usage  Water Consumption (%)\n",
      "0         Bathroom                     28\n",
      "1           Toilet                     15\n",
      "2  Washing Clothes                     20\n",
      "3          Kitchen                     10\n",
      "4           Garden                     27\n",
      "\n",
      "Mean (Average) Residential Water Usage: 20.0%\n",
      "Median Residential Water Usage: 20.0%\n",
      "Range of Residential Water Usage: 18%\n"
     ]
    }
   ],
   "source": [
    "# Print the results\n",
    "print(\"Overall Water Consumption in Australia in 2021:\")\n",
    "print(df)\n",
    "\n",
    "print(\"\\nResidential Water Usage in Australia in 2021:\")\n",
    "print(residential_df)\n",
    "\n",
    "print(f\"\\nMean (Average) Residential Water Usage: {residential_mean}%\")\n",
    "print(f\"Median Residential Water Usage: {residential_median}%\")\n",
    "print(f\"Range of Residential Water Usage: {residential_range}%\")\n"
   ]
  },
  {
   "cell_type": "code",
   "execution_count": 14,
   "id": "e12dddd3",
   "metadata": {},
   "outputs": [
    {
     "ename": "KeyError",
     "evalue": "'Sector'",
     "output_type": "error",
     "traceback": [
      "\u001b[0;31m---------------------------------------------------------------------------\u001b[0m",
      "\u001b[0;31mKeyError\u001b[0m                                  Traceback (most recent call last)",
      "File \u001b[0;32m~/anaconda3/lib/python3.11/site-packages/pandas/core/indexes/base.py:3802\u001b[0m, in \u001b[0;36mIndex.get_loc\u001b[0;34m(self, key, method, tolerance)\u001b[0m\n\u001b[1;32m   3801\u001b[0m \u001b[38;5;28;01mtry\u001b[39;00m:\n\u001b[0;32m-> 3802\u001b[0m     \u001b[38;5;28;01mreturn\u001b[39;00m \u001b[38;5;28mself\u001b[39m\u001b[38;5;241m.\u001b[39m_engine\u001b[38;5;241m.\u001b[39mget_loc(casted_key)\n\u001b[1;32m   3803\u001b[0m \u001b[38;5;28;01mexcept\u001b[39;00m \u001b[38;5;167;01mKeyError\u001b[39;00m \u001b[38;5;28;01mas\u001b[39;00m err:\n",
      "File \u001b[0;32m~/anaconda3/lib/python3.11/site-packages/pandas/_libs/index.pyx:138\u001b[0m, in \u001b[0;36mpandas._libs.index.IndexEngine.get_loc\u001b[0;34m()\u001b[0m\n",
      "File \u001b[0;32m~/anaconda3/lib/python3.11/site-packages/pandas/_libs/index.pyx:165\u001b[0m, in \u001b[0;36mpandas._libs.index.IndexEngine.get_loc\u001b[0;34m()\u001b[0m\n",
      "File \u001b[0;32mpandas/_libs/hashtable_class_helper.pxi:5745\u001b[0m, in \u001b[0;36mpandas._libs.hashtable.PyObjectHashTable.get_item\u001b[0;34m()\u001b[0m\n",
      "File \u001b[0;32mpandas/_libs/hashtable_class_helper.pxi:5753\u001b[0m, in \u001b[0;36mpandas._libs.hashtable.PyObjectHashTable.get_item\u001b[0;34m()\u001b[0m\n",
      "\u001b[0;31mKeyError\u001b[0m: 'Sector'",
      "\nThe above exception was the direct cause of the following exception:\n",
      "\u001b[0;31mKeyError\u001b[0m                                  Traceback (most recent call last)",
      "Cell \u001b[0;32mIn[14], line 4\u001b[0m\n\u001b[1;32m      1\u001b[0m \u001b[38;5;28;01mimport\u001b[39;00m \u001b[38;5;21;01mmatplotlib\u001b[39;00m\u001b[38;5;21;01m.\u001b[39;00m\u001b[38;5;21;01mpyplot\u001b[39;00m \u001b[38;5;28;01mas\u001b[39;00m \u001b[38;5;21;01mplt\u001b[39;00m\n\u001b[1;32m      3\u001b[0m \u001b[38;5;66;03m# Data for the pie chart\u001b[39;00m\n\u001b[0;32m----> 4\u001b[0m labels \u001b[38;5;241m=\u001b[39m df[\u001b[38;5;124m'\u001b[39m\u001b[38;5;124mSector\u001b[39m\u001b[38;5;124m'\u001b[39m]\n\u001b[1;32m      5\u001b[0m sizes \u001b[38;5;241m=\u001b[39m df[\u001b[38;5;124m'\u001b[39m\u001b[38;5;124mWater Consumption (\u001b[39m\u001b[38;5;124m%\u001b[39m\u001b[38;5;124m)\u001b[39m\u001b[38;5;124m'\u001b[39m]\n\u001b[1;32m      7\u001b[0m \u001b[38;5;66;03m# Create a pie chart\u001b[39;00m\n",
      "File \u001b[0;32m~/anaconda3/lib/python3.11/site-packages/pandas/core/frame.py:3807\u001b[0m, in \u001b[0;36mDataFrame.__getitem__\u001b[0;34m(self, key)\u001b[0m\n\u001b[1;32m   3805\u001b[0m \u001b[38;5;28;01mif\u001b[39;00m \u001b[38;5;28mself\u001b[39m\u001b[38;5;241m.\u001b[39mcolumns\u001b[38;5;241m.\u001b[39mnlevels \u001b[38;5;241m>\u001b[39m \u001b[38;5;241m1\u001b[39m:\n\u001b[1;32m   3806\u001b[0m     \u001b[38;5;28;01mreturn\u001b[39;00m \u001b[38;5;28mself\u001b[39m\u001b[38;5;241m.\u001b[39m_getitem_multilevel(key)\n\u001b[0;32m-> 3807\u001b[0m indexer \u001b[38;5;241m=\u001b[39m \u001b[38;5;28mself\u001b[39m\u001b[38;5;241m.\u001b[39mcolumns\u001b[38;5;241m.\u001b[39mget_loc(key)\n\u001b[1;32m   3808\u001b[0m \u001b[38;5;28;01mif\u001b[39;00m is_integer(indexer):\n\u001b[1;32m   3809\u001b[0m     indexer \u001b[38;5;241m=\u001b[39m [indexer]\n",
      "File \u001b[0;32m~/anaconda3/lib/python3.11/site-packages/pandas/core/indexes/base.py:3804\u001b[0m, in \u001b[0;36mIndex.get_loc\u001b[0;34m(self, key, method, tolerance)\u001b[0m\n\u001b[1;32m   3802\u001b[0m     \u001b[38;5;28;01mreturn\u001b[39;00m \u001b[38;5;28mself\u001b[39m\u001b[38;5;241m.\u001b[39m_engine\u001b[38;5;241m.\u001b[39mget_loc(casted_key)\n\u001b[1;32m   3803\u001b[0m \u001b[38;5;28;01mexcept\u001b[39;00m \u001b[38;5;167;01mKeyError\u001b[39;00m \u001b[38;5;28;01mas\u001b[39;00m err:\n\u001b[0;32m-> 3804\u001b[0m     \u001b[38;5;28;01mraise\u001b[39;00m \u001b[38;5;167;01mKeyError\u001b[39;00m(key) \u001b[38;5;28;01mfrom\u001b[39;00m \u001b[38;5;21;01merr\u001b[39;00m\n\u001b[1;32m   3805\u001b[0m \u001b[38;5;28;01mexcept\u001b[39;00m \u001b[38;5;167;01mTypeError\u001b[39;00m:\n\u001b[1;32m   3806\u001b[0m     \u001b[38;5;66;03m# If we have a listlike key, _check_indexing_error will raise\u001b[39;00m\n\u001b[1;32m   3807\u001b[0m     \u001b[38;5;66;03m#  InvalidIndexError. Otherwise we fall through and re-raise\u001b[39;00m\n\u001b[1;32m   3808\u001b[0m     \u001b[38;5;66;03m#  the TypeError.\u001b[39;00m\n\u001b[1;32m   3809\u001b[0m     \u001b[38;5;28mself\u001b[39m\u001b[38;5;241m.\u001b[39m_check_indexing_error(key)\n",
      "\u001b[0;31mKeyError\u001b[0m: 'Sector'"
     ]
    }
   ],
   "source": [
    "import matplotlib.pyplot as plt\n",
    "\n",
    "# Data for the pie chart\n",
    "labels = df['Sector']\n",
    "sizes = df['Water Consumption (%)']\n",
    "\n",
    "# Create a pie chart\n",
    "plt.figure(figsize=(8, 8))\n",
    "plt.pie(sizes, labels=labels, autopct='%1.1f%%', startangle=140)\n",
    "plt.title('Overall Water Consumption in Australia in 2021')\n",
    "\n",
    "# Display the chart\n",
    "plt.axis('equal')  # Equal aspect ratio ensures that pie is drawn as a circle.\n",
    "plt.show()\n"
   ]
  },
  {
   "cell_type": "code",
   "execution_count": null,
   "id": "2fb21305",
   "metadata": {},
   "outputs": [],
   "source": [
    "import matplotlib.pyplot as plt\n",
    "\n",
    "# Sort the DataFrame by Water Consumption (%) in descending order\n",
    "residential_df_sorted = residential_df.sort_values(by='Water Consumption (%)', ascending=False)\n",
    "\n",
    "# Data for the sorted histogram\n",
    "usage_labels_sorted = residential_df_sorted['Usage']\n",
    "usage_percentages_sorted = residential_df_sorted['Water Consumption (%)']\n",
    "\n",
    "# Create a sorted histogram\n",
    "plt.figure(figsize=(10, 6))\n",
    "plt.bar(usage_labels_sorted, usage_percentages_sorted, color='skyblue')\n",
    "plt.xlabel('Residential Water Usage Categories')\n",
    "plt.ylabel('Percentage')\n",
    "plt.title('Distribution of Residential Water Usage in Australia in 2021 (Ranked)')\n",
    "plt.xticks(rotation=45, ha='right')  # Rotate x-axis labels for better readability\n",
    "plt.show()\n"
   ]
  },
  {
   "cell_type": "code",
   "execution_count": null,
   "id": "319a42ce",
   "metadata": {},
   "outputs": [],
   "source": []
  },
  {
   "cell_type": "code",
   "execution_count": null,
   "id": "f2afc64e",
   "metadata": {},
   "outputs": [],
   "source": [
    "#CA2"
   ]
  },
  {
   "cell_type": "code",
   "execution_count": null,
   "id": "928c41c8",
   "metadata": {},
   "outputs": [],
   "source": [
    "import matplotlib.pyplot as plt\n",
    "import numpy as np\n",
    "\n",
    "# Create some example data\n",
    "# Dataset 1: Water Consumption in Australia in 2021 by Sector\n",
    "sectors = ['R(house)', 'R(apartments)', 'Business', 'Government', 'Industry', 'Other']\n",
    "consumption_percent_1 = [57, 13, 10, 6, 11, 3]\n",
    "\n",
    "# Dataset 2: Residential Water Usage in Australia in 2021 by Usage Type\n",
    "usage_types = ['Bathroom', 'Toilet', 'Washing Clothes', 'Kitchen', 'Garden']\n",
    "consumption_percent_2 = [28, 15, 20, 10, 27]\n",
    "\n",
    "# Create bar graphs for the two datasets\n",
    "fig, axs = plt.subplots(1, 2, figsize=(14, 6))\n",
    "\n",
    "# Graph for Dataset 1\n",
    "axs[0].bar(sectors, consumption_percent_1, color='b', alpha=0.7, label='Consumption %')\n",
    "axs[0].set_title('Water Consumption in Australia in 2021 by Sector')\n",
    "axs[0].set_xlabel('Sectors')\n",
    "axs[0].set_ylabel('Percentage (%)')\n",
    "\n",
    "# Calculate mean and median for Dataset 1\n",
    "mean_1 = np.average(consumption_percent_1)\n",
    "median_1 = np.median(consumption_percent_1)\n",
    "axs[0].axhline(mean_1, color='r', linestyle='dashed', linewidth=1, label=f'Mean = {mean_1}')\n",
    "axs[0].axhline(median_1, color='g', linestyle='dashed', linewidth=1, label=f'Median = {median_1}')\n",
    "\n",
    "# Graph for Dataset 2\n",
    "axs[1].bar(usage_types, consumption_percent_2, color='b', alpha=0.7, label='Consumption %')\n",
    "axs[1].set_title('Residential Water Usage in Australia in 2021 by Usage Type')\n",
    "axs[1].set_xlabel('Usage Types')\n",
    "axs[1].set_ylabel('Percentage (%)')\n",
    "\n",
    "# Calculate mean and median for Dataset 2\n",
    "mean_2 = np.average(consumption_percent_2)\n",
    "median_2 = np.median(consumption_percent_2)\n",
    "axs[1].axhline(mean_2, color='r', linestyle='dashed', linewidth=1, label=f'Mean = {mean_2}')\n",
    "axs[1].axhline(median_2, color='g', linestyle='dashed', linewidth=1, label=f'Median = {median_2}')\n",
    "\n",
    "# Legends\n",
    "axs[0].legend()\n",
    "axs[1].legend()\n",
    "\n",
    "plt.tight_layout()\n",
    "plt.show()\n",
    "\n",
    "(mean_1, median_1), (mean_2, median_2)\n"
   ]
  },
  {
   "cell_type": "code",
   "execution_count": null,
   "id": "f9857e02",
   "metadata": {},
   "outputs": [],
   "source": [
    "#CA3 "
   ]
  },
  {
   "cell_type": "markdown",
   "id": "a8222735",
   "metadata": {},
   "source": [
    "'''\n",
    "#CA3\n",
    "The following table contains information about the freshwater withdrawal in Australia. The data is\n",
    "expressed in billion cubic meters. You are required to determine the type of data that this variable\n",
    "is, calculate central tendency metrics and variation metrics and explain the results [0-30%].\n",
    "\n",
    "Year Annual freshwater withdrawals, total(billion cubic meters)\n",
    "1993 18.5502\n",
    "1994 21.1102\n",
    "1995 19.8502\n",
    "1996 22.1602\n",
    "1997 21.9282\n",
    "1998 21.8222\n",
    "1999 21.7162\n",
    "2000 21.65924\n",
    "2001 21.534\n",
    "2002 20.8338\n",
    "2003 20.1336\n",
    "2004 19.4334\n",
    "2005 18.7332\n",
    "2006 17.55665\n",
    "2007 16.3801\n",
    "2008 15.20355\n",
    "2009 14.027\n",
    "2010 13.175\n",
    "2011 13.215\n",
    "2012 15.868\n",
    "2013 19.148\n",
    "2014 18.463\n",
    "2015 9.22\n",
    "2016 10.623\n",
    "2017 12.05864137\n",
    "2018 12.33\n",
    "2019 10.53\n",
    "2020 8.64\n",
    "\n",
    "'''"
   ]
  },
  {
   "cell_type": "code",
   "execution_count": null,
   "id": "e68dcebb",
   "metadata": {
    "scrolled": true
   },
   "outputs": [],
   "source": [
    "#Freshwater withdrawals from 1993 to 2020\n",
    "\n",
    "import pandas as pd\n",
    "\n",
    "freshwater_withdrawals_data = [18.5502, 21.1102, 19.8502, 22.1602, 21.9282, 21.8222, 21.7162, 21.65924, 21.534, 20.8338,\n",
    "\n",
    "                          20.1336, 19.4334, 18.7332, 17.55665, 16.3801, 15.20355, 14.027, 13.175, 13.215, 15.868,\n",
    "\n",
    "                          19.148, 18.463, 9.22, 10.623, 12.05864137, 12.33, 10.53, 8.64]\n",
    "\n",
    "\n",
    "# Create a DataFrame\n",
    "\n",
    "df = pd.DataFrame(freshwater_withdrawals_data, columns=['freshwater_withdrawals_data'])\n",
    "\n",
    "# Perform describe function to generate statistical summary\n",
    "\n",
    "describe_stats = df.describe()\n",
    "\n",
    "describe_stats"
   ]
  },
  {
   "cell_type": "code",
   "execution_count": null,
   "id": "fa993a96",
   "metadata": {},
   "outputs": [],
   "source": [
    "#CA 3 \n",
    "'''\n",
    "The following table contains information about the freshwater withdrawal in Australia. The data is\n",
    "expressed in billion cubic meters. You are required to determine the type of data that this variable\n",
    "is, calculate central tendency metrics and variation metrics and explain the results [0-30%].\n",
    "\n",
    "Year Annual freshwater withdrawals, total(billion cubic meters)\n",
    "1993 18.5502\n",
    "1994 21.1102\n",
    "1995 19.8502\n",
    "1996 22.1602\n",
    "1997 21.9282\n",
    "1998 21.8222\n",
    "1999 21.7162\n",
    "2000 21.65924\n",
    "2001 21.534\n",
    "2002 20.8338\n",
    "2003 20.1336\n",
    "2004 19.4334\n",
    "2005 18.7332\n",
    "2006 17.55665\n",
    "2007 16.3801\n",
    "2008 15.20355\n",
    "2009 14.027\n",
    "2010 13.175\n",
    "2011 13.215\n",
    "2012 15.868\n",
    "2013 19.148\n",
    "2014 18.463\n",
    "2015 9.22\n",
    "2016 10.623\n",
    "2017 12.05864137\n",
    "2018 12.33\n",
    "2019 10.53\n",
    "2020 8.64\n",
    "\n",
    "_____________\n",
    "\n",
    "Basic Statistical Language Explanation:\n",
    "Central Tendency:\n",
    "\n",
    "    Mean (Average): The mean is about 17 billion cubic meters. This is the \"average\" freshwater withdrawal over the years.\n",
    "    Median: The median is approximately 18.5 billion cubic meters. This is the \"middle\" value when all the annual withdrawals are arranged in order.\n",
    "    Mode: The mode is 8.64 billion cubic meters, meaning this is the value that appears most frequently in the data set. In this case, it only appears once, so it's not very representative.\n",
    "\n",
    "Measures of Variation:\n",
    "\n",
    "    Range: The range is about 13.5 billion cubic meters. This means the annual freshwater withdrawals varied between the lowest and the highest value by this amount.\n",
    "    Variance: The variance is approximately 18.83, which tells us how \"spread out\" the data is.\n",
    "    Standard Deviation: The standard deviation is about 4.34, giving us an \"average distance\" each data point is from the mean.\n",
    "\n",
    "Visualization:\n",
    "\n",
    "The line graph shows the trend of annual freshwater withdrawals in Australia from 1993 to 2020. We can see some fluctuations and a general downward trend in more recent years.\n",
    "Objective Views:\n",
    "\n",
    "    The mean and median are close but not identical, suggesting the data is somewhat symmetric but has some outliers.\n",
    "    The standard deviation is moderate, indicating a reasonable spread around the mean.\n",
    "    The downward trend in the graph is concerning and could indicate increased water efficiency or possibly reduced water availability.\n",
    "\n",
    "Opinion:\n",
    "\n",
    "The trend in freshwater withdrawal is alarming. A consistent decline could signify potential issues like water scarcity or changes in water management policies. The variance and standard deviation show fluctuation, which may warrant further investigation into the causes behind such variations.\n",
    "\n",
    "\n",
    "'''"
   ]
  },
  {
   "cell_type": "code",
   "execution_count": null,
   "id": "c17c087b",
   "metadata": {},
   "outputs": [],
   "source": [
    "# Importing necessary libraries for data manipulation and visualization\n",
    "import pandas as pd\n",
    "import numpy as np\n",
    "import matplotlib.pyplot as plt\n",
    "\n",
    "# Creating the data set\n",
    "data = {\n",
    "    'Year': list(range(1993, 2021)),\n",
    "    'Annual freshwater withdrawals (billion cubic meters)': [\n",
    "        18.5502, 21.1102, 19.8502, 22.1602, 21.9282, 21.8222, 21.7162, 21.65924, \n",
    "        21.534, 20.8338, 20.1336, 19.4334, 18.7332, 17.55665, 16.3801, 15.20355, \n",
    "        14.027, 13.175, 13.215, 15.868, 19.148, 18.463, 9.22, 10.623, 12.05864137, \n",
    "        12.33, 10.53, 8.64\n",
    "    ]\n",
    "}\n",
    "\n",
    "df = pd.DataFrame(data)\n",
    "\n",
    "# Basic statistics\n",
    "mean_value = df['Annual freshwater withdrawals (billion cubic meters)'].mean()\n",
    "median_value = df['Annual freshwater withdrawals (billion cubic meters)'].median()\n",
    "mode_value = df['Annual freshwater withdrawals (billion cubic meters)'].mode()[0]  # Taking the first mode if there are multiple\n",
    "range_value = df['Annual freshwater withdrawals (billion cubic meters)'].max() - df['Annual freshwater withdrawals (billion cubic meters)'].min()\n",
    "variance_value = df['Annual freshwater withdrawals (billion cubic meters)'].var()\n",
    "std_dev_value = df['Annual freshwater withdrawals (billion cubic meters)'].std()\n",
    "\n",
    "# Visualization\n",
    "plt.figure(figsize=(14, 7))\n",
    "plt.plot(df['Year'], df['Annual freshwater withdrawals (billion cubic meters)'], marker='o')\n",
    "plt.title('Annual Freshwater Withdrawals in Australia (1993-2020)')\n",
    "plt.xlabel('Year')\n",
    "plt.ylabel('Annual freshwater withdrawals (billion cubic meters)')\n",
    "plt.grid(True)\n",
    "plt.show()\n",
    "\n",
    "round(mean_value,3), round(median_value,3), round(mode_value,3), round(range_value,3), round(variance_value,3), round(std_dev_value,3)\n"
   ]
  },
  {
   "cell_type": "code",
   "execution_count": null,
   "id": "54ad44c6",
   "metadata": {},
   "outputs": [],
   "source": [
    "import pandas as pd\n",
    "import statistics as stats\n",
    "import numpy as np\n",
    "import matplotlib.pyplot as plt\n",
    "import seaborn as sns"
   ]
  },
  {
   "cell_type": "code",
   "execution_count": null,
   "id": "a472f269",
   "metadata": {},
   "outputs": [],
   "source": [
    "df = pd.read_csv('/Users/eupirate/Documents/DA_L7_CCT/DA_L7/CA_1/water_withdrawals.csv')"
   ]
  },
  {
   "cell_type": "code",
   "execution_count": null,
   "id": "b3380fb3",
   "metadata": {},
   "outputs": [],
   "source": [
    "# Calculate the central tendency and variation metrics for the uploaded dataset\n",
    "mean_df = df['Annual freshwater withdrawals, total(billion cubic meters) '].mean()\n",
    "median_df = df['Annual freshwater withdrawals, total(billion cubic meters) '].median()\n",
    "std_dev_df = df['Annual freshwater withdrawals, total(billion cubic meters) '].std()\n",
    "range_df = df['Annual freshwater withdrawals, total(billion cubic meters) '].max() - df['Annual freshwater withdrawals, total(billion cubic meters) '].min()\n",
    "\n",
    "round(mean_df,3), round(median_df,3), round(std_dev_df,3),round(range_df,3)\n"
   ]
  },
  {
   "cell_type": "code",
   "execution_count": null,
   "id": "6e106178",
   "metadata": {},
   "outputs": [],
   "source": [
    "\n"
   ]
  },
  {
   "cell_type": "markdown",
   "id": "ac2d4fec",
   "metadata": {},
   "source": [
    "\n",
    "Statistical Analysis of Uploaded Data on Annual Freshwater Withdrawals in Australia\n",
    "Type of Data\n",
    "\n",
    "    Year column: This is numerical and discrete data. Years are whole numbers and represent specific, separate points in time.\n",
    "    Annual Freshwater Withdrawals: This is numerical and continuous data. The measurements can take any value within a range and are expressed in billion cubic meters.\n",
    "\n",
    "Central Tendency Metrics\n",
    "\n",
    "    Mean: The mean is approximately 17.00 billion cubic meters, representing the average amount of freshwater withdrawn each year.\n",
    "    Median: The median is 18.51 billion cubic meters, providing another measure of central tendency less influenced by outliers or extreme values.\n",
    "\n",
    "Variation Metrics\n",
    "\n",
    "    Standard Deviation: The standard deviation is approximately 4.34 billion cubic meters, indicating the extent to which individual data points deviate from the mean.\n",
    "    Range: The range is 13.52 billion cubic meters, representing the difference between the maximum and minimum amounts of water withdrawn.\n",
    "\n",
    "Explanation of Results\n",
    "\n",
    "    Mean: The mean suggests that, on average, about 17 billion cubic meters of freshwater are withdrawn each year in Australia. This measure is useful but can be influenced by extreme values.\n",
    "\n",
    "    Median: The median value, being close to the mean, suggests that the data is relatively symmetrically distributed. It is a robust measure of central tendency when outliers are present.\n",
    "\n",
    "    Standard Deviation: A standard deviation of approximately 4.34 indicates a moderate level of variability in the annual freshwater withdrawals from year to year.\n",
    "\n",
    "    Range: The range of 13.52 billion cubic meters indicates the total spread or variability in the data over the years.\n"
   ]
  },
  {
   "cell_type": "code",
   "execution_count": null,
   "id": "ab785534",
   "metadata": {},
   "outputs": [],
   "source": []
  }
 ],
 "metadata": {
  "kernelspec": {
   "display_name": "Python 3 (ipykernel)",
   "language": "python",
   "name": "python3"
  },
  "language_info": {
   "codemirror_mode": {
    "name": "ipython",
    "version": 3
   },
   "file_extension": ".py",
   "mimetype": "text/x-python",
   "name": "python",
   "nbconvert_exporter": "python",
   "pygments_lexer": "ipython3",
   "version": "3.11.4"
  }
 },
 "nbformat": 4,
 "nbformat_minor": 5
}
