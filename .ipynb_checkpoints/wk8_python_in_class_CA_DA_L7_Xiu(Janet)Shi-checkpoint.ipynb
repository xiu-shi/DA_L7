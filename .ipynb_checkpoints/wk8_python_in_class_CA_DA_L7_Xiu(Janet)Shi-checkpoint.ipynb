{
 "cells": [
  {
   "cell_type": "code",
   "execution_count": 1,
   "id": "5bf8a7e0",
   "metadata": {},
   "outputs": [],
   "source": [
    "import pandas as pd\n",
    "import numpy as np\n",
    "import seaborn as sns\n",
    "import matplotlib.pyplot as plt"
   ]
  },
  {
   "cell_type": "markdown",
   "id": "e71f5d1d",
   "metadata": {},
   "source": [
    "Q1"
   ]
  },
  {
   "cell_type": "code",
   "execution_count": 2,
   "id": "1579ed82",
   "metadata": {},
   "outputs": [],
   "source": [
    "#num_input = input(\"Please give me three whole numbers\")"
   ]
  },
  {
   "cell_type": "code",
   "execution_count": 3,
   "id": "d7325c6d",
   "metadata": {},
   "outputs": [
    {
     "name": "stdout",
     "output_type": "stream",
     "text": [
      "How manynumbers?3\n",
      "Please give me first whole numbers3\n",
      "Please give me second whole numbers4\n",
      "Please give me third whole numbers7\n",
      "The Sum of numbers in the given list is: 14.\n"
     ]
    }
   ],
   "source": [
    "def sum():\n",
    "    user_input = input(\"How manynumbers?\")\n",
    "    user_num_1 = int(input(\"Please give me first whole numbers\"))\n",
    "    user_num_2 = int(input(\"Please give me second whole numbers\"))\n",
    "    user_num_3 = int(input(\"Please give me third whole numbers\"))\n",
    "    num_input = user_num_1 + user_num_2 + user_num_3\n",
    "    print(f\"The Sum of numbers in the given list is: {num_input}.\")\n",
    "sum()        "
   ]
  },
  {
   "cell_type": "markdown",
   "id": "813a957f",
   "metadata": {},
   "source": [
    "Q2"
   ]
  },
  {
   "cell_type": "code",
   "execution_count": 14,
   "id": "868f8af5",
   "metadata": {},
   "outputs": [
    {
     "name": "stdout",
     "output_type": "stream",
     "text": [
      "Please give me first whole numbers: 6\n",
      "Please give me second whole numbers: 3\n",
      "9\n"
     ]
    }
   ],
   "source": [
    "def calc(): \n",
    "    user_num_1 = int(input(\"Please give me first whole numbers: \"))\n",
    "    user_num_2 = int(input(\"Please give me second whole numbers: \"))\n",
    "    sum = user_num_1 + user_num_2\n",
    "    if sum == 9:\n",
    "        print(9)\n",
    "\n",
    "    else:\n",
    "        print(\"Invalid Entry.\")\n",
    "calc()\n"
   ]
  },
  {
   "cell_type": "markdown",
   "id": "8349d7dc",
   "metadata": {},
   "source": [
    "Q3"
   ]
  },
  {
   "cell_type": "code",
   "execution_count": 16,
   "id": "48056039",
   "metadata": {},
   "outputs": [
    {
     "name": "stdout",
     "output_type": "stream",
     "text": [
      "The smallest number in the list is 4 which is found at position 2.\n"
     ]
    }
   ],
   "source": [
    "list = [5,8,4,9,6,7,10,15,12]\n",
    "smallest_num = list[0]\n",
    "\n",
    "for i in range(0,len(list)):\n",
    "    if list[i] < smallest_num:\n",
    "        smallest_num = list[i]\n",
    "        smallest_index = i\n",
    "print(f\"The smallest number in the list is {smallest_num} which is found at position {smallest_index}.\")"
   ]
  },
  {
   "cell_type": "code",
   "execution_count": null,
   "id": "cf996546",
   "metadata": {},
   "outputs": [],
   "source": []
  }
 ],
 "metadata": {
  "kernelspec": {
   "display_name": "Python 3 (ipykernel)",
   "language": "python",
   "name": "python3"
  },
  "language_info": {
   "codemirror_mode": {
    "name": "ipython",
    "version": 3
   },
   "file_extension": ".py",
   "mimetype": "text/x-python",
   "name": "python",
   "nbconvert_exporter": "python",
   "pygments_lexer": "ipython3",
   "version": "3.11.4"
  }
 },
 "nbformat": 4,
 "nbformat_minor": 5
}
