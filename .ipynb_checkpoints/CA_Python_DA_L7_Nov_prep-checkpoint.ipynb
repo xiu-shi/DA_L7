{
 "cells": [
  {
   "cell_type": "markdown",
   "id": "40287844",
   "metadata": {},
   "source": [
    "https://pynative.com/python-basic-exercise-for-beginners/"
   ]
  },
  {
   "cell_type": "markdown",
   "id": "14003b74",
   "metadata": {},
   "source": [
    "Exercise 1: Calculate the multiplication and sum of two numbers"
   ]
  },
  {
   "cell_type": "code",
   "execution_count": 1,
   "id": "bb931434",
   "metadata": {},
   "outputs": [
    {
     "name": "stdout",
     "output_type": "stream",
     "text": [
      "600\n"
     ]
    }
   ],
   "source": [
    "def test_multiplication():\n",
    "    num1 = 20\n",
    "    num2 = 30\n",
    "    test_multiplication = num1 * num2\n",
    "    if test_multiplication <= 1000:\n",
    "        print(test_multiplication)  \n",
    "    else:\n",
    "        print(f\"The product is not equal to or lower than 1000.\")\n",
    "        \n",
    "test_multiplication()"
   ]
  },
  {
   "cell_type": "code",
   "execution_count": 2,
   "id": "1d1bb820",
   "metadata": {},
   "outputs": [
    {
     "name": "stdout",
     "output_type": "stream",
     "text": [
      "70\n"
     ]
    }
   ],
   "source": [
    "\n",
    "def test_sum():\n",
    "    num3 = 40\n",
    "    num4 = 30\n",
    "    test_sum = num3 + num4\n",
    "    if test_sum <= 1000:\n",
    "        print(test_sum)\n",
    "    else:\n",
    "        print(f\"The product is not equal to or lower than 1000.\")\n",
    "test_sum()\n"
   ]
  },
  {
   "cell_type": "markdown",
   "id": "5e135139",
   "metadata": {},
   "source": [
    "Exercise 2: Print the sum of the current number and the previous number"
   ]
  },
  {
   "cell_type": "code",
   "execution_count": 3,
   "id": "818246f0",
   "metadata": {},
   "outputs": [
    {
     "name": "stdout",
     "output_type": "stream",
     "text": [
      "Current Number is:1, Previous Number is 10. Add Current Data and Previous Data, the Sum is: 11\n",
      "Current Number is:2, Previous Number is 1. Add Current Data and Previous Data, the Sum is: 3\n",
      "Current Number is:3, Previous Number is 2. Add Current Data and Previous Data, the Sum is: 5\n",
      "Current Number is:4, Previous Number is 3. Add Current Data and Previous Data, the Sum is: 7\n",
      "Current Number is:5, Previous Number is 4. Add Current Data and Previous Data, the Sum is: 9\n",
      "Current Number is:6, Previous Number is 5. Add Current Data and Previous Data, the Sum is: 11\n",
      "Current Number is:7, Previous Number is 6. Add Current Data and Previous Data, the Sum is: 13\n",
      "Current Number is:8, Previous Number is 7. Add Current Data and Previous Data, the Sum is: 15\n",
      "Current Number is:9, Previous Number is 8. Add Current Data and Previous Data, the Sum is: 17\n",
      "Current Number is:10, Previous Number is 9. Add Current Data and Previous Data, the Sum is: 19\n"
     ]
    }
   ],
   "source": [
    "\n",
    "data = [1,2,3,4,5,6,7,8,9,10]\n",
    "\n",
    "def test_sum():\n",
    "    for i in range(0, len(data)):\n",
    "        current_data = data[i] \n",
    "        previous_dat = data[i-1]\n",
    "        sum = current_data + previous_dat\n",
    "        print(f\"Current Number is:{current_data}, Previous Number is {previous_dat}. Add Current Data and Previous Data, the Sum is: {sum}\")\n",
    "test_sum()\n"
   ]
  },
  {
   "cell_type": "markdown",
   "id": "e288b1ee",
   "metadata": {},
   "source": [
    "Exercise 3: Print characters from a string that are present at an even index number"
   ]
  },
  {
   "cell_type": "code",
   "execution_count": 4,
   "id": "19244e8a",
   "metadata": {},
   "outputs": [
    {
     "name": "stdout",
     "output_type": "stream",
     "text": [
      "what string do you have in mind? type\n",
      "t\n",
      "p\n"
     ]
    }
   ],
   "source": [
    "user_input = input(\"what string do you have in mind? \")\n",
    "def test_even_str():\n",
    "    for i in range(0, len(user_input)):\n",
    "        if i % 2 == 0:\n",
    "            print(user_input[i], end=\"\\n\")\n",
    "\n",
    "test_even_str()"
   ]
  },
  {
   "cell_type": "markdown",
   "id": "bcf0d290",
   "metadata": {},
   "source": [
    "Exercise 4: Remove first n characters from a string "
   ]
  },
  {
   "cell_type": "code",
   "execution_count": 5,
   "id": "37820a21",
   "metadata": {},
   "outputs": [
    {
     "name": "stdout",
     "output_type": "stream",
     "text": [
      "what string do you have in mind? test\n",
      "How many characters do you want to remove? 5\n",
      "n must be less than the length of the string.\n"
     ]
    }
   ],
   "source": [
    "\n",
    "def remove_char():\n",
    "    user_input = input(\"what string do you have in mind? \")\n",
    "    n = int(input(\"How many characters do you want to remove? \"))\n",
    "    if n < len(user_input):\n",
    "        print(user_input[n:])\n",
    "    else:\n",
    "        print(\"n must be less than the length of the string.\")\n",
    "remove_char()  "
   ]
  },
  {
   "cell_type": "code",
   "execution_count": null,
   "id": "c91a853e",
   "metadata": {},
   "outputs": [],
   "source": []
  }
 ],
 "metadata": {
  "kernelspec": {
   "display_name": "Python 3 (ipykernel)",
   "language": "python",
   "name": "python3"
  },
  "language_info": {
   "codemirror_mode": {
    "name": "ipython",
    "version": 3
   },
   "file_extension": ".py",
   "mimetype": "text/x-python",
   "name": "python",
   "nbconvert_exporter": "python",
   "pygments_lexer": "ipython3",
   "version": "3.11.4"
  }
 },
 "nbformat": 4,
 "nbformat_minor": 5
}
