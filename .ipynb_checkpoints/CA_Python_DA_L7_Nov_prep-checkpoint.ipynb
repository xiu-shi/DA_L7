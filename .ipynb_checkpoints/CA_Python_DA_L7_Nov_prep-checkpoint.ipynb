{
 "cells": [
  {
   "cell_type": "markdown",
   "id": "d1e0eaf6",
   "metadata": {},
   "source": [
    "https://pynative.com/python-basic-exercise-for-beginners/"
   ]
  },
  {
   "cell_type": "markdown",
   "id": "192f8c55",
   "metadata": {},
   "source": [
    "Exercise 1: Calculate the multiplication and sum of two numbers"
   ]
  },
  {
   "cell_type": "code",
   "execution_count": 1,
   "id": "193c17a9",
   "metadata": {},
   "outputs": [
    {
     "name": "stdout",
     "output_type": "stream",
     "text": [
      "600\n"
     ]
    }
   ],
   "source": [
    "def test_multiplication():\n",
    "    num1 = 20\n",
    "    num2 = 30\n",
    "    test_multiplication = num1 * num2\n",
    "    if test_multiplication <= 1000:\n",
    "        print(test_multiplication)  \n",
    "    else:\n",
    "        print(f\"The product is not equal to or lower than 1000.\")\n",
    "        \n",
    "test_multiplication()"
   ]
  },
  {
   "cell_type": "code",
   "execution_count": 2,
   "id": "cbaace3d",
   "metadata": {},
   "outputs": [
    {
     "name": "stdout",
     "output_type": "stream",
     "text": [
      "70\n"
     ]
    }
   ],
   "source": [
    "\n",
    "def test_sum():\n",
    "    num3 = 40\n",
    "    num4 = 30\n",
    "    test_sum = num3 + num4\n",
    "    if test_sum <= 1000:\n",
    "        print(test_sum)\n",
    "    else:\n",
    "        print(f\"The product is not equal to or lower than 1000.\")\n",
    "test_sum()\n"
   ]
  },
  {
   "cell_type": "markdown",
   "id": "e2d7e3dc",
   "metadata": {},
   "source": [
    "Exercise 2: Print the sum of the current number and the previous number"
   ]
  },
  {
   "cell_type": "code",
   "execution_count": 3,
   "id": "3f1b83ef",
   "metadata": {},
   "outputs": [
    {
     "name": "stdout",
     "output_type": "stream",
     "text": [
      "Current Number is:1, Previous Number is 10. Add Current Data and Previous Data, the Sum is: 11\n",
      "Current Number is:2, Previous Number is 1. Add Current Data and Previous Data, the Sum is: 3\n",
      "Current Number is:3, Previous Number is 2. Add Current Data and Previous Data, the Sum is: 5\n",
      "Current Number is:4, Previous Number is 3. Add Current Data and Previous Data, the Sum is: 7\n",
      "Current Number is:5, Previous Number is 4. Add Current Data and Previous Data, the Sum is: 9\n",
      "Current Number is:6, Previous Number is 5. Add Current Data and Previous Data, the Sum is: 11\n",
      "Current Number is:7, Previous Number is 6. Add Current Data and Previous Data, the Sum is: 13\n",
      "Current Number is:8, Previous Number is 7. Add Current Data and Previous Data, the Sum is: 15\n",
      "Current Number is:9, Previous Number is 8. Add Current Data and Previous Data, the Sum is: 17\n",
      "Current Number is:10, Previous Number is 9. Add Current Data and Previous Data, the Sum is: 19\n"
     ]
    }
   ],
   "source": [
    "\n",
    "data = [1,2,3,4,5,6,7,8,9,10]\n",
    "\n",
    "def test_sum():\n",
    "    for i in range(0, len(data)):\n",
    "        current_data = data[i] \n",
    "        previous_dat = data[i-1]\n",
    "        sum = current_data + previous_dat\n",
    "        print(f\"Current Number is:{current_data}, Previous Number is {previous_dat}. Add Current Data and Previous Data, the Sum is: {sum}\")\n",
    "test_sum()\n"
   ]
  },
  {
   "cell_type": "markdown",
   "id": "e96eaeb9",
   "metadata": {},
   "source": [
    "Exercise 3: Print characters from a string that are present at an even index number"
   ]
  },
  {
   "cell_type": "code",
   "execution_count": null,
   "id": "a100fd06",
   "metadata": {},
   "outputs": [],
   "source": [
    "user_input = input(\"what string do you have in mind? \")\n",
    "def test_even_str():\n",
    "    for i in range(0, len(user_input)):\n",
    "        if i % 2 == 0:\n",
    "            print(user_input[i], end=\"\\n\")\n",
    "\n",
    "test_even_str()"
   ]
  },
  {
   "cell_type": "markdown",
   "id": "6ade8f7a",
   "metadata": {},
   "source": [
    "Exercise 4: Remove first n characters from a string "
   ]
  },
  {
   "cell_type": "code",
   "execution_count": null,
   "id": "97c4a67f",
   "metadata": {},
   "outputs": [],
   "source": [
    "def remove_char():\n",
    "    user_input = input(\"what strings do you have in mind? \")\n",
    "    n = int(input(\"How many characters of the string do you want to remove? \"))\n",
    "    if n < len(user_input):\n",
    "        print(user_input[n:])\n",
    "    else:\n",
    "        print(\"n must be less than the length of the string.\")\n",
    "remove_char()  "
   ]
  },
  {
   "cell_type": "markdown",
   "id": "d767741c",
   "metadata": {},
   "source": [
    "Exercise 5: Check if the first and last number of a list is the same"
   ]
  },
  {
   "cell_type": "code",
   "execution_count": null,
   "id": "e69347b6",
   "metadata": {},
   "outputs": [],
   "source": [
    "numbers_x = [10, 20, 30, 40, 10]\n",
    "\n",
    "def test_first_last():\n",
    "    if numbers_x[0] == numbers_x[-1]:\n",
    "        print(\"True\")\n",
    "    else:\n",
    "        print(\"False\")\n",
    "test_first_last()"
   ]
  },
  {
   "cell_type": "code",
   "execution_count": null,
   "id": "fad7f0e5",
   "metadata": {},
   "outputs": [],
   "source": [
    "numbers_y = [75, 65, 35, 75, 30]\n",
    "\n",
    "def test_first_last():\n",
    "    if numbers_y[0] == numbers_y[-1]:\n",
    "        print(\"True\")\n",
    "    else:\n",
    "        print(\"False\")\n",
    "test_first_last()\n"
   ]
  },
  {
   "cell_type": "markdown",
   "id": "8787afc7",
   "metadata": {},
   "source": [
    "Exercise 6: Display numbers divisible by 5 from a list"
   ]
  },
  {
   "cell_type": "code",
   "execution_count": null,
   "id": "e951e9d3",
   "metadata": {},
   "outputs": [],
   "source": [
    "data = [10, 20, 33, 46, 55]\n",
    "\n",
    "def divisible_by_5():\n",
    "    for i in range(0, len(data)):\n",
    "        if data[i] % 5 == 0:\n",
    "            print(data[i], end=\"\\n\")\n",
    "divisible_by_5()"
   ]
  },
  {
   "cell_type": "markdown",
   "id": "1553e655",
   "metadata": {},
   "source": [
    "Exercise 7: Return the count of a given substring from a string.\n",
    "Write a program to find how many times substring “Emma” appears in the given string.\n",
    "Given:\n",
    "str_x = \"Emma is good developer. Emma is a writer\"\n",
    "Output:\n",
    "Emma appeared 2 times"
   ]
  },
  {
   "cell_type": "code",
   "execution_count": null,
   "id": "32218ccd",
   "metadata": {},
   "outputs": [],
   "source": [
    "string = \"Emma is good developer. Emma is a writer\"\n",
    "sub_string = \"Emma\"\n",
    "def count_substring():\n",
    "    print(f\"{sub_string} appeared {string.count(sub_string)} times.\")\n",
    "count_substring()"
   ]
  },
  {
   "cell_type": "markdown",
   "id": "01f328c5",
   "metadata": {},
   "source": [
    "Exercise 8: Print the following pattern"
   ]
  },
  {
   "cell_type": "code",
   "execution_count": null,
   "id": "d71d1de5",
   "metadata": {},
   "outputs": [],
   "source": [
    "input = int(input(\"How many rows do you want? \"))\n",
    "def print_pyramid():\n",
    "    for i in range(1, input + 1):\n",
    "        print(str(i) * i)\n",
    "print_pyramid()"
   ]
  },
  {
   "cell_type": "code",
   "execution_count": null,
   "id": "0925e84b",
   "metadata": {},
   "outputs": [],
   "source": []
  },
  {
   "cell_type": "markdown",
   "id": "54e40331",
   "metadata": {},
   "source": [
    "Check Palindrome Number."
   ]
  },
  {
   "cell_type": "code",
   "execution_count": null,
   "id": "20d44140",
   "metadata": {},
   "outputs": [],
   "source": [
    "input_num = int(input(\"What number do you have in mind? \"))\n",
    "def check_palindrome():\n",
    "    if str(input_num) == str(input_num)[::-1]:\n",
    "        print(\"Yes, this is a palindrome number.\")\n",
    "    else:\n",
    "        print(\"No, this is not a palindrome number.\")\n",
    "check_palindrome()"
   ]
  }
 ],
 "metadata": {
  "kernelspec": {
   "display_name": "Python 3 (ipykernel)",
   "language": "python",
   "name": "python3"
  },
  "language_info": {
   "codemirror_mode": {
    "name": "ipython",
    "version": 3
   },
   "file_extension": ".py",
   "mimetype": "text/x-python",
   "name": "python",
   "nbconvert_exporter": "python",
   "pygments_lexer": "ipython3",
   "version": "3.11.4"
  }
 },
 "nbformat": 4,
 "nbformat_minor": 5
}
