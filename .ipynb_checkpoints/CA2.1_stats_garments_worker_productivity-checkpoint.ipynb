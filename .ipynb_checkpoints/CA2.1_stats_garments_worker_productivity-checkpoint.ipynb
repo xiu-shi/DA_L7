{
 "cells": [
  {
   "cell_type": "code",
   "execution_count": 1,
   "id": "caeb79be",
   "metadata": {},
   "outputs": [],
   "source": [
    "import numpy as np\n",
    "import pandas as pd"
   ]
  },
  {
   "cell_type": "code",
   "execution_count": 2,
   "id": "bae68f4c",
   "metadata": {},
   "outputs": [],
   "source": [
    "df = pd.read_csv(\"/Users/eupirate/Desktop/CCT_Stats_CA/garments_worker_productivity.csv\")"
   ]
  },
  {
   "cell_type": "code",
   "execution_count": 3,
   "id": "ae6cf7a0",
   "metadata": {},
   "outputs": [
    {
     "data": {
      "text/html": [
       "<div>\n",
       "<style scoped>\n",
       "    .dataframe tbody tr th:only-of-type {\n",
       "        vertical-align: middle;\n",
       "    }\n",
       "\n",
       "    .dataframe tbody tr th {\n",
       "        vertical-align: top;\n",
       "    }\n",
       "\n",
       "    .dataframe thead th {\n",
       "        text-align: right;\n",
       "    }\n",
       "</style>\n",
       "<table border=\"1\" class=\"dataframe\">\n",
       "  <thead>\n",
       "    <tr style=\"text-align: right;\">\n",
       "      <th></th>\n",
       "      <th>department</th>\n",
       "      <th>day</th>\n",
       "      <th>team</th>\n",
       "      <th>targeted_productivity</th>\n",
       "      <th>smv</th>\n",
       "      <th>wip</th>\n",
       "      <th>over_time</th>\n",
       "      <th>incentive</th>\n",
       "      <th>idle_time</th>\n",
       "      <th>idle_men</th>\n",
       "      <th>no_of_style_change</th>\n",
       "      <th>no_of_workers</th>\n",
       "      <th>actual_productivity</th>\n",
       "    </tr>\n",
       "  </thead>\n",
       "  <tbody>\n",
       "    <tr>\n",
       "      <th>0</th>\n",
       "      <td>sweing</td>\n",
       "      <td>Thursday</td>\n",
       "      <td>8</td>\n",
       "      <td>0.8</td>\n",
       "      <td>26.16</td>\n",
       "      <td>1108</td>\n",
       "      <td>7080</td>\n",
       "      <td>98</td>\n",
       "      <td>0.0</td>\n",
       "      <td>0</td>\n",
       "      <td>0</td>\n",
       "      <td>59.0</td>\n",
       "      <td>0.940725</td>\n",
       "    </tr>\n",
       "    <tr>\n",
       "      <th>1</th>\n",
       "      <td>sweing</td>\n",
       "      <td>Thursday</td>\n",
       "      <td>11</td>\n",
       "      <td>0.8</td>\n",
       "      <td>11.41</td>\n",
       "      <td>968</td>\n",
       "      <td>3660</td>\n",
       "      <td>50</td>\n",
       "      <td>0.0</td>\n",
       "      <td>0</td>\n",
       "      <td>0</td>\n",
       "      <td>30.5</td>\n",
       "      <td>0.800570</td>\n",
       "    </tr>\n",
       "    <tr>\n",
       "      <th>2</th>\n",
       "      <td>sweing</td>\n",
       "      <td>Thursday</td>\n",
       "      <td>12</td>\n",
       "      <td>0.8</td>\n",
       "      <td>11.41</td>\n",
       "      <td>968</td>\n",
       "      <td>3660</td>\n",
       "      <td>50</td>\n",
       "      <td>0.0</td>\n",
       "      <td>0</td>\n",
       "      <td>0</td>\n",
       "      <td>30.5</td>\n",
       "      <td>0.800570</td>\n",
       "    </tr>\n",
       "    <tr>\n",
       "      <th>3</th>\n",
       "      <td>sweing</td>\n",
       "      <td>Thursday</td>\n",
       "      <td>6</td>\n",
       "      <td>0.8</td>\n",
       "      <td>25.90</td>\n",
       "      <td>1170</td>\n",
       "      <td>1920</td>\n",
       "      <td>50</td>\n",
       "      <td>0.0</td>\n",
       "      <td>0</td>\n",
       "      <td>0</td>\n",
       "      <td>56.0</td>\n",
       "      <td>0.800382</td>\n",
       "    </tr>\n",
       "    <tr>\n",
       "      <th>4</th>\n",
       "      <td>sweing</td>\n",
       "      <td>Thursday</td>\n",
       "      <td>7</td>\n",
       "      <td>0.8</td>\n",
       "      <td>25.90</td>\n",
       "      <td>984</td>\n",
       "      <td>6720</td>\n",
       "      <td>38</td>\n",
       "      <td>0.0</td>\n",
       "      <td>0</td>\n",
       "      <td>0</td>\n",
       "      <td>56.0</td>\n",
       "      <td>0.800125</td>\n",
       "    </tr>\n",
       "  </tbody>\n",
       "</table>\n",
       "</div>"
      ],
      "text/plain": [
       "  department       day  team  targeted_productivity    smv   wip  over_time  \\\n",
       "0     sweing  Thursday     8                    0.8  26.16  1108       7080   \n",
       "1     sweing  Thursday    11                    0.8  11.41   968       3660   \n",
       "2     sweing  Thursday    12                    0.8  11.41   968       3660   \n",
       "3     sweing  Thursday     6                    0.8  25.90  1170       1920   \n",
       "4     sweing  Thursday     7                    0.8  25.90   984       6720   \n",
       "\n",
       "   incentive  idle_time  idle_men  no_of_style_change  no_of_workers  \\\n",
       "0         98        0.0         0                   0           59.0   \n",
       "1         50        0.0         0                   0           30.5   \n",
       "2         50        0.0         0                   0           30.5   \n",
       "3         50        0.0         0                   0           56.0   \n",
       "4         38        0.0         0                   0           56.0   \n",
       "\n",
       "   actual_productivity  \n",
       "0             0.940725  \n",
       "1             0.800570  \n",
       "2             0.800570  \n",
       "3             0.800382  \n",
       "4             0.800125  "
      ]
     },
     "execution_count": 3,
     "metadata": {},
     "output_type": "execute_result"
    }
   ],
   "source": [
    "df.head()"
   ]
  },
  {
   "cell_type": "code",
   "execution_count": 4,
   "id": "0634626d",
   "metadata": {},
   "outputs": [
    {
     "data": {
      "text/html": [
       "<div>\n",
       "<style scoped>\n",
       "    .dataframe tbody tr th:only-of-type {\n",
       "        vertical-align: middle;\n",
       "    }\n",
       "\n",
       "    .dataframe tbody tr th {\n",
       "        vertical-align: top;\n",
       "    }\n",
       "\n",
       "    .dataframe thead th {\n",
       "        text-align: right;\n",
       "    }\n",
       "</style>\n",
       "<table border=\"1\" class=\"dataframe\">\n",
       "  <thead>\n",
       "    <tr style=\"text-align: right;\">\n",
       "      <th></th>\n",
       "      <th>team</th>\n",
       "      <th>targeted_productivity</th>\n",
       "      <th>smv</th>\n",
       "      <th>wip</th>\n",
       "      <th>over_time</th>\n",
       "      <th>incentive</th>\n",
       "      <th>idle_time</th>\n",
       "      <th>idle_men</th>\n",
       "      <th>no_of_style_change</th>\n",
       "      <th>no_of_workers</th>\n",
       "      <th>actual_productivity</th>\n",
       "    </tr>\n",
       "  </thead>\n",
       "  <tbody>\n",
       "    <tr>\n",
       "      <th>count</th>\n",
       "      <td>691.000000</td>\n",
       "      <td>691.000000</td>\n",
       "      <td>691.000000</td>\n",
       "      <td>691.000000</td>\n",
       "      <td>691.000000</td>\n",
       "      <td>691.000000</td>\n",
       "      <td>691.000000</td>\n",
       "      <td>691.000000</td>\n",
       "      <td>691.000000</td>\n",
       "      <td>691.000000</td>\n",
       "      <td>691.000000</td>\n",
       "    </tr>\n",
       "    <tr>\n",
       "      <th>mean</th>\n",
       "      <td>6.520984</td>\n",
       "      <td>0.723980</td>\n",
       "      <td>23.245412</td>\n",
       "      <td>1190.465991</td>\n",
       "      <td>6508.205499</td>\n",
       "      <td>44.483357</td>\n",
       "      <td>1.264834</td>\n",
       "      <td>0.639653</td>\n",
       "      <td>0.260492</td>\n",
       "      <td>52.445731</td>\n",
       "      <td>0.722013</td>\n",
       "    </tr>\n",
       "    <tr>\n",
       "      <th>std</th>\n",
       "      <td>3.458333</td>\n",
       "      <td>0.102006</td>\n",
       "      <td>6.976497</td>\n",
       "      <td>1837.455001</td>\n",
       "      <td>2864.505604</td>\n",
       "      <td>27.596591</td>\n",
       "      <td>16.712923</td>\n",
       "      <td>4.283652</td>\n",
       "      <td>0.537185</td>\n",
       "      <td>9.417353</td>\n",
       "      <td>0.154784</td>\n",
       "    </tr>\n",
       "    <tr>\n",
       "      <th>min</th>\n",
       "      <td>1.000000</td>\n",
       "      <td>0.070000</td>\n",
       "      <td>10.050000</td>\n",
       "      <td>7.000000</td>\n",
       "      <td>0.000000</td>\n",
       "      <td>0.000000</td>\n",
       "      <td>0.000000</td>\n",
       "      <td>0.000000</td>\n",
       "      <td>0.000000</td>\n",
       "      <td>26.000000</td>\n",
       "      <td>0.233705</td>\n",
       "    </tr>\n",
       "    <tr>\n",
       "      <th>25%</th>\n",
       "      <td>4.000000</td>\n",
       "      <td>0.700000</td>\n",
       "      <td>18.790000</td>\n",
       "      <td>774.500000</td>\n",
       "      <td>4560.000000</td>\n",
       "      <td>30.000000</td>\n",
       "      <td>0.000000</td>\n",
       "      <td>0.000000</td>\n",
       "      <td>0.000000</td>\n",
       "      <td>52.000000</td>\n",
       "      <td>0.661470</td>\n",
       "    </tr>\n",
       "    <tr>\n",
       "      <th>50%</th>\n",
       "      <td>6.000000</td>\n",
       "      <td>0.750000</td>\n",
       "      <td>22.520000</td>\n",
       "      <td>1039.000000</td>\n",
       "      <td>6840.000000</td>\n",
       "      <td>45.000000</td>\n",
       "      <td>0.000000</td>\n",
       "      <td>0.000000</td>\n",
       "      <td>0.000000</td>\n",
       "      <td>57.000000</td>\n",
       "      <td>0.750608</td>\n",
       "    </tr>\n",
       "    <tr>\n",
       "      <th>75%</th>\n",
       "      <td>10.000000</td>\n",
       "      <td>0.800000</td>\n",
       "      <td>28.080000</td>\n",
       "      <td>1252.500000</td>\n",
       "      <td>7200.000000</td>\n",
       "      <td>60.000000</td>\n",
       "      <td>0.000000</td>\n",
       "      <td>0.000000</td>\n",
       "      <td>0.000000</td>\n",
       "      <td>58.000000</td>\n",
       "      <td>0.800402</td>\n",
       "    </tr>\n",
       "    <tr>\n",
       "      <th>max</th>\n",
       "      <td>12.000000</td>\n",
       "      <td>0.800000</td>\n",
       "      <td>54.560000</td>\n",
       "      <td>23122.000000</td>\n",
       "      <td>25920.000000</td>\n",
       "      <td>138.000000</td>\n",
       "      <td>300.000000</td>\n",
       "      <td>45.000000</td>\n",
       "      <td>2.000000</td>\n",
       "      <td>89.000000</td>\n",
       "      <td>1.100484</td>\n",
       "    </tr>\n",
       "  </tbody>\n",
       "</table>\n",
       "</div>"
      ],
      "text/plain": [
       "             team  targeted_productivity         smv           wip  \\\n",
       "count  691.000000             691.000000  691.000000    691.000000   \n",
       "mean     6.520984               0.723980   23.245412   1190.465991   \n",
       "std      3.458333               0.102006    6.976497   1837.455001   \n",
       "min      1.000000               0.070000   10.050000      7.000000   \n",
       "25%      4.000000               0.700000   18.790000    774.500000   \n",
       "50%      6.000000               0.750000   22.520000   1039.000000   \n",
       "75%     10.000000               0.800000   28.080000   1252.500000   \n",
       "max     12.000000               0.800000   54.560000  23122.000000   \n",
       "\n",
       "          over_time   incentive   idle_time    idle_men  no_of_style_change  \\\n",
       "count    691.000000  691.000000  691.000000  691.000000          691.000000   \n",
       "mean    6508.205499   44.483357    1.264834    0.639653            0.260492   \n",
       "std     2864.505604   27.596591   16.712923    4.283652            0.537185   \n",
       "min        0.000000    0.000000    0.000000    0.000000            0.000000   \n",
       "25%     4560.000000   30.000000    0.000000    0.000000            0.000000   \n",
       "50%     6840.000000   45.000000    0.000000    0.000000            0.000000   \n",
       "75%     7200.000000   60.000000    0.000000    0.000000            0.000000   \n",
       "max    25920.000000  138.000000  300.000000   45.000000            2.000000   \n",
       "\n",
       "       no_of_workers  actual_productivity  \n",
       "count     691.000000           691.000000  \n",
       "mean       52.445731             0.722013  \n",
       "std         9.417353             0.154784  \n",
       "min        26.000000             0.233705  \n",
       "25%        52.000000             0.661470  \n",
       "50%        57.000000             0.750608  \n",
       "75%        58.000000             0.800402  \n",
       "max        89.000000             1.100484  "
      ]
     },
     "execution_count": 4,
     "metadata": {},
     "output_type": "execute_result"
    }
   ],
   "source": [
    "df.describe()"
   ]
  },
  {
   "cell_type": "markdown",
   "id": "1451f73e",
   "metadata": {},
   "source": [
    "# Stats CA2\n",
    "\n",
    "Inferential Statistics - part 1\n",
    "\n",
    "The company believes implemented new machines and they believe this would reduce the average\n",
    "overtime (in minutes) that the workers will do, which will lead to a cost reduction in the end. They tried it in\n",
    "a group of 200 workers, which shows an average overtime of 6300 minutes. Can we say that the company\n",
    "is right? Formulate an appropriate hypothesis and justify your answer.\n",
    "\n",
    "Number of workers total population in csv file: 36240\n",
    "Experiment ran among sample of 200 workers, result of after new machines implementation overtime MEAN is 6300 minutes.\n",
    "We need to find out if the MEAN overtime is higher or lower than 6300 minutes to determine if implementing the new machines is a success or failure.\n",
    "\n",
    "H0 New machines did not reduce the over time, before and after MEAN over time is the same, or after over time is greater than the old machines overtime.\n",
    "H1 New machines reduced MEAN over time before, less than old machines MEAN over time."
   ]
  },
  {
   "cell_type": "code",
   "execution_count": 5,
   "id": "701523b6",
   "metadata": {},
   "outputs": [
    {
     "name": "stdout",
     "output_type": "stream",
     "text": [
      "6508.21 2864.51\n"
     ]
    }
   ],
   "source": [
    "# Calculte the MEAN and STD of the overtime for the entire population\n",
    "population_mean_overtime = round(df[\"over_time\"].mean(),2)\n",
    "population_std = round(df[\"over_time\"].std(),2)\n",
    "print(population_mean_overtime, population_std)"
   ]
  },
  {
   "cell_type": "code",
   "execution_count": 6,
   "id": "0bd01a8d-6aec-4ff6-9272-c013bc1013e3",
   "metadata": {},
   "outputs": [],
   "source": [
    "# Given the mean and std of the overtime of the sample (200 workers and the average overtime among 200 workers after new machines implementation )\n",
    "sample_mean = 6300\n",
    "sample_size = 200"
   ]
  },
  {
   "cell_type": "code",
   "execution_count": 7,
   "id": "75f85353-b36c-41ff-8946-30e82f9b99a4",
   "metadata": {},
   "outputs": [
    {
     "name": "stdout",
     "output_type": "stream",
     "text": [
      "202.55\n"
     ]
    }
   ],
   "source": [
    "# Calculte standard error \n",
    "standard_error = round(population_std / (sample_size ** 0.5),2)\n",
    "print(standard_error)"
   ]
  },
  {
   "cell_type": "markdown",
   "id": "7e953409-1cc8-4dec-853d-0d37f6855c3e",
   "metadata": {},
   "source": [
    "Hypothesis: \n",
    "\n",
    "H0 New machines did NOT reduce the over time, before and after MEAN over time is the same, or greater than the old machines overtime.\n",
    "\n",
    "H1 New machines reduced MEAN over time before, less than old machines MEAN over time."
   ]
  },
  {
   "cell_type": "code",
   "execution_count": 8,
   "id": "8511129d-7464-44b6-a0e8-a7724c609947",
   "metadata": {},
   "outputs": [
    {
     "name": "stdout",
     "output_type": "stream",
     "text": [
      "Z-score is negative: -1.03, indicates that sample mean 6300 minutes is less than population mean.\n",
      "P-value is 0.30, which is much higher than alpha level of 0.05, indicates the difference in mean overtime, we do NOT have sufficient evidence to reject H0. \n",
      "The data does NOT provide strong evidence to support the claim that implementation of new machines was successful in reducing overtime.\n"
     ]
    }
   ],
   "source": [
    "#import scipy.stats libary\n",
    "from scipy.stats import norm\n",
    "#calulate z-score\n",
    "z_score = ( sample_mean - population_mean_overtime) / ( population_std / ( sample_size ** 0.5 ))\n",
    "#print(z_score)\n",
    "print(f\"Z-score is negative: {z_score:.2f}, indicates that sample mean 6300 minutes is less than population mean.\")\n",
    "\n",
    "#calulate p-value\n",
    "p_value = 2 * norm.sf(abs(z_score))\n",
    "#print(p_value)\n",
    "print(f\"P-value is {p_value:.2f}, which is much higher than alpha level of 0.05, indicates the difference in mean overtime, we do NOT have sufficient evidence to reject H0. The data does NOT provide strong evidence to support the claim that implementation of new machines was successful in reducing overtime.\")"
   ]
  },
  {
   "cell_type": "code",
   "execution_count": null,
   "id": "be633cf4-8c8b-4792-b180-4ebd6ee4c53f",
   "metadata": {},
   "outputs": [],
   "source": []
  },
  {
   "cell_type": "code",
   "execution_count": null,
   "id": "b813c261-0258-471a-abea-edf71ce84bdd",
   "metadata": {},
   "outputs": [],
   "source": []
  },
  {
   "cell_type": "code",
   "execution_count": null,
   "id": "857cd528-ef03-450b-a3f7-1d74915cb452",
   "metadata": {},
   "outputs": [],
   "source": [
    "\n"
   ]
  },
  {
   "cell_type": "code",
   "execution_count": null,
   "id": "e66a5c3e-6974-45b1-82f4-0ad286893595",
   "metadata": {},
   "outputs": [],
   "source": []
  },
  {
   "cell_type": "code",
   "execution_count": null,
   "id": "ccc1d13f-52e9-41bb-9ae3-71e696a20c21",
   "metadata": {},
   "outputs": [],
   "source": []
  },
  {
   "cell_type": "code",
   "execution_count": 9,
   "id": "b4f29003",
   "metadata": {},
   "outputs": [
    {
     "name": "stdout",
     "output_type": "stream",
     "text": [
      "Average overtime after new machines implementation: 6300.0 minutes\n"
     ]
    }
   ],
   "source": [
    "after_mean_overtime = 6300.00\n",
    "print(f\"Average overtime after new machines implementation: {after_mean_overtime} minutes\")"
   ]
  },
  {
   "cell_type": "code",
   "execution_count": 10,
   "id": "8875d496-d414-44e4-9b7b-728d1fe773b2",
   "metadata": {},
   "outputs": [
    {
     "ename": "NameError",
     "evalue": "name 'before_mean_overtime' is not defined",
     "output_type": "error",
     "traceback": [
      "\u001b[0;31m---------------------------------------------------------------------------\u001b[0m",
      "\u001b[0;31mNameError\u001b[0m                                 Traceback (most recent call last)",
      "Cell \u001b[0;32mIn[10], line 1\u001b[0m\n\u001b[0;32m----> 1\u001b[0m mean_before \u001b[38;5;241m=\u001b[39m before_mean_overtime\n\u001b[1;32m      2\u001b[0m mean_after \u001b[38;5;241m=\u001b[39m after_mean_overtime\n\u001b[1;32m      3\u001b[0m n_after \u001b[38;5;241m=\u001b[39m \u001b[38;5;241m200\u001b[39m\n",
      "\u001b[0;31mNameError\u001b[0m: name 'before_mean_overtime' is not defined"
     ]
    }
   ],
   "source": [
    "mean_before = before_mean_overtime\n",
    "mean_after = after_mean_overtime\n",
    "n_after = 200"
   ]
  },
  {
   "cell_type": "code",
   "execution_count": null,
   "id": "d80de517-576f-49a2-9e71-42b693525d98",
   "metadata": {},
   "outputs": [],
   "source": []
  },
  {
   "cell_type": "code",
   "execution_count": null,
   "id": "1f591b46-b77d-42a0-8681-8a827b0370fe",
   "metadata": {},
   "outputs": [],
   "source": []
  },
  {
   "cell_type": "code",
   "execution_count": null,
   "id": "10d41284-58ba-44dd-a9ca-2a2c2fedc957",
   "metadata": {},
   "outputs": [],
   "source": []
  },
  {
   "cell_type": "code",
   "execution_count": null,
   "id": "29097e00-242c-466c-b7de-78b9540c8a77",
   "metadata": {},
   "outputs": [],
   "source": []
  },
  {
   "cell_type": "code",
   "execution_count": null,
   "id": "a5fb58ea-d8f4-4568-a12e-0c99b11bd672",
   "metadata": {},
   "outputs": [],
   "source": []
  },
  {
   "cell_type": "code",
   "execution_count": null,
   "id": "0a8f2740-18cc-4276-b26f-97dc5472c08f",
   "metadata": {},
   "outputs": [],
   "source": []
  },
  {
   "cell_type": "code",
   "execution_count": null,
   "id": "606691da-fa3f-4083-a26c-570eab26820f",
   "metadata": {},
   "outputs": [],
   "source": []
  },
  {
   "cell_type": "code",
   "execution_count": null,
   "id": "1a22ff11-8f0b-4ea2-9d0b-2f8ea4ca4294",
   "metadata": {},
   "outputs": [],
   "source": []
  },
  {
   "cell_type": "markdown",
   "id": "79185211-a548-457c-b51a-dd04c5af99d6",
   "metadata": {},
   "source": [
    "# Stats CA2\n",
    "\n",
    "Inferential Statistics - part 2\n",
    "\n",
    "Formulate an appropriate analysis to determine the real average productivity of these workers each day of\n",
    "the week. Is there any difference between the days? Along with your results, provide a possible explanation\n",
    "on the outcome.\n",
    "\n",
    "\n"
   ]
  }
 ],
 "metadata": {
  "kernelspec": {
   "display_name": "Python 3 (ipykernel)",
   "language": "python",
   "name": "python3"
  },
  "language_info": {
   "codemirror_mode": {
    "name": "ipython",
    "version": 3
   },
   "file_extension": ".py",
   "mimetype": "text/x-python",
   "name": "python",
   "nbconvert_exporter": "python",
   "pygments_lexer": "ipython3",
   "version": "3.11.5"
  }
 },
 "nbformat": 4,
 "nbformat_minor": 5
}
