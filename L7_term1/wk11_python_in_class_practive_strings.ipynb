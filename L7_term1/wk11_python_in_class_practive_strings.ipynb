{
 "cells": [
  {
   "cell_type": "code",
   "execution_count": 1,
   "id": "bd906929",
   "metadata": {},
   "outputs": [],
   "source": [
    "name = \"David McQuaid\""
   ]
  },
  {
   "cell_type": "code",
   "execution_count": 2,
   "id": "aff717be",
   "metadata": {},
   "outputs": [
    {
     "data": {
      "text/plain": [
       "str"
      ]
     },
     "execution_count": 2,
     "metadata": {},
     "output_type": "execute_result"
    }
   ],
   "source": [
    "type(name)"
   ]
  },
  {
   "cell_type": "code",
   "execution_count": 3,
   "id": "1bfd3d4b",
   "metadata": {},
   "outputs": [
    {
     "data": {
      "text/plain": [
       "'a'"
      ]
     },
     "execution_count": 3,
     "metadata": {},
     "output_type": "execute_result"
    }
   ],
   "source": [
    "name[1]"
   ]
  },
  {
   "cell_type": "code",
   "execution_count": 4,
   "id": "fde3db7e",
   "metadata": {},
   "outputs": [
    {
     "data": {
      "text/plain": [
       "' '"
      ]
     },
     "execution_count": 4,
     "metadata": {},
     "output_type": "execute_result"
    }
   ],
   "source": [
    "name[5]"
   ]
  },
  {
   "cell_type": "code",
   "execution_count": 5,
   "id": "b6479577",
   "metadata": {},
   "outputs": [
    {
     "data": {
      "text/plain": [
       "13"
      ]
     },
     "execution_count": 5,
     "metadata": {},
     "output_type": "execute_result"
    }
   ],
   "source": [
    "len(name)"
   ]
  },
  {
   "cell_type": "code",
   "execution_count": 6,
   "id": "2037e683",
   "metadata": {},
   "outputs": [],
   "source": [
    "s = \"Monty Python\""
   ]
  },
  {
   "cell_type": "code",
   "execution_count": 7,
   "id": "58de571e",
   "metadata": {},
   "outputs": [
    {
     "data": {
      "text/plain": [
       "'Monty'"
      ]
     },
     "execution_count": 7,
     "metadata": {},
     "output_type": "execute_result"
    }
   ],
   "source": [
    "s[0:5] # or leave first char blank then s[:5]"
   ]
  },
  {
   "cell_type": "code",
   "execution_count": 8,
   "id": "2f70997f",
   "metadata": {},
   "outputs": [
    {
     "data": {
      "text/plain": [
       "'Monty Python'"
      ]
     },
     "execution_count": 8,
     "metadata": {},
     "output_type": "execute_result"
    }
   ],
   "source": [
    "s[ : ] #leave space both end would select everything"
   ]
  },
  {
   "cell_type": "code",
   "execution_count": 9,
   "id": "aaf79656",
   "metadata": {},
   "outputs": [
    {
     "data": {
      "text/plain": [
       "True"
      ]
     },
     "execution_count": 9,
     "metadata": {},
     "output_type": "execute_result"
    }
   ],
   "source": [
    "\"Monty\" in s"
   ]
  },
  {
   "cell_type": "code",
   "execution_count": 10,
   "id": "1651731b",
   "metadata": {},
   "outputs": [
    {
     "data": {
      "text/plain": [
       "False"
      ]
     },
     "execution_count": 10,
     "metadata": {},
     "output_type": "execute_result"
    }
   ],
   "source": [
    "\"hello\" == \"Hello\""
   ]
  },
  {
   "cell_type": "code",
   "execution_count": 11,
   "id": "2d579b17",
   "metadata": {},
   "outputs": [
    {
     "data": {
      "text/plain": [
       "True"
      ]
     },
     "execution_count": 11,
     "metadata": {},
     "output_type": "execute_result"
    }
   ],
   "source": [
    "\"hello\" > \"Hello\""
   ]
  },
  {
   "cell_type": "code",
   "execution_count": 12,
   "id": "20a8cb55",
   "metadata": {},
   "outputs": [],
   "source": [
    "new_s = \"J\"+ s[1:]"
   ]
  },
  {
   "cell_type": "code",
   "execution_count": 13,
   "id": "f21d2872",
   "metadata": {},
   "outputs": [
    {
     "data": {
      "text/plain": [
       "'Jonty Python'"
      ]
     },
     "execution_count": 13,
     "metadata": {},
     "output_type": "execute_result"
    }
   ],
   "source": [
    "new_s"
   ]
  },
  {
   "cell_type": "code",
   "execution_count": 14,
   "id": "0af9c480",
   "metadata": {},
   "outputs": [],
   "source": [
    "new_s = new_s.upper()"
   ]
  },
  {
   "cell_type": "code",
   "execution_count": 15,
   "id": "53c45bfe",
   "metadata": {},
   "outputs": [
    {
     "data": {
      "text/plain": [
       "'JONTY PYTHON'"
      ]
     },
     "execution_count": 15,
     "metadata": {},
     "output_type": "execute_result"
    }
   ],
   "source": [
    "new_s"
   ]
  },
  {
   "cell_type": "code",
   "execution_count": 16,
   "id": "b469416d",
   "metadata": {},
   "outputs": [],
   "source": [
    "new_s = new_s.lower()"
   ]
  },
  {
   "cell_type": "code",
   "execution_count": 17,
   "id": "427c0c9a",
   "metadata": {},
   "outputs": [
    {
     "data": {
      "text/plain": [
       "'jonty python'"
      ]
     },
     "execution_count": 17,
     "metadata": {},
     "output_type": "execute_result"
    }
   ],
   "source": [
    "new_s"
   ]
  },
  {
   "cell_type": "code",
   "execution_count": 18,
   "id": "075e49fe",
   "metadata": {},
   "outputs": [
    {
     "data": {
      "text/plain": [
       "4"
      ]
     },
     "execution_count": 18,
     "metadata": {},
     "output_type": "execute_result"
    }
   ],
   "source": [
    "new_s.find(\"y\")"
   ]
  },
  {
   "cell_type": "code",
   "execution_count": 19,
   "id": "0ab4286c",
   "metadata": {},
   "outputs": [
    {
     "data": {
      "text/plain": [
       "8"
      ]
     },
     "execution_count": 19,
     "metadata": {},
     "output_type": "execute_result"
    }
   ],
   "source": [
    "new_s.find(\"thon\")"
   ]
  },
  {
   "cell_type": "code",
   "execution_count": 20,
   "id": "bb77b4b7",
   "metadata": {},
   "outputs": [
    {
     "data": {
      "text/plain": [
       "2"
      ]
     },
     "execution_count": 20,
     "metadata": {},
     "output_type": "execute_result"
    }
   ],
   "source": [
    "new_s.count(\"y\")"
   ]
  },
  {
   "cell_type": "code",
   "execution_count": 21,
   "id": "ecc0e924",
   "metadata": {},
   "outputs": [],
   "source": [
    "line = \" Have a nice day! \""
   ]
  },
  {
   "cell_type": "code",
   "execution_count": 22,
   "id": "ac726cfd",
   "metadata": {},
   "outputs": [],
   "source": [
    "line = line.strip()"
   ]
  },
  {
   "cell_type": "code",
   "execution_count": 23,
   "id": "06e6774e",
   "metadata": {},
   "outputs": [
    {
     "data": {
      "text/plain": [
       "'Have a nice day!'"
      ]
     },
     "execution_count": 23,
     "metadata": {},
     "output_type": "execute_result"
    }
   ],
   "source": [
    "line"
   ]
  },
  {
   "cell_type": "code",
   "execution_count": 24,
   "id": "ca789bf5",
   "metadata": {},
   "outputs": [],
   "source": [
    "tweetSubject = \"#User is here\""
   ]
  },
  {
   "cell_type": "code",
   "execution_count": 25,
   "id": "9230f6eb",
   "metadata": {},
   "outputs": [
    {
     "data": {
      "text/plain": [
       "True"
      ]
     },
     "execution_count": 25,
     "metadata": {},
     "output_type": "execute_result"
    }
   ],
   "source": [
    "tweetSubject.startswith(\"#\")"
   ]
  },
  {
   "cell_type": "code",
   "execution_count": 26,
   "id": "e03edd89",
   "metadata": {},
   "outputs": [],
   "source": [
    "#pip install yfinance"
   ]
  },
  {
   "cell_type": "code",
   "execution_count": 27,
   "id": "e5da02b0",
   "metadata": {},
   "outputs": [],
   "source": [
    "import yfinance as yf"
   ]
  },
  {
   "cell_type": "code",
   "execution_count": 28,
   "id": "04299f9c",
   "metadata": {},
   "outputs": [],
   "source": [
    "voda = yf.Ticker(\"VOD\")"
   ]
  },
  {
   "cell_type": "code",
   "execution_count": 29,
   "id": "136a470e",
   "metadata": {},
   "outputs": [],
   "source": [
    "# 1 day \"1d\", 1 week \"1wk\"\n",
    "voda_df = voda.history(start = \"2023-01-01\", end = \"2023-11-28\", interval = \"1d\")"
   ]
  },
  {
   "cell_type": "code",
   "execution_count": 30,
   "id": "4ca6e0db",
   "metadata": {},
   "outputs": [
    {
     "data": {
      "text/html": [
       "<div>\n",
       "<style scoped>\n",
       "    .dataframe tbody tr th:only-of-type {\n",
       "        vertical-align: middle;\n",
       "    }\n",
       "\n",
       "    .dataframe tbody tr th {\n",
       "        vertical-align: top;\n",
       "    }\n",
       "\n",
       "    .dataframe thead th {\n",
       "        text-align: right;\n",
       "    }\n",
       "</style>\n",
       "<table border=\"1\" class=\"dataframe\">\n",
       "  <thead>\n",
       "    <tr style=\"text-align: right;\">\n",
       "      <th></th>\n",
       "      <th>Open</th>\n",
       "      <th>High</th>\n",
       "      <th>Low</th>\n",
       "      <th>Close</th>\n",
       "      <th>Volume</th>\n",
       "      <th>Dividends</th>\n",
       "      <th>Stock Splits</th>\n",
       "    </tr>\n",
       "    <tr>\n",
       "      <th>Date</th>\n",
       "      <th></th>\n",
       "      <th></th>\n",
       "      <th></th>\n",
       "      <th></th>\n",
       "      <th></th>\n",
       "      <th></th>\n",
       "      <th></th>\n",
       "    </tr>\n",
       "  </thead>\n",
       "  <tbody>\n",
       "    <tr>\n",
       "      <th>2023-01-03 00:00:00-05:00</th>\n",
       "      <td>9.272531</td>\n",
       "      <td>9.353632</td>\n",
       "      <td>9.236486</td>\n",
       "      <td>9.335609</td>\n",
       "      <td>9242100</td>\n",
       "      <td>0.0</td>\n",
       "      <td>0.0</td>\n",
       "    </tr>\n",
       "    <tr>\n",
       "      <th>2023-01-04 00:00:00-05:00</th>\n",
       "      <td>9.470777</td>\n",
       "      <td>9.587923</td>\n",
       "      <td>9.443743</td>\n",
       "      <td>9.551878</td>\n",
       "      <td>9673800</td>\n",
       "      <td>0.0</td>\n",
       "      <td>0.0</td>\n",
       "    </tr>\n",
       "    <tr>\n",
       "      <th>2023-01-05 00:00:00-05:00</th>\n",
       "      <td>9.497811</td>\n",
       "      <td>9.578912</td>\n",
       "      <td>9.461766</td>\n",
       "      <td>9.533855</td>\n",
       "      <td>5620400</td>\n",
       "      <td>0.0</td>\n",
       "      <td>0.0</td>\n",
       "    </tr>\n",
       "    <tr>\n",
       "      <th>2023-01-06 00:00:00-05:00</th>\n",
       "      <td>9.542867</td>\n",
       "      <td>9.732102</td>\n",
       "      <td>9.533855</td>\n",
       "      <td>9.687046</td>\n",
       "      <td>6186500</td>\n",
       "      <td>0.0</td>\n",
       "      <td>0.0</td>\n",
       "    </tr>\n",
       "    <tr>\n",
       "      <th>2023-01-09 00:00:00-05:00</th>\n",
       "      <td>9.759135</td>\n",
       "      <td>9.813202</td>\n",
       "      <td>9.660012</td>\n",
       "      <td>9.678034</td>\n",
       "      <td>10003000</td>\n",
       "      <td>0.0</td>\n",
       "      <td>0.0</td>\n",
       "    </tr>\n",
       "  </tbody>\n",
       "</table>\n",
       "</div>"
      ],
      "text/plain": [
       "                               Open      High       Low     Close    Volume  \\\n",
       "Date                                                                          \n",
       "2023-01-03 00:00:00-05:00  9.272531  9.353632  9.236486  9.335609   9242100   \n",
       "2023-01-04 00:00:00-05:00  9.470777  9.587923  9.443743  9.551878   9673800   \n",
       "2023-01-05 00:00:00-05:00  9.497811  9.578912  9.461766  9.533855   5620400   \n",
       "2023-01-06 00:00:00-05:00  9.542867  9.732102  9.533855  9.687046   6186500   \n",
       "2023-01-09 00:00:00-05:00  9.759135  9.813202  9.660012  9.678034  10003000   \n",
       "\n",
       "                           Dividends  Stock Splits  \n",
       "Date                                                \n",
       "2023-01-03 00:00:00-05:00        0.0           0.0  \n",
       "2023-01-04 00:00:00-05:00        0.0           0.0  \n",
       "2023-01-05 00:00:00-05:00        0.0           0.0  \n",
       "2023-01-06 00:00:00-05:00        0.0           0.0  \n",
       "2023-01-09 00:00:00-05:00        0.0           0.0  "
      ]
     },
     "execution_count": 30,
     "metadata": {},
     "output_type": "execute_result"
    }
   ],
   "source": [
    "voda_df.head()"
   ]
  },
  {
   "cell_type": "code",
   "execution_count": 31,
   "id": "2a956278",
   "metadata": {},
   "outputs": [],
   "source": [
    "camels = 42"
   ]
  },
  {
   "cell_type": "code",
   "execution_count": 32,
   "id": "0d2d10d6",
   "metadata": {},
   "outputs": [],
   "source": [
    "#type(camels)"
   ]
  },
  {
   "cell_type": "code",
   "execution_count": 33,
   "id": "9795a92b",
   "metadata": {},
   "outputs": [
    {
     "name": "stdout",
     "output_type": "stream",
     "text": [
      "I have spotted 42 camels\n"
     ]
    }
   ],
   "source": [
    "print(\"I have spotted \" + str(camels) + \" camels\")"
   ]
  },
  {
   "cell_type": "code",
   "execution_count": 34,
   "id": "3c891143",
   "metadata": {},
   "outputs": [
    {
     "name": "stdout",
     "output_type": "stream",
     "text": [
      "I have spotted 42 camels\n"
     ]
    }
   ],
   "source": [
    "print(\"I have spotted\", camels , \"camels\")"
   ]
  },
  {
   "cell_type": "code",
   "execution_count": 40,
   "id": "1b9d00e7",
   "metadata": {},
   "outputs": [
    {
     "name": "stdout",
     "output_type": "stream",
     "text": [
      "I have spotted 42 camels\n"
     ]
    }
   ],
   "source": [
    "print(f\"I have spotted {camels} camels\")"
   ]
  },
  {
   "cell_type": "code",
   "execution_count": 37,
   "id": "77431661",
   "metadata": {},
   "outputs": [
    {
     "name": "stdout",
     "output_type": "stream",
     "text": [
      "42\n"
     ]
    }
   ],
   "source": [
    "print(\"%d\" % camels)"
   ]
  },
  {
   "cell_type": "code",
   "execution_count": 41,
   "id": "82af7155",
   "metadata": {},
   "outputs": [
    {
     "name": "stdout",
     "output_type": "stream",
     "text": [
      "I have spotted 42 camels\n"
     ]
    }
   ],
   "source": [
    "print(\"I have spotted %d camels\" % camels)"
   ]
  }
 ],
 "metadata": {
  "kernelspec": {
   "display_name": "Python 3 (ipykernel)",
   "language": "python",
   "name": "python3"
  },
  "language_info": {
   "codemirror_mode": {
    "name": "ipython",
    "version": 3
   },
   "file_extension": ".py",
   "mimetype": "text/x-python",
   "name": "python",
   "nbconvert_exporter": "python",
   "pygments_lexer": "ipython3",
   "version": "3.11.5"
  }
 },
 "nbformat": 4,
 "nbformat_minor": 5
}
