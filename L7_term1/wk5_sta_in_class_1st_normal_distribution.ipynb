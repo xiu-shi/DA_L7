{
 "cells": [
  {
   "cell_type": "code",
   "execution_count": 1,
   "id": "0dede638",
   "metadata": {},
   "outputs": [],
   "source": [
    "#normal distribution\n",
    "from scipy.stats import norm"
   ]
  },
  {
   "cell_type": "code",
   "execution_count": 2,
   "id": "8ce1c040",
   "metadata": {},
   "outputs": [],
   "source": [
    "mean = 100\n",
    "std_dev = 10"
   ]
  },
  {
   "cell_type": "code",
   "execution_count": 3,
   "id": "015011bc",
   "metadata": {},
   "outputs": [
    {
     "data": {
      "text/plain": [
       "0.15865525393145707"
      ]
     },
     "execution_count": 3,
     "metadata": {},
     "output_type": "execute_result"
    }
   ],
   "source": [
    "#p(x < 90) --> less than a value\n",
    "\n",
    "norm.cdf(90, mean, std_dev)"
   ]
  },
  {
   "cell_type": "code",
   "execution_count": 4,
   "id": "4faf36d7",
   "metadata": {},
   "outputs": [
    {
     "data": {
      "text/plain": [
       "0.3085375387259869"
      ]
     },
     "execution_count": 4,
     "metadata": {},
     "output_type": "execute_result"
    }
   ],
   "source": [
    "#p(x > 105) --> more than a value\n",
    "\n",
    "norm.sf(105, mean, std_dev)"
   ]
  },
  {
   "cell_type": "code",
   "execution_count": 5,
   "id": "8b0bc6ad",
   "metadata": {},
   "outputs": [
    {
     "data": {
      "text/plain": [
       "0.532807207342556"
      ]
     },
     "execution_count": 5,
     "metadata": {},
     "output_type": "execute_result"
    }
   ],
   "source": [
    "# between 90 and 105 points\n",
    "\n",
    "norm.cdf(105, mean, std_dev) - norm.cdf(90, mean, std_dev)"
   ]
  },
  {
   "cell_type": "code",
   "execution_count": 6,
   "id": "e18a596c",
   "metadata": {},
   "outputs": [],
   "source": [
    "# Binomial Distribution\n",
    "from scipy.stats import binom"
   ]
  },
  {
   "cell_type": "code",
   "execution_count": 7,
   "id": "91c2cf9d",
   "metadata": {},
   "outputs": [
    {
     "data": {
      "text/plain": [
       "0.06451199999999996"
      ]
     },
     "execution_count": 7,
     "metadata": {},
     "output_type": "execute_result"
    }
   ],
   "source": [
    "#pmf - prob must function\n",
    "binom.pmf( k = 2, n = 3, p = 0.16)"
   ]
  },
  {
   "cell_type": "code",
   "execution_count": null,
   "id": "0265c84a",
   "metadata": {},
   "outputs": [],
   "source": []
  }
 ],
 "metadata": {
  "kernelspec": {
   "display_name": "Python 3 (ipykernel)",
   "language": "python",
   "name": "python3"
  },
  "language_info": {
   "codemirror_mode": {
    "name": "ipython",
    "version": 3
   },
   "file_extension": ".py",
   "mimetype": "text/x-python",
   "name": "python",
   "nbconvert_exporter": "python",
   "pygments_lexer": "ipython3",
   "version": "3.11.4"
  }
 },
 "nbformat": 4,
 "nbformat_minor": 5
}
