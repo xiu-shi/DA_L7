{
 "cells": [
  {
   "cell_type": "code",
   "execution_count": 1,
   "id": "95502926",
   "metadata": {},
   "outputs": [],
   "source": [
    "from scipy.stats import norm"
   ]
  },
  {
   "cell_type": "code",
   "execution_count": 2,
   "id": "d25e1b95",
   "metadata": {},
   "outputs": [],
   "source": [
    "mean = 100\n",
    "std_dev = 10"
   ]
  },
  {
   "cell_type": "code",
   "execution_count": 3,
   "id": "da073941",
   "metadata": {},
   "outputs": [
    {
     "data": {
      "text/plain": [
       "0.15865525393145707"
      ]
     },
     "execution_count": 3,
     "metadata": {},
     "output_type": "execute_result"
    }
   ],
   "source": [
    "#P(X < 90) --> LESS THAN A VALUE\n",
    "\n",
    "norm.cdf(90, mean, std_dev)"
   ]
  },
  {
   "cell_type": "code",
   "execution_count": 4,
   "id": "7a3422a5",
   "metadata": {},
   "outputs": [
    {
     "data": {
      "text/plain": [
       "0.3085375387259869"
      ]
     },
     "execution_count": 4,
     "metadata": {},
     "output_type": "execute_result"
    }
   ],
   "source": [
    "#P(X > 105) --> MORE THAN A VALUE\n",
    "\n",
    "norm.sf(105, mean, std_dev)"
   ]
  },
  {
   "cell_type": "code",
   "execution_count": 5,
   "id": "4b17bf3d",
   "metadata": {},
   "outputs": [
    {
     "data": {
      "text/plain": [
       "0.532807207342556"
      ]
     },
     "execution_count": 5,
     "metadata": {},
     "output_type": "execute_result"
    }
   ],
   "source": [
    "#BETWEEN 90 and 105 POINTS \n",
    "\n",
    "norm.cdf(105, mean, std_dev) - norm.cdf(90, mean, std_dev)"
   ]
  },
  {
   "cell_type": "code",
   "execution_count": 6,
   "id": "eea13dcf",
   "metadata": {},
   "outputs": [],
   "source": [
    "########\n",
    "from scipy.stats import binom"
   ]
  },
  {
   "cell_type": "code",
   "execution_count": 8,
   "id": "4ee0ba67",
   "metadata": {},
   "outputs": [
    {
     "data": {
      "text/plain": [
       "0.064512"
      ]
     },
     "execution_count": 8,
     "metadata": {},
     "output_type": "execute_result"
    }
   ],
   "source": [
    "binom.pmf(k = 2, n = 3, p = 0.16 )"
   ]
  },
  {
   "cell_type": "code",
   "execution_count": null,
   "id": "f1699858",
   "metadata": {},
   "outputs": [],
   "source": []
  }
 ],
 "metadata": {
  "kernelspec": {
   "display_name": "Python 3 (ipykernel)",
   "language": "python",
   "name": "python3"
  },
  "language_info": {
   "codemirror_mode": {
    "name": "ipython",
    "version": 3
   },
   "file_extension": ".py",
   "mimetype": "text/x-python",
   "name": "python",
   "nbconvert_exporter": "python",
   "pygments_lexer": "ipython3",
   "version": "3.11.4"
  }
 },
 "nbformat": 4,
 "nbformat_minor": 5
}
