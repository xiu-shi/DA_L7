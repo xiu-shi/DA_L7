{
 "cells": [
  {
   "cell_type": "code",
   "execution_count": 1,
   "id": "caeb79be",
   "metadata": {},
   "outputs": [],
   "source": [
    "import numpy as np\n",
    "import pandas as pd"
   ]
  },
  {
   "cell_type": "code",
   "execution_count": 2,
   "id": "bae68f4c",
   "metadata": {},
   "outputs": [],
   "source": [
    "df = pd.read_csv(\"/Users/janet.xuishi/Documents/DA_L7/CA2.0_stats_garments_worker_productivity.csv\")"
   ]
  },
  {
   "cell_type": "code",
   "execution_count": 3,
   "id": "ae6cf7a0",
   "metadata": {},
   "outputs": [],
   "source": [
    "#df.head()"
   ]
  },
  {
   "cell_type": "code",
   "execution_count": 4,
   "id": "0634626d",
   "metadata": {},
   "outputs": [],
   "source": [
    "#df.describe()"
   ]
  },
  {
   "cell_type": "markdown",
   "id": "1451f73e",
   "metadata": {},
   "source": [
    "# Stats CA2.1\n",
    "\n",
    "Inferential Statistics - part 1\n",
    "\n",
    "The company believes implemented new machines and they believe this would reduce the average\n",
    "overtime (in minutes) that the workers will do, which will lead to a cost reduction in the end. They tried it in\n",
    "a group of 200 workers, which shows an average overtime of 6300 minutes. Can we say that the company\n",
    "is right? Formulate an appropriate hypothesis and justify your answer.\n",
    "\n",
    "Number of workers total population in csv file: 36240\n",
    "Experiment ran among sample of 200 workers, result of after new machines implementation overtime MEAN is 6300 minutes.\n",
    "We need to find out if the MEAN overtime is higher or lower than 6300 minutes to determine if implementing the new machines is a success or failure.\n",
    "\n",
    "H0 New machines did not reduce the over time, before and after MEAN over time is the same, or after over time is greater than the old machines overtime.\n",
    "H1 New machines reduced MEAN over time before, less than old machines MEAN over time."
   ]
  },
  {
   "cell_type": "code",
   "execution_count": 5,
   "id": "701523b6",
   "metadata": {},
   "outputs": [
    {
     "name": "stdout",
     "output_type": "stream",
     "text": [
      "6508.21 2864.51\n"
     ]
    }
   ],
   "source": [
    "# Calculte the MEAN and STD of the overtime for the entire population\n",
    "population_mean_overtime = round(df[\"over_time\"].mean(),2)\n",
    "population_std = round(df[\"over_time\"].std(),2)\n",
    "print(population_mean_overtime, population_std)"
   ]
  },
  {
   "cell_type": "code",
   "execution_count": 6,
   "id": "0bd01a8d-6aec-4ff6-9272-c013bc1013e3",
   "metadata": {},
   "outputs": [],
   "source": [
    "# Given the mean and std of the overtime of the sample (200 workers and the average overtime among 200 workers after new machines implementation )\n",
    "sample_mean = 6300\n",
    "sample_size = 200"
   ]
  },
  {
   "cell_type": "code",
   "execution_count": 7,
   "id": "75f85353-b36c-41ff-8946-30e82f9b99a4",
   "metadata": {},
   "outputs": [
    {
     "name": "stdout",
     "output_type": "stream",
     "text": [
      "202.55\n"
     ]
    }
   ],
   "source": [
    "# Calculte standard error \n",
    "standard_error = round(population_std / (sample_size ** 0.5),2)\n",
    "print(standard_error)"
   ]
  },
  {
   "cell_type": "markdown",
   "id": "7e953409-1cc8-4dec-853d-0d37f6855c3e",
   "metadata": {},
   "source": [
    "Hypothesis: \n",
    "\n",
    "H0 New machines did NOT reduce the over time, before and after MEAN over time is the same, or greater than the old machines overtime.\n",
    "\n",
    "H1 New machines reduced MEAN over time before, less than old machines MEAN over time."
   ]
  },
  {
   "cell_type": "code",
   "execution_count": 8,
   "id": "8511129d-7464-44b6-a0e8-a7724c609947",
   "metadata": {},
   "outputs": [
    {
     "name": "stdout",
     "output_type": "stream",
     "text": [
      "z_score is: -1.027936386403616\n",
      "p_value is: 0.30397975216140327\n"
     ]
    }
   ],
   "source": [
    "#import scipy.stats libary\n",
    "from scipy.stats import norm\n",
    "#calulate z-score\n",
    "z_score = ( sample_mean - population_mean_overtime) / ( population_std / ( sample_size ** 0.5 ))\n",
    "print(f\"z_score is: {z_score}\")\n",
    "\n",
    "#calulate p-value\n",
    "p_value = 2 * norm.sf(abs(z_score))\n",
    "print(f\"p_value is: {p_value}\")\n"
   ]
  },
  {
   "cell_type": "markdown",
   "id": "7f74b21e",
   "metadata": {},
   "source": [
    "Conclusion: \n",
    "\n",
    "Z-score is negative: -1.03, indicates that sample mean 6300 minutes is less than population mean.\n",
    "\n",
    "P-value is 0.30 which is much higher than alpha level of 0.05, indicates the difference in mean overtime, we do NOT have sufficient evidence to reject H0. The data does NOT provide strong evidence to support company's claim that implementation of new machines was successful in reducing overtime. In the real manufacturing world, there are many factors to consider, we don't have enough evidence in this data file to reject H0 doesn't mean it's true. Implementation of new machines usually involves testing, production line halt due to errors or adjustment, worker operation fault etc, these data are not captured in this data file."
   ]
  }
 ],
 "metadata": {
  "kernelspec": {
   "display_name": "Python 3 (ipykernel)",
   "language": "python",
   "name": "python3"
  },
  "language_info": {
   "codemirror_mode": {
    "name": "ipython",
    "version": 3
   },
   "file_extension": ".py",
   "mimetype": "text/x-python",
   "name": "python",
   "nbconvert_exporter": "python",
   "pygments_lexer": "ipython3",
   "version": "3.9.18"
  }
 },
 "nbformat": 4,
 "nbformat_minor": 5
}
