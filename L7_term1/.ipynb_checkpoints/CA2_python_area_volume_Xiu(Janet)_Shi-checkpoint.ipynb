{
 "cells": [
  {
   "cell_type": "markdown",
   "id": "9ef851cd-ec11-42b2-9a73-d59cf2465857",
   "metadata": {},
   "source": [
    "Area of a Triangle formula is given by:\n",
    " \n",
    "Area = (height x base) / 2\n",
    "\n",
    "The formula to calculate the volume of a pyramid is given by: \n",
    "\n",
    "Volume = (length x width x height)/3\n",
    "\n",
    "1.\tCreate a Program that allows the user to calculate either the Area of a Triangle OR the volume of a pyramid. (Both functions must be present)\n",
    "2.\tExceptions/Errors should be handled using try and except \n",
    "3.\tAll values inputted must be float values.\n",
    "4.\tThe output must state the type of shape selected, and the parameters inputted as well as the area or volume and formatted using STRING FORMATTING.\n"
   ]
  },
  {
   "cell_type": "code",
   "execution_count": 1,
   "id": "bd285ec2-3e05-479e-9946-9f3ceeb98583",
   "metadata": {},
   "outputs": [],
   "source": [
    "#function 1. area of a triangle calculation\n",
    "def triangle_func(height, base):\n",
    "    return (height * base) / 2\n",
    "    #print(triangle_func)"
   ]
  },
  {
   "cell_type": "code",
   "execution_count": 2,
   "id": "fe42b618-0b4f-461a-9685-1936c8f495ab",
   "metadata": {},
   "outputs": [],
   "source": [
    "#function 2. volume of a pyramid calculation\n",
    "def pyramid_func(length, width, height):\n",
    "    return (length * width * height) / 3\n",
    "    #print(pyramid_func)"
   ]
  },
  {
   "cell_type": "code",
   "execution_count": 3,
   "id": "8d51d8a2-e040-4db3-9065-979c44a83b8d",
   "metadata": {},
   "outputs": [],
   "source": [
    "#ensure user input is float and use try exceptions ValueErrors\n",
    "def user_float_input(prompt):\n",
    "    while True:\n",
    "        try:\n",
    "            return round(float(input(prompt)),2) #cast user input into float and 2 decimal points\n",
    "        except ValueError: # try then except error handling\n",
    "            print(\"Oops, please enter numbers with 2 decimal points.\")"
   ]
  },
  {
   "cell_type": "code",
   "execution_count": 4,
   "id": "949ec977-fc84-4852-9eed-1ef53c9f33bd",
   "metadata": {},
   "outputs": [
    {
     "name": "stdout",
     "output_type": "stream",
     "text": [
      "Shape: Triangle. The height is: 15.0, base is 1.0 and area of the triangle is 7.5 square units.\n"
     ]
    }
   ],
   "source": [
    "# main function\n",
    "#keep conditional logic simple, ensure end user making simple choices, we minimize the input errors from human side.\n",
    "def main():\n",
    "    while True:\n",
    "        choice = input(\"Enter 1 or 2: 1. Area of a Triangle or 2. Volume of a pyramid.\")\n",
    "        if choice in [\"1\",\"2\"]:\n",
    "            break\n",
    "        else:\n",
    "            print(\"Oops Invalid Choice! Please enter 1 or 2:\")\n",
    "    if choice == \"1\":\n",
    "        height = user_float_input(\"Please enter the height of the triangle, by your unit of measure.\")\n",
    "        base = user_float_input(\"Please enter the base of the triangle, by your unit of measure.\")\n",
    "        area = round(triangle_func(height, base),2)\n",
    "        print(f\"Shape: Triangle. The height is: {height}, base is {base} and area of the triangle is {area} square units.\")\n",
    "    else:\n",
    "        length = user_float_input(\"Please enter the length of the prism base, by your unit of measure.\")\n",
    "        width = user_float_input(\"Please enter the width of the prism base, by your unit of measure.\")\n",
    "        height = user_float_input(\"Please enter the height of the prism, by your unit of measure.\")\n",
    "        volume = round(pyramid_func(length, width, height),2)\n",
    "        print(f\"Shape: Pyramid. The length is {length}, width is {width}, height is {height} and volume of a prism is {volume} cubic units.\")\n",
    "\n",
    "if __name__ == \"__main__\":\n",
    "    main()"
   ]
  }
 ],
 "metadata": {
  "kernelspec": {
   "display_name": "Python 3 (ipykernel)",
   "language": "python",
   "name": "python3"
  },
  "language_info": {
   "codemirror_mode": {
    "name": "ipython",
    "version": 3
   },
   "file_extension": ".py",
   "mimetype": "text/x-python",
   "name": "python",
   "nbconvert_exporter": "python",
   "pygments_lexer": "ipython3",
   "version": "3.9.18"
  }
 },
 "nbformat": 4,
 "nbformat_minor": 5
}
