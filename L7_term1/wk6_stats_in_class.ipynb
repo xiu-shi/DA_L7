{
 "cells": [
  {
   "cell_type": "code",
   "execution_count": 2,
   "id": "a4bc000a",
   "metadata": {},
   "outputs": [],
   "source": [
    "# https://moodle.cct.ie/pluginfile.php/233273/mod_resource/content/1/Stats%20Practice.pdf\n",
    "#normal distribution\n",
    "from scipy.stats import norm"
   ]
  },
  {
   "cell_type": "code",
   "execution_count": 3,
   "id": "774ba69c",
   "metadata": {},
   "outputs": [],
   "source": [
    "mean = 50000\n",
    "std_dev = 8000"
   ]
  },
  {
   "cell_type": "markdown",
   "id": "7091b96f",
   "metadata": {},
   "source": [
    "# X = sales of the store in USD$"
   ]
  },
  {
   "cell_type": "markdown",
   "id": "824087f4",
   "metadata": {},
   "source": [
    "Exercise 3\n",
    "A popular retail store is analysing its monthly sales over the past two years. The data shows that the\n",
    "average monthly sales follow a normal distribuƟon. The average sales amount to $50,000 with a\n",
    "standard deviaƟon of $8,000.\n",
    "1. What is the probability that in a given month, the sales exceed $60,000?\n",
    "2. What proporƟon of the months had sales between $42,000 and $58,000?\n",
    "3. If the store needs to achieve a minimum of $40,000 in sales each month to break even, in\n",
    "what proporƟon of months did they fail to do this?"
   ]
  },
  {
   "cell_type": "code",
   "execution_count": 4,
   "id": "5562f00b",
   "metadata": {},
   "outputs": [
    {
     "data": {
      "text/plain": [
       "0.10564977366685535"
      ]
     },
     "execution_count": 4,
     "metadata": {},
     "output_type": "execute_result"
    }
   ],
   "source": [
    "# question 1 What is the probability that in a given month, the sales exceed $60,000?\n",
    "#P(X > 60000)\n",
    "\n",
    "norm.sf(60000, mean, std_dev)"
   ]
  },
  {
   "cell_type": "code",
   "execution_count": 6,
   "id": "28fb3c1b",
   "metadata": {},
   "outputs": [
    {
     "data": {
      "text/plain": [
       "0.6826894921370859"
      ]
     },
     "execution_count": 6,
     "metadata": {},
     "output_type": "execute_result"
    }
   ],
   "source": [
    "# question 2\n",
    "#P (42000 < X < 58000)\n",
    "norm.cdf(58000, mean, std_dev) - norm.cdf(42000, mean, std_dev)"
   ]
  },
  {
   "cell_type": "code",
   "execution_count": 7,
   "id": "765fb106",
   "metadata": {},
   "outputs": [
    {
     "data": {
      "text/plain": [
       "0.10564977366685535"
      ]
     },
     "execution_count": 7,
     "metadata": {},
     "output_type": "execute_result"
    }
   ],
   "source": [
    "# question 3\n",
    "#P (X < 40000)\n",
    "norm.cdf(40000, mean,std_dev)"
   ]
  },
  {
   "cell_type": "code",
   "execution_count": null,
   "id": "f807f788",
   "metadata": {},
   "outputs": [],
   "source": []
  },
  {
   "cell_type": "markdown",
   "id": "c5d36063",
   "metadata": {},
   "source": [
    "Exercise 2\n",
    "Food waste is a significant concern in the world, with enormous environmental, economic, and social\n",
    "implicaƟons. Every year, millions of tons of food are discarded, resulƟng in wasted resources and\n",
    "missed opportuniƟes to feed those in need. Food waste occurs at various stages of the supply chain,\n",
    "from farms to our dining tables."
   ]
  },
  {
   "cell_type": "code",
   "execution_count": null,
   "id": "8207abf3",
   "metadata": {},
   "outputs": [],
   "source": []
  }
 ],
 "metadata": {
  "kernelspec": {
   "display_name": "Python 3 (ipykernel)",
   "language": "python",
   "name": "python3"
  },
  "language_info": {
   "codemirror_mode": {
    "name": "ipython",
    "version": 3
   },
   "file_extension": ".py",
   "mimetype": "text/x-python",
   "name": "python",
   "nbconvert_exporter": "python",
   "pygments_lexer": "ipython3",
   "version": "3.11.4"
  }
 },
 "nbformat": 4,
 "nbformat_minor": 5
}
