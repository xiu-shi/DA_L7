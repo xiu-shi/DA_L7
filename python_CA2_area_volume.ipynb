{
 "cells": [
  {
   "cell_type": "markdown",
   "id": "9ef851cd-ec11-42b2-9a73-d59cf2465857",
   "metadata": {},
   "source": [
    "Area of a Triangle formula is given by:\n",
    " \n",
    "Area = (height x base) / 2\n",
    "\n",
    "The formula to calculate the volume of a pyramid is given by: \n",
    "\n",
    "Volume = (length x width x height)/3\n",
    "\n",
    "1.\tCreate a Program that allows the user to calculate either the Area of a Triangle OR the volume of a pyramid. (Both functions must be present)\n",
    "2.\tExceptions/Errors should be handled using try and except \n",
    "3.\tAll values inputted must be float values.\n",
    "4.\tThe output must state the type of shape selected, and the parameters inputted as well as the area or volume and formatted using STRING FORMATTING.\n"
   ]
  },
  {
   "cell_type": "code",
   "execution_count": null,
   "id": "bd285ec2-3e05-479e-9946-9f3ceeb98583",
   "metadata": {},
   "outputs": [],
   "source": [
    "'''function 1. area of a triangle calculation'''\n",
    "def "
   ]
  }
 ],
 "metadata": {
  "kernelspec": {
   "display_name": "Python 3 (ipykernel)",
   "language": "python",
   "name": "python3"
  },
  "language_info": {
   "codemirror_mode": {
    "name": "ipython",
    "version": 3
   },
   "file_extension": ".py",
   "mimetype": "text/x-python",
   "name": "python",
   "nbconvert_exporter": "python",
   "pygments_lexer": "ipython3",
   "version": "3.11.5"
  }
 },
 "nbformat": 4,
 "nbformat_minor": 5
}
