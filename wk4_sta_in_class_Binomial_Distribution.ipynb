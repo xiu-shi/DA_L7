{
 "cells": [
  {
   "cell_type": "code",
   "execution_count": 1,
   "id": "11c99460",
   "metadata": {},
   "outputs": [],
   "source": [
    "#IMPORTING LIBRARIES\n",
    "# import pandas as pd\n",
    "# import statistics as stats\n",
    "# import numpy as np\n",
    "# import matplotlib.pyplot as plt\n",
    "# import seaborn as sns"
   ]
  },
  {
   "cell_type": "code",
   "execution_count": 2,
   "id": "350b3671",
   "metadata": {},
   "outputs": [],
   "source": [
    "from scipy.stats import binom"
   ]
  },
  {
   "cell_type": "code",
   "execution_count": 3,
   "id": "871489f7",
   "metadata": {},
   "outputs": [
    {
     "data": {
      "text/plain": [
       "0.20132659199999992"
      ]
     },
     "execution_count": 3,
     "metadata": {},
     "output_type": "execute_result"
    }
   ],
   "source": [
    "#slide 35, Exactly 3 --> (P( x= 3)\n",
    "#\n",
    "# bin(binomial) pmf(exactly the number = , p must function)\n",
    "\n",
    "binom.pmf(k = 3, n =10, p = 0.20)"
   ]
  },
  {
   "cell_type": "code",
   "execution_count": 6,
   "id": "a6ae3a36",
   "metadata": {},
   "outputs": [
    {
     "data": {
      "text/plain": [
       "0.678"
      ]
     },
     "execution_count": 6,
     "metadata": {},
     "output_type": "execute_result"
    }
   ],
   "source": [
    "# less than 3 -- p(x<2) or p(x<3)\n",
    "# cdf cumulatetive distribution  \n",
    "\n",
    "round(binom.cdf(k = 2, n = 10, p = 0.2),3)"
   ]
  },
  {
   "cell_type": "code",
   "execution_count": 10,
   "id": "ebe3aad3",
   "metadata": {},
   "outputs": [
    {
     "data": {
      "text/plain": [
       "0.121"
      ]
     },
     "execution_count": 10,
     "metadata": {},
     "output_type": "execute_result"
    }
   ],
   "source": [
    "# greater than 3, p(x >= 4) or p(x > 3)\n",
    "# survival function \n",
    "round(binom.sf(k = 3, n = 10, p = 0.2), 3)"
   ]
  },
  {
   "cell_type": "code",
   "execution_count": null,
   "id": "0297bbad",
   "metadata": {},
   "outputs": [],
   "source": [
    "# can also import libary math"
   ]
  }
 ],
 "metadata": {
  "kernelspec": {
   "display_name": "Python 3 (ipykernel)",
   "language": "python",
   "name": "python3"
  },
  "language_info": {
   "codemirror_mode": {
    "name": "ipython",
    "version": 3
   },
   "file_extension": ".py",
   "mimetype": "text/x-python",
   "name": "python",
   "nbconvert_exporter": "python",
   "pygments_lexer": "ipython3",
   "version": "3.11.4"
  }
 },
 "nbformat": 4,
 "nbformat_minor": 5
}
