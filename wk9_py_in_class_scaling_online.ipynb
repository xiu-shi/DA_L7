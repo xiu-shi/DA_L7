{
 "cells": [
  {
   "cell_type": "code",
   "execution_count": 1,
   "id": "2f9a4fea",
   "metadata": {},
   "outputs": [],
   "source": [
    "#pip install nbconvert"
   ]
  },
  {
   "cell_type": "code",
   "execution_count": 2,
   "id": "a7fc644c",
   "metadata": {},
   "outputs": [],
   "source": [
    "import pandas as pd\n",
    "import sklearn.preprocessing as preproc"
   ]
  },
  {
   "cell_type": "code",
   "execution_count": 3,
   "id": "eae9ab96",
   "metadata": {},
   "outputs": [
    {
     "name": "stderr",
     "output_type": "stream",
     "text": [
      "/var/folders/m4/d1bsxckd7y52_7b_g5_dnvbm0000gn/T/ipykernel_68562/3750786422.py:1: ParserWarning: Falling back to the 'python' engine because the 'c' engine does not support regex separators (separators > 1 char and different from '\\s+' are interpreted as regex); you can avoid this warning by specifying engine='python'.\n",
      "  df = pd.read_csv(\"/Users/janet.xuishi/Documents/DA_L7/wk9_py_in_class_OnlineNewsPopularity.csv\", delimiter=\", \")\n"
     ]
    }
   ],
   "source": [
    "df = pd.read_csv(\"/Users/janet.xuishi/Documents/DA_L7/wk9_py_in_class_OnlineNewsPopularity.csv\", delimiter=\", \")"
   ]
  },
  {
   "cell_type": "code",
   "execution_count": 4,
   "id": "d8b9f2a8",
   "metadata": {},
   "outputs": [
    {
     "data": {
      "text/html": [
       "<div>\n",
       "<style scoped>\n",
       "    .dataframe tbody tr th:only-of-type {\n",
       "        vertical-align: middle;\n",
       "    }\n",
       "\n",
       "    .dataframe tbody tr th {\n",
       "        vertical-align: top;\n",
       "    }\n",
       "\n",
       "    .dataframe thead th {\n",
       "        text-align: right;\n",
       "    }\n",
       "</style>\n",
       "<table border=\"1\" class=\"dataframe\">\n",
       "  <thead>\n",
       "    <tr style=\"text-align: right;\">\n",
       "      <th></th>\n",
       "      <th>url</th>\n",
       "      <th>timedelta</th>\n",
       "      <th>n_tokens_title</th>\n",
       "      <th>n_tokens_content</th>\n",
       "      <th>n_unique_tokens</th>\n",
       "      <th>n_non_stop_words</th>\n",
       "      <th>n_non_stop_unique_tokens</th>\n",
       "      <th>num_hrefs</th>\n",
       "      <th>num_self_hrefs</th>\n",
       "      <th>num_imgs</th>\n",
       "      <th>...</th>\n",
       "      <th>min_positive_polarity</th>\n",
       "      <th>max_positive_polarity</th>\n",
       "      <th>avg_negative_polarity</th>\n",
       "      <th>min_negative_polarity</th>\n",
       "      <th>max_negative_polarity</th>\n",
       "      <th>title_subjectivity</th>\n",
       "      <th>title_sentiment_polarity</th>\n",
       "      <th>abs_title_subjectivity</th>\n",
       "      <th>abs_title_sentiment_polarity</th>\n",
       "      <th>shares</th>\n",
       "    </tr>\n",
       "  </thead>\n",
       "  <tbody>\n",
       "    <tr>\n",
       "      <th>0</th>\n",
       "      <td>http://mashable.com/2013/01/07/amazon-instant-...</td>\n",
       "      <td>731.0</td>\n",
       "      <td>12.0</td>\n",
       "      <td>219.0</td>\n",
       "      <td>0.663594</td>\n",
       "      <td>1.0</td>\n",
       "      <td>0.815385</td>\n",
       "      <td>4.0</td>\n",
       "      <td>2.0</td>\n",
       "      <td>1.0</td>\n",
       "      <td>...</td>\n",
       "      <td>0.100000</td>\n",
       "      <td>0.7</td>\n",
       "      <td>-0.350000</td>\n",
       "      <td>-0.600</td>\n",
       "      <td>-0.200000</td>\n",
       "      <td>0.500000</td>\n",
       "      <td>-0.187500</td>\n",
       "      <td>0.000000</td>\n",
       "      <td>0.187500</td>\n",
       "      <td>593</td>\n",
       "    </tr>\n",
       "    <tr>\n",
       "      <th>1</th>\n",
       "      <td>http://mashable.com/2013/01/07/ap-samsung-spon...</td>\n",
       "      <td>731.0</td>\n",
       "      <td>9.0</td>\n",
       "      <td>255.0</td>\n",
       "      <td>0.604743</td>\n",
       "      <td>1.0</td>\n",
       "      <td>0.791946</td>\n",
       "      <td>3.0</td>\n",
       "      <td>1.0</td>\n",
       "      <td>1.0</td>\n",
       "      <td>...</td>\n",
       "      <td>0.033333</td>\n",
       "      <td>0.7</td>\n",
       "      <td>-0.118750</td>\n",
       "      <td>-0.125</td>\n",
       "      <td>-0.100000</td>\n",
       "      <td>0.000000</td>\n",
       "      <td>0.000000</td>\n",
       "      <td>0.500000</td>\n",
       "      <td>0.000000</td>\n",
       "      <td>711</td>\n",
       "    </tr>\n",
       "    <tr>\n",
       "      <th>2</th>\n",
       "      <td>http://mashable.com/2013/01/07/apple-40-billio...</td>\n",
       "      <td>731.0</td>\n",
       "      <td>9.0</td>\n",
       "      <td>211.0</td>\n",
       "      <td>0.575130</td>\n",
       "      <td>1.0</td>\n",
       "      <td>0.663866</td>\n",
       "      <td>3.0</td>\n",
       "      <td>1.0</td>\n",
       "      <td>1.0</td>\n",
       "      <td>...</td>\n",
       "      <td>0.100000</td>\n",
       "      <td>1.0</td>\n",
       "      <td>-0.466667</td>\n",
       "      <td>-0.800</td>\n",
       "      <td>-0.133333</td>\n",
       "      <td>0.000000</td>\n",
       "      <td>0.000000</td>\n",
       "      <td>0.500000</td>\n",
       "      <td>0.000000</td>\n",
       "      <td>1500</td>\n",
       "    </tr>\n",
       "    <tr>\n",
       "      <th>3</th>\n",
       "      <td>http://mashable.com/2013/01/07/astronaut-notre...</td>\n",
       "      <td>731.0</td>\n",
       "      <td>9.0</td>\n",
       "      <td>531.0</td>\n",
       "      <td>0.503788</td>\n",
       "      <td>1.0</td>\n",
       "      <td>0.665635</td>\n",
       "      <td>9.0</td>\n",
       "      <td>0.0</td>\n",
       "      <td>1.0</td>\n",
       "      <td>...</td>\n",
       "      <td>0.136364</td>\n",
       "      <td>0.8</td>\n",
       "      <td>-0.369697</td>\n",
       "      <td>-0.600</td>\n",
       "      <td>-0.166667</td>\n",
       "      <td>0.000000</td>\n",
       "      <td>0.000000</td>\n",
       "      <td>0.500000</td>\n",
       "      <td>0.000000</td>\n",
       "      <td>1200</td>\n",
       "    </tr>\n",
       "    <tr>\n",
       "      <th>4</th>\n",
       "      <td>http://mashable.com/2013/01/07/att-u-verse-apps/</td>\n",
       "      <td>731.0</td>\n",
       "      <td>13.0</td>\n",
       "      <td>1072.0</td>\n",
       "      <td>0.415646</td>\n",
       "      <td>1.0</td>\n",
       "      <td>0.540890</td>\n",
       "      <td>19.0</td>\n",
       "      <td>19.0</td>\n",
       "      <td>20.0</td>\n",
       "      <td>...</td>\n",
       "      <td>0.033333</td>\n",
       "      <td>1.0</td>\n",
       "      <td>-0.220192</td>\n",
       "      <td>-0.500</td>\n",
       "      <td>-0.050000</td>\n",
       "      <td>0.454545</td>\n",
       "      <td>0.136364</td>\n",
       "      <td>0.045455</td>\n",
       "      <td>0.136364</td>\n",
       "      <td>505</td>\n",
       "    </tr>\n",
       "  </tbody>\n",
       "</table>\n",
       "<p>5 rows × 61 columns</p>\n",
       "</div>"
      ],
      "text/plain": [
       "                                                 url  timedelta  \\\n",
       "0  http://mashable.com/2013/01/07/amazon-instant-...      731.0   \n",
       "1  http://mashable.com/2013/01/07/ap-samsung-spon...      731.0   \n",
       "2  http://mashable.com/2013/01/07/apple-40-billio...      731.0   \n",
       "3  http://mashable.com/2013/01/07/astronaut-notre...      731.0   \n",
       "4   http://mashable.com/2013/01/07/att-u-verse-apps/      731.0   \n",
       "\n",
       "   n_tokens_title  n_tokens_content  n_unique_tokens  n_non_stop_words  \\\n",
       "0            12.0             219.0         0.663594               1.0   \n",
       "1             9.0             255.0         0.604743               1.0   \n",
       "2             9.0             211.0         0.575130               1.0   \n",
       "3             9.0             531.0         0.503788               1.0   \n",
       "4            13.0            1072.0         0.415646               1.0   \n",
       "\n",
       "   n_non_stop_unique_tokens  num_hrefs  num_self_hrefs  num_imgs  ...  \\\n",
       "0                  0.815385        4.0             2.0       1.0  ...   \n",
       "1                  0.791946        3.0             1.0       1.0  ...   \n",
       "2                  0.663866        3.0             1.0       1.0  ...   \n",
       "3                  0.665635        9.0             0.0       1.0  ...   \n",
       "4                  0.540890       19.0            19.0      20.0  ...   \n",
       "\n",
       "   min_positive_polarity  max_positive_polarity  avg_negative_polarity  \\\n",
       "0               0.100000                    0.7              -0.350000   \n",
       "1               0.033333                    0.7              -0.118750   \n",
       "2               0.100000                    1.0              -0.466667   \n",
       "3               0.136364                    0.8              -0.369697   \n",
       "4               0.033333                    1.0              -0.220192   \n",
       "\n",
       "   min_negative_polarity  max_negative_polarity  title_subjectivity  \\\n",
       "0                 -0.600              -0.200000            0.500000   \n",
       "1                 -0.125              -0.100000            0.000000   \n",
       "2                 -0.800              -0.133333            0.000000   \n",
       "3                 -0.600              -0.166667            0.000000   \n",
       "4                 -0.500              -0.050000            0.454545   \n",
       "\n",
       "   title_sentiment_polarity  abs_title_subjectivity  \\\n",
       "0                 -0.187500                0.000000   \n",
       "1                  0.000000                0.500000   \n",
       "2                  0.000000                0.500000   \n",
       "3                  0.000000                0.500000   \n",
       "4                  0.136364                0.045455   \n",
       "\n",
       "   abs_title_sentiment_polarity  shares  \n",
       "0                      0.187500     593  \n",
       "1                      0.000000     711  \n",
       "2                      0.000000    1500  \n",
       "3                      0.000000    1200  \n",
       "4                      0.136364     505  \n",
       "\n",
       "[5 rows x 61 columns]"
      ]
     },
     "execution_count": 4,
     "metadata": {},
     "output_type": "execute_result"
    }
   ],
   "source": [
    "df.head()"
   ]
  },
  {
   "cell_type": "code",
   "execution_count": 5,
   "id": "3556a6b7",
   "metadata": {},
   "outputs": [
    {
     "name": "stdout",
     "output_type": "stream",
     "text": [
      "<class 'pandas.core.frame.DataFrame'>\n",
      "RangeIndex: 39644 entries, 0 to 39643\n",
      "Data columns (total 61 columns):\n",
      " #   Column                         Non-Null Count  Dtype  \n",
      "---  ------                         --------------  -----  \n",
      " 0   url                            39644 non-null  object \n",
      " 1   timedelta                      39644 non-null  float64\n",
      " 2   n_tokens_title                 39644 non-null  float64\n",
      " 3   n_tokens_content               39644 non-null  float64\n",
      " 4   n_unique_tokens                39644 non-null  float64\n",
      " 5   n_non_stop_words               39644 non-null  float64\n",
      " 6   n_non_stop_unique_tokens       39644 non-null  float64\n",
      " 7   num_hrefs                      39644 non-null  float64\n",
      " 8   num_self_hrefs                 39644 non-null  float64\n",
      " 9   num_imgs                       39644 non-null  float64\n",
      " 10  num_videos                     39644 non-null  float64\n",
      " 11  average_token_length           39644 non-null  float64\n",
      " 12  num_keywords                   39644 non-null  float64\n",
      " 13  data_channel_is_lifestyle      39644 non-null  float64\n",
      " 14  data_channel_is_entertainment  39644 non-null  float64\n",
      " 15  data_channel_is_bus            39644 non-null  float64\n",
      " 16  data_channel_is_socmed         39644 non-null  float64\n",
      " 17  data_channel_is_tech           39644 non-null  float64\n",
      " 18  data_channel_is_world          39644 non-null  float64\n",
      " 19  kw_min_min                     39644 non-null  float64\n",
      " 20  kw_max_min                     39644 non-null  float64\n",
      " 21  kw_avg_min                     39644 non-null  float64\n",
      " 22  kw_min_max                     39644 non-null  float64\n",
      " 23  kw_max_max                     39644 non-null  float64\n",
      " 24  kw_avg_max                     39644 non-null  float64\n",
      " 25  kw_min_avg                     39644 non-null  float64\n",
      " 26  kw_max_avg                     39644 non-null  float64\n",
      " 27  kw_avg_avg                     39644 non-null  float64\n",
      " 28  self_reference_min_shares      39644 non-null  float64\n",
      " 29  self_reference_max_shares      39644 non-null  float64\n",
      " 30  self_reference_avg_sharess     39644 non-null  float64\n",
      " 31  weekday_is_monday              39644 non-null  float64\n",
      " 32  weekday_is_tuesday             39644 non-null  float64\n",
      " 33  weekday_is_wednesday           39644 non-null  float64\n",
      " 34  weekday_is_thursday            39644 non-null  float64\n",
      " 35  weekday_is_friday              39644 non-null  float64\n",
      " 36  weekday_is_saturday            39644 non-null  float64\n",
      " 37  weekday_is_sunday              39644 non-null  float64\n",
      " 38  is_weekend                     39644 non-null  float64\n",
      " 39  LDA_00                         39644 non-null  float64\n",
      " 40  LDA_01                         39644 non-null  float64\n",
      " 41  LDA_02                         39644 non-null  float64\n",
      " 42  LDA_03                         39644 non-null  float64\n",
      " 43  LDA_04                         39644 non-null  float64\n",
      " 44  global_subjectivity            39644 non-null  float64\n",
      " 45  global_sentiment_polarity      39644 non-null  float64\n",
      " 46  global_rate_positive_words     39644 non-null  float64\n",
      " 47  global_rate_negative_words     39644 non-null  float64\n",
      " 48  rate_positive_words            39644 non-null  float64\n",
      " 49  rate_negative_words            39644 non-null  float64\n",
      " 50  avg_positive_polarity          39644 non-null  float64\n",
      " 51  min_positive_polarity          39644 non-null  float64\n",
      " 52  max_positive_polarity          39644 non-null  float64\n",
      " 53  avg_negative_polarity          39644 non-null  float64\n",
      " 54  min_negative_polarity          39644 non-null  float64\n",
      " 55  max_negative_polarity          39644 non-null  float64\n",
      " 56  title_subjectivity             39644 non-null  float64\n",
      " 57  title_sentiment_polarity       39644 non-null  float64\n",
      " 58  abs_title_subjectivity         39644 non-null  float64\n",
      " 59  abs_title_sentiment_polarity   39644 non-null  float64\n",
      " 60  shares                         39644 non-null  int64  \n",
      "dtypes: float64(59), int64(1), object(1)\n",
      "memory usage: 18.5+ MB\n"
     ]
    }
   ],
   "source": [
    "df.info()"
   ]
  },
  {
   "cell_type": "code",
   "execution_count": 6,
   "id": "02a07197",
   "metadata": {},
   "outputs": [],
   "source": [
    "import seaborn as sns"
   ]
  },
  {
   "cell_type": "code",
   "execution_count": 8,
   "id": "6a2370e5",
   "metadata": {},
   "outputs": [
    {
     "data": {
      "text/plain": [
       "<Axes: xlabel='n_tokens_content', ylabel='Count'>"
      ]
     },
     "execution_count": 8,
     "metadata": {},
     "output_type": "execute_result"
    },
    {
     "data": {
      "image/png": "[encoded data removed]",
      "text/plain": [
       "<Figure size 640x480 with 1 Axes>"
      ]
     },
     "metadata": {},
     "output_type": "display_data"
    }
   ],
   "source": [
    "sns.histplot(df[\"n_tokens_content\"])"
   ]
  },
  {
   "cell_type": "code",
   "execution_count": 9,
   "id": "331f8adf",
   "metadata": {},
   "outputs": [
    {
     "data": {
      "text/plain": [
       "count    39644.000000\n",
       "mean       546.514731\n",
       "std        471.107508\n",
       "min          0.000000\n",
       "25%        246.000000\n",
       "50%        409.000000\n",
       "75%        716.000000\n",
       "max       8474.000000\n",
       "Name: n_tokens_content, dtype: float64"
      ]
     },
     "execution_count": 9,
     "metadata": {},
     "output_type": "execute_result"
    }
   ],
   "source": [
    "df[\"n_tokens_content\"].describe()"
   ]
  },
  {
   "cell_type": "code",
   "execution_count": 10,
   "id": "2f68bb08",
   "metadata": {},
   "outputs": [],
   "source": [
    "#use min max skewed"
   ]
  },
  {
   "cell_type": "code",
   "execution_count": 11,
   "id": "77647bb0",
   "metadata": {},
   "outputs": [],
   "source": [
    "#standard scaler, use the mean value - nicely distributed"
   ]
  },
  {
   "cell_type": "code",
   "execution_count": null,
   "id": "0b78bd68",
   "metadata": {},
   "outputs": [],
   "source": [
    "#l2 normalization - spars data (when there are lot of 'zero's in the dataset,  )"
   ]
  },
  {
   "cell_type": "code",
   "execution_count": 16,
   "id": "24be3ae8",
   "metadata": {},
   "outputs": [],
   "source": [
    "df[\"minmax\"] = preproc.minmax_scale(df[[\"n_tokens_content\"]])"
   ]
  },
  {
   "cell_type": "code",
   "execution_count": 17,
   "id": "72368621",
   "metadata": {},
   "outputs": [
    {
     "data": {
      "text/plain": [
       "0        0.025844\n",
       "1        0.030092\n",
       "2        0.024900\n",
       "3        0.062662\n",
       "4        0.126505\n",
       "           ...   \n",
       "39639    0.040831\n",
       "39640    0.038707\n",
       "39641    0.052160\n",
       "39642    0.080481\n",
       "39643    0.018527\n",
       "Name: minmax, Length: 39644, dtype: float64"
      ]
     },
     "execution_count": 17,
     "metadata": {},
     "output_type": "execute_result"
    }
   ],
   "source": [
    "df[\"minmax\"]"
   ]
  },
  {
   "cell_type": "code",
   "execution_count": null,
   "id": "81d52ef0",
   "metadata": {},
   "outputs": [],
   "source": []
  },
  {
   "cell_type": "code",
   "execution_count": 18,
   "id": "12a6c8d8",
   "metadata": {},
   "outputs": [],
   "source": [
    "df[\"standardize\"]=preproc.StandardScaler().fit_transform(df[[\"n_tokens_content\"]])"
   ]
  },
  {
   "cell_type": "code",
   "execution_count": null,
   "id": "0f28b96a",
   "metadata": {},
   "outputs": [],
   "source": []
  }
 ],
 "metadata": {
  "kernelspec": {
   "display_name": "Python 3 (ipykernel)",
   "language": "python",
   "name": "python3"
  },
  "language_info": {
   "codemirror_mode": {
    "name": "ipython",
    "version": 3
   },
   "file_extension": ".py",
   "mimetype": "text/x-python",
   "name": "python",
   "nbconvert_exporter": "python",
   "pygments_lexer": "ipython3",
   "version": "3.9.18"
  }
 },
 "nbformat": 4,
 "nbformat_minor": 5
}
