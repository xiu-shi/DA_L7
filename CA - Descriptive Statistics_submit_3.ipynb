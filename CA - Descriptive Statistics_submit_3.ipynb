{
 "cells": [
  {
   "cell_type": "markdown",
   "id": "22564640",
   "metadata": {},
   "source": [
    "The following table contains information about the freshwater withdrawal in Australia. The data is\n",
    "expressed in billion cubic meters. You are required to determine the type of data that this variable\n",
    "is, calculate central tendency metrics and variation metrics and explain the results\n",
    "\n"
   ]
  },
  {
   "cell_type": "code",
   "execution_count": 1,
   "id": "89153653",
   "metadata": {},
   "outputs": [],
   "source": [
    "import numpy as np\n",
    "import pandas as pd\n",
    "import statistics as stats\n",
    "import numpy as np\n",
    "import matplotlib.pyplot as plt\n",
    "import seaborn as sns"
   ]
  },
  {
   "cell_type": "code",
   "execution_count": 2,
   "id": "f9d679bf",
   "metadata": {},
   "outputs": [],
   "source": [
    "#Freshwater withdrawals from 1993 to 2020\n",
    "#years = list(range(1993, 2021))\n",
    "\n",
    "# unit of measure total (billion cubic meters )\n",
    "\n",
    "water_withdrawals = [18.5502, 21.1102, 19.8502, 22.1602, 21.9282, 21.8222, 21.7162, 21.65924, 21.534, 20.8338,\n",
    "                     20.1336, 19.4334, 18.7332, 17.55665, 16.3801, 15.20355, 14.027, 13.175, 13.215, 15.868,\n",
    "                     19.148, 18.463, 9.22, 10.623, 12.05864137, 12.33, 10.53, 8.64]\n",
    "\n",
    "\n",
    "#Create a DataFrame\n",
    "water_withdrawals_df = pd.DataFrame(water_withdrawals, columns=['water_withdrawals'])"
   ]
  },
  {
   "cell_type": "code",
   "execution_count": 3,
   "id": "92931899",
   "metadata": {},
   "outputs": [],
   "source": [
    "# Calculate central tendency metrics\n",
    "\n",
    "water_withdrawals_mean = water_withdrawals_df['water_withdrawals'].mean()\n",
    "water_withdrawals_median = water_withdrawals_df['water_withdrawals'].median()\n",
    "water_withdrawals_mode = water_withdrawals_df['water_withdrawals'].mode()\n",
    "\n",
    "water_withdrawals_max = water_withdrawals_df['water_withdrawals'].max()\n",
    "water_withdrawals_min = water_withdrawals_df['water_withdrawals'].min()\n",
    "water_withdrawals_range = water_withdrawals_max - water_withdrawals_min\n",
    "water_withdrawals_std = np.std(water_withdrawals_df['water_withdrawals'])"
   ]
  },
  {
   "cell_type": "code",
   "execution_count": 4,
   "id": "fc77e70f",
   "metadata": {},
   "outputs": [
    {
     "name": "stdout",
     "output_type": "stream",
     "text": [
      "Mean: 16.99652076321428%\n",
      "Median: 18.5066%\n",
      "Mode: \n",
      "0      8.640000\n",
      "1      9.220000\n",
      "2     10.530000\n",
      "3     10.623000\n",
      "4     12.058641\n",
      "5     12.330000\n",
      "6     13.175000\n",
      "7     13.215000\n",
      "8     14.027000\n",
      "9     15.203550\n",
      "10    15.868000\n",
      "11    16.380100\n",
      "12    17.556650\n",
      "13    18.463000\n",
      "14    18.550200\n",
      "15    18.733200\n",
      "16    19.148000\n",
      "17    19.433400\n",
      "18    19.850200\n",
      "19    20.133600\n",
      "20    20.833800\n",
      "21    21.110200\n",
      "22    21.534000\n",
      "23    21.659240\n",
      "24    21.716200\n",
      "25    21.822200\n",
      "26    21.928200\n",
      "27    22.160200\n",
      "Name: water_withdrawals, dtype: float64%\n",
      "Max: 22.1602%\n",
      "Min: 8.64%\n",
      "Range: 13.520199999999999%\n",
      "Standard Deviations: 4.261385171599532%\n"
     ]
    }
   ],
   "source": [
    "print(f\"Mean: {water_withdrawals_mean}%\")\n",
    "print(f\"Median: {water_withdrawals_median}%\")\n",
    "print(f\"Mode: \\n{water_withdrawals_mode}%\")\n",
    "\n",
    "print(f\"Max: {water_withdrawals_max}%\")\n",
    "print(f\"Min: {water_withdrawals_min}%\")\n",
    "print(f\"Range: {water_withdrawals_range}%\")\n",
    "print(f\"Standard Deviations: {water_withdrawals_std}%\")"
   ]
  }
 ],
 "metadata": {
  "kernelspec": {
   "display_name": "Python 3 (ipykernel)",
   "language": "python",
   "name": "python3"
  },
  "language_info": {
   "codemirror_mode": {
    "name": "ipython",
    "version": 3
   },
   "file_extension": ".py",
   "mimetype": "text/x-python",
   "name": "python",
   "nbconvert_exporter": "python",
   "pygments_lexer": "ipython3",
   "version": "3.11.4"
  }
 },
 "nbformat": 4,
 "nbformat_minor": 5
}
