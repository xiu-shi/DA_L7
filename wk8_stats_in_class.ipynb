{
 "cells": [
  {
   "cell_type": "markdown",
   "id": "01e25c95",
   "metadata": {},
   "source": [
    "Exercise 1\n",
    "A company claims that their machines produce screws with an average length of 5 cm. You suspect\n",
    "that this might not be accurate. To test this claim, you randomly select a sample of 30 screws\n",
    "produced by these machines and measure their lengths. The sample mean length is found to be 4.95\n",
    "cm, and from past data, it is known that the populaƟon standard deviaƟon is 0.2 cm.\n",
    "Perform a hypothesis test to determine whether the average length of screws produced by these\n",
    "machines is different from the claimed 5 cm. Use a 5% significance level for the test."
   ]
  },
  {
   "cell_type": "markdown",
   "id": "9a8f9dd1",
   "metadata": {},
   "source": [
    "x = lenght of screws in cm"
   ]
  },
  {
   "cell_type": "code",
   "execution_count": null,
   "id": "11eb7e22",
   "metadata": {},
   "outputs": [],
   "source": []
  },
  {
   "cell_type": "code",
   "execution_count": null,
   "id": "b42334ab",
   "metadata": {},
   "outputs": [],
   "source": []
  },
  {
   "cell_type": "code",
   "execution_count": 1,
   "id": "59ef744d",
   "metadata": {},
   "outputs": [],
   "source": [
    "import pandas as pd\n",
    "import numpy as np\n",
    "import seaborn as sns\n",
    "import matplotlib.pyplot as plt\n",
    "import scipy.stats as stats\n",
    "from statsmodels.stats import weightstats as stests"
   ]
  },
  {
   "cell_type": "code",
   "execution_count": null,
   "id": "52196d44",
   "metadata": {},
   "outputs": [],
   "source": [
    "mu "
   ]
  }
 ],
 "metadata": {
  "kernelspec": {
   "display_name": "Python 3 (ipykernel)",
   "language": "python",
   "name": "python3"
  },
  "language_info": {
   "codemirror_mode": {
    "name": "ipython",
    "version": 3
   },
   "file_extension": ".py",
   "mimetype": "text/x-python",
   "name": "python",
   "nbconvert_exporter": "python",
   "pygments_lexer": "ipython3",
   "version": "3.11.4"
  }
 },
 "nbformat": 4,
 "nbformat_minor": 5
}
