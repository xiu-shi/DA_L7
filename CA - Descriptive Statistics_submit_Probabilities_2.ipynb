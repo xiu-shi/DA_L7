{
 "cells": [
  {
   "cell_type": "markdown",
   "id": "65a127ae",
   "metadata": {},
   "source": [
    "Probabilities 2. The annual freshwater withdrawal in Sydney is normally distributed with an average of 10.5\n",
    "billion cubic meters (bcm) with a standard deviation of 2 bcm. If 4 years are picked randomly,\n",
    "what is the probability that in two years the annual freshwater withdrawal was greater than 11\n",
    "bcm? "
   ]
  },
  {
   "cell_type": "code",
   "execution_count": 1,
   "id": "24ccf999",
   "metadata": {},
   "outputs": [],
   "source": [
    "import numpy as np\n",
    "import pandas as pd\n",
    "import statistics as stats\n",
    "import math\n",
    "from scipy.stats import norm\n",
    "from scipy.stats import binom"
   ]
  },
  {
   "cell_type": "code",
   "execution_count": 2,
   "id": "0f35a7cd",
   "metadata": {},
   "outputs": [],
   "source": [
    "# z = 0.25\n",
    "p = ( 11 - 10.5 ) / 2\n",
    "one_year_chance = 1 - norm.cdf(p)\n",
    "total_years = 4\n",
    "random_years = 2"
   ]
  },
  {
   "cell_type": "code",
   "execution_count": 3,
   "id": "86890f8b",
   "metadata": {},
   "outputs": [],
   "source": [
    "#print(prob)"
   ]
  },
  {
   "cell_type": "code",
   "execution_count": 4,
   "id": "f4845a17",
   "metadata": {},
   "outputs": [],
   "source": [
    "result = binom.pmf(random_years,total_years, one_year_chance)"
   ]
  },
  {
   "cell_type": "code",
   "execution_count": 5,
   "id": "f6768542",
   "metadata": {},
   "outputs": [
    {
     "name": "stdout",
     "output_type": "stream",
     "text": [
      "The probability of 2 years out of 4 years will consume freshwater greater than 11 bcm is0.34634073294108836.\n"
     ]
    }
   ],
   "source": [
    "print(f\"The probability of 2 years out of 4 years will consume freshwater greater than 11 bcm is {result}.\")"
   ]
  }
 ],
 "metadata": {
  "kernelspec": {
   "display_name": "Python 3 (ipykernel)",
   "language": "python",
   "name": "python3"
  },
  "language_info": {
   "codemirror_mode": {
    "name": "ipython",
    "version": 3
   },
   "file_extension": ".py",
   "mimetype": "text/x-python",
   "name": "python",
   "nbconvert_exporter": "python",
   "pygments_lexer": "ipython3",
   "version": "3.11.4"
  }
 },
 "nbformat": 4,
 "nbformat_minor": 5
}
