{
 "cells": [
  {
   "cell_type": "markdown",
   "id": "aaf4525d",
   "metadata": {},
   "source": [
    "Probabilities 1. It is known that in the state of Victoria, 4% of the total residential properties claim not to have access to freshwater withdrawal in their houses. In an analysis done in a subgroup last year, it\n",
    "is shown that, in average, 1 property did not have access to freshwater withdrawal. How many\n",
    "residential properties were taken to reach this result?\n",
    "\n",
    "\n",
    "My understanding: \n",
    "\n",
    "4%, as 4 out of every 100 residential properties, as 0.04\n",
    "1 average residential property \n",
    "To calculate the total number of residential properties 1 / 0.04\n"
   ]
  },
  {
   "cell_type": "code",
   "execution_count": 1,
   "id": "e35655ad",
   "metadata": {},
   "outputs": [
    {
     "name": "stdout",
     "output_type": "stream",
     "text": [
      "The number of residential properties surveyed is 25.0.\n"
     ]
    }
   ],
   "source": [
    "avg_resi = 1\n",
    "percentage = 4\n",
    "\n",
    "percentage_to_float = percentage / 100\n",
    "total_resi_survyed = avg_resi / percentage_to_float\n",
    "print(f\"The number of residential properties surveyed is {total_resi_survyed}.\")"
   ]
  },
  {
   "cell_type": "code",
   "execution_count": null,
   "id": "9b8f3ca0",
   "metadata": {},
   "outputs": [],
   "source": []
  }
 ],
 "metadata": {
  "kernelspec": {
   "display_name": "Python 3 (ipykernel)",
   "language": "python",
   "name": "python3"
  },
  "language_info": {
   "codemirror_mode": {
    "name": "ipython",
    "version": 3
   },
   "file_extension": ".py",
   "mimetype": "text/x-python",
   "name": "python",
   "nbconvert_exporter": "python",
   "pygments_lexer": "ipython3",
   "version": "3.11.4"
  }
 },
 "nbformat": 4,
 "nbformat_minor": 5
}
