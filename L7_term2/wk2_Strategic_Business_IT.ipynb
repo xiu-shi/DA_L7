{
 "cells": [
  {
   "cell_type": "markdown",
   "id": "5eff8203",
   "metadata": {},
   "source": [
    "## week2 Neil Doyle"
   ]
  },
  {
   "cell_type": "code",
   "execution_count": null,
   "id": "9a4bba89-e512-4ccf-bd7e-a393ea27f619",
   "metadata": {},
   "outputs": [],
   "source": []
  }
 ],
 "metadata": {
  "kernelspec": {
   "display_name": "Python 3 (ipykernel)",
   "language": "python",
   "name": "python3"
  },
  "language_info": {
   "codemirror_mode": {
    "name": "ipython",
    "version": 3
   },
   "file_extension": ".py",
   "mimetype": "text/x-python",
   "name": "python",
   "nbconvert_exporter": "python",
   "pygments_lexer": "ipython3",
   "version": "3.11.5"
  }
 },
 "nbformat": 4,
 "nbformat_minor": 5
}
