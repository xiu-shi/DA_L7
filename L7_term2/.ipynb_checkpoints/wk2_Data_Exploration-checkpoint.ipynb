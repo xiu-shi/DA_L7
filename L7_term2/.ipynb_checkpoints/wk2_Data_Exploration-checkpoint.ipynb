{
 "cells": [
  {
   "cell_type": "markdown",
   "metadata": {},
   "source": [
    "# Data Exploration Code"
   ]
  },
  {
   "cell_type": "markdown",
   "metadata": {},
   "source": [
    "### Importing the required libraries"
   ]
  },
  {
   "cell_type": "code",
   "execution_count": 1,
   "metadata": {},
   "outputs": [],
   "source": [
    "# import all libraries\n",
    "import pandas as pd\n",
    "import numpy as np\n",
    "import matplotlib.pyplot as plt\n",
    "import seaborn as sns\n",
    "\n",
    "#import statistics as stats\n"
   ]
  },
  {
   "cell_type": "markdown",
   "metadata": {},
   "source": [
    "### Loading the data"
   ]
  },
  {
   "cell_type": "code",
   "execution_count": 2,
   "metadata": {},
   "outputs": [
    {
     "name": "stdout",
     "output_type": "stream",
     "text": [
      "<class 'pandas.core.frame.DataFrame'>\n",
      "RangeIndex: 530 entries, 0 to 529\n",
      "Data columns (total 17 columns):\n",
      " #   Column            Non-Null Count  Dtype  \n",
      "---  ------            --------------  -----  \n",
      " 0   Unnamed: 0        530 non-null    int64  \n",
      " 1   name              530 non-null    object \n",
      " 2   album             530 non-null    object \n",
      " 3   release_date      530 non-null    object \n",
      " 4   track_number      530 non-null    int64  \n",
      " 5   id                530 non-null    object \n",
      " 6   uri               530 non-null    object \n",
      " 7   acousticness      520 non-null    float64\n",
      " 8   danceability      522 non-null    float64\n",
      " 9   energy            526 non-null    float64\n",
      " 10  instrumentalness  522 non-null    float64\n",
      " 11  liveness          525 non-null    float64\n",
      " 12  loudness          522 non-null    float64\n",
      " 13  speechiness       515 non-null    float64\n",
      " 14  valence           523 non-null    float64\n",
      " 15  popularity        522 non-null    float64\n",
      " 16  duration_ms       530 non-null    int64  \n",
      "dtypes: float64(9), int64(3), object(5)\n",
      "memory usage: 70.5+ KB\n"
     ]
    }
   ],
   "source": [
    "#reading the data frame\n",
    "df = pd.read_csv('/Users/eupirate/Documents/DA_L7/L7_term2/Data Exploration - Week2/TailorSwift.csv')\n",
    "df.info()"
   ]
  },
  {
   "cell_type": "markdown",
   "metadata": {},
   "source": [
    "### Summary Statistics"
   ]
  },
  {
   "cell_type": "markdown",
   "metadata": {},
   "source": [
    "##### For more information:  https://pandas.pydata.org/docs/reference/api/pandas.DataFrame.describe.html"
   ]
  },
  {
   "cell_type": "code",
   "execution_count": 3,
   "metadata": {},
   "outputs": [
    {
     "data": {
      "text/html": [
       "<div>\n",
       "<style scoped>\n",
       "    .dataframe tbody tr th:only-of-type {\n",
       "        vertical-align: middle;\n",
       "    }\n",
       "\n",
       "    .dataframe tbody tr th {\n",
       "        vertical-align: top;\n",
       "    }\n",
       "\n",
       "    .dataframe thead th {\n",
       "        text-align: right;\n",
       "    }\n",
       "</style>\n",
       "<table border=\"1\" class=\"dataframe\">\n",
       "  <thead>\n",
       "    <tr style=\"text-align: right;\">\n",
       "      <th></th>\n",
       "      <th>Unnamed: 0</th>\n",
       "      <th>track_number</th>\n",
       "      <th>acousticness</th>\n",
       "      <th>danceability</th>\n",
       "      <th>energy</th>\n",
       "      <th>instrumentalness</th>\n",
       "      <th>liveness</th>\n",
       "      <th>loudness</th>\n",
       "      <th>speechiness</th>\n",
       "      <th>valence</th>\n",
       "      <th>popularity</th>\n",
       "      <th>duration_ms</th>\n",
       "    </tr>\n",
       "  </thead>\n",
       "  <tbody>\n",
       "    <tr>\n",
       "      <th>count</th>\n",
       "      <td>530.000000</td>\n",
       "      <td>530.000000</td>\n",
       "      <td>520.000000</td>\n",
       "      <td>522.000000</td>\n",
       "      <td>526.000000</td>\n",
       "      <td>522.000000</td>\n",
       "      <td>525.000000</td>\n",
       "      <td>522.000000</td>\n",
       "      <td>515.000000</td>\n",
       "      <td>523.000000</td>\n",
       "      <td>522.000000</td>\n",
       "      <td>530.000000</td>\n",
       "    </tr>\n",
       "    <tr>\n",
       "      <th>mean</th>\n",
       "      <td>264.500000</td>\n",
       "      <td>11.184906</td>\n",
       "      <td>0.317421</td>\n",
       "      <td>0.585918</td>\n",
       "      <td>0.577690</td>\n",
       "      <td>0.003722</td>\n",
       "      <td>0.163847</td>\n",
       "      <td>-7.227226</td>\n",
       "      <td>0.071616</td>\n",
       "      <td>0.397688</td>\n",
       "      <td>61.086207</td>\n",
       "      <td>239978.624528</td>\n",
       "    </tr>\n",
       "    <tr>\n",
       "      <th>std</th>\n",
       "      <td>153.142091</td>\n",
       "      <td>7.981060</td>\n",
       "      <td>0.323927</td>\n",
       "      <td>0.112688</td>\n",
       "      <td>0.188987</td>\n",
       "      <td>0.032521</td>\n",
       "      <td>0.142890</td>\n",
       "      <td>3.815540</td>\n",
       "      <td>0.263137</td>\n",
       "      <td>0.200789</td>\n",
       "      <td>15.573189</td>\n",
       "      <td>46119.983031</td>\n",
       "    </tr>\n",
       "    <tr>\n",
       "      <th>min</th>\n",
       "      <td>0.000000</td>\n",
       "      <td>1.000000</td>\n",
       "      <td>0.000184</td>\n",
       "      <td>0.243000</td>\n",
       "      <td>0.118000</td>\n",
       "      <td>0.000000</td>\n",
       "      <td>0.035700</td>\n",
       "      <td>-17.932000</td>\n",
       "      <td>0.023100</td>\n",
       "      <td>0.037400</td>\n",
       "      <td>30.000000</td>\n",
       "      <td>83253.000000</td>\n",
       "    </tr>\n",
       "    <tr>\n",
       "      <th>25%</th>\n",
       "      <td>132.250000</td>\n",
       "      <td>5.000000</td>\n",
       "      <td>0.036925</td>\n",
       "      <td>0.516750</td>\n",
       "      <td>0.444000</td>\n",
       "      <td>0.000000</td>\n",
       "      <td>0.096500</td>\n",
       "      <td>-9.204750</td>\n",
       "      <td>0.030400</td>\n",
       "      <td>0.229000</td>\n",
       "      <td>48.000000</td>\n",
       "      <td>211813.000000</td>\n",
       "    </tr>\n",
       "    <tr>\n",
       "      <th>50%</th>\n",
       "      <td>264.500000</td>\n",
       "      <td>10.000000</td>\n",
       "      <td>0.166000</td>\n",
       "      <td>0.595500</td>\n",
       "      <td>0.595500</td>\n",
       "      <td>0.000002</td>\n",
       "      <td>0.115000</td>\n",
       "      <td>-6.958000</td>\n",
       "      <td>0.037300</td>\n",
       "      <td>0.383000</td>\n",
       "      <td>66.000000</td>\n",
       "      <td>235273.000000</td>\n",
       "    </tr>\n",
       "    <tr>\n",
       "      <th>75%</th>\n",
       "      <td>396.750000</td>\n",
       "      <td>15.000000</td>\n",
       "      <td>0.641000</td>\n",
       "      <td>0.653000</td>\n",
       "      <td>0.730000</td>\n",
       "      <td>0.000051</td>\n",
       "      <td>0.163000</td>\n",
       "      <td>-5.338500</td>\n",
       "      <td>0.056050</td>\n",
       "      <td>0.535000</td>\n",
       "      <td>73.000000</td>\n",
       "      <td>260361.000000</td>\n",
       "    </tr>\n",
       "    <tr>\n",
       "      <th>max</th>\n",
       "      <td>529.000000</td>\n",
       "      <td>46.000000</td>\n",
       "      <td>0.971000</td>\n",
       "      <td>0.897000</td>\n",
       "      <td>0.950000</td>\n",
       "      <td>0.488000</td>\n",
       "      <td>0.931000</td>\n",
       "      <td>20.980000</td>\n",
       "      <td>5.000000</td>\n",
       "      <td>0.943000</td>\n",
       "      <td>98.000000</td>\n",
       "      <td>613026.000000</td>\n",
       "    </tr>\n",
       "  </tbody>\n",
       "</table>\n",
       "</div>"
      ],
      "text/plain": [
       "       Unnamed: 0  track_number  acousticness  danceability      energy  \\\n",
       "count  530.000000    530.000000    520.000000    522.000000  526.000000   \n",
       "mean   264.500000     11.184906      0.317421      0.585918    0.577690   \n",
       "std    153.142091      7.981060      0.323927      0.112688    0.188987   \n",
       "min      0.000000      1.000000      0.000184      0.243000    0.118000   \n",
       "25%    132.250000      5.000000      0.036925      0.516750    0.444000   \n",
       "50%    264.500000     10.000000      0.166000      0.595500    0.595500   \n",
       "75%    396.750000     15.000000      0.641000      0.653000    0.730000   \n",
       "max    529.000000     46.000000      0.971000      0.897000    0.950000   \n",
       "\n",
       "       instrumentalness    liveness    loudness  speechiness     valence  \\\n",
       "count        522.000000  525.000000  522.000000   515.000000  523.000000   \n",
       "mean           0.003722    0.163847   -7.227226     0.071616    0.397688   \n",
       "std            0.032521    0.142890    3.815540     0.263137    0.200789   \n",
       "min            0.000000    0.035700  -17.932000     0.023100    0.037400   \n",
       "25%            0.000000    0.096500   -9.204750     0.030400    0.229000   \n",
       "50%            0.000002    0.115000   -6.958000     0.037300    0.383000   \n",
       "75%            0.000051    0.163000   -5.338500     0.056050    0.535000   \n",
       "max            0.488000    0.931000   20.980000     5.000000    0.943000   \n",
       "\n",
       "       popularity    duration_ms  \n",
       "count  522.000000     530.000000  \n",
       "mean    61.086207  239978.624528  \n",
       "std     15.573189   46119.983031  \n",
       "min     30.000000   83253.000000  \n",
       "25%     48.000000  211813.000000  \n",
       "50%     66.000000  235273.000000  \n",
       "75%     73.000000  260361.000000  \n",
       "max     98.000000  613026.000000  "
      ]
     },
     "execution_count": 3,
     "metadata": {},
     "output_type": "execute_result"
    }
   ],
   "source": [
    "#describe the data\n",
    "df.describe()"
   ]
  },
  {
   "cell_type": "markdown",
   "metadata": {},
   "source": [
    "### Checking the range of non-zero values"
   ]
  },
  {
   "attachments": {},
   "cell_type": "markdown",
   "metadata": {},
   "source": [
    "### acousticness\n",
    "##### Songs with higher acousticness are more likely to use acoustic and non-electronic instruments. Acousticness is measured on a scale of 0 (not coustic) to 100 (very acoustic)"
   ]
  },
  {
   "cell_type": "code",
   "execution_count": 4,
   "metadata": {},
   "outputs": [
    {
     "name": "stdout",
     "output_type": "stream",
     "text": [
      "Acousticness: min0.000184,max0.971,count520\n"
     ]
    }
   ],
   "source": [
    "# checking the impact of zero values\n",
    "dtaux = df.loc[df[\"acousticness\"] > 0, \"acousticness\"]\n",
    "print(\"Acousticness: min{},max{},count{}\".format(dtaux.min(),dtaux.max(),dtaux.count()))"
   ]
  },
  {
   "attachments": {},
   "cell_type": "markdown",
   "metadata": {},
   "source": [
    "#### instrumentalness\n",
    "##### place your comments here"
   ]
  },
  {
   "cell_type": "code",
   "execution_count": 5,
   "metadata": {},
   "outputs": [
    {
     "name": "stdout",
     "output_type": "stream",
     "text": [
      "Instrumentalness: min1e-06,max0.488,count297\n"
     ]
    }
   ],
   "source": [
    "# checking the impact of zero values\n",
    "dtaux = df.loc[df[\"instrumentalness\"] > 0, \"instrumentalness\"]\n",
    "print(\"Instrumentalness: min{},max{},count{}\".format(dtaux.min(),dtaux.max(),dtaux.count()))"
   ]
  },
  {
   "cell_type": "markdown",
   "metadata": {},
   "source": [
    "#### Check Albums"
   ]
  },
  {
   "cell_type": "code",
   "execution_count": 6,
   "metadata": {},
   "outputs": [
    {
     "name": "stdout",
     "output_type": "stream",
     "text": [
      "Number of Albums: 27\n"
     ]
    }
   ],
   "source": [
    "# counting categories\n",
    "df_album = df[\"album\"].nunique()\n",
    "print(\"Number of Albums:\",df_album)"
   ]
  },
  {
   "cell_type": "markdown",
   "metadata": {},
   "source": [
    "#### Checking some Features - Boxplot"
   ]
  },
  {
   "cell_type": "code",
   "execution_count": 7,
   "metadata": {},
   "outputs": [],
   "source": [
    "# duration \n"
   ]
  },
  {
   "cell_type": "code",
   "execution_count": 8,
   "metadata": {},
   "outputs": [],
   "source": [
    "# popularity \n",
    "\n"
   ]
  },
  {
   "cell_type": "code",
   "execution_count": 9,
   "metadata": {},
   "outputs": [],
   "source": [
    "#describe the most important column\n"
   ]
  },
  {
   "cell_type": "markdown",
   "metadata": {},
   "source": [
    "### Checking for missing values"
   ]
  },
  {
   "cell_type": "code",
   "execution_count": 10,
   "metadata": {},
   "outputs": [],
   "source": [
    "# check null values\n"
   ]
  },
  {
   "cell_type": "markdown",
   "metadata": {},
   "source": [
    "### Checking outliers "
   ]
  },
  {
   "cell_type": "code",
   "execution_count": 11,
   "metadata": {},
   "outputs": [],
   "source": [
    "# checkin outliers for all columns - using boxplot\n"
   ]
  },
  {
   "cell_type": "markdown",
   "metadata": {},
   "source": [
    "### Visualising zero values"
   ]
  },
  {
   "cell_type": "code",
   "execution_count": 12,
   "metadata": {
    "scrolled": true
   },
   "outputs": [],
   "source": [
    "# code using heatmap\n",
    "\n"
   ]
  },
  {
   "cell_type": "markdown",
   "metadata": {},
   "source": [
    "### Visualising the distribution\n"
   ]
  },
  {
   "cell_type": "code",
   "execution_count": 13,
   "metadata": {},
   "outputs": [],
   "source": [
    "# checking the distribution of popularity\n"
   ]
  },
  {
   "cell_type": "markdown",
   "metadata": {},
   "source": [
    "#### Histogram"
   ]
  },
  {
   "cell_type": "code",
   "execution_count": 14,
   "metadata": {},
   "outputs": [],
   "source": [
    "# checking the distribution of popularity - histogram\n"
   ]
  },
  {
   "cell_type": "markdown",
   "metadata": {},
   "source": [
    "### Data Treatment "
   ]
  },
  {
   "cell_type": "code",
   "execution_count": 15,
   "metadata": {},
   "outputs": [],
   "source": [
    "## save all columns\n",
    "\n",
    "# making a copy of the dataset \n",
    "\n",
    "\n",
    "# replate the NA columns selected with zeros\n"
   ]
  },
  {
   "cell_type": "code",
   "execution_count": 16,
   "metadata": {},
   "outputs": [],
   "source": [
    "# check null values\n",
    "\n"
   ]
  },
  {
   "cell_type": "code",
   "execution_count": 17,
   "metadata": {},
   "outputs": [],
   "source": [
    "## visualising missing values\n"
   ]
  },
  {
   "cell_type": "markdown",
   "metadata": {},
   "source": [
    "#### Comparing both Datasets"
   ]
  },
  {
   "cell_type": "code",
   "execution_count": 18,
   "metadata": {},
   "outputs": [],
   "source": [
    "# describing the original dataframe\n",
    "\n"
   ]
  },
  {
   "cell_type": "code",
   "execution_count": 19,
   "metadata": {},
   "outputs": [],
   "source": [
    "# describing the treated dataframe\n"
   ]
  },
  {
   "cell_type": "markdown",
   "metadata": {},
   "source": [
    "#### Exploring Missing Values"
   ]
  },
  {
   "cell_type": "code",
   "execution_count": 20,
   "metadata": {},
   "outputs": [],
   "source": [
    "### checking popularity missing data\n"
   ]
  },
  {
   "cell_type": "code",
   "execution_count": 21,
   "metadata": {},
   "outputs": [],
   "source": [
    "### checking loudness missing data\n"
   ]
  },
  {
   "cell_type": "code",
   "execution_count": 22,
   "metadata": {},
   "outputs": [],
   "source": [
    "### checking loudness outliers \n"
   ]
  },
  {
   "cell_type": "markdown",
   "metadata": {},
   "source": [
    "### Drop all incomplete cases"
   ]
  },
  {
   "cell_type": "code",
   "execution_count": 23,
   "metadata": {},
   "outputs": [],
   "source": [
    "#copy the dataset\n",
    "\n",
    "## drop all na values\n",
    "\n",
    "##describe the dataset\n",
    "\n"
   ]
  },
  {
   "cell_type": "markdown",
   "metadata": {},
   "source": [
    "### Impute with the median"
   ]
  },
  {
   "cell_type": "code",
   "execution_count": 24,
   "metadata": {},
   "outputs": [],
   "source": [
    "#copy the dataset\n",
    "\n",
    "#replace NA by median\n",
    "\n"
   ]
  },
  {
   "cell_type": "code",
   "execution_count": 25,
   "metadata": {},
   "outputs": [],
   "source": [
    "# check if there is any null value \n"
   ]
  },
  {
   "cell_type": "code",
   "execution_count": 26,
   "metadata": {},
   "outputs": [],
   "source": [
    "# describe the new dataset \n"
   ]
  },
  {
   "cell_type": "code",
   "execution_count": 27,
   "metadata": {},
   "outputs": [],
   "source": [
    "## describe the previous and compare them \n"
   ]
  },
  {
   "cell_type": "markdown",
   "metadata": {},
   "source": [
    "#### Input using SimpleImputer"
   ]
  },
  {
   "cell_type": "code",
   "execution_count": 28,
   "metadata": {},
   "outputs": [],
   "source": [
    "### https://scikit-learn.org/stable/modules/generated/sklearn.impute.SimpleImputer.html"
   ]
  },
  {
   "cell_type": "code",
   "execution_count": 29,
   "metadata": {},
   "outputs": [],
   "source": [
    "## copy the dataset\n",
    "\n",
    "## perfomr simple imputer \n",
    "\n"
   ]
  },
  {
   "cell_type": "code",
   "execution_count": 30,
   "metadata": {},
   "outputs": [],
   "source": [
    "##check null values\n"
   ]
  },
  {
   "cell_type": "code",
   "execution_count": 31,
   "metadata": {},
   "outputs": [],
   "source": [
    "## describe the treated dataset \n"
   ]
  },
  {
   "cell_type": "markdown",
   "metadata": {},
   "source": [
    "### Visual data exploration methods - after data treatment "
   ]
  },
  {
   "cell_type": "markdown",
   "metadata": {},
   "source": [
    "#### Combining both graphs"
   ]
  },
  {
   "cell_type": "code",
   "execution_count": 32,
   "metadata": {},
   "outputs": [],
   "source": [
    "\n",
    "## plot the treated and the original dataset popularity \n"
   ]
  },
  {
   "cell_type": "code",
   "execution_count": 33,
   "metadata": {},
   "outputs": [],
   "source": [
    "\n",
    "# perform a grid with all columns treated \n",
    "\n"
   ]
  },
  {
   "cell_type": "markdown",
   "metadata": {},
   "source": [
    "#### Correlation matrix"
   ]
  },
  {
   "cell_type": "code",
   "execution_count": 34,
   "metadata": {},
   "outputs": [],
   "source": [
    "# check potential relationships using the treated data \n"
   ]
  },
  {
   "cell_type": "code",
   "execution_count": 35,
   "metadata": {},
   "outputs": [],
   "source": [
    "### what else can be done?"
   ]
  },
  {
   "cell_type": "code",
   "execution_count": null,
   "metadata": {},
   "outputs": [],
   "source": []
  },
  {
   "cell_type": "code",
   "execution_count": null,
   "metadata": {},
   "outputs": [],
   "source": []
  },
  {
   "cell_type": "code",
   "execution_count": null,
   "metadata": {},
   "outputs": [],
   "source": []
  },
  {
   "cell_type": "code",
   "execution_count": null,
   "metadata": {},
   "outputs": [],
   "source": []
  }
 ],
 "metadata": {
  "kernelspec": {
   "display_name": "Python 3 (ipykernel)",
   "language": "python",
   "name": "python3"
  },
  "language_info": {
   "codemirror_mode": {
    "name": "ipython",
    "version": 3
   },
   "file_extension": ".py",
   "mimetype": "text/x-python",
   "name": "python",
   "nbconvert_exporter": "python",
   "pygments_lexer": "ipython3",
   "version": "3.11.5"
  }
 },
 "nbformat": 4,
 "nbformat_minor": 4
}
