{
 "cells": [
  {
   "cell_type": "markdown",
   "id": "78c73b3f-42c6-4a9f-b408-0f1e404d85f4",
   "metadata": {},
   "source": [
    "## Practice 2- Handling Missing Data / Feature Engineering / Encoding"
   ]
  },
  {
   "cell_type": "code",
   "execution_count": 1,
   "id": "92013223-765b-433c-9882-9a13ff036225",
   "metadata": {},
   "outputs": [],
   "source": [
    "\n",
    "## place the libraries here\n",
    "\n",
    "\n",
    "###  handlin missing  data\n",
    "\n",
    "\n",
    "### encoding \n"
   ]
  },
  {
   "cell_type": "code",
   "execution_count": 2,
   "id": "006222fa-cad5-40ba-ad89-0b57c023e368",
   "metadata": {},
   "outputs": [],
   "source": [
    "##read the dataframe"
   ]
  },
  {
   "cell_type": "code",
   "execution_count": 3,
   "id": "4cd9697c-66be-4c15-aed2-c9bc2b102be3",
   "metadata": {},
   "outputs": [],
   "source": [
    "##basic exploration "
   ]
  },
  {
   "cell_type": "code",
   "execution_count": 4,
   "id": "fa224307-5b0a-48d1-bd4d-484f86171ba5",
   "metadata": {},
   "outputs": [],
   "source": [
    "### 1 - Handling Missing Data\n",
    "### MNAR, MAR, MCR\n",
    "\n",
    "## what are the columns that require treatment?\n"
   ]
  },
  {
   "cell_type": "code",
   "execution_count": 13,
   "id": "4ca3d2c7-855e-4166-8eec-79a1aceb84c5",
   "metadata": {},
   "outputs": [],
   "source": [
    "\n"
   ]
  },
  {
   "cell_type": "code",
   "execution_count": 81,
   "id": "d95bfba7-fa53-468f-95de-b5c087afd6e3",
   "metadata": {},
   "outputs": [],
   "source": []
  },
  {
   "cell_type": "code",
   "execution_count": 88,
   "id": "6678617d-e7b4-4fc6-a4c2-a4b3c14adaca",
   "metadata": {},
   "outputs": [],
   "source": [
    "### 2 - Feature Engineering - Adding extra columns to enhance the analysis\n",
    "\n",
    "\n"
   ]
  },
  {
   "cell_type": "code",
   "execution_count": 94,
   "id": "ddb9ab7c-445f-438a-b610-533a7c85df0a",
   "metadata": {},
   "outputs": [],
   "source": [
    "### 3- Encoding = what fields would be useful for predictions \n",
    "### select the fields \n",
    "## apply the encoding technique covered \n"
   ]
  }
 ],
 "metadata": {
  "kernelspec": {
   "display_name": "Python 3 (ipykernel)",
   "language": "python",
   "name": "python3"
  },
  "language_info": {
   "codemirror_mode": {
    "name": "ipython",
    "version": 3
   },
   "file_extension": ".py",
   "mimetype": "text/x-python",
   "name": "python",
   "nbconvert_exporter": "python",
   "pygments_lexer": "ipython3",
   "version": "3.11.5"
  }
 },
 "nbformat": 4,
 "nbformat_minor": 5
}
