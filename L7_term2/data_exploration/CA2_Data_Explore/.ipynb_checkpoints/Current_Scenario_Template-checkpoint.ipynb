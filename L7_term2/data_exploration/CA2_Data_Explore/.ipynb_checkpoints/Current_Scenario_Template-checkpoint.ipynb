{
 "cells": [
  {
   "cell_type": "code",
   "execution_count": 47,
   "metadata": {},
   "outputs": [],
   "source": [
    "import pandas as pd\n",
    "import seaborn as sns\n",
    "\n",
    "from sklearn.preprocessing import LabelEncoder\n",
    "import matplotlib.pyplot as plt\n",
    "\n",
    "###  handlin missing  data\n",
    "from sklearn.impute import SimpleImputer\n",
    "\n",
    "### libraries for feature selection \n",
    "from scipy.stats import chi2_contingency\n",
    "from sklearn.feature_selection import chi2, f_regression\n",
    "from sklearn.feature_selection import SelectKBest\n",
    "\n",
    "##"
   ]
  },
  {
   "cell_type": "code",
   "execution_count": 48,
   "metadata": {},
   "outputs": [],
   "source": [
    "df_ml = pd.read_csv('ML_Data_Return.csv', na_values   = \"?\")"
   ]
  },
  {
   "cell_type": "code",
   "execution_count": 49,
   "metadata": {},
   "outputs": [
    {
     "name": "stdout",
     "output_type": "stream",
     "text": [
      "<class 'pandas.core.frame.DataFrame'>\n",
      "RangeIndex: 15634 entries, 0 to 15633\n",
      "Data columns (total 26 columns):\n",
      " #   Column            Non-Null Count  Dtype  \n",
      "---  ------            --------------  -----  \n",
      " 0   ID                15634 non-null  int64  \n",
      " 1   Entry ID          15634 non-null  int64  \n",
      " 2   Strategic Sale    15634 non-null  int64  \n",
      " 3   Destination       15038 non-null  object \n",
      " 4   Group             15634 non-null  int64  \n",
      " 5   Date              15634 non-null  object \n",
      " 6   Sequence          15634 non-null  int64  \n",
      " 7   Product           15634 non-null  int64  \n",
      " 8   Qty               15634 non-null  int64  \n",
      " 9   Total Value       15634 non-null  object \n",
      " 10  Unit Price        15634 non-null  float64\n",
      " 11  Planned Date      15634 non-null  object \n",
      " 12  Delivered Date    15315 non-null  object \n",
      " 13  TYPE              15634 non-null  object \n",
      " 14  Qty Delivered     15315 non-null  float64\n",
      " 15  Order Source      15634 non-null  object \n",
      " 16  Logistic Partner  15634 non-null  object \n",
      " 17  Deposit           15634 non-null  object \n",
      " 18  Replacement       15634 non-null  object \n",
      " 19  Market Demand     15634 non-null  int64  \n",
      " 20  Quarter           15634 non-null  object \n",
      " 21  Week              15634 non-null  int64  \n",
      " 22  Strateg Prod      15634 non-null  int64  \n",
      " 23  Strat Customer    15634 non-null  object \n",
      " 24  ABC               15634 non-null  object \n",
      " 25  Customer Group    15634 non-null  int64  \n",
      "dtypes: float64(2), int64(11), object(13)\n",
      "memory usage: 3.1+ MB\n"
     ]
    }
   ],
   "source": [
    "df_ml.info()"
   ]
  },
  {
   "cell_type": "code",
   "execution_count": 50,
   "metadata": {},
   "outputs": [],
   "source": [
    "df_ml_tr = df_ml.copy()"
   ]
  },
  {
   "cell_type": "code",
   "execution_count": 51,
   "metadata": {},
   "outputs": [
    {
     "data": {
      "text/plain": [
       "ID                    0\n",
       "Entry ID              0\n",
       "Strategic Sale        0\n",
       "Destination         596\n",
       "Group                 0\n",
       "Date                  0\n",
       "Sequence              0\n",
       "Product               0\n",
       "Qty                   0\n",
       "Total Value           0\n",
       "Unit Price            0\n",
       "Planned Date          0\n",
       "Delivered Date      319\n",
       "TYPE                  0\n",
       "Qty Delivered       319\n",
       "Order Source          0\n",
       "Logistic Partner      0\n",
       "Deposit               0\n",
       "Replacement           0\n",
       "Market Demand         0\n",
       "Quarter               0\n",
       "Week                  0\n",
       "Strateg Prod          0\n",
       "Strat Customer        0\n",
       "ABC                   0\n",
       "Customer Group        0\n",
       "dtype: int64"
      ]
     },
     "execution_count": 51,
     "metadata": {},
     "output_type": "execute_result"
    }
   ],
   "source": [
    "df_ml_tr.isnull().sum()"
   ]
  },
  {
   "cell_type": "code",
   "execution_count": 52,
   "metadata": {},
   "outputs": [],
   "source": [
    "#### CLEANING DATA - DROPPING ALL Null data\n"
   ]
  },
  {
   "cell_type": "code",
   "execution_count": null,
   "metadata": {},
   "outputs": [],
   "source": []
  },
  {
   "cell_type": "code",
   "execution_count": 53,
   "metadata": {},
   "outputs": [],
   "source": [
    "### describe the dataset and visualise - descriptive statistics \n"
   ]
  },
  {
   "cell_type": "code",
   "execution_count": 54,
   "metadata": {},
   "outputs": [],
   "source": [
    "#### Data Exploration / Visualisation \n",
    "###  some scatterplots  - set logaritm scale if necessary \n",
    "#g_rel.set(yscale=\"log\",xscale=\"log\") ## to observe outliers #\n"
   ]
  },
  {
   "cell_type": "code",
   "execution_count": 55,
   "metadata": {},
   "outputs": [],
   "source": [
    "\n",
    "#### records with value zero (10^0)\n",
    "# Check values zero "
   ]
  },
  {
   "cell_type": "code",
   "execution_count": null,
   "metadata": {},
   "outputs": [],
   "source": []
  },
  {
   "cell_type": "code",
   "execution_count": 56,
   "metadata": {},
   "outputs": [],
   "source": []
  },
  {
   "cell_type": "code",
   "execution_count": 57,
   "metadata": {},
   "outputs": [],
   "source": [
    "### date treatment \n",
    "df_ml_tr['Planned Date'] = pd.to_datetime(df_ml_tr['Planned Date'])\n",
    "df_ml_tr['Date'] = pd.to_datetime(df_ml_tr['Date'])\n",
    "df_ml_tr['Delivered Date'] = pd.to_datetime(df_ml_tr['Delivered Date'])\n"
   ]
  },
  {
   "cell_type": "code",
   "execution_count": 58,
   "metadata": {},
   "outputs": [],
   "source": [
    "### Values treatment \n",
    "df_ml_tr['Total Value '] = df_ml_tr['Total Value '].str.replace('$', '').str.replace(',', '')\n",
    "df_ml_tr['Total Value '] = df_ml_tr['Total Value '].astype(float)\n"
   ]
  },
  {
   "cell_type": "code",
   "execution_count": 59,
   "metadata": {},
   "outputs": [],
   "source": [
    "#### handling missing data \n",
    "\n",
    "#### impute the overall mean to zero prices\n"
   ]
  },
  {
   "cell_type": "code",
   "execution_count": 60,
   "metadata": {},
   "outputs": [],
   "source": [
    "## check the average of prices by product --- what would be the best practice here? \n"
   ]
  },
  {
   "cell_type": "code",
   "execution_count": null,
   "metadata": {},
   "outputs": [],
   "source": []
  },
  {
   "cell_type": "code",
   "execution_count": null,
   "metadata": {},
   "outputs": [],
   "source": []
  },
  {
   "cell_type": "code",
   "execution_count": 61,
   "metadata": {},
   "outputs": [],
   "source": [
    "#### handling missing data - Categories \n",
    "\n",
    "\n",
    "## impute zeros categories by most-frequent - ABC\n",
    "### Has ABC any relationship to any other variables?  what would be the best practice here? \n"
   ]
  },
  {
   "cell_type": "code",
   "execution_count": 62,
   "metadata": {},
   "outputs": [],
   "source": [
    "#### Encoding \n",
    "#### create categories for type cat columns \n",
    "\n",
    "#### encode all the object and convert as categories\n",
    "### df_ml_cat.select_dtypes(include=['object']).columns\n"
   ]
  },
  {
   "cell_type": "code",
   "execution_count": 63,
   "metadata": {},
   "outputs": [],
   "source": [
    "# Convert each categorical column to an integer / dummy variables \n"
   ]
  },
  {
   "cell_type": "code",
   "execution_count": 64,
   "metadata": {},
   "outputs": [],
   "source": [
    "#### Feature Selection  \n",
    "#### Select fields that contributes to the Return Prediction Model \n",
    "\n",
    "##using correlation \n",
    "### observe the correlation (heat map) what is possible to conclude?\n",
    "## IS correlation the best method for Future Selection? "
   ]
  },
  {
   "cell_type": "code",
   "execution_count": 65,
   "metadata": {},
   "outputs": [],
   "source": [
    "### select all relevant columns - example below ##\n",
    "columns  = ['ABC','Customer Group','Strateg Prod','Strategic Sale','Group','Product','Order Source','Logistic Partner','Deposit','Replacement','Week']\n",
    "\n",
    "## Using SelectKBest  \n",
    "## get all the relevant fields recommented by the model "
   ]
  },
  {
   "cell_type": "code",
   "execution_count": null,
   "metadata": {},
   "outputs": [],
   "source": []
  },
  {
   "cell_type": "code",
   "execution_count": 68,
   "metadata": {},
   "outputs": [],
   "source": [
    "############### here is the current dataframe used by the ML Return Model \n",
    "\n",
    "features_df_new = df_ml_cat[columns].iloc[:,filter]\n",
    "\n",
    "### final dataset processed with columns : \n",
    "#Customer Group \tGroup \tProduct \tDeposit \tWeek"
   ]
  },
  {
   "cell_type": "code",
   "execution_count": 67,
   "metadata": {},
   "outputs": [],
   "source": []
  },
  {
   "cell_type": "code",
   "execution_count": null,
   "metadata": {},
   "outputs": [],
   "source": [
    "### by creating extra columns in your improved code (Feature engineering) , what will be the change in your dataframe, any relevant change? \n",
    "#### test this hipothesis  in your improved code "
   ]
  }
 ],
 "metadata": {
  "kernelspec": {
   "display_name": "Python 3 (ipykernel)",
   "language": "python",
   "name": "python3"
  },
  "language_info": {
   "codemirror_mode": {
    "name": "ipython",
    "version": 3
   },
   "file_extension": ".py",
   "mimetype": "text/x-python",
   "name": "python",
   "nbconvert_exporter": "python",
   "pygments_lexer": "ipython3",
   "version": "3.11.5"
  }
 },
 "nbformat": 4,
 "nbformat_minor": 4
}
