{
 "cells": [
  {
   "cell_type": "code",
   "execution_count": 1,
   "id": "4da2a06e-2ed9-412d-9eb7-45aca8fe49ae",
   "metadata": {},
   "outputs": [
    {
     "ename": "SyntaxError",
     "evalue": "invalid syntax (519490292.py, line 4)",
     "output_type": "error",
     "traceback": [
      "\u001b[0;36m  Cell \u001b[0;32mIn[1], line 4\u001b[0;36m\u001b[0m\n\u001b[0;31m    import matplotlib.pyplot as pltplt.figure(figsize=(16, 6))\u001b[0m\n\u001b[0m                                      ^\u001b[0m\n\u001b[0;31mSyntaxError\u001b[0m\u001b[0;31m:\u001b[0m invalid syntax\n"
     ]
    }
   ],
   "source": [
    "import pandas as pd\n",
    "import seaborn as sns\n",
    "import datetime\n",
    "import matplotlib.pyplot as pltplt.figure(figsize=(16, 6))\n",
    "heatmap = sns.heatmap(df_flight_cat.corr(), vmin=-1, vmax=1, annot=True, cmap='BrBG')\n",
    "\n",
    "heatmap.set_title('Correlation', fontdict={'fontsize':12}, pad=12);\n",
    "# patterns\n",
    "import glob"
   ]
  },
  {
   "cell_type": "code",
   "execution_count": null,
   "id": "8e78d0be-a2f2-4e16-9e98-bb84419d569a",
   "metadata": {},
   "outputs": [],
   "source": [
    "filepaths=glob.glob(\"/Users/eupirate/Documents/DA_L7/L7_term2/data_exploration/wk8_in_class/*.csv\")\n",
    "filepaths"
   ]
  },
  {
   "cell_type": "code",
   "execution_count": null,
   "id": "8ec33204-4160-4b4a-a02d-dc4d81e4de47",
   "metadata": {},
   "outputs": [],
   "source": [
    "## create an empty dataframe\n",
    "df_airlines=[]\n",
    "\n",
    "for file in filepaths:\n",
    "    df_airlines.append(pd.read_csv(file))\n",
    "\n",
    "df_flight=pd.concat(df_airlines)\n",
    "df_flight.info()"
   ]
  },
  {
   "cell_type": "code",
   "execution_count": null,
   "id": "0840df78-2ebe-49e6-bf70-47744babbee3",
   "metadata": {},
   "outputs": [],
   "source": [
    "df_flight.describe(include=\"all\")"
   ]
  },
  {
   "cell_type": "code",
   "execution_count": null,
   "id": "0532c939-8a21-4948-a61b-253758093b48",
   "metadata": {},
   "outputs": [],
   "source": [
    "df_flight"
   ]
  },
  {
   "cell_type": "code",
   "execution_count": null,
   "id": "3d093ace-cbff-442e-8e52-e868466fa61f",
   "metadata": {},
   "outputs": [],
   "source": [
    "## adding more features Date and Time\n",
    "## import datetime\n",
    "df_flight[\"Date\"]=pd.to_datetime(df_flight[\"UTC\"]).dt.date\n",
    "df_flight[\"Time\"]=pd.to_datetime(df_flight[\"UTC\"]).dt.time"
   ]
  },
  {
   "cell_type": "code",
   "execution_count": null,
   "id": "32725be7-c97c-4096-9159-36e1be9963bc",
   "metadata": {},
   "outputs": [],
   "source": [
    "df_flight"
   ]
  },
  {
   "cell_type": "code",
   "execution_count": null,
   "id": "063567e8-a57c-4c25-90a6-9114abe4d464",
   "metadata": {},
   "outputs": [],
   "source": [
    "df_flight.isnull().sum()"
   ]
  },
  {
   "cell_type": "code",
   "execution_count": null,
   "id": "6cf2ba9b-a6d4-422d-8dd2-cf37f31b2d50",
   "metadata": {},
   "outputs": [],
   "source": [
    "df_flight[[\"Lat\",\"Long\"]]=df_flight[\"Position\"].str.split(\",\").apply(pd.Series).astype(float)\n",
    "df_flight"
   ]
  },
  {
   "cell_type": "code",
   "execution_count": null,
   "id": "beb4e7e8-d1da-4b37-8faa-d5a3699a7f54",
   "metadata": {},
   "outputs": [],
   "source": [
    "df_flight.info()"
   ]
  },
  {
   "cell_type": "code",
   "execution_count": null,
   "id": "b00412cf-9da8-4e6c-b4f4-9f4d22bf6590",
   "metadata": {},
   "outputs": [],
   "source": [
    "sns.pairplot(df_flight,hue=\"Callsign\")"
   ]
  },
  {
   "cell_type": "code",
   "execution_count": null,
   "id": "737f7b0f-b733-4b2a-bae4-0c2f7f3d35c1",
   "metadata": {},
   "outputs": [],
   "source": [
    "sns.pairplot(df_flight[df_flight['Callsign'].isin(['EAI58EH','RYR99HM'])], hue = 'Callsign')"
   ]
  },
  {
   "cell_type": "code",
   "execution_count": null,
   "id": "e93c73bb-43b2-4450-9739-52f34bed5880",
   "metadata": {},
   "outputs": [],
   "source": [
    "df_flight.describe(include=\"all\")"
   ]
  },
  {
   "cell_type": "code",
   "execution_count": null,
   "id": "bc4d2fb6-e5e4-44aa-9301-a7ebd252fbb2",
   "metadata": {},
   "outputs": [],
   "source": [
    "df_flight_cat=df_flight.copy()"
   ]
  },
  {
   "cell_type": "code",
   "execution_count": null,
   "id": "6c0d7bfb-97ce-4be7-ad58-127e34de8eda",
   "metadata": {},
   "outputs": [],
   "source": [
    "df_flight_cat.info()"
   ]
  },
  {
   "cell_type": "code",
   "execution_count": null,
   "id": "9a0bc36e-8750-41f4-9766-7cc96b3785bc",
   "metadata": {},
   "outputs": [],
   "source": [
    "catcol=df_flight_cat.select_dtypes(include=[\"object\"]).columns"
   ]
  },
  {
   "cell_type": "code",
   "execution_count": null,
   "id": "bfeedf52-bd8c-4c73-9d07-83210f4e15c0",
   "metadata": {},
   "outputs": [],
   "source": [
    "catcol"
   ]
  },
  {
   "cell_type": "code",
   "execution_count": null,
   "id": "779ea151-3dcd-4a32-9aaf-5c30e22d67db",
   "metadata": {},
   "outputs": [],
   "source": [
    "for col in catcol:\n",
    "    df_flight_cat[col]=df_flight_cat[col].astype(\"category\").cat.codes"
   ]
  },
  {
   "cell_type": "code",
   "execution_count": null,
   "id": "a461e01a-9ee6-43e5-ad49-6fdfe82f062a",
   "metadata": {},
   "outputs": [],
   "source": [
    "df_flight_cat"
   ]
  },
  {
   "cell_type": "code",
   "execution_count": null,
   "id": "1490c68c-ae04-4d6a-bbc6-1915000d9d35",
   "metadata": {},
   "outputs": [],
   "source": [
    "plt.figure(figsize=(16, 6))\n",
    "heatmap = sns.heatmap(df_flight_cat.corr(), vmin=-1, vmax=1, annot=True, cmap='BrBG')\n",
    "\n",
    "heatmap.set_title('Correlation', fontdict={'fontsize':12}, pad=12);"
   ]
  }
 ],
 "metadata": {
  "kernelspec": {
   "display_name": "Python 3 (ipykernel)",
   "language": "python",
   "name": "python3"
  },
  "language_info": {
   "codemirror_mode": {
    "name": "ipython",
    "version": 3
   },
   "file_extension": ".py",
   "mimetype": "text/x-python",
   "name": "python",
   "nbconvert_exporter": "python",
   "pygments_lexer": "ipython3",
   "version": "3.11.5"
  }
 },
 "nbformat": 4,
 "nbformat_minor": 5
}
