{
 "cells": [
  {
   "cell_type": "code",
   "execution_count": 1,
   "metadata": {},
   "outputs": [],
   "source": [
    "import pandas as pd"
   ]
  },
  {
   "cell_type": "code",
   "execution_count": 2,
   "metadata": {},
   "outputs": [],
   "source": [
    "import seaborn as sns\n",
    "from scipy import stats\n",
    "import numpy as np\n",
    "\n",
    "from sklearn.impute import SimpleImputer\n",
    "from sklearn.preprocessing import LabelEncoder\n",
    "\n",
    "import matplotlib.pyplot as plt \n",
    "\n",
    "##  to select the best features that explain my target variable \n",
    "from sklearn.feature_selection import SelectKBest, f_classif"
   ]
  },
  {
   "cell_type": "code",
   "execution_count": 3,
   "metadata": {},
   "outputs": [],
   "source": [
    "\n",
    "def get_outliers(df, variable):\n",
    "    Q1 = df[variable].quantile(0.25)\n",
    "    Q3 = df[variable].quantile(0.75)\n",
    "\n",
    "    IQR = Q3 - Q1\n",
    "\n",
    "    # Identify outliers\n",
    "    outliers = df[(df[variable] < (Q1 - 1.5 * IQR)) |  (df[variable] > (Q3 + 1.5 * IQR))]\n",
    "    return outliers \n"
   ]
  },
  {
   "cell_type": "code",
   "execution_count": 4,
   "metadata": {},
   "outputs": [],
   "source": [
    "df_ms = pd.read_csv('/Users/janet.xuishi/Downloads/Integrated _CA1_Mushrooms Datasource.csv', na_values = '?')"
   ]
  },
  {
   "cell_type": "code",
   "execution_count": 5,
   "metadata": {},
   "outputs": [
    {
     "data": {
      "text/plain": [
       "Mushroom ID                 122\n",
       "Cap Shape                   116\n",
       "Cap Color                   105\n",
       "Gill Size                    93\n",
       "Stalk Shape                 101\n",
       "Habitat                     104\n",
       "Edibility                   113\n",
       "Market Demand               107\n",
       "Spore Print Color           111\n",
       "Population                  105\n",
       "Odor                        107\n",
       "Bruising                    100\n",
       "Ring Type                    89\n",
       "Stalk Surface Above Ring     99\n",
       "Stalk Surface Below Ring    103\n",
       "Stalk Color Above Ring      104\n",
       "Stalk Color Below Ring      107\n",
       "Veil Type                    94\n",
       "Veil Color                   94\n",
       "Growth Rate                  81\n",
       "Inspection Date               0\n",
       "Incubation date               0\n",
       "Temperature                   0\n",
       "Measurement                   0\n",
       "dtype: int64"
      ]
     },
     "execution_count": 5,
     "metadata": {},
     "output_type": "execute_result"
    }
   ],
   "source": [
    "df_ms.isnull().sum()"
   ]
  },
  {
   "cell_type": "code",
   "execution_count": null,
   "metadata": {},
   "outputs": [],
   "source": []
  },
  {
   "cell_type": "code",
   "execution_count": 6,
   "metadata": {},
   "outputs": [
    {
     "name": "stdout",
     "output_type": "stream",
     "text": [
      "<class 'pandas.core.frame.DataFrame'>\n",
      "RangeIndex: 1000 entries, 0 to 999\n",
      "Data columns (total 24 columns):\n",
      " #   Column                    Non-Null Count  Dtype  \n",
      "---  ------                    --------------  -----  \n",
      " 0   Mushroom ID               878 non-null    float64\n",
      " 1   Cap Shape                 884 non-null    object \n",
      " 2   Cap Color                 895 non-null    object \n",
      " 3   Gill Size                 907 non-null    object \n",
      " 4   Stalk Shape               899 non-null    object \n",
      " 5   Habitat                   896 non-null    object \n",
      " 6   Edibility                 887 non-null    object \n",
      " 7   Market Demand             893 non-null    float64\n",
      " 8   Spore Print Color         889 non-null    object \n",
      " 9   Population                895 non-null    object \n",
      " 10  Odor                      893 non-null    object \n",
      " 11  Bruising                  900 non-null    object \n",
      " 12  Ring Type                 911 non-null    object \n",
      " 13  Stalk Surface Above Ring  901 non-null    object \n",
      " 14  Stalk Surface Below Ring  897 non-null    object \n",
      " 15  Stalk Color Above Ring    896 non-null    object \n",
      " 16  Stalk Color Below Ring    893 non-null    object \n",
      " 17  Veil Type                 906 non-null    object \n",
      " 18  Veil Color                906 non-null    object \n",
      " 19  Growth Rate               919 non-null    float64\n",
      " 20  Inspection Date           1000 non-null   object \n",
      " 21  Incubation date           1000 non-null   object \n",
      " 22  Temperature               1000 non-null   int64  \n",
      " 23  Measurement               1000 non-null   object \n",
      "dtypes: float64(3), int64(1), object(20)\n",
      "memory usage: 187.6+ KB\n"
     ]
    }
   ],
   "source": [
    "df_ms_tr = df_ms.copy()\n",
    "#df_ms_tr['Growth Rate'] = df_ms_tr[df_ms_tr['Growth Rate'] < 6]\n",
    "df_ms_tr.info()\n"
   ]
  },
  {
   "cell_type": "code",
   "execution_count": 7,
   "metadata": {},
   "outputs": [
    {
     "name": "stderr",
     "output_type": "stream",
     "text": [
      "/var/folders/m4/d1bsxckd7y52_7b_g5_dnvbm0000gn/T/ipykernel_34479/455430886.py:1: FutureWarning: Series.fillna with 'method' is deprecated and will raise in a future version. Use obj.ffill() or obj.bfill() instead.\n",
      "  df_ms_tr['Mushroom ID'].fillna(method='bfill', inplace=True)\n"
     ]
    }
   ],
   "source": [
    "df_ms_tr['Mushroom ID'].fillna(method='bfill', inplace=True)"
   ]
  },
  {
   "cell_type": "code",
   "execution_count": 8,
   "metadata": {},
   "outputs": [
    {
     "data": {
      "text/plain": [
       "['Cap Shape',\n",
       " 'Cap Color',\n",
       " 'Gill Size',\n",
       " 'Stalk Shape',\n",
       " 'Habitat',\n",
       " 'Edibility',\n",
       " 'Spore Print Color',\n",
       " 'Population',\n",
       " 'Odor',\n",
       " 'Bruising',\n",
       " 'Ring Type',\n",
       " 'Stalk Surface Above Ring',\n",
       " 'Stalk Surface Below Ring',\n",
       " 'Stalk Color Above Ring',\n",
       " 'Stalk Color Below Ring',\n",
       " 'Veil Type',\n",
       " 'Veil Color']"
      ]
     },
     "execution_count": 8,
     "metadata": {},
     "output_type": "execute_result"
    }
   ],
   "source": [
    "\n",
    "# Get column names of categorical variables\n",
    "cat_columns = df_ms_tr.select_dtypes(include=['object']).columns.tolist()\n",
    "\n",
    "# Get column names with missing data (NaN) among categorical variables\n",
    "cat_columns_nan = [col for col in cat_columns if df_ms_tr[col].isnull().any()]\n",
    "cat_columns_nan"
   ]
  },
  {
   "cell_type": "code",
   "execution_count": 9,
   "metadata": {},
   "outputs": [],
   "source": [
    "for col in cat_columns_nan:\n",
    "    imputer = SimpleImputer(strategy='constant', fill_value='MISSING')\n",
    "# Fit the imputer on the data\n",
    "imputer.fit(df_ms_tr[cat_columns_nan])\n",
    "\n",
    "df_ms_tr[cat_columns_nan] = imputer.transform(df_ms_tr[cat_columns_nan])\n",
    "\n"
   ]
  },
  {
   "cell_type": "code",
   "execution_count": 10,
   "metadata": {},
   "outputs": [],
   "source": [
    "#imputer = SimpleImputer(strategy='constant', fill_value= 0)\n",
    "#imputer.fit(df_ms_tr[['Market Demand']])\n",
    "#df_ms_tr[['Market Demand']] = imputer.transform(df_ms_tr[['Market Demand']])\n",
    "\n",
    "\n",
    "imputer = SimpleImputer(strategy='mean')\n",
    "imputer.fit(df_ms_tr[['Market Demand']])\n",
    "df_ms_tr[['Market Demand']] = imputer.transform(df_ms_tr[['Market Demand']])\n"
   ]
  },
  {
   "cell_type": "code",
   "execution_count": 11,
   "metadata": {},
   "outputs": [
    {
     "data": {
      "text/html": [
       "<div>\n",
       "<style scoped>\n",
       "    .dataframe tbody tr th:only-of-type {\n",
       "        vertical-align: middle;\n",
       "    }\n",
       "\n",
       "    .dataframe tbody tr th {\n",
       "        vertical-align: top;\n",
       "    }\n",
       "\n",
       "    .dataframe thead th {\n",
       "        text-align: right;\n",
       "    }\n",
       "</style>\n",
       "<table border=\"1\" class=\"dataframe\">\n",
       "  <thead>\n",
       "    <tr style=\"text-align: right;\">\n",
       "      <th>Population</th>\n",
       "      <th>MISSING</th>\n",
       "      <th>abundant</th>\n",
       "      <th>numerous</th>\n",
       "      <th>scattered</th>\n",
       "      <th>several</th>\n",
       "      <th>solitary</th>\n",
       "      <th>All</th>\n",
       "    </tr>\n",
       "    <tr>\n",
       "      <th>Market Demand</th>\n",
       "      <th></th>\n",
       "      <th></th>\n",
       "      <th></th>\n",
       "      <th></th>\n",
       "      <th></th>\n",
       "      <th></th>\n",
       "      <th></th>\n",
       "    </tr>\n",
       "  </thead>\n",
       "  <tbody>\n",
       "    <tr>\n",
       "      <th>1.0</th>\n",
       "      <td>9</td>\n",
       "      <td>18</td>\n",
       "      <td>21</td>\n",
       "      <td>15</td>\n",
       "      <td>12</td>\n",
       "      <td>10</td>\n",
       "      <td>85</td>\n",
       "    </tr>\n",
       "    <tr>\n",
       "      <th>2.0</th>\n",
       "      <td>8</td>\n",
       "      <td>15</td>\n",
       "      <td>23</td>\n",
       "      <td>16</td>\n",
       "      <td>15</td>\n",
       "      <td>16</td>\n",
       "      <td>93</td>\n",
       "    </tr>\n",
       "    <tr>\n",
       "      <th>3.0</th>\n",
       "      <td>11</td>\n",
       "      <td>15</td>\n",
       "      <td>21</td>\n",
       "      <td>24</td>\n",
       "      <td>21</td>\n",
       "      <td>17</td>\n",
       "      <td>109</td>\n",
       "    </tr>\n",
       "    <tr>\n",
       "      <th>4.0</th>\n",
       "      <td>10</td>\n",
       "      <td>16</td>\n",
       "      <td>20</td>\n",
       "      <td>16</td>\n",
       "      <td>17</td>\n",
       "      <td>14</td>\n",
       "      <td>93</td>\n",
       "    </tr>\n",
       "    <tr>\n",
       "      <th>5.0</th>\n",
       "      <td>5</td>\n",
       "      <td>10</td>\n",
       "      <td>19</td>\n",
       "      <td>20</td>\n",
       "      <td>13</td>\n",
       "      <td>13</td>\n",
       "      <td>80</td>\n",
       "    </tr>\n",
       "    <tr>\n",
       "      <th>5.387458006718925</th>\n",
       "      <td>16</td>\n",
       "      <td>19</td>\n",
       "      <td>20</td>\n",
       "      <td>17</td>\n",
       "      <td>22</td>\n",
       "      <td>13</td>\n",
       "      <td>107</td>\n",
       "    </tr>\n",
       "    <tr>\n",
       "      <th>6.0</th>\n",
       "      <td>5</td>\n",
       "      <td>24</td>\n",
       "      <td>15</td>\n",
       "      <td>16</td>\n",
       "      <td>12</td>\n",
       "      <td>20</td>\n",
       "      <td>92</td>\n",
       "    </tr>\n",
       "    <tr>\n",
       "      <th>7.0</th>\n",
       "      <td>14</td>\n",
       "      <td>24</td>\n",
       "      <td>16</td>\n",
       "      <td>15</td>\n",
       "      <td>11</td>\n",
       "      <td>12</td>\n",
       "      <td>92</td>\n",
       "    </tr>\n",
       "    <tr>\n",
       "      <th>8.0</th>\n",
       "      <td>8</td>\n",
       "      <td>24</td>\n",
       "      <td>19</td>\n",
       "      <td>14</td>\n",
       "      <td>13</td>\n",
       "      <td>7</td>\n",
       "      <td>85</td>\n",
       "    </tr>\n",
       "    <tr>\n",
       "      <th>9.0</th>\n",
       "      <td>7</td>\n",
       "      <td>10</td>\n",
       "      <td>11</td>\n",
       "      <td>13</td>\n",
       "      <td>14</td>\n",
       "      <td>20</td>\n",
       "      <td>75</td>\n",
       "    </tr>\n",
       "    <tr>\n",
       "      <th>10.0</th>\n",
       "      <td>12</td>\n",
       "      <td>18</td>\n",
       "      <td>14</td>\n",
       "      <td>13</td>\n",
       "      <td>12</td>\n",
       "      <td>20</td>\n",
       "      <td>89</td>\n",
       "    </tr>\n",
       "    <tr>\n",
       "      <th>All</th>\n",
       "      <td>105</td>\n",
       "      <td>193</td>\n",
       "      <td>199</td>\n",
       "      <td>179</td>\n",
       "      <td>162</td>\n",
       "      <td>162</td>\n",
       "      <td>1000</td>\n",
       "    </tr>\n",
       "  </tbody>\n",
       "</table>\n",
       "</div>"
      ],
      "text/plain": [
       "Population         MISSING  abundant  numerous  scattered  several  solitary  \\\n",
       "Market Demand                                                                  \n",
       "1.0                      9        18        21         15       12        10   \n",
       "2.0                      8        15        23         16       15        16   \n",
       "3.0                     11        15        21         24       21        17   \n",
       "4.0                     10        16        20         16       17        14   \n",
       "5.0                      5        10        19         20       13        13   \n",
       "5.387458006718925       16        19        20         17       22        13   \n",
       "6.0                      5        24        15         16       12        20   \n",
       "7.0                     14        24        16         15       11        12   \n",
       "8.0                      8        24        19         14       13         7   \n",
       "9.0                      7        10        11         13       14        20   \n",
       "10.0                    12        18        14         13       12        20   \n",
       "All                    105       193       199        179      162       162   \n",
       "\n",
       "Population          All  \n",
       "Market Demand            \n",
       "1.0                  85  \n",
       "2.0                  93  \n",
       "3.0                 109  \n",
       "4.0                  93  \n",
       "5.0                  80  \n",
       "5.387458006718925   107  \n",
       "6.0                  92  \n",
       "7.0                  92  \n",
       "8.0                  85  \n",
       "9.0                  75  \n",
       "10.0                 89  \n",
       "All                1000  "
      ]
     },
     "execution_count": 11,
     "metadata": {},
     "output_type": "execute_result"
    }
   ],
   "source": [
    "pd.crosstab(df_ms_tr['Market Demand'],df_ms_tr['Population'],margins=True)"
   ]
  },
  {
   "cell_type": "code",
   "execution_count": 12,
   "metadata": {},
   "outputs": [],
   "source": [
    "### before encoding we need to explore outliers \n",
    "\n",
    "df_ms_out = df_ms_tr.copy()\n",
    "\n",
    "#check_outliers = ['Growth Rate','Temperature']\n",
    "\n",
    "#for col in check_outliers:\n",
    "#    outliers = get_outliers(df_ms_out,col)\n",
    "#    ### remove all outliers - temporarily.. just for initial analsys\n",
    "#    df_ms_out = df_ms_out[~df_ms_out['Mushroom ID'].isin(outliers['Mushroom ID'])]\n"
   ]
  },
  {
   "cell_type": "code",
   "execution_count": 13,
   "metadata": {},
   "outputs": [
    {
     "name": "stdout",
     "output_type": "stream",
     "text": [
      "<class 'pandas.core.frame.DataFrame'>\n",
      "RangeIndex: 1000 entries, 0 to 999\n",
      "Data columns (total 24 columns):\n",
      " #   Column                    Non-Null Count  Dtype  \n",
      "---  ------                    --------------  -----  \n",
      " 0   Mushroom ID               1000 non-null   float64\n",
      " 1   Cap Shape                 1000 non-null   object \n",
      " 2   Cap Color                 1000 non-null   object \n",
      " 3   Gill Size                 1000 non-null   object \n",
      " 4   Stalk Shape               1000 non-null   object \n",
      " 5   Habitat                   1000 non-null   object \n",
      " 6   Edibility                 1000 non-null   object \n",
      " 7   Market Demand             1000 non-null   float64\n",
      " 8   Spore Print Color         1000 non-null   object \n",
      " 9   Population                1000 non-null   object \n",
      " 10  Odor                      1000 non-null   object \n",
      " 11  Bruising                  1000 non-null   object \n",
      " 12  Ring Type                 1000 non-null   object \n",
      " 13  Stalk Surface Above Ring  1000 non-null   object \n",
      " 14  Stalk Surface Below Ring  1000 non-null   object \n",
      " 15  Stalk Color Above Ring    1000 non-null   object \n",
      " 16  Stalk Color Below Ring    1000 non-null   object \n",
      " 17  Veil Type                 1000 non-null   object \n",
      " 18  Veil Color                1000 non-null   object \n",
      " 19  Growth Rate               919 non-null    float64\n",
      " 20  Inspection Date           1000 non-null   object \n",
      " 21  Incubation date           1000 non-null   object \n",
      " 22  Temperature               1000 non-null   int64  \n",
      " 23  Measurement               1000 non-null   object \n",
      "dtypes: float64(3), int64(1), object(20)\n",
      "memory usage: 187.6+ KB\n"
     ]
    }
   ],
   "source": [
    "df_ms_out.info()"
   ]
  },
  {
   "cell_type": "code",
   "execution_count": 14,
   "metadata": {},
   "outputs": [],
   "source": [
    "imputer = SimpleImputer(strategy='median')\n",
    "imputer.fit(df_ms_out[['Growth Rate']])\n",
    "df_ms_out[['Growth Rate']] = imputer.transform(df_ms_out[['Growth Rate']])\n"
   ]
  },
  {
   "cell_type": "code",
   "execution_count": 15,
   "metadata": {},
   "outputs": [],
   "source": [
    "label_encoder = LabelEncoder()\n",
    "\n",
    "for col in df_ms_out.select_dtypes(include=['object']).columns:\n",
    "    df_ms_out[col] = label_encoder.fit_transform(df_ms_out[col]) "
   ]
  },
  {
   "cell_type": "code",
   "execution_count": 16,
   "metadata": {},
   "outputs": [
    {
     "data": {
      "text/plain": [
       "count    1000.000000\n",
       "mean        2.864018\n",
       "std         1.707359\n",
       "min         0.502267\n",
       "25%         1.773095\n",
       "50%         2.726681\n",
       "75%         3.746824\n",
       "max        21.511763\n",
       "Name: Growth Rate, dtype: float64"
      ]
     },
     "execution_count": 16,
     "metadata": {},
     "output_type": "execute_result"
    }
   ],
   "source": [
    "df_ms_out['Growth Rate'].describe()"
   ]
  },
  {
   "cell_type": "code",
   "execution_count": 17,
   "metadata": {},
   "outputs": [],
   "source": [
    "#call the library SelectKBest, and passing 'all' since we want to submit all my categories to this selection \n",
    "ModelSelect = SelectKBest(score_func=f_classif,k='all')"
   ]
  },
  {
   "cell_type": "code",
   "execution_count": 18,
   "metadata": {},
   "outputs": [],
   "source": [
    "#call the library SelectKBest, and passing 'all' since we want to submit all my categories to this selection \n",
    "ModelSelect = SelectKBest(score_func=f_classif,k='all')"
   ]
  },
  {
   "cell_type": "code",
   "execution_count": 19,
   "metadata": {},
   "outputs": [],
   "source": [
    "fit=ModelSelect.fit(df_ms_out,df_ms_out['Market Demand'])"
   ]
  },
  {
   "cell_type": "code",
   "execution_count": 20,
   "metadata": {},
   "outputs": [],
   "source": [
    "filter = ModelSelect.get_support(indices=True)"
   ]
  },
  {
   "cell_type": "code",
   "execution_count": 21,
   "metadata": {},
   "outputs": [
    {
     "data": {
      "text/plain": [
       "array([ 0,  1,  2,  3,  4,  5,  6,  7,  8,  9, 10, 11, 12, 13, 14, 15, 16,\n",
       "       17, 18, 19, 20, 21, 22, 23])"
      ]
     },
     "execution_count": 21,
     "metadata": {},
     "output_type": "execute_result"
    }
   ],
   "source": [
    "filter"
   ]
  },
  {
   "cell_type": "code",
   "execution_count": 22,
   "metadata": {},
   "outputs": [],
   "source": [
    "### restore the name of the columns according to the filter position of the column... \n",
    "features_selected = df_ms_out.iloc[:,filter]"
   ]
  },
  {
   "cell_type": "code",
   "execution_count": 23,
   "metadata": {},
   "outputs": [],
   "source": [
    "### get all the scores for each columns that contributed to the customer satisfaction \n",
    "feature_scores = fit.scores_"
   ]
  },
  {
   "cell_type": "code",
   "execution_count": 24,
   "metadata": {},
   "outputs": [
    {
     "name": "stderr",
     "output_type": "stream",
     "text": [
      "/Users/janet.xuishi/opt/anaconda3/lib/python3.9/site-packages/seaborn/_oldcore.py:1498: FutureWarning: is_categorical_dtype is deprecated and will be removed in a future version. Use isinstance(dtype, CategoricalDtype) instead\n",
      "  if pd.api.types.is_categorical_dtype(vector):\n",
      "/Users/janet.xuishi/opt/anaconda3/lib/python3.9/site-packages/seaborn/_oldcore.py:1498: FutureWarning: is_categorical_dtype is deprecated and will be removed in a future version. Use isinstance(dtype, CategoricalDtype) instead\n",
      "  if pd.api.types.is_categorical_dtype(vector):\n",
      "/Users/janet.xuishi/opt/anaconda3/lib/python3.9/site-packages/seaborn/_oldcore.py:1498: FutureWarning: is_categorical_dtype is deprecated and will be removed in a future version. Use isinstance(dtype, CategoricalDtype) instead\n",
      "  if pd.api.types.is_categorical_dtype(vector):\n"
     ]
    },
    {
     "data": {
      "text/plain": [
       "Text(0.5, 0, 'Score')"
      ]
     },
     "execution_count": 24,
     "metadata": {},
     "output_type": "execute_result"
    },
    {
     "data": {
      "image/png": "[encoded data removed]",
      "text/plain": [
       "<Figure size 1000x600 with 1 Axes>"
      ]
     },
     "metadata": {},
     "output_type": "display_data"
    }
   ],
   "source": [
    "### by creating a data frame with feature selected and feature_scores.. and plot into a barplot graph... \n",
    "df_scores = pd.DataFrame({'Feature': features_selected.columns, 'Score': feature_scores})\n",
    "df_scores =df_scores.sort_values(by = 'Score', ascending=False)\n",
    "plt.figure(figsize=(10, 6))\n",
    "sns.barplot(x='Score', y='Feature', data=df_scores)\n",
    "plt.xlabel('Score')"
   ]
  },
  {
   "cell_type": "code",
   "execution_count": null,
   "metadata": {},
   "outputs": [],
   "source": []
  }
 ],
 "metadata": {
  "kernelspec": {
   "display_name": "Python 3 (ipykernel)",
   "language": "python",
   "name": "python3"
  },
  "language_info": {
   "codemirror_mode": {
    "name": "ipython",
    "version": 3
   },
   "file_extension": ".py",
   "mimetype": "text/x-python",
   "name": "python",
   "nbconvert_exporter": "python",
   "pygments_lexer": "ipython3",
   "version": "3.9.18"
  }
 },
 "nbformat": 4,
 "nbformat_minor": 4
}
