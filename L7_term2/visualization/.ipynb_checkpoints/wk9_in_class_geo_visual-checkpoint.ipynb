{
 "cells": [
  {
   "cell_type": "code",
   "execution_count": null,
   "id": "75f8930a-e7c5-457f-97ab-6831ed60f606",
   "metadata": {},
   "outputs": [],
   "source": [
    "from shapely.geometry import Point, Polygon\n",
    "\n",
    "# Create a Point object\n",
    "point = Point(0.5, 0.5)\n",
    "\n",
    "# Create a Polygon object\n",
    "polygon = Polygon([(0, 0), (1, 0), (1, 1), (0, 1)])\n",
    "\n",
    "# Check if the point is within the polygon\n",
    "print(point.within(polygon))\n"
   ]
  }
 ],
 "metadata": {
  "kernelspec": {
   "display_name": "Python 3 (ipykernel)",
   "language": "python",
   "name": "python3"
  },
  "language_info": {
   "codemirror_mode": {
    "name": "ipython",
    "version": 3
   },
   "file_extension": ".py",
   "mimetype": "text/x-python",
   "name": "python",
   "nbconvert_exporter": "python",
   "pygments_lexer": "ipython3",
   "version": "3.11.5"
  }
 },
 "nbformat": 4,
 "nbformat_minor": 5
}
