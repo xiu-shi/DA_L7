{
 "cells": [
  {
   "cell_type": "code",
   "execution_count": 1,
   "id": "e8c4a4ba-b411-4305-b00a-36e583394ef3",
   "metadata": {},
   "outputs": [],
   "source": [
    "## all libraries we've used so far\n",
    "import pandas as pd\n",
    "import numpy as np\n",
    "import seaborn as sns\n",
    "import matplotlib.pyplot as plt\n",
    "from sklearn.impute import KNNImputer, SimpleImputer\n",
    "from sklearn.model_selection import train_test_split\n",
    "from sklearn.preprocessing import LabelEncoder\n",
    "from sklearn.ensemble import RandomForestClassifier\n",
    "from sklearn.metrics import accuracy_score, classification_report"
   ]
  },
  {
   "cell_type": "code",
   "execution_count": 2,
   "id": "5e610dce-0451-47a0-94e2-93a6eac90c1b",
   "metadata": {},
   "outputs": [],
   "source": [
    "df=pd.read_csv(\"/Users/eupirate/Desktop/CCT/data_visual_CA2/DATA FOR CA2-20240309/wellness_business_dataset.csv\")"
   ]
  },
  {
   "cell_type": "code",
   "execution_count": 3,
   "id": "834624d8-c438-4dec-80cb-ab1f3b16542c",
   "metadata": {},
   "outputs": [],
   "source": [
    "## df.head()\n",
    "## df.shape\n",
    "## (2000, 15)\n",
    "## df.describe()\n",
    "## df.info()\n",
    "## df.isnull().sum()\n",
    "## column Sales_Amount and Customer_Lifetime_Value contains missing data"
   ]
  },
  {
   "cell_type": "code",
   "execution_count": 4,
   "id": "ca84fb42-8b17-4bb2-98a0-7fb4c7b30eb2",
   "metadata": {},
   "outputs": [],
   "source": [
    "## test out imputer and KNN, which approaches is most appropriate to handle our missing data\n",
    "## based on the csv dataset, we know there are 2 columns contains missing data, they are: Sales_Amount and Customer_Lifetime_Value. with that info, I want to apply Imputer and KNN and compare the difference."
   ]
  },
  {
   "cell_type": "code",
   "execution_count": 5,
   "id": "888bf1c9-170e-4d09-8108-a4a204d78e84",
   "metadata": {},
   "outputs": [],
   "source": [
    "## SimpleImputer(strategy=\"mean\")\n",
    "\n",
    "mean_imputer=SimpleImputer(strategy=\"mean\")\n",
    "df[\"Sales_Amount_ImputeMean\"]=mean_imputer.fit_transform(df[[\"Sales_Amount\"]])\n",
    "df[\"Customer_LT_ImputeMean\"]=mean_imputer.fit_transform(df[[\"Customer_Lifetime_Value\"]])\n",
    "\n",
    "## df\n",
    "## df.describe()\n",
    "#df.isnull().sum() # new columns \"Sales_Amount_ImputeMean\" and \"Customer_LT_ImputeMean \" created, missing data handled"
   ]
  },
  {
   "cell_type": "code",
   "execution_count": 6,
   "id": "713ad6d9-c327-4ed1-b935-e9f3e356e521",
   "metadata": {},
   "outputs": [
    {
     "data": {
      "text/plain": [
       "Sales_Amount                    99\n",
       "Customer_Age                     0\n",
       "Transaction_Count                0\n",
       "Product_Category                 0\n",
       "Region                           0\n",
       "Repeat_Customer                  0\n",
       "Income_Level                     0\n",
       "Customer_Lifetime_Value        100\n",
       "Annual_Spend                     0\n",
       "Average_Discount_Utilized        0\n",
       "Session_Duration_Minutes         0\n",
       "Page_Views_per_Session           0\n",
       "Ad_Clicks_per_Session            0\n",
       "Products_Viewed_per_Session      0\n",
       "Subscription_Status              0\n",
       "Sales_Amount_ImputeMean          0\n",
       "Customer_LT_ImputeMean           0\n",
       "Sales_Amount_KNN_Imputed         0\n",
       "Customer_LT_KNN_Imputed          0\n",
       "dtype: int64"
      ]
     },
     "execution_count": 6,
     "metadata": {},
     "output_type": "execute_result"
    }
   ],
   "source": [
    "## KNN Imputer\n",
    "knn_imputer=KNNImputer(n_neighbors=5)\n",
    "df_knn_imputed=knn_imputer.fit_transform(df[[\"Sales_Amount\", \"Customer_Lifetime_Value\"]])\n",
    "# Sales_Amount column\n",
    "df[\"Sales_Amount_KNN_Imputed\"]=df_knn_imputed[:,0]\n",
    "# Customer_Lifetime_Value\n",
    "df[\"Customer_LT_KNN_Imputed\"]=df_knn_imputed[:,1]\n",
    "df\n",
    "df.describe()\n",
    "df.isnull().sum()"
   ]
  },
  {
   "cell_type": "code",
   "execution_count": 7,
   "id": "fcc8a214-5315-49f3-b733-a1159f693d2b",
   "metadata": {},
   "outputs": [
    {
     "name": "stdout",
     "output_type": "stream",
     "text": [
      "Original Data:\n",
      "        Sales_Amount  Customer_Lifetime_Value\n",
      "count   1901.000000              1900.000000\n",
      "mean     100.912552             10193.947060\n",
      "std       19.787991              4938.539437\n",
      "min       35.174653             -6206.336700\n",
      "25%       87.764618              6874.976957\n",
      "50%      100.928731             10183.167575\n",
      "75%      113.591955             13407.991980\n",
      "max      177.054630             29263.657450 \n",
      "\n",
      "Mean Imputed Data:\n",
      "        Sales_Amount_ImputeMean  Customer_LT_ImputeMean\n",
      "count              2000.000000             2000.000000\n",
      "mean                100.912552            10193.947060\n",
      "std                  19.291771             4813.429458\n",
      "min                  35.174653            -6206.336700\n",
      "25%                  88.468487             7037.942460\n",
      "50%                 100.912552            10193.947060\n",
      "75%                 112.763729            13193.134495\n",
      "max                 177.054630            29263.657450 \n",
      "\n",
      "KNN Imputed Data:\n",
      "        Sales_Amount_KNN_Imputed  Customer_LT_KNN_Imputed\n",
      "count               2000.000000              2000.000000\n",
      "mean                 100.860757             10214.700582\n",
      "std                   19.718910              4930.033306\n",
      "min                   35.174653             -6206.336700\n",
      "25%                   87.574039              6893.509804\n",
      "50%                  100.912552             10193.947060\n",
      "75%                  113.601470             13400.367428\n",
      "max                  177.054630             29263.657450 \n",
      "\n"
     ]
    }
   ],
   "source": [
    "# I want to compare handled missing data results of column Sales_Amount and Customer_Lifetime_Value\n",
    "original_describe=df[[\"Sales_Amount\",\"Customer_Lifetime_Value\"]].describe()\n",
    "mean_imputed_describe=df[[\"Sales_Amount_ImputeMean\",\"Customer_LT_ImputeMean\"]].describe()\n",
    "knn_imputed_describe=df[[\"Sales_Amount_KNN_Imputed\",\"Customer_LT_KNN_Imputed\"]].describe()\n",
    "\n",
    "print(\"Original Data:\\n\", original_describe, \"\\n\")\n",
    "print(\"Mean Imputed Data:\\n\", mean_imputed_describe, \"\\n\")\n",
    "print(\"KNN Imputed Data:\\n\", knn_imputed_describe, \"\\n\")"
   ]
  },
  {
   "cell_type": "code",
   "execution_count": 8,
   "id": "638f57d1-c534-44b6-b1f5-7e466f217e44",
   "metadata": {},
   "outputs": [],
   "source": [
    "## After comparison, both methods have handled missing data successfully!\n",
    "## Mean Imputered data are identical to the original data\n",
    "## KNN Imputered data Sales_Amount_KNN_Imputed mean is lower than the original data\n",
    "## KNN Imputered data Customer_LT_KNN_Imputed is higher than the original data\n",
    "## Therefore, I have decided to proceed the Mean Imputed dataset to do further analysis by exporting a new dataframe name as 'df_ImputeMean'"
   ]
  },
  {
   "cell_type": "code",
   "execution_count": 9,
   "id": "58ed5b1c-0912-49a0-a6d3-341b6e71c1b8",
   "metadata": {},
   "outputs": [
    {
     "data": {
      "text/plain": [
       "Customer_Age                   0\n",
       "Transaction_Count              0\n",
       "Product_Category               0\n",
       "Region                         0\n",
       "Repeat_Customer                0\n",
       "Income_Level                   0\n",
       "Annual_Spend                   0\n",
       "Average_Discount_Utilized      0\n",
       "Session_Duration_Minutes       0\n",
       "Page_Views_per_Session         0\n",
       "Ad_Clicks_per_Session          0\n",
       "Products_Viewed_per_Session    0\n",
       "Subscription_Status            0\n",
       "Sales_Amount_ImputeMean        0\n",
       "Customer_LT_ImputeMean         0\n",
       "dtype: int64"
      ]
     },
     "execution_count": 9,
     "metadata": {},
     "output_type": "execute_result"
    }
   ],
   "source": [
    "df_ImputeMean=df.drop([\"Sales_Amount\",\"Customer_Lifetime_Value\",\"Sales_Amount_KNN_Imputed\",\"Customer_LT_KNN_Imputed\"], axis=1)\n",
    "df_ImputeMean.describe()\n",
    "# ensure no more missing data\n",
    "df_ImputeMean.isnull().sum()"
   ]
  },
  {
   "cell_type": "code",
   "execution_count": 10,
   "id": "61aac0a3-50c0-40a3-b1a8-d3c5155d79a7",
   "metadata": {},
   "outputs": [],
   "source": [
    "## export new dataframe to a new csv ( \"df_ImputeMean.csv\" )\n",
    "# df_ImputeMean.to_csv(\"df_ImputeMean.csv\",index=False)\n",
    "\n",
    "## import os\n",
    "## print(os.getcwd())\n",
    "# /Users/eupirate/Documents/DA_L7/L7_term2/visualization"
   ]
  },
  {
   "cell_type": "code",
   "execution_count": 11,
   "id": "fa2ad2a0-a497-4003-9d55-f9dfc2a3670e",
   "metadata": {},
   "outputs": [
    {
     "data": {
      "text/plain": [
       "Customer_Age                   0\n",
       "Transaction_Count              0\n",
       "Product_Category               0\n",
       "Region                         0\n",
       "Repeat_Customer                0\n",
       "Income_Level                   0\n",
       "Annual_Spend                   0\n",
       "Average_Discount_Utilized      0\n",
       "Session_Duration_Minutes       0\n",
       "Page_Views_per_Session         0\n",
       "Ad_Clicks_per_Session          0\n",
       "Products_Viewed_per_Session    0\n",
       "Subscription_Status            0\n",
       "Sales_Amount_ImputeMean        0\n",
       "Customer_LT_ImputeMean         0\n",
       "dtype: int64"
      ]
     },
     "execution_count": 11,
     "metadata": {},
     "output_type": "execute_result"
    }
   ],
   "source": [
    "# read exported df_ImputeMean.csv\n",
    "df_ImputeMean=pd.read_csv(\"/Users/eupirate/Desktop/CCT/data_visual_CA2/DATA FOR CA2-20240309/exported_csv/df_ImputeMean.csv\")\n",
    "df_ImputeMean.isnull().sum()"
   ]
  },
  {
   "cell_type": "code",
   "execution_count": null,
   "id": "de122e30-70dd-47de-9f6d-c0fd42138599",
   "metadata": {},
   "outputs": [],
   "source": [
    "df_ImputeMean.info()"
   ]
  }
 ],
 "metadata": {
  "kernelspec": {
   "display_name": "Python 3 (ipykernel)",
   "language": "python",
   "name": "python3"
  },
  "language_info": {
   "codemirror_mode": {
    "name": "ipython",
    "version": 3
   },
   "file_extension": ".py",
   "mimetype": "text/x-python",
   "name": "python",
   "nbconvert_exporter": "python",
   "pygments_lexer": "ipython3",
   "version": "3.11.5"
  }
 },
 "nbformat": 4,
 "nbformat_minor": 5
}
