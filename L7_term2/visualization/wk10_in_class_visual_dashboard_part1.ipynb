{
 "cells": [
  {
   "cell_type": "code",
   "execution_count": 1,
   "id": "57c5b9ac-2d4f-4f2f-9f82-40d15c5d701f",
   "metadata": {},
   "outputs": [],
   "source": [
    "# pip install dash pandas"
   ]
  },
  {
   "cell_type": "code",
   "execution_count": 2,
   "id": "1100dad8-339f-4dab-824d-b3242b04b97c",
   "metadata": {},
   "outputs": [],
   "source": [
    "import dash\n",
    "from dash import dcc, html, Input, Output\n",
    "import plotly.express as px\n",
    "import pandas as pd"
   ]
  },
  {
   "cell_type": "code",
   "execution_count": 3,
   "id": "e66c765f-47a7-418d-a527-313bd7457b1e",
   "metadata": {},
   "outputs": [],
   "source": [
    "df=pd.read_csv(\"/Users/eupirate/Documents/DA_L7/L7_term2/visualization/wk10_bike_sharing_data_class.csv\")"
   ]
  },
  {
   "cell_type": "code",
   "execution_count": 4,
   "id": "22eba5f5-bc51-4988-af91-e5fa1f0676c8",
   "metadata": {},
   "outputs": [
    {
     "data": {
      "text/html": [
       "<div>\n",
       "<style scoped>\n",
       "    .dataframe tbody tr th:only-of-type {\n",
       "        vertical-align: middle;\n",
       "    }\n",
       "\n",
       "    .dataframe tbody tr th {\n",
       "        vertical-align: top;\n",
       "    }\n",
       "\n",
       "    .dataframe thead th {\n",
       "        text-align: right;\n",
       "    }\n",
       "</style>\n",
       "<table border=\"1\" class=\"dataframe\">\n",
       "  <thead>\n",
       "    <tr style=\"text-align: right;\">\n",
       "      <th></th>\n",
       "      <th>Day</th>\n",
       "      <th>Total_Rentals</th>\n",
       "      <th>Weather_Condition</th>\n",
       "      <th>Temperature</th>\n",
       "      <th>Holiday</th>\n",
       "      <th>Wind_Speed</th>\n",
       "    </tr>\n",
       "  </thead>\n",
       "  <tbody>\n",
       "    <tr>\n",
       "      <th>0</th>\n",
       "      <td>2022-01-01</td>\n",
       "      <td>177</td>\n",
       "      <td>Sunny</td>\n",
       "      <td>21.7</td>\n",
       "      <td>0</td>\n",
       "      <td>10.2</td>\n",
       "    </tr>\n",
       "    <tr>\n",
       "      <th>1</th>\n",
       "      <td>2022-01-02</td>\n",
       "      <td>181</td>\n",
       "      <td>Rainy</td>\n",
       "      <td>29.4</td>\n",
       "      <td>0</td>\n",
       "      <td>17.4</td>\n",
       "    </tr>\n",
       "    <tr>\n",
       "      <th>2</th>\n",
       "      <td>2022-01-03</td>\n",
       "      <td>212</td>\n",
       "      <td>Cloudy</td>\n",
       "      <td>24.8</td>\n",
       "      <td>0</td>\n",
       "      <td>22.4</td>\n",
       "    </tr>\n",
       "    <tr>\n",
       "      <th>3</th>\n",
       "      <td>2022-01-04</td>\n",
       "      <td>161</td>\n",
       "      <td>Cloudy</td>\n",
       "      <td>17.1</td>\n",
       "      <td>0</td>\n",
       "      <td>16.8</td>\n",
       "    </tr>\n",
       "    <tr>\n",
       "      <th>4</th>\n",
       "      <td>2022-01-05</td>\n",
       "      <td>190</td>\n",
       "      <td>Sunny</td>\n",
       "      <td>15.5</td>\n",
       "      <td>0</td>\n",
       "      <td>13.4</td>\n",
       "    </tr>\n",
       "    <tr>\n",
       "      <th>...</th>\n",
       "      <td>...</td>\n",
       "      <td>...</td>\n",
       "      <td>...</td>\n",
       "      <td>...</td>\n",
       "      <td>...</td>\n",
       "      <td>...</td>\n",
       "    </tr>\n",
       "    <tr>\n",
       "      <th>495</th>\n",
       "      <td>2023-05-11</td>\n",
       "      <td>174</td>\n",
       "      <td>Sunny</td>\n",
       "      <td>17.3</td>\n",
       "      <td>0</td>\n",
       "      <td>21.6</td>\n",
       "    </tr>\n",
       "    <tr>\n",
       "      <th>496</th>\n",
       "      <td>2023-05-12</td>\n",
       "      <td>201</td>\n",
       "      <td>Cloudy</td>\n",
       "      <td>17.6</td>\n",
       "      <td>0</td>\n",
       "      <td>16.9</td>\n",
       "    </tr>\n",
       "    <tr>\n",
       "      <th>497</th>\n",
       "      <td>2023-05-13</td>\n",
       "      <td>211</td>\n",
       "      <td>Sunny</td>\n",
       "      <td>25.2</td>\n",
       "      <td>0</td>\n",
       "      <td>20.5</td>\n",
       "    </tr>\n",
       "    <tr>\n",
       "      <th>498</th>\n",
       "      <td>2023-05-14</td>\n",
       "      <td>199</td>\n",
       "      <td>Rainy</td>\n",
       "      <td>23.4</td>\n",
       "      <td>0</td>\n",
       "      <td>25.1</td>\n",
       "    </tr>\n",
       "    <tr>\n",
       "      <th>499</th>\n",
       "      <td>2023-05-15</td>\n",
       "      <td>189</td>\n",
       "      <td>Rainy</td>\n",
       "      <td>29.2</td>\n",
       "      <td>0</td>\n",
       "      <td>20.1</td>\n",
       "    </tr>\n",
       "  </tbody>\n",
       "</table>\n",
       "<p>500 rows × 6 columns</p>\n",
       "</div>"
      ],
      "text/plain": [
       "            Day  Total_Rentals Weather_Condition  Temperature  Holiday  \\\n",
       "0    2022-01-01            177             Sunny         21.7        0   \n",
       "1    2022-01-02            181             Rainy         29.4        0   \n",
       "2    2022-01-03            212            Cloudy         24.8        0   \n",
       "3    2022-01-04            161            Cloudy         17.1        0   \n",
       "4    2022-01-05            190             Sunny         15.5        0   \n",
       "..          ...            ...               ...          ...      ...   \n",
       "495  2023-05-11            174             Sunny         17.3        0   \n",
       "496  2023-05-12            201            Cloudy         17.6        0   \n",
       "497  2023-05-13            211             Sunny         25.2        0   \n",
       "498  2023-05-14            199             Rainy         23.4        0   \n",
       "499  2023-05-15            189             Rainy         29.2        0   \n",
       "\n",
       "     Wind_Speed  \n",
       "0          10.2  \n",
       "1          17.4  \n",
       "2          22.4  \n",
       "3          16.8  \n",
       "4          13.4  \n",
       "..          ...  \n",
       "495        21.6  \n",
       "496        16.9  \n",
       "497        20.5  \n",
       "498        25.1  \n",
       "499        20.1  \n",
       "\n",
       "[500 rows x 6 columns]"
      ]
     },
     "execution_count": 4,
     "metadata": {},
     "output_type": "execute_result"
    }
   ],
   "source": [
    "df"
   ]
  },
  {
   "cell_type": "code",
   "execution_count": 5,
   "id": "288e7269-032f-4722-be2d-e7a3b5a7e125",
   "metadata": {},
   "outputs": [],
   "source": [
    "# we initiate the dash app\n",
    "app=dash.Dash(__name__)"
   ]
  },
  {
   "cell_type": "code",
   "execution_count": 6,
   "id": "64767457-c9d8-4283-b708-9bd28ad50a02",
   "metadata": {},
   "outputs": [],
   "source": [
    "#Define our layout (check dash official documentation)\n",
    "\n",
    "app.layout = html.Div(children=[\n",
    "    html.H1(children='Bike Sharing Dashboard'),\n",
    "    \n",
    "    html.Div(children='''\n",
    "        A dashboard to display bike sharing data.\n",
    "    '''),\n",
    "    \n",
    "    dcc.Graph(\n",
    "        id='example-graph'\n",
    "    ),\n",
    "    \n",
    "    dcc.Dropdown(\n",
    "    id='dropdown',\n",
    "    options = [{'label':i, 'value':i} for i in df.columns.unique()],\n",
    "    value = df.columns[0]\n",
    "    )\n",
    "])"
   ]
  },
  {
   "cell_type": "code",
   "execution_count": 7,
   "id": "91d7d203-e700-43ec-acaf-d283fe56cfce",
   "metadata": {},
   "outputs": [],
   "source": [
    "#We will use callback --> it will update the graphs according to the dropdown selection\n",
    "\n",
    "@app.callback(\n",
    "    Output('example-graph', 'figure'),\n",
    "    [Input('dropdown', 'value')]\n",
    ")\n",
    "\n",
    "def update_figure(selected_column):\n",
    "    fig = px.histogram(df, x=selected_column)\n",
    "    \n",
    "    fig.update_layout(transition_duration=500)\n",
    "    \n",
    "    return fig"
   ]
  },
  {
   "cell_type": "code",
   "execution_count": 8,
   "id": "8bf06b26-d025-4004-ae11-7f8add20c00d",
   "metadata": {},
   "outputs": [
    {
     "data": {
      "text/html": [
       "\n",
       "        <iframe\n",
       "            width=\"100%\"\n",
       "            height=\"650\"\n",
       "            src=\"http://127.0.0.1:8050/\"\n",
       "            frameborder=\"0\"\n",
       "            allowfullscreen\n",
       "            \n",
       "        ></iframe>\n",
       "        "
      ],
      "text/plain": [
       "<IPython.lib.display.IFrame at 0x16816d8d0>"
      ]
     },
     "metadata": {},
     "output_type": "display_data"
    }
   ],
   "source": [
    "#Run the dashboard app\n",
    "\n",
    "if __name__ == '__main__':\n",
    "    app.run_server(debug=True)"
   ]
  },
  {
   "cell_type": "code",
   "execution_count": null,
   "id": "0baa6486-f420-4123-9fc2-d1c829c06cf3",
   "metadata": {},
   "outputs": [],
   "source": []
  },
  {
   "cell_type": "code",
   "execution_count": null,
   "id": "69ceb3b7-7337-4ea8-b475-8d2b1c3436d0",
   "metadata": {},
   "outputs": [],
   "source": []
  }
 ],
 "metadata": {
  "kernelspec": {
   "display_name": "Python 3 (ipykernel)",
   "language": "python",
   "name": "python3"
  },
  "language_info": {
   "codemirror_mode": {
    "name": "ipython",
    "version": 3
   },
   "file_extension": ".py",
   "mimetype": "text/x-python",
   "name": "python",
   "nbconvert_exporter": "python",
   "pygments_lexer": "ipython3",
   "version": "3.11.5"
  }
 },
 "nbformat": 4,
 "nbformat_minor": 5
}
