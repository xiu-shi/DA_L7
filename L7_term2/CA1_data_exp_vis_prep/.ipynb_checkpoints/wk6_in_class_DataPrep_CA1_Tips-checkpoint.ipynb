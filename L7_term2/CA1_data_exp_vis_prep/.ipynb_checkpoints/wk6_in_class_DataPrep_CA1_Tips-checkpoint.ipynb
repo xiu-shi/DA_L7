{
 "cells": [
  {
   "cell_type": "markdown",
   "id": "64dff3f0-e236-482e-a604-26600676ed98",
   "metadata": {},
   "source": [
    "# CA 1 - Data Prep - Tips"
   ]
  },
  {
   "cell_type": "code",
   "execution_count": 73,
   "id": "597c6573-f757-4ded-8b95-c8e43d18075d",
   "metadata": {},
   "outputs": [],
   "source": [
    "import pandas as pd\n",
    "from datetime import datetime\n",
    "\n",
    "import seaborn as sns"
   ]
  },
  {
   "cell_type": "code",
   "execution_count": 78,
   "id": "8e6beb93-8621-46c5-82fa-d27e08864d49",
   "metadata": {},
   "outputs": [],
   "source": [
    "df_ms = pd.read_csv('mushroom_sample.csv', na_values = '?')"
   ]
  },
  {
   "cell_type": "code",
   "execution_count": 79,
   "id": "8b16d658-202a-4dfc-a5a8-fb55cd8949d4",
   "metadata": {},
   "outputs": [],
   "source": [
    "### basic of data exploration, info, describe, isnull"
   ]
  },
  {
   "cell_type": "code",
   "execution_count": 80,
   "id": "d4689afb-a9c0-44d1-86c5-57e9ffd4a989",
   "metadata": {},
   "outputs": [
    {
     "data": {
      "text/html": [
       "<div>\n",
       "<style scoped>\n",
       "    .dataframe tbody tr th:only-of-type {\n",
       "        vertical-align: middle;\n",
       "    }\n",
       "\n",
       "    .dataframe tbody tr th {\n",
       "        vertical-align: top;\n",
       "    }\n",
       "\n",
       "    .dataframe thead th {\n",
       "        text-align: right;\n",
       "    }\n",
       "</style>\n",
       "<table border=\"1\" class=\"dataframe\">\n",
       "  <thead>\n",
       "    <tr style=\"text-align: right;\">\n",
       "      <th></th>\n",
       "      <th>count</th>\n",
       "      <th>mean</th>\n",
       "      <th>std</th>\n",
       "      <th>min</th>\n",
       "      <th>25%</th>\n",
       "      <th>50%</th>\n",
       "      <th>75%</th>\n",
       "      <th>max</th>\n",
       "    </tr>\n",
       "    <tr>\n",
       "      <th>Edibility</th>\n",
       "      <th></th>\n",
       "      <th></th>\n",
       "      <th></th>\n",
       "      <th></th>\n",
       "      <th></th>\n",
       "      <th></th>\n",
       "      <th></th>\n",
       "      <th></th>\n",
       "    </tr>\n",
       "  </thead>\n",
       "  <tbody>\n",
       "    <tr>\n",
       "      <th>edible</th>\n",
       "      <td>400.0</td>\n",
       "      <td>5.392500</td>\n",
       "      <td>2.835232</td>\n",
       "      <td>1.0</td>\n",
       "      <td>3.0</td>\n",
       "      <td>5.0</td>\n",
       "      <td>8.0</td>\n",
       "      <td>10.0</td>\n",
       "    </tr>\n",
       "    <tr>\n",
       "      <th>poisonous</th>\n",
       "      <td>394.0</td>\n",
       "      <td>5.416244</td>\n",
       "      <td>2.882666</td>\n",
       "      <td>1.0</td>\n",
       "      <td>3.0</td>\n",
       "      <td>5.0</td>\n",
       "      <td>8.0</td>\n",
       "      <td>10.0</td>\n",
       "    </tr>\n",
       "  </tbody>\n",
       "</table>\n",
       "</div>"
      ],
      "text/plain": [
       "           count      mean       std  min  25%  50%  75%   max\n",
       "Edibility                                                     \n",
       "edible     400.0  5.392500  2.835232  1.0  3.0  5.0  8.0  10.0\n",
       "poisonous  394.0  5.416244  2.882666  1.0  3.0  5.0  8.0  10.0"
      ]
     },
     "execution_count": 80,
     "metadata": {},
     "output_type": "execute_result"
    }
   ],
   "source": [
    "df_ms.groupby('Edibility')['Market Demand'].describe()\n",
    "\n",
    "#based on the table below.. is it correct to apply an imputation method based on the most frequent category? \n",
    "#What do you think it would be the best aproach?"
   ]
  },
  {
   "cell_type": "code",
   "execution_count": 81,
   "id": "a0db4639-f577-4bdc-bc2b-0a4c24eee175",
   "metadata": {},
   "outputs": [],
   "source": [
    "## Step 1 - analyse 2 - 3 categories that related to your target data (information that makes sense for you to analysis) "
   ]
  },
  {
   "cell_type": "code",
   "execution_count": 83,
   "id": "064c9870-5d2e-4c71-95f3-fb00a6f70d9d",
   "metadata": {},
   "outputs": [],
   "source": [
    "## Step 2 - create a proper cleaning (removal / imputation) for these 2-3 categories and justify why"
   ]
  },
  {
   "cell_type": "code",
   "execution_count": 84,
   "id": "ee9acc1e-bf98-4be9-b130-da74aa829477",
   "metadata": {},
   "outputs": [],
   "source": [
    "## Step 3 - analyse the growing rate and temperature (numerical) do you see anything wrong?"
   ]
  },
  {
   "cell_type": "code",
   "execution_count": 85,
   "id": "95112a7b-0411-4a50-93df-925cf934da85",
   "metadata": {},
   "outputs": [],
   "source": [
    "## Step 4 - what type of new features/columns/variables could be created using Incubation and Inspection Date?\n",
    "## are the dates correct? how to create a Days of incubation metric, for example? \n",
    "## Are the temperature ideal? what new columns could be added to improve your analysis?"
   ]
  },
  {
   "cell_type": "code",
   "execution_count": 86,
   "id": "9c6e93ae-9c78-4af0-8767-7a06af58d256",
   "metadata": {},
   "outputs": [],
   "source": [
    "## Step 5 - Encoding 2-3 categories (the fields that you selected to your analysis (not all the dataframe) "
   ]
  },
  {
   "cell_type": "code",
   "execution_count": null,
   "id": "f6edc6f5-c0d7-4b6c-8b3d-7c29ccdb9c6d",
   "metadata": {},
   "outputs": [],
   "source": []
  }
 ],
 "metadata": {
  "kernelspec": {
   "display_name": "Python 3 (ipykernel)",
   "language": "python",
   "name": "python3"
  },
  "language_info": {
   "codemirror_mode": {
    "name": "ipython",
    "version": 3
   },
   "file_extension": ".py",
   "mimetype": "text/x-python",
   "name": "python",
   "nbconvert_exporter": "python",
   "pygments_lexer": "ipython3",
   "version": "3.8.18"
  }
 },
 "nbformat": 4,
 "nbformat_minor": 5
}
