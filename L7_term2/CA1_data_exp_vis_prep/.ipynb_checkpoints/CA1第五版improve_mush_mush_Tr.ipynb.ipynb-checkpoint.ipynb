{
 "cells": [
  {
   "cell_type": "code",
   "execution_count": null,
   "id": "5899c5fe-bea8-48ac-8744-1d4c0843fd25",
   "metadata": {},
   "outputs": [],
   "source": [
    "# 5th version\n",
    "import pandas as pd\n",
    "import numpy as np\n",
    "import seaborn as sns\n",
    "import matplotlib.pyplot as plt\n",
    "from sklearn.impute import KNNImputer, SimpleImputer\n",
    "from sklearn.model_selection import train_test_split\n",
    "from sklearn.preprocessing import LabelEncoder\n",
    "from sklearn.ensemble import RandomForestClassifier\n",
    "from sklearn.metrics import accuracy_score, classification_report"
   ]
  },
  {
   "cell_type": "code",
   "execution_count": null,
   "id": "27172de2-11fe-4780-928a-b8a73f15ff92",
   "metadata": {},
   "outputs": [],
   "source": [
    "mushroom_raw_df = pd.read_csv(\"/Users/eupirate/Desktop/CA_data_exp_visdual/mush.csv\")\n",
    "mushroom_raw_df.head(10)"
   ]
  },
  {
   "cell_type": "code",
   "execution_count": null,
   "id": "5a2135da-7720-495a-96dc-ca6954697761",
   "metadata": {},
   "outputs": [],
   "source": [
    "# Handle Mushroom ID column indexing\n",
    "mushroom_raw_df[\"Mushroom ID\"] = mushroom_raw_df.index+1\n",
    "#print(mushroom_raw_df.iloc[:16])"
   ]
  },
  {
   "cell_type": "code",
   "execution_count": null,
   "id": "37ff3a08-4ea3-4181-8c56-831adcd40b9d",
   "metadata": {},
   "outputs": [],
   "source": [
    "# mushroom categorical columns\n",
    "mushroom_raw_df.replace(\"?\",np.nan,inplace=True)\n",
    "\n",
    "# Include Edibility Column\n",
    "'''\n",
    "df_bool = mushroom_raw_df[[\"Cap Shape\",\"Cap Color\",\"Gill Size\",\"Stalk Shape\",\n",
    "                            \"Habitat\",\"Edibility\",\"Spore Print Color\",\"Population\",\n",
    "                            \"Odor\",\"Bruising\",\"Ring Type\",\"Stalk Surface Above Ring\",\"Stalk Surface Below Ring\",\n",
    "                            \"Stalk Color Above Ring\",\"Stalk Color Below Ring\",\"Veil Type\",\"Veil Color\",\n",
    "                            ]].isna()\n",
    "#print(df_bool)\n",
    "df_bool.isnull().sum()\n",
    "'''\n",
    "\n",
    "\n",
    "# Exclude Edibility Column\n",
    "df_bool = mushroom_raw_df[[\"Cap Shape\",\"Cap Color\",\"Gill Size\",\"Stalk Shape\",\n",
    "                            \"Habitat\",\"Spore Print Color\",\"Population\",\n",
    "                            \"Odor\",\"Bruising\",\"Ring Type\",\"Stalk Surface Above Ring\",\"Stalk Surface Below Ring\",\n",
    "                            \"Stalk Color Above Ring\",\"Stalk Color Below Ring\",\"Veil Type\",\"Veil Color\",\n",
    "                           ]].isna()\n",
    "#print(df_bool)\n",
    "df_bool.isnull().sum()"
   ]
  },
  {
   "cell_type": "code",
   "execution_count": null,
   "id": "ade7afed-cac5-4fe0-847b-4f238f4077fc",
   "metadata": {},
   "outputs": [],
   "source": [
    "# include NaN, run describe()\n",
    "mushroom_raw_df.describe()"
   ]
  },
  {
   "cell_type": "code",
   "execution_count": null,
   "id": "0ac6f205-6688-483c-a489-b215e9e80760",
   "metadata": {},
   "outputs": [],
   "source": [
    "# now we drop all rows with any NaN values\n",
    "mushroom_drop_NaN = mushroom_raw_df.dropna()\n",
    "mushroom_drop_NaN.describe()"
   ]
  },
  {
   "cell_type": "markdown",
   "id": "ed7c5a3f-a30f-4171-9c7a-a614e0722357",
   "metadata": {},
   "source": [
    "# Before dropping NaN, we had 1000 rows of data, after dropped NaN, we only have 119 rows of data to work with, which is not a good representation of the dataset. I think we should explore other approaches to replace with NaN values."
   ]
  },
  {
   "cell_type": "markdown",
   "id": "f5b1662c-9953-42ab-8d08-b62f957cb031",
   "metadata": {},
   "source": [
    "# Identified those columns are mushroom's feature categorical columns, we choose to apply mode to replace NaN with the most common value of a column."
   ]
  },
  {
   "cell_type": "markdown",
   "id": "73582a5a-41ea-4601-b20e-084f2116b4a0",
   "metadata": {},
   "source": [
    "# With a better understanding of the data, Edibility column is excluded from the mode replacement, as we don't want to misclassify or make inaccurate predictions, we want to ensure predict mushroom edibility safely."
   ]
  },
  {
   "cell_type": "code",
   "execution_count": null,
   "id": "88e70ad5-0b90-4b95-9ec6-da7b4bfacb6b",
   "metadata": {},
   "outputs": [],
   "source": [
    "# Exclude Edibility Column, it will be handled seprately soon.\n",
    "for column in mushroom_raw_df.select_dtypes(include=\"object\").columns:\n",
    "    if column != \"Edibility\":\n",
    "        mushroom_raw_df[column].fillna(mushroom_raw_df[column].mode()[0], inplace=True)\n",
    "#print(mushroom_raw_df)\n",
    "#mushroom_raw_df.head(21)\n",
    "#mushroom_raw_df.describe()"
   ]
  },
  {
   "cell_type": "code",
   "execution_count": null,
   "id": "400c5ba7-8b43-4de0-ac47-547ab978d434",
   "metadata": {},
   "outputs": [],
   "source": [
    "# make a copy of df - which excluded 'Edibility' column\n",
    "mushroom_raw_df_tr=mushroom_raw_df.copy()\n",
    "mushroom_raw_df.info()"
   ]
  },
  {
   "cell_type": "code",
   "execution_count": null,
   "id": "5046d34a-d36c-4c92-a688-5a343d23f711",
   "metadata": {},
   "outputs": [],
   "source": [
    "# create a treated 'Edibility_Tr1' column hardcode \"NotDefined\"\n",
    "'''\n",
    "mushroom_raw_df_tr=mushroom_raw_df.copy()\n",
    "mushroom_raw_df_tr[\"Edibility_Tr1\"]=mushroom_raw_df_tr[\"Edibility\"].fillna(\"NotDefined_1\")\n",
    "mushroom_raw_df_tr.info()\n",
    "mushroom_raw_df_tr.head(21)\n",
    "'''"
   ]
  },
  {
   "cell_type": "markdown",
   "id": "eb6d3926-02d5-482e-a931-6ecf7439b103",
   "metadata": {},
   "source": [
    "# We apply SimpleImputer to converted \"Edibility\" column's missing value \"?\" to \"NotDefined_2\". So we can easily identify NotDefined_2 cells are due to be handled when we understand other columns better. First we need to ensure \"Mushroom ID\" are properly indexed, \"Temperature\" is converted from Fahrenheit (F) to  Celsius (C)."
   ]
  },
  {
   "cell_type": "code",
   "execution_count": null,
   "id": "7327b7d7-e091-4e07-b84a-0573d59a68e8",
   "metadata": {},
   "outputs": [],
   "source": [
    "# Appy SimpleImputer to treat \"Edibility\" column\n",
    "from sklearn.impute import SimpleImputer\n",
    "\n",
    "mushroom_raw_df_tr=mushroom_raw_df.copy()\n",
    "\n",
    "# Create \"NotDefined\" with SimpleImputer\n",
    "imp=SimpleImputer(strategy=\"constant\",fill_value=\"NotDefined_2\")\n",
    "\n",
    "# create a treated 'Edibility_Tr2' column by using SimpleImputer fit_transform function\n",
    "mushroom_raw_df_tr[[\"Edibility_Tr2\"]]=imp.fit_transform(mushroom_raw_df_tr[[\"Edibility\"]])\n",
    "#mushroom_raw_df_tr[[\"Edibility_Tr2\"]]\n",
    "mushroom_raw_df_tr\n",
    "#mushroom_raw_df_tr.head(50)\n",
    "\n",
    "# replace treated \"Edibility_Tr2\" with \"Edibility\" column\n",
    "mushroom_raw_df_tr[\"Edibility\"]=mushroom_raw_df_tr[\"Edibility_Tr2\"]\n",
    "mushroom_raw_df_tr.drop([\"Edibility_Tr2\"],axis=\"columns\",inplace=True)\n",
    "mushroom_raw_df_tr\n",
    "\n",
    "#----------------------\n",
    "# Index \"Mushroom ID\" column\n",
    "mushroom_raw_df_tr.set_index(\"Mushroom ID\",inplace=True)\n",
    "#mushroom_raw_df_tr[\"Mushroom ID\"]=pd.to_numeric(mushroom_raw_df_tr[\"Mushroom ID\"], errors=\"coerce\")\n",
    "\n",
    "# Identify rows with F temperatures and convert them to C ( there are no missing data in Temperature column, we have 0 )\n",
    "f_rows=mushroom_raw_df_tr['Measurement']=='F'\n",
    "mushroom_raw_df[\"Temperature_Tr\"]=mushroom_raw_df_tr[\"Temperature\"]\n",
    "mushroom_raw_df_tr.loc[f_rows,\"Temperature\"]=(mushroom_raw_df_tr.loc[f_rows,\"Temperature\"]-32)*5/9\n",
    "\n",
    "# Update the Measurement column to C for these rows\n",
    "mushroom_raw_df_tr.loc[f_rows,\"Measurement\"]=\"C\"\n",
    "\n",
    "# Ensuring \"Mushroom ID\" is indexed correctly\n",
    "#mushroom_raw_df_tr.set_index(\"Mushroom ID\",inplace=True)\n",
    "\n",
    "# Quickly spot check ensuring the F values have been converted to C values\n",
    "#temps_index=mushroom_raw_df_tr.loc[[87,88,99,111,141],\"Temperature\"]\n",
    "#print(mushroom_raw_df_tr)\n",
    "#mushroom_raw_df_tr.head(114)\n",
    "\n",
    "mushroom_raw_df_tr.info() #ensure we now have 1000 rows of data"
   ]
  },
  {
   "cell_type": "code",
   "execution_count": null,
   "id": "f938df9e-8697-4e43-97aa-63136cd7016b",
   "metadata": {},
   "outputs": [],
   "source": [
    "# We now investigate has Temperature have any impact on mushroom's Growth Rate"
   ]
  },
  {
   "cell_type": "code",
   "execution_count": null,
   "id": "0a604057-dff8-4b57-8802-4b3327833922",
   "metadata": {},
   "outputs": [],
   "source": [
    "corr_temp_growth=mushroom_raw_df_tr[[\"Growth Rate\",\"Temperature\"]].corr()\n",
    "corr_temp_growth\n",
    "# The correlation value of 0.049409 is very low, close to 0, indicated a very weak positive correlation between \"Growth Rate\" and \"Temperature\" columns."
   ]
  },
  {
   "cell_type": "markdown",
   "id": "0cbcdde4-8b33-4ec0-b8f2-310923379ba0",
   "metadata": {},
   "source": [
    "# With additional research about mushrooms, we need to include more features to analyses the mushrooms.\n",
    "# We now investigate are other columns combined have strong influence of mushroom's Edibility.\n",
    "# Identified columns are: \"Growth Rate\",\"Temperature\",\"Incubation date\",\"Habitat\""
   ]
  },
  {
   "cell_type": "code",
   "execution_count": null,
   "id": "bd801d10-839e-4093-b98e-cc2b1330dc38",
   "metadata": {},
   "outputs": [],
   "source": [
    "'''\n",
    "# The only 2 key dated columns in datasets are \"Inspection Date\" and \"Incubation Date\", we need to convert them to datetime or numeric format\n",
    "# \"Incubation date\"s \"date\" need to be renamed to \"Date\"\n",
    "\n",
    "mushroom_raw_df_tr[\"Incubation Date\"]=mushroom_raw_df_tr[\"Incubation date\"]\n",
    "\n",
    "mushroom_raw_df_tr[\"Inspection Date\"]=pd.to_datetime(mushroom_raw_df_tr[\"Inspection Date\"]) \n",
    "mushroom_raw_df_tr[\"Incubation Date\"]=pd.to_datetime(mushroom_raw_df_tr[\"Incubation Date\"]) \n",
    "\n",
    "# Drop \"Incubation date\" column\n",
    "mushroom_raw_df_tr.drop([\"Incubation date\"],axis=\"columns\",inplace=True)\n",
    "\n",
    "#mushroom_raw_df_tr.info()\n",
    "#mushroom_raw_df_tr.head(50)\n",
    "'''"
   ]
  },
  {
   "cell_type": "code",
   "execution_count": null,
   "id": "99bdea6b-7fa1-4bb8-a4c4-12fc0a7c8e40",
   "metadata": {},
   "outputs": [],
   "source": [
    "# Encode categorical \"Habitat\" column using OneHotEncoder\n",
    "\n",
    "from sklearn.preprocessing import LabelEncoder, OneHotEncoder\n",
    "\n",
    "encoder=LabelEncoder()\n",
    "mushroom_raw_df_tr[\"Habitat\"]=encoder.fit_transform(mushroom_raw_df_tr[\"Habitat\"])\n",
    "\n",
    "unique_habitats=mushroom_raw_df_tr[\"Habitat\"].unique()\n",
    "unique_habitats.sort()\n",
    "\n",
    "## Validate unique 5 encoding: 0,1,2,3,4\n",
    "print(unique_habitats)\n",
    "\n",
    "#mushroom_raw_df_tr.info()\n",
    "#mushroom_raw_df_tr.head(50)"
   ]
  },
  {
   "cell_type": "code",
   "execution_count": null,
   "id": "a358e326-1b48-49f1-8756-97ae256b00ed",
   "metadata": {},
   "outputs": [],
   "source": [
    "# Encode categorical \"Habitat\" column using OneHotEncoder\n",
    "\n",
    "from sklearn.preprocessing import LabelEncoder, OneHotEncoder\n",
    "\n",
    "encoder=LabelEncoder()\n",
    "mushroom_raw_df_tr[\"Habitat\"]=encoder.fit_transform(mushroom_raw_df_tr[\"Habitat\"])\n",
    "\n",
    "unique_habitats=mushroom_raw_df_tr[\"Habitat\"].unique()\n",
    "unique_habitats.sort()\n",
    "\n",
    "## Validate unique 5 encoding: 0,1,2,3,4\n",
    "print(unique_habitats)\n",
    "\n",
    "#mushroom_raw_df_tr.info()\n",
    "#mushroom_raw_df_tr.head(50)"
   ]
  },
  {
   "cell_type": "markdown",
   "id": "0a3b088d-2216-47bd-b0b3-8bb22a0c1d2f",
   "metadata": {},
   "source": [
    "# We've managed to cleanse our mushroom dataset by processing missing value with various of techniques. \n",
    "# Next we can carry out in depth analysis of \"Edibility\" column with treated new mush_Tr.csv"
   ]
  },
  {
   "cell_type": "code",
   "execution_count": null,
   "id": "810f9fc1-b14b-4629-90c2-5c71bec99e68",
   "metadata": {},
   "outputs": [],
   "source": [
    "mush_Tr=pd.read_csv(\"/Users/eupirate/Desktop/CA_data_exp_visdual/mush_Tr.csv\")\n",
    "\n",
    "mush_Tr_with_id=mush_Tr.copy()\n",
    "\n",
    "# Index \"Mushroom ID\" column\n",
    "mush_Tr_with_id.insert(0,\"Mushroom ID\",range(1,1+len(mush_Tr_with_id)))\n",
    "mush_Tr_with_id.set_index(\"Mushroom ID\",inplace=True)\n",
    "#mush_Tr_with_id.head(50)"
   ]
  },
  {
   "cell_type": "markdown",
   "id": "9092e323-865c-422c-898b-a8476fd7a54f",
   "metadata": {},
   "source": [
    "# Let's consider the conditional probability of edibility of each categorical features and create bins with numerical features.\n",
    "# Habitat - habitat\n",
    "# Growth Rate - GR\n",
    "# Temperature - temp\n",
    "# Incubation Date - ID"
   ]
  },
  {
   "cell_type": "code",
   "execution_count": null,
   "id": "53dee3cb-6791-450d-aa69-9dd2c1bc4a4b",
   "metadata": {},
   "outputs": [],
   "source": [
    "# Create bins for \"Habitat\" and calculate the probability \n",
    "prob_by_habitat=mush_Tr_with_id[mush_Tr_with_id[\"Edibility\"]!=\"NotDefined_2\"].groupby(\"Habitat\")[\"Edibility\"].apply(lambda x:(x==\"edible\").mean())\n",
    "prob_by_habitat"
   ]
  },
  {
   "cell_type": "code",
   "execution_count": null,
   "id": "5ec0e30b-1290-4502-819f-76625e9d6ea9",
   "metadata": {},
   "outputs": [],
   "source": [
    "# Create bins for \"Growth Rate\" and calculate the probability\n",
    "# Create 4 quantile bins\n",
    "GR_bins=pd.qcut(mush_Tr_with_id[\"Growth Rate\"],q=4,duplicates=\"drop\")\n",
    "prob_by_GR_bins=mush_Tr_with_id[mush_Tr_with_id[\"Edibility\"]!=\"NotDefined_2\"].groupby(GR_bins)[\"Edibility\"].apply(lambda x: (x == \"edible\").mean())\n",
    "prob_by_GR_bins"
   ]
  },
  {
   "cell_type": "code",
   "execution_count": null,
   "id": "580263ec-25fd-4f8d-8c5c-f7b550a9f081",
   "metadata": {},
   "outputs": [],
   "source": [
    "# Create bins for \"Temperature\"and calculate the probability \n",
    "# Create 4 quantile bins\n",
    "temp_bins=pd.qcut(mush_Tr_with_id[\"Temperature\"],q=4,)\n",
    "\n",
    "prob_by_temp_bins=mush_Tr_with_id[mush_Tr_with_id[\"Edibility\"]!=\"NotDefined_2\"].groupby(temp_bins)[\"Edibility\"].apply(lambda x: (x == \"edible\").mean())\n",
    "prob_by_temp_bins"
   ]
  },
  {
   "cell_type": "code",
   "execution_count": null,
   "id": "29f74145-18f0-4068-a6ef-f638d1784ddf",
   "metadata": {},
   "outputs": [],
   "source": [
    "# Convert \"Incubation Date\" to \"Incubation Month\" ensuring there are data for each month and calculate the probability \n",
    "mush_Tr_with_id[\"Incubation Date\"]=pd.to_datetime(mush_Tr_with_id[\"Incubation Date\"],errors=\"coerce\")\n",
    "# Now we have \"Incubation Date\" as datetime object, extract the mon\n",
    "mush_Tr_with_id[\"Incubation Month\"]=mush_Tr_with_id[\"Incubation Date\"].dt.month\n",
    "# Treate any missing values such as NaN and dropna\n",
    "mush_Tr_with_id.dropna(subset=[\"Incubation Month\"],inplace=True)\n",
    "# Calculate the probability of each month\n",
    "prob_by_ID_month=mush_Tr_with_id[mush_Tr_with_id[\"Edibility\"]!=\"NotDefined_2\"].groupby(\"Incubation Month\")[\"Edibility\"].apply(lambda x: (x == \"edible\").mean())\n",
    "prob_by_ID_month"
   ]
  },
  {
   "cell_type": "code",
   "execution_count": null,
   "id": "c5b770d9-1255-44c5-a629-f325e8e4bbf4",
   "metadata": {},
   "outputs": [],
   "source": [
    "mush_Tr_with_id.describe()"
   ]
  },
  {
   "cell_type": "code",
   "execution_count": null,
   "id": "4182614a-db7d-48da-bb63-1e8d1a0aed2b",
   "metadata": {},
   "outputs": [],
   "source": []
  }
 ],
 "metadata": {
  "kernelspec": {
   "display_name": "Python 3 (ipykernel)",
   "language": "python",
   "name": "python3"
  },
  "language_info": {
   "codemirror_mode": {
    "name": "ipython",
    "version": 3
   },
   "file_extension": ".py",
   "mimetype": "text/x-python",
   "name": "python",
   "nbconvert_exporter": "python",
   "pygments_lexer": "ipython3",
   "version": "3.11.5"
  }
 },
 "nbformat": 4,
 "nbformat_minor": 5
}
