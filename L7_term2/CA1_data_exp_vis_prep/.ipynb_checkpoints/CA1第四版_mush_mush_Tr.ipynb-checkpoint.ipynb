{
 "cells": [
  {
   "cell_type": "code",
   "execution_count": 1,
   "id": "6618246e-078a-43af-9b95-95ddf88f882e",
   "metadata": {},
   "outputs": [],
   "source": [
    "# 4th version\n",
    "import pandas as pd\n",
    "import numpy as np\n",
    "import seaborn as sns\n",
    "import matplotlib.pyplot as plt\n",
    "from sklearn.impute import KNNImputer, SimpleImputer\n",
    "from sklearn.model_selection import train_test_split\n",
    "from sklearn.preprocessing import LabelEncoder\n",
    "from sklearn.ensemble import RandomForestClassifier\n",
    "from sklearn.metrics import accuracy_score, classification_report"
   ]
  },
  {
   "cell_type": "code",
   "execution_count": 2,
   "id": "7db45e0f-d23a-454a-a386-9c8404a673f4",
   "metadata": {},
   "outputs": [
    {
     "data": {
      "text/html": [
       "<div>\n",
       "<style scoped>\n",
       "    .dataframe tbody tr th:only-of-type {\n",
       "        vertical-align: middle;\n",
       "    }\n",
       "\n",
       "    .dataframe tbody tr th {\n",
       "        vertical-align: top;\n",
       "    }\n",
       "\n",
       "    .dataframe thead th {\n",
       "        text-align: right;\n",
       "    }\n",
       "</style>\n",
       "<table border=\"1\" class=\"dataframe\">\n",
       "  <thead>\n",
       "    <tr style=\"text-align: right;\">\n",
       "      <th></th>\n",
       "      <th>Mushroom ID</th>\n",
       "      <th>Cap Shape</th>\n",
       "      <th>Cap Color</th>\n",
       "      <th>Gill Size</th>\n",
       "      <th>Stalk Shape</th>\n",
       "      <th>Habitat</th>\n",
       "      <th>Edibility</th>\n",
       "      <th>Market Demand</th>\n",
       "      <th>Spore Print Color</th>\n",
       "      <th>Population</th>\n",
       "      <th>...</th>\n",
       "      <th>Stalk Surface Below Ring</th>\n",
       "      <th>Stalk Color Above Ring</th>\n",
       "      <th>Stalk Color Below Ring</th>\n",
       "      <th>Veil Type</th>\n",
       "      <th>Veil Color</th>\n",
       "      <th>Growth Rate</th>\n",
       "      <th>Inspection Date</th>\n",
       "      <th>Incubation date</th>\n",
       "      <th>Temperature</th>\n",
       "      <th>Measurement</th>\n",
       "    </tr>\n",
       "  </thead>\n",
       "  <tbody>\n",
       "    <tr>\n",
       "      <th>0</th>\n",
       "      <td>1</td>\n",
       "      <td>sunken</td>\n",
       "      <td>brown</td>\n",
       "      <td>narrow</td>\n",
       "      <td>tapering</td>\n",
       "      <td>leaves</td>\n",
       "      <td>edible</td>\n",
       "      <td>1</td>\n",
       "      <td>orange</td>\n",
       "      <td>abundant</td>\n",
       "      <td>...</td>\n",
       "      <td>silky</td>\n",
       "      <td>white</td>\n",
       "      <td>brown</td>\n",
       "      <td>universal</td>\n",
       "      <td>orange</td>\n",
       "      <td>0.973096463</td>\n",
       "      <td>03/07/2021</td>\n",
       "      <td>03/02/2021</td>\n",
       "      <td>49</td>\n",
       "      <td>C</td>\n",
       "    </tr>\n",
       "    <tr>\n",
       "      <th>1</th>\n",
       "      <td>?</td>\n",
       "      <td>convex</td>\n",
       "      <td>brown</td>\n",
       "      <td>narrow</td>\n",
       "      <td>tapering</td>\n",
       "      <td>urban</td>\n",
       "      <td>edible</td>\n",
       "      <td>2</td>\n",
       "      <td>brown</td>\n",
       "      <td>several</td>\n",
       "      <td>...</td>\n",
       "      <td>scaly</td>\n",
       "      <td>pink</td>\n",
       "      <td>white</td>\n",
       "      <td>universal</td>\n",
       "      <td>white</td>\n",
       "      <td>?</td>\n",
       "      <td>03/05/2023</td>\n",
       "      <td>03/04/2023</td>\n",
       "      <td>13</td>\n",
       "      <td>F</td>\n",
       "    </tr>\n",
       "    <tr>\n",
       "      <th>2</th>\n",
       "      <td>3</td>\n",
       "      <td>flat</td>\n",
       "      <td>brown</td>\n",
       "      <td>broad</td>\n",
       "      <td>enlarging</td>\n",
       "      <td>grasses</td>\n",
       "      <td>edible</td>\n",
       "      <td>8</td>\n",
       "      <td>yellow</td>\n",
       "      <td>scattered</td>\n",
       "      <td>...</td>\n",
       "      <td>?</td>\n",
       "      <td>gray</td>\n",
       "      <td>orange</td>\n",
       "      <td>partial</td>\n",
       "      <td>orange</td>\n",
       "      <td>1.977619113</td>\n",
       "      <td>01/08/2022</td>\n",
       "      <td>01/04/2022</td>\n",
       "      <td>10</td>\n",
       "      <td>C</td>\n",
       "    </tr>\n",
       "    <tr>\n",
       "      <th>3</th>\n",
       "      <td>4</td>\n",
       "      <td>sunken</td>\n",
       "      <td>gray</td>\n",
       "      <td>narrow</td>\n",
       "      <td>tapering</td>\n",
       "      <td>?</td>\n",
       "      <td>poisonous</td>\n",
       "      <td>4</td>\n",
       "      <td>orange</td>\n",
       "      <td>scattered</td>\n",
       "      <td>...</td>\n",
       "      <td>scaly</td>\n",
       "      <td>gray</td>\n",
       "      <td>orange</td>\n",
       "      <td>universal</td>\n",
       "      <td>yellow</td>\n",
       "      <td>2.272762762</td>\n",
       "      <td>02/10/2023</td>\n",
       "      <td>02/02/2023</td>\n",
       "      <td>22</td>\n",
       "      <td>C</td>\n",
       "    </tr>\n",
       "    <tr>\n",
       "      <th>4</th>\n",
       "      <td>5</td>\n",
       "      <td>flat</td>\n",
       "      <td>red</td>\n",
       "      <td>?</td>\n",
       "      <td>enlarging</td>\n",
       "      <td>urban</td>\n",
       "      <td>edible</td>\n",
       "      <td>7</td>\n",
       "      <td>brown</td>\n",
       "      <td>several</td>\n",
       "      <td>...</td>\n",
       "      <td>fibrous</td>\n",
       "      <td>orange</td>\n",
       "      <td>white</td>\n",
       "      <td>partial</td>\n",
       "      <td>white</td>\n",
       "      <td>0.718873785</td>\n",
       "      <td>01/09/2023</td>\n",
       "      <td>01/04/2023</td>\n",
       "      <td>9</td>\n",
       "      <td>C</td>\n",
       "    </tr>\n",
       "    <tr>\n",
       "      <th>5</th>\n",
       "      <td>6</td>\n",
       "      <td>bell</td>\n",
       "      <td>?</td>\n",
       "      <td>narrow</td>\n",
       "      <td>tapering</td>\n",
       "      <td>grasses</td>\n",
       "      <td>poisonous</td>\n",
       "      <td>6</td>\n",
       "      <td>yellow</td>\n",
       "      <td>several</td>\n",
       "      <td>...</td>\n",
       "      <td>?</td>\n",
       "      <td>orange</td>\n",
       "      <td>white</td>\n",
       "      <td>universal</td>\n",
       "      <td>orange</td>\n",
       "      <td>14.02415593</td>\n",
       "      <td>04/11/2023</td>\n",
       "      <td>04/05/2023</td>\n",
       "      <td>21</td>\n",
       "      <td>C</td>\n",
       "    </tr>\n",
       "    <tr>\n",
       "      <th>6</th>\n",
       "      <td>7</td>\n",
       "      <td>flat</td>\n",
       "      <td>brown</td>\n",
       "      <td>broad</td>\n",
       "      <td>tapering</td>\n",
       "      <td>woods</td>\n",
       "      <td>?</td>\n",
       "      <td>5</td>\n",
       "      <td>yellow</td>\n",
       "      <td>scattered</td>\n",
       "      <td>...</td>\n",
       "      <td>scaly</td>\n",
       "      <td>white</td>\n",
       "      <td>white</td>\n",
       "      <td>universal</td>\n",
       "      <td>white</td>\n",
       "      <td>4.320348762</td>\n",
       "      <td>02/08/2023</td>\n",
       "      <td>02/04/2023</td>\n",
       "      <td>13</td>\n",
       "      <td>C</td>\n",
       "    </tr>\n",
       "    <tr>\n",
       "      <th>7</th>\n",
       "      <td>8</td>\n",
       "      <td>sunken</td>\n",
       "      <td>red</td>\n",
       "      <td>narrow</td>\n",
       "      <td>enlarging</td>\n",
       "      <td>urban</td>\n",
       "      <td>?</td>\n",
       "      <td>3</td>\n",
       "      <td>yellow</td>\n",
       "      <td>several</td>\n",
       "      <td>...</td>\n",
       "      <td>?</td>\n",
       "      <td>gray</td>\n",
       "      <td>orange</td>\n",
       "      <td>partial</td>\n",
       "      <td>yellow</td>\n",
       "      <td>1.450596518</td>\n",
       "      <td>02/07/2023</td>\n",
       "      <td>02/05/2023</td>\n",
       "      <td>2</td>\n",
       "      <td>C</td>\n",
       "    </tr>\n",
       "    <tr>\n",
       "      <th>8</th>\n",
       "      <td>9</td>\n",
       "      <td>?</td>\n",
       "      <td>yellow</td>\n",
       "      <td>narrow</td>\n",
       "      <td>?</td>\n",
       "      <td>grasses</td>\n",
       "      <td>edible</td>\n",
       "      <td>7</td>\n",
       "      <td>yellow</td>\n",
       "      <td>solitary</td>\n",
       "      <td>...</td>\n",
       "      <td>fibrous</td>\n",
       "      <td>brown</td>\n",
       "      <td>gray</td>\n",
       "      <td>?</td>\n",
       "      <td>orange</td>\n",
       "      <td>3.545415336</td>\n",
       "      <td>01/07/2023</td>\n",
       "      <td>01/01/2023</td>\n",
       "      <td>8</td>\n",
       "      <td>C</td>\n",
       "    </tr>\n",
       "    <tr>\n",
       "      <th>9</th>\n",
       "      <td>10</td>\n",
       "      <td>bell</td>\n",
       "      <td>?</td>\n",
       "      <td>broad</td>\n",
       "      <td>tapering</td>\n",
       "      <td>paths</td>\n",
       "      <td>poisonous</td>\n",
       "      <td>3</td>\n",
       "      <td>white</td>\n",
       "      <td>?</td>\n",
       "      <td>...</td>\n",
       "      <td>scaly</td>\n",
       "      <td>white</td>\n",
       "      <td>white</td>\n",
       "      <td>universal</td>\n",
       "      <td>yellow</td>\n",
       "      <td>3.866757255</td>\n",
       "      <td>04/05/2023</td>\n",
       "      <td>04/01/2023</td>\n",
       "      <td>10</td>\n",
       "      <td>C</td>\n",
       "    </tr>\n",
       "  </tbody>\n",
       "</table>\n",
       "<p>10 rows × 24 columns</p>\n",
       "</div>"
      ],
      "text/plain": [
       "  Mushroom ID Cap Shape Cap Color Gill Size Stalk Shape  Habitat  Edibility  \\\n",
       "0           1    sunken     brown    narrow    tapering   leaves     edible   \n",
       "1           ?    convex     brown    narrow    tapering    urban     edible   \n",
       "2           3      flat     brown     broad   enlarging  grasses     edible   \n",
       "3           4    sunken      gray    narrow    tapering        ?  poisonous   \n",
       "4           5      flat       red         ?   enlarging    urban     edible   \n",
       "5           6      bell         ?    narrow    tapering  grasses  poisonous   \n",
       "6           7      flat     brown     broad    tapering    woods          ?   \n",
       "7           8    sunken       red    narrow   enlarging    urban          ?   \n",
       "8           9         ?    yellow    narrow           ?  grasses     edible   \n",
       "9          10      bell         ?     broad    tapering    paths  poisonous   \n",
       "\n",
       "  Market Demand Spore Print Color Population  ... Stalk Surface Below Ring  \\\n",
       "0             1            orange   abundant  ...                    silky   \n",
       "1             2             brown    several  ...                    scaly   \n",
       "2             8            yellow  scattered  ...                        ?   \n",
       "3             4            orange  scattered  ...                    scaly   \n",
       "4             7             brown    several  ...                  fibrous   \n",
       "5             6            yellow    several  ...                        ?   \n",
       "6             5            yellow  scattered  ...                    scaly   \n",
       "7             3            yellow    several  ...                        ?   \n",
       "8             7            yellow   solitary  ...                  fibrous   \n",
       "9             3             white          ?  ...                    scaly   \n",
       "\n",
       "  Stalk Color Above Ring Stalk Color Below Ring  Veil Type Veil Color  \\\n",
       "0                  white                  brown  universal     orange   \n",
       "1                   pink                  white  universal      white   \n",
       "2                   gray                 orange    partial     orange   \n",
       "3                   gray                 orange  universal     yellow   \n",
       "4                 orange                  white    partial      white   \n",
       "5                 orange                  white  universal     orange   \n",
       "6                  white                  white  universal      white   \n",
       "7                   gray                 orange    partial     yellow   \n",
       "8                  brown                   gray          ?     orange   \n",
       "9                  white                  white  universal     yellow   \n",
       "\n",
       "   Growth Rate Inspection Date Incubation date Temperature Measurement  \n",
       "0  0.973096463      03/07/2021      03/02/2021          49           C  \n",
       "1            ?      03/05/2023      03/04/2023          13           F  \n",
       "2  1.977619113      01/08/2022      01/04/2022          10           C  \n",
       "3  2.272762762      02/10/2023      02/02/2023          22           C  \n",
       "4  0.718873785      01/09/2023      01/04/2023           9           C  \n",
       "5  14.02415593      04/11/2023      04/05/2023          21           C  \n",
       "6  4.320348762      02/08/2023      02/04/2023          13           C  \n",
       "7  1.450596518      02/07/2023      02/05/2023           2           C  \n",
       "8  3.545415336      01/07/2023      01/01/2023           8           C  \n",
       "9  3.866757255      04/05/2023      04/01/2023          10           C  \n",
       "\n",
       "[10 rows x 24 columns]"
      ]
     },
     "execution_count": 2,
     "metadata": {},
     "output_type": "execute_result"
    }
   ],
   "source": [
    "mushroom_raw_df = pd.read_csv(\"/Users/eupirate/Desktop/CA_data_exp_visdual/mush.csv\")\n",
    "mushroom_raw_df.head(10)"
   ]
  },
  {
   "cell_type": "code",
   "execution_count": 3,
   "id": "ee6e0cd3-ca60-488a-84f6-4ebea4e97f9c",
   "metadata": {},
   "outputs": [],
   "source": [
    "# Handle Mushroom ID column indexing\n",
    "mushroom_raw_df[\"Mushroom ID\"] = mushroom_raw_df.index+1\n",
    "#print(mushroom_raw_df.iloc[:16])"
   ]
  },
  {
   "cell_type": "code",
   "execution_count": 4,
   "id": "3de29635-b19d-4c9e-93de-12634473f07c",
   "metadata": {},
   "outputs": [
    {
     "data": {
      "text/plain": [
       "Cap Shape                   0\n",
       "Cap Color                   0\n",
       "Gill Size                   0\n",
       "Stalk Shape                 0\n",
       "Habitat                     0\n",
       "Spore Print Color           0\n",
       "Population                  0\n",
       "Odor                        0\n",
       "Bruising                    0\n",
       "Ring Type                   0\n",
       "Stalk Surface Above Ring    0\n",
       "Stalk Surface Below Ring    0\n",
       "Stalk Color Above Ring      0\n",
       "Stalk Color Below Ring      0\n",
       "Veil Type                   0\n",
       "Veil Color                  0\n",
       "dtype: int64"
      ]
     },
     "execution_count": 4,
     "metadata": {},
     "output_type": "execute_result"
    }
   ],
   "source": [
    "# mushroom categorical columns\n",
    "mushroom_raw_df.replace(\"?\",np.nan,inplace=True)\n",
    "\n",
    "# Include Edibility Column\n",
    "'''\n",
    "df_bool = mushroom_raw_df[[\"Cap Shape\",\"Cap Color\",\"Gill Size\",\"Stalk Shape\",\n",
    "                            \"Habitat\",\"Edibility\",\"Spore Print Color\",\"Population\",\n",
    "                            \"Odor\",\"Bruising\",\"Ring Type\",\"Stalk Surface Above Ring\",\"Stalk Surface Below Ring\",\n",
    "                            \"Stalk Color Above Ring\",\"Stalk Color Below Ring\",\"Veil Type\",\"Veil Color\",\n",
    "                            ]].isna()\n",
    "#print(df_bool)\n",
    "df_bool.isnull().sum()\n",
    "'''\n",
    "\n",
    "\n",
    "# Exclude Edibility Column\n",
    "df_bool = mushroom_raw_df[[\"Cap Shape\",\"Cap Color\",\"Gill Size\",\"Stalk Shape\",\n",
    "                            \"Habitat\",\"Spore Print Color\",\"Population\",\n",
    "                            \"Odor\",\"Bruising\",\"Ring Type\",\"Stalk Surface Above Ring\",\"Stalk Surface Below Ring\",\n",
    "                            \"Stalk Color Above Ring\",\"Stalk Color Below Ring\",\"Veil Type\",\"Veil Color\",\n",
    "                           ]].isna()\n",
    "#print(df_bool)\n",
    "df_bool.isnull().sum()"
   ]
  },
  {
   "cell_type": "code",
   "execution_count": 5,
   "id": "231ca095-a8ac-4af1-9f20-6ee8141ebcbd",
   "metadata": {},
   "outputs": [
    {
     "data": {
      "text/html": [
       "<div>\n",
       "<style scoped>\n",
       "    .dataframe tbody tr th:only-of-type {\n",
       "        vertical-align: middle;\n",
       "    }\n",
       "\n",
       "    .dataframe tbody tr th {\n",
       "        vertical-align: top;\n",
       "    }\n",
       "\n",
       "    .dataframe thead th {\n",
       "        text-align: right;\n",
       "    }\n",
       "</style>\n",
       "<table border=\"1\" class=\"dataframe\">\n",
       "  <thead>\n",
       "    <tr style=\"text-align: right;\">\n",
       "      <th></th>\n",
       "      <th>Mushroom ID</th>\n",
       "      <th>Temperature</th>\n",
       "    </tr>\n",
       "  </thead>\n",
       "  <tbody>\n",
       "    <tr>\n",
       "      <th>count</th>\n",
       "      <td>1000.000000</td>\n",
       "      <td>1000.000000</td>\n",
       "    </tr>\n",
       "    <tr>\n",
       "      <th>mean</th>\n",
       "      <td>500.500000</td>\n",
       "      <td>14.666000</td>\n",
       "    </tr>\n",
       "    <tr>\n",
       "      <th>std</th>\n",
       "      <td>288.819436</td>\n",
       "      <td>8.698742</td>\n",
       "    </tr>\n",
       "    <tr>\n",
       "      <th>min</th>\n",
       "      <td>1.000000</td>\n",
       "      <td>0.000000</td>\n",
       "    </tr>\n",
       "    <tr>\n",
       "      <th>25%</th>\n",
       "      <td>250.750000</td>\n",
       "      <td>7.000000</td>\n",
       "    </tr>\n",
       "    <tr>\n",
       "      <th>50%</th>\n",
       "      <td>500.500000</td>\n",
       "      <td>15.000000</td>\n",
       "    </tr>\n",
       "    <tr>\n",
       "      <th>75%</th>\n",
       "      <td>750.250000</td>\n",
       "      <td>22.000000</td>\n",
       "    </tr>\n",
       "    <tr>\n",
       "      <th>max</th>\n",
       "      <td>1000.000000</td>\n",
       "      <td>49.000000</td>\n",
       "    </tr>\n",
       "  </tbody>\n",
       "</table>\n",
       "</div>"
      ],
      "text/plain": [
       "       Mushroom ID  Temperature\n",
       "count  1000.000000  1000.000000\n",
       "mean    500.500000    14.666000\n",
       "std     288.819436     8.698742\n",
       "min       1.000000     0.000000\n",
       "25%     250.750000     7.000000\n",
       "50%     500.500000    15.000000\n",
       "75%     750.250000    22.000000\n",
       "max    1000.000000    49.000000"
      ]
     },
     "execution_count": 5,
     "metadata": {},
     "output_type": "execute_result"
    }
   ],
   "source": [
    "# include NaN, run describe()\n",
    "mushroom_raw_df.describe()"
   ]
  },
  {
   "cell_type": "code",
   "execution_count": 6,
   "id": "d6e973ec-a440-4213-ab6f-75f23ea040ec",
   "metadata": {},
   "outputs": [
    {
     "data": {
      "text/html": [
       "<div>\n",
       "<style scoped>\n",
       "    .dataframe tbody tr th:only-of-type {\n",
       "        vertical-align: middle;\n",
       "    }\n",
       "\n",
       "    .dataframe tbody tr th {\n",
       "        vertical-align: top;\n",
       "    }\n",
       "\n",
       "    .dataframe thead th {\n",
       "        text-align: right;\n",
       "    }\n",
       "</style>\n",
       "<table border=\"1\" class=\"dataframe\">\n",
       "  <thead>\n",
       "    <tr style=\"text-align: right;\">\n",
       "      <th></th>\n",
       "      <th>Mushroom ID</th>\n",
       "      <th>Temperature</th>\n",
       "    </tr>\n",
       "  </thead>\n",
       "  <tbody>\n",
       "    <tr>\n",
       "      <th>count</th>\n",
       "      <td>131.000000</td>\n",
       "      <td>131.000000</td>\n",
       "    </tr>\n",
       "    <tr>\n",
       "      <th>mean</th>\n",
       "      <td>524.580153</td>\n",
       "      <td>14.519084</td>\n",
       "    </tr>\n",
       "    <tr>\n",
       "      <th>std</th>\n",
       "      <td>298.132184</td>\n",
       "      <td>8.966048</td>\n",
       "    </tr>\n",
       "    <tr>\n",
       "      <th>min</th>\n",
       "      <td>1.000000</td>\n",
       "      <td>0.000000</td>\n",
       "    </tr>\n",
       "    <tr>\n",
       "      <th>25%</th>\n",
       "      <td>233.000000</td>\n",
       "      <td>7.500000</td>\n",
       "    </tr>\n",
       "    <tr>\n",
       "      <th>50%</th>\n",
       "      <td>544.000000</td>\n",
       "      <td>13.000000</td>\n",
       "    </tr>\n",
       "    <tr>\n",
       "      <th>75%</th>\n",
       "      <td>789.000000</td>\n",
       "      <td>22.500000</td>\n",
       "    </tr>\n",
       "    <tr>\n",
       "      <th>max</th>\n",
       "      <td>995.000000</td>\n",
       "      <td>49.000000</td>\n",
       "    </tr>\n",
       "  </tbody>\n",
       "</table>\n",
       "</div>"
      ],
      "text/plain": [
       "       Mushroom ID  Temperature\n",
       "count   131.000000   131.000000\n",
       "mean    524.580153    14.519084\n",
       "std     298.132184     8.966048\n",
       "min       1.000000     0.000000\n",
       "25%     233.000000     7.500000\n",
       "50%     544.000000    13.000000\n",
       "75%     789.000000    22.500000\n",
       "max     995.000000    49.000000"
      ]
     },
     "execution_count": 6,
     "metadata": {},
     "output_type": "execute_result"
    }
   ],
   "source": [
    "# now we drop all rows with any NaN values\n",
    "mushroom_drop_NaN = mushroom_raw_df.dropna()\n",
    "mushroom_drop_NaN.describe()"
   ]
  },
  {
   "cell_type": "markdown",
   "id": "04c641a5-cc99-47f9-823a-b26f672745c3",
   "metadata": {},
   "source": [
    "# Before dropping NaN, we had 1000 rows of data, after dropped NaN, we only have 119 rows of data to work with, which is not a good representation of the dataset. I think we should explore other approaches to replace with NaN values."
   ]
  },
  {
   "cell_type": "markdown",
   "id": "a968637a-e04c-4626-8f33-2a63ff8fa205",
   "metadata": {},
   "source": [
    "# Identified those columns are mushroom's feature categorical columns, we choose to apply mode to replace NaN with the most common value of a column."
   ]
  },
  {
   "cell_type": "markdown",
   "id": "67508613-ff8a-4a1e-8b7c-bf30989574b6",
   "metadata": {},
   "source": [
    "# With a better understanding of the data, Edibility column is excluded from the mode replacement, as we don't want to misclassify or make inaccurate predictions, we want to ensure predict mushroom edibility safely."
   ]
  },
  {
   "cell_type": "code",
   "execution_count": 7,
   "id": "7dab054a-d135-4f76-82bf-c6218cb68f07",
   "metadata": {},
   "outputs": [],
   "source": [
    "# Exclude Edibility Column, it will be handled seprately soon.\n",
    "for column in mushroom_raw_df.select_dtypes(include=\"object\").columns:\n",
    "    if column != \"Edibility\":\n",
    "        mushroom_raw_df[column].fillna(mushroom_raw_df[column].mode()[0], inplace=True)\n",
    "#print(mushroom_raw_df)\n",
    "#mushroom_raw_df.head(21)\n",
    "#mushroom_raw_df.describe()"
   ]
  },
  {
   "cell_type": "code",
   "execution_count": 8,
   "id": "4a4b25ec-c3ef-4976-8ac4-6a62e822a0e6",
   "metadata": {},
   "outputs": [
    {
     "name": "stdout",
     "output_type": "stream",
     "text": [
      "<class 'pandas.core.frame.DataFrame'>\n",
      "RangeIndex: 1000 entries, 0 to 999\n",
      "Data columns (total 24 columns):\n",
      " #   Column                    Non-Null Count  Dtype \n",
      "---  ------                    --------------  ----- \n",
      " 0   Mushroom ID               1000 non-null   int64 \n",
      " 1   Cap Shape                 1000 non-null   object\n",
      " 2   Cap Color                 1000 non-null   object\n",
      " 3   Gill Size                 1000 non-null   object\n",
      " 4   Stalk Shape               1000 non-null   object\n",
      " 5   Habitat                   1000 non-null   object\n",
      " 6   Edibility                 887 non-null    object\n",
      " 7   Market Demand             1000 non-null   object\n",
      " 8   Spore Print Color         1000 non-null   object\n",
      " 9   Population                1000 non-null   object\n",
      " 10  Odor                      1000 non-null   object\n",
      " 11  Bruising                  1000 non-null   object\n",
      " 12  Ring Type                 1000 non-null   object\n",
      " 13  Stalk Surface Above Ring  1000 non-null   object\n",
      " 14  Stalk Surface Below Ring  1000 non-null   object\n",
      " 15  Stalk Color Above Ring    1000 non-null   object\n",
      " 16  Stalk Color Below Ring    1000 non-null   object\n",
      " 17  Veil Type                 1000 non-null   object\n",
      " 18  Veil Color                1000 non-null   object\n",
      " 19  Growth Rate               1000 non-null   object\n",
      " 20  Inspection Date           1000 non-null   object\n",
      " 21  Incubation date           1000 non-null   object\n",
      " 22  Temperature               1000 non-null   int64 \n",
      " 23  Measurement               1000 non-null   object\n",
      "dtypes: int64(2), object(22)\n",
      "memory usage: 187.6+ KB\n"
     ]
    }
   ],
   "source": [
    "# make a copy of df - which excluded 'Edibility' column\n",
    "mushroom_raw_df_tr=mushroom_raw_df.copy()\n",
    "mushroom_raw_df.info()"
   ]
  },
  {
   "cell_type": "code",
   "execution_count": 9,
   "id": "68ba33f8-6e9e-48b5-bfef-bc6340f5fc69",
   "metadata": {},
   "outputs": [
    {
     "data": {
      "text/plain": [
       "'\\nmushroom_raw_df_tr=mushroom_raw_df.copy()\\nmushroom_raw_df_tr[\"Edibility_Tr1\"]=mushroom_raw_df_tr[\"Edibility\"].fillna(\"NotDefined_1\")\\nmushroom_raw_df_tr.info()\\nmushroom_raw_df_tr.head(21)\\n'"
      ]
     },
     "execution_count": 9,
     "metadata": {},
     "output_type": "execute_result"
    }
   ],
   "source": [
    "# create a treated 'Edibility_Tr1' column hardcode \"NotDefined\"\n",
    "'''\n",
    "mushroom_raw_df_tr=mushroom_raw_df.copy()\n",
    "mushroom_raw_df_tr[\"Edibility_Tr1\"]=mushroom_raw_df_tr[\"Edibility\"].fillna(\"NotDefined_1\")\n",
    "mushroom_raw_df_tr.info()\n",
    "mushroom_raw_df_tr.head(21)\n",
    "'''"
   ]
  },
  {
   "cell_type": "markdown",
   "id": "9ba96a5f-6e24-437f-a8d8-4576f4b82d33",
   "metadata": {},
   "source": [
    "# We apply SimpleImputer to converted \"Edibility\" column's missing value \"?\" to \"NotDefined_2\". So we can easily identify NotDefined_2 cells are due to be handled when we understand other columns better. First we need to ensure \"Mushroom ID\" are properly indexed, \"Temperature\" is converted from Fahrenheit (F) to  Celsius (C)."
   ]
  },
  {
   "cell_type": "code",
   "execution_count": 10,
   "id": "be16578e-b19f-4fdb-870a-62067e5d5dfb",
   "metadata": {},
   "outputs": [
    {
     "name": "stdout",
     "output_type": "stream",
     "text": [
      "<class 'pandas.core.frame.DataFrame'>\n",
      "Index: 1000 entries, 1 to 1000\n",
      "Data columns (total 23 columns):\n",
      " #   Column                    Non-Null Count  Dtype  \n",
      "---  ------                    --------------  -----  \n",
      " 0   Cap Shape                 1000 non-null   object \n",
      " 1   Cap Color                 1000 non-null   object \n",
      " 2   Gill Size                 1000 non-null   object \n",
      " 3   Stalk Shape               1000 non-null   object \n",
      " 4   Habitat                   1000 non-null   object \n",
      " 5   Edibility                 1000 non-null   object \n",
      " 6   Market Demand             1000 non-null   object \n",
      " 7   Spore Print Color         1000 non-null   object \n",
      " 8   Population                1000 non-null   object \n",
      " 9   Odor                      1000 non-null   object \n",
      " 10  Bruising                  1000 non-null   object \n",
      " 11  Ring Type                 1000 non-null   object \n",
      " 12  Stalk Surface Above Ring  1000 non-null   object \n",
      " 13  Stalk Surface Below Ring  1000 non-null   object \n",
      " 14  Stalk Color Above Ring    1000 non-null   object \n",
      " 15  Stalk Color Below Ring    1000 non-null   object \n",
      " 16  Veil Type                 1000 non-null   object \n",
      " 17  Veil Color                1000 non-null   object \n",
      " 18  Growth Rate               1000 non-null   object \n",
      " 19  Inspection Date           1000 non-null   object \n",
      " 20  Incubation date           1000 non-null   object \n",
      " 21  Temperature               1000 non-null   float64\n",
      " 22  Measurement               1000 non-null   object \n",
      "dtypes: float64(1), object(22)\n",
      "memory usage: 219.8+ KB\n"
     ]
    },
    {
     "name": "stderr",
     "output_type": "stream",
     "text": [
      "/var/folders/zn/1r2fyj917_n2qngrf527q0rr0000gn/T/ipykernel_8207/2593973389.py:28: FutureWarning: Setting an item of incompatible dtype is deprecated and will raise in a future error of pandas. Value '[-10.55555556  -6.66666667 -17.22222222 -11.11111111 -17.77777778\n",
      "  -9.44444444  -5.          -8.33333333 -14.44444444 -16.66666667\n",
      "  -3.88888889 -17.22222222 -11.11111111  -4.44444444  -5.55555556\n",
      "  -8.88888889 -11.66666667 -16.66666667  -4.44444444  -9.44444444\n",
      "  -4.44444444 -11.66666667 -11.11111111  -9.44444444 -13.33333333\n",
      "  -6.11111111 -14.44444444  -2.22222222  -4.44444444  -7.77777778\n",
      "  -3.33333333 -15.55555556 -16.11111111]' has dtype incompatible with int64, please explicitly cast to a compatible dtype first.\n",
      "  mushroom_raw_df_tr.loc[f_rows,\"Temperature\"] = (mushroom_raw_df_tr.loc[f_rows,\"Temperature\"]-32)*5/9\n"
     ]
    }
   ],
   "source": [
    "# Appy SimpleImputer to treat \"Edibility\" column\n",
    "from sklearn.impute import SimpleImputer\n",
    "\n",
    "mushroom_raw_df_tr=mushroom_raw_df.copy()\n",
    "\n",
    "# Create \"NotDefined\" with SimpleImputer\n",
    "imp=SimpleImputer(strategy=\"constant\",fill_value=\"NotDefined_2\")\n",
    "\n",
    "# create a treated 'Edibility_Tr2' column by using SimpleImputer fit_transform function\n",
    "mushroom_raw_df_tr[[\"Edibility_Tr2\"]]=imp.fit_transform(mushroom_raw_df_tr[[\"Edibility\"]])\n",
    "#mushroom_raw_df_tr[[\"Edibility_Tr2\"]]\n",
    "mushroom_raw_df_tr\n",
    "#mushroom_raw_df_tr.head(50)\n",
    "\n",
    "# replace treated \"Edibility_Tr2\" with \"Edibility\" column\n",
    "mushroom_raw_df_tr[\"Edibility\"]=mushroom_raw_df_tr[\"Edibility_Tr2\"]\n",
    "mushroom_raw_df_tr.drop([\"Edibility_Tr2\"],axis=\"columns\",inplace=True)\n",
    "mushroom_raw_df_tr\n",
    "\n",
    "#----------------------\n",
    "# Index \"Mushroom ID\" column\n",
    "mushroom_raw_df_tr.set_index(\"Mushroom ID\",inplace=True)\n",
    "#mushroom_raw_df_tr[\"Mushroom ID\"]=pd.to_numeric(mushroom_raw_df_tr[\"Mushroom ID\"], errors=\"coerce\")\n",
    "\n",
    "# Identify rows with F temperatures and convert them to C ( there are no missing data in Temperature column, we have 0 )\n",
    "f_rows = mushroom_raw_df_tr['Measurement'] == 'F'\n",
    "mushroom_raw_df[\"Temperature_Tr\"]=mushroom_raw_df_tr[\"Temperature\"]\n",
    "mushroom_raw_df_tr.loc[f_rows,\"Temperature\"] = (mushroom_raw_df_tr.loc[f_rows,\"Temperature\"]-32)*5/9\n",
    "\n",
    "# Update the Measurement column to C for these rows\n",
    "mushroom_raw_df_tr.loc[f_rows,\"Measurement\"] = \"C\"\n",
    "\n",
    "# Ensuring \"Mushroom ID\" is indexed correctly\n",
    "#mushroom_raw_df_tr.set_index(\"Mushroom ID\",inplace=True)\n",
    "\n",
    "# Quickly spot check ensuring the F values have been converted to C values\n",
    "#temps_index=mushroom_raw_df_tr.loc[[87,88,99,111,141],\"Temperature\"]\n",
    "#print(mushroom_raw_df_tr)\n",
    "#mushroom_raw_df_tr.head(114)\n",
    "\n",
    "mushroom_raw_df_tr.info() #ensure we now have 1000 rows of data"
   ]
  },
  {
   "cell_type": "markdown",
   "id": "ca749439-6b25-4615-9048-5553b8b0f3b2",
   "metadata": {},
   "source": [
    "# We now investigate has Temperature have any impact on mushroom's Growth Rate"
   ]
  },
  {
   "cell_type": "code",
   "execution_count": 11,
   "id": "ee1dc38e-7240-43d4-ae7f-cecefabbe196",
   "metadata": {},
   "outputs": [
    {
     "data": {
      "text/html": [
       "<div>\n",
       "<style scoped>\n",
       "    .dataframe tbody tr th:only-of-type {\n",
       "        vertical-align: middle;\n",
       "    }\n",
       "\n",
       "    .dataframe tbody tr th {\n",
       "        vertical-align: top;\n",
       "    }\n",
       "\n",
       "    .dataframe thead th {\n",
       "        text-align: right;\n",
       "    }\n",
       "</style>\n",
       "<table border=\"1\" class=\"dataframe\">\n",
       "  <thead>\n",
       "    <tr style=\"text-align: right;\">\n",
       "      <th></th>\n",
       "      <th>Growth Rate</th>\n",
       "      <th>Temperature</th>\n",
       "    </tr>\n",
       "  </thead>\n",
       "  <tbody>\n",
       "    <tr>\n",
       "      <th>Growth Rate</th>\n",
       "      <td>1.000000</td>\n",
       "      <td>0.049409</td>\n",
       "    </tr>\n",
       "    <tr>\n",
       "      <th>Temperature</th>\n",
       "      <td>0.049409</td>\n",
       "      <td>1.000000</td>\n",
       "    </tr>\n",
       "  </tbody>\n",
       "</table>\n",
       "</div>"
      ],
      "text/plain": [
       "             Growth Rate  Temperature\n",
       "Growth Rate     1.000000     0.049409\n",
       "Temperature     0.049409     1.000000"
      ]
     },
     "execution_count": 11,
     "metadata": {},
     "output_type": "execute_result"
    }
   ],
   "source": [
    "corr_temp_growth=mushroom_raw_df_tr[[\"Growth Rate\",\"Temperature\"]].corr()\n",
    "corr_temp_growth\n",
    "# The correlation value of 0.049409 is very low, close to 0, indicated a very weak positive correlation between \"Growth Rate\" and \"Temperature\" columns."
   ]
  },
  {
   "cell_type": "markdown",
   "id": "8214be34-d41e-492c-9ff1-1391fd87812d",
   "metadata": {},
   "source": [
    "# With additional research about mushrooms, we need to include more features to analyses the mushrooms.\n",
    "# We now investigate are other columns combined have strong influence of mushroom's Edibility.\n",
    "# Identified columns are: \"Growth Rate\",\"Temperature\",\"Incubation date\",\"Habitat\""
   ]
  },
  {
   "cell_type": "code",
   "execution_count": 12,
   "id": "7a96aa1c-b3eb-4d24-819c-643f117de7a8",
   "metadata": {},
   "outputs": [
    {
     "data": {
      "text/plain": [
       "'\\n# The only 2 key dated columns in datasets are \"Inspection Date\" and \"Incubation Date\", we need to convert them to datetime or numeric format\\n# \"Incubation date\"s \"date\" need to be renamed to \"Date\"\\n\\nmushroom_raw_df_tr[\"Incubation Date\"]=mushroom_raw_df_tr[\"Incubation date\"]\\n\\nmushroom_raw_df_tr[\"Inspection Date\"]=pd.to_datetime(mushroom_raw_df_tr[\"Inspection Date\"]) \\nmushroom_raw_df_tr[\"Incubation Date\"]=pd.to_datetime(mushroom_raw_df_tr[\"Incubation Date\"]) \\n\\n# Drop \"Incubation date\" column\\nmushroom_raw_df_tr.drop([\"Incubation date\"],axis=\"columns\",inplace=True)\\n\\n#mushroom_raw_df_tr.info()\\n#mushroom_raw_df_tr.head(50)\\n'"
      ]
     },
     "execution_count": 12,
     "metadata": {},
     "output_type": "execute_result"
    }
   ],
   "source": [
    "'''\n",
    "# The only 2 key dated columns in datasets are \"Inspection Date\" and \"Incubation Date\", we need to convert them to datetime or numeric format\n",
    "# \"Incubation date\"s \"date\" need to be renamed to \"Date\"\n",
    "\n",
    "mushroom_raw_df_tr[\"Incubation Date\"]=mushroom_raw_df_tr[\"Incubation date\"]\n",
    "\n",
    "mushroom_raw_df_tr[\"Inspection Date\"]=pd.to_datetime(mushroom_raw_df_tr[\"Inspection Date\"]) \n",
    "mushroom_raw_df_tr[\"Incubation Date\"]=pd.to_datetime(mushroom_raw_df_tr[\"Incubation Date\"]) \n",
    "\n",
    "# Drop \"Incubation date\" column\n",
    "mushroom_raw_df_tr.drop([\"Incubation date\"],axis=\"columns\",inplace=True)\n",
    "\n",
    "#mushroom_raw_df_tr.info()\n",
    "#mushroom_raw_df_tr.head(50)\n",
    "'''"
   ]
  },
  {
   "cell_type": "code",
   "execution_count": 13,
   "id": "907df31f-bab4-4382-b5df-59adf77803fd",
   "metadata": {},
   "outputs": [
    {
     "name": "stdout",
     "output_type": "stream",
     "text": [
      "[0 1 2 3 4]\n"
     ]
    }
   ],
   "source": [
    "# Encode categorical \"Habitat\" column using OneHotEncoder\n",
    "\n",
    "from sklearn.preprocessing import LabelEncoder, OneHotEncoder\n",
    "\n",
    "encoder=LabelEncoder()\n",
    "mushroom_raw_df_tr[\"Habitat\"]=encoder.fit_transform(mushroom_raw_df_tr[\"Habitat\"])\n",
    "\n",
    "unique_habitats=mushroom_raw_df_tr[\"Habitat\"].unique()\n",
    "unique_habitats.sort()\n",
    "\n",
    "## Validate unique 5 encoding: 0,1,2,3,4\n",
    "print(unique_habitats)\n",
    "\n",
    "#mushroom_raw_df_tr.info()\n",
    "#mushroom_raw_df_tr.head(50)"
   ]
  },
  {
   "cell_type": "code",
   "execution_count": 14,
   "id": "e428a8ba-5764-4aa5-a528-860d924572a2",
   "metadata": {},
   "outputs": [
    {
     "name": "stdout",
     "output_type": "stream",
     "text": [
      "<class 'pandas.core.frame.DataFrame'>\n",
      "Index: 1000 entries, 1 to 1000\n",
      "Data columns (total 23 columns):\n",
      " #   Column                    Non-Null Count  Dtype  \n",
      "---  ------                    --------------  -----  \n",
      " 0   Cap Shape                 1000 non-null   object \n",
      " 1   Cap Color                 1000 non-null   object \n",
      " 2   Gill Size                 1000 non-null   object \n",
      " 3   Stalk Shape               1000 non-null   object \n",
      " 4   Habitat                   1000 non-null   int64  \n",
      " 5   Edibility                 1000 non-null   object \n",
      " 6   Market Demand             1000 non-null   object \n",
      " 7   Spore Print Color         1000 non-null   object \n",
      " 8   Population                1000 non-null   object \n",
      " 9   Odor                      1000 non-null   object \n",
      " 10  Bruising                  1000 non-null   object \n",
      " 11  Ring Type                 1000 non-null   object \n",
      " 12  Stalk Surface Above Ring  1000 non-null   object \n",
      " 13  Stalk Surface Below Ring  1000 non-null   object \n",
      " 14  Stalk Color Above Ring    1000 non-null   object \n",
      " 15  Stalk Color Below Ring    1000 non-null   object \n",
      " 16  Veil Type                 1000 non-null   object \n",
      " 17  Veil Color                1000 non-null   object \n",
      " 18  Growth Rate               1000 non-null   object \n",
      " 19  Inspection Date           1000 non-null   int64  \n",
      " 20  Temperature               1000 non-null   float64\n",
      " 21  Measurement               1000 non-null   object \n",
      " 22  Incubation Date           1000 non-null   int64  \n",
      "dtypes: float64(1), int64(3), object(19)\n",
      "memory usage: 219.8+ KB\n"
     ]
    }
   ],
   "source": [
    "\n",
    "from sklearn.model_selection import train_test_split\n",
    "from sklearn.ensemble import RandomForestClassifier\n",
    "from sklearn.preprocessing import LabelEncoder\n",
    "\n",
    "\n",
    "# The only 2 key dated columns in datasets are \"Inspection Date\" and \"Incubation Date\", we need to convert them to datetime or numeric format\n",
    "# \"Incubation date\"s \"date\" need to be renamed to \"Date\"\n",
    "\n",
    "mushroom_raw_df_tr[\"Incubation Date\"]=mushroom_raw_df_tr[\"Incubation date\"]\n",
    "\n",
    "mushroom_raw_df_tr[\"Inspection Date\"]=pd.to_datetime(mushroom_raw_df_tr[\"Inspection Date\"]).astype('int64')\n",
    "mushroom_raw_df_tr[\"Incubation Date\"]=pd.to_datetime(mushroom_raw_df_tr[\"Incubation Date\"]).astype('int64') \n",
    "\n",
    "# Drop \"Incubation date\" column\n",
    "mushroom_raw_df_tr.drop([\"Incubation date\"],axis=\"columns\",inplace=True)\n",
    "\n",
    "mushroom_raw_df_tr.info()\n",
    "mushroom_raw_df_tr.head(50)\n",
    "\n",
    "\n",
    "# Export treated mushroom.csv as mush_Tr.csv\n",
    "mushroom_raw_df_tr.to_csv('/Users/eupirate/Desktop/CA_data_exp_visdual/mush_Tr.csv', index=False)"
   ]
  },
  {
   "cell_type": "markdown",
   "id": "5476a2ee-ef4d-482d-9a83-1277056157d6",
   "metadata": {},
   "source": [
    "# We've managed to cleanse our mushroom dataset by processing missing value with various of techniques. \n",
    "# Next we can carry out in depth analysis of \"Edibility\" column with treated new mush_Tr.csv."
   ]
  },
  {
   "cell_type": "code",
   "execution_count": 15,
   "id": "654372d8-be1f-4b14-998b-f412a05c5c29",
   "metadata": {},
   "outputs": [],
   "source": [
    "mush_Tr=pd.read_csv(\"/Users/eupirate/Desktop/CA_data_exp_visdual/mush_Tr.csv\")\n",
    "\n",
    "mush_Tr_with_id=mush_Tr.copy()\n",
    "\n",
    "# Index \"Mushroom ID\" column\n",
    "mush_Tr_with_id.insert(0,\"Mushroom ID\",range(1,1+len(mush_Tr_with_id)))\n",
    "mush_Tr_with_id.set_index(\"Mushroom ID\",inplace=True)\n",
    "#mush_Tr_with_id.head(50)"
   ]
  },
  {
   "cell_type": "markdown",
   "id": "48e4544c-6f41-4fab-acb1-0c09d2238a88",
   "metadata": {},
   "source": [
    "# Let's consider the conditional probability of edibility of each categorical features and create bins with numerical features.\n",
    "# Habitat - habitat\n",
    "# Growth Rate - GR\n",
    "# Temperature - temp\n",
    "# Incubation Date - ID"
   ]
  },
  {
   "cell_type": "code",
   "execution_count": 16,
   "id": "2498f707-93cb-42fb-8a45-fac003ecaa07",
   "metadata": {},
   "outputs": [
    {
     "data": {
      "text/plain": [
       "Habitat\n",
       "0    0.497041\n",
       "1    0.468966\n",
       "2    0.470588\n",
       "3    0.567273\n",
       "4    0.456790\n",
       "Name: Edibility, dtype: float64"
      ]
     },
     "execution_count": 16,
     "metadata": {},
     "output_type": "execute_result"
    }
   ],
   "source": [
    "# Create bins for \"Habitat\" and calculate the probability \n",
    "prob_by_habitat=mush_Tr_with_id[mush_Tr_with_id[\"Edibility\"]!=\"NotDefined_2\"].groupby(\"Habitat\")[\"Edibility\"].apply(lambda x:(x==\"edible\").mean())\n",
    "prob_by_habitat"
   ]
  },
  {
   "cell_type": "code",
   "execution_count": 17,
   "id": "3e84ca5c-2f43-4e71-8621-7192629cd872",
   "metadata": {},
   "outputs": [
    {
     "name": "stderr",
     "output_type": "stream",
     "text": [
      "/var/folders/zn/1r2fyj917_n2qngrf527q0rr0000gn/T/ipykernel_8207/3833789683.py:4: FutureWarning: The default of observed=False is deprecated and will be changed to True in a future version of pandas. Pass observed=False to retain current behavior or observed=True to adopt the future default and silence this warning.\n",
      "  prob_by_GR_bins=mush_Tr_with_id[mush_Tr_with_id[\"Edibility\"]!=\"NotDefined_2\"].groupby(GR_bins)[\"Edibility\"].apply(lambda x: (x == \"edible\").mean())\n"
     ]
    },
    {
     "data": {
      "text/plain": [
       "Growth Rate\n",
       "(0.501, 1.378]     0.477273\n",
       "(1.378, 2.543]     0.511211\n",
       "(2.543, 3.747]     0.513393\n",
       "(3.747, 21.512]    0.509091\n",
       "Name: Edibility, dtype: float64"
      ]
     },
     "execution_count": 17,
     "metadata": {},
     "output_type": "execute_result"
    }
   ],
   "source": [
    "# Create bins for \"Growth Rate\" and calculate the probability\n",
    "# Create 4 quantile bins\n",
    "GR_bins=pd.qcut(mush_Tr_with_id[\"Growth Rate\"],q=4,duplicates=\"drop\")\n",
    "prob_by_GR_bins=mush_Tr_with_id[mush_Tr_with_id[\"Edibility\"]!=\"NotDefined_2\"].groupby(GR_bins)[\"Edibility\"].apply(lambda x: (x == \"edible\").mean())\n",
    "prob_by_GR_bins"
   ]
  },
  {
   "cell_type": "code",
   "execution_count": 18,
   "id": "421ba4f0-570e-44c0-91f2-f3f50eed61db",
   "metadata": {},
   "outputs": [
    {
     "name": "stderr",
     "output_type": "stream",
     "text": [
      "/var/folders/zn/1r2fyj917_n2qngrf527q0rr0000gn/T/ipykernel_8207/3127164611.py:5: FutureWarning: The default of observed=False is deprecated and will be changed to True in a future version of pandas. Pass observed=False to retain current behavior or observed=True to adopt the future default and silence this warning.\n",
      "  prob_by_temp_bins=mush_Tr_with_id[mush_Tr_with_id[\"Edibility\"]!=\"NotDefined_2\"].groupby(temp_bins)[\"Edibility\"].apply(lambda x: (x == \"edible\").mean())\n"
     ]
    },
    {
     "data": {
      "text/plain": [
       "Temperature\n",
       "(-17.779, 6.0]    0.484716\n",
       "(6.0, 14.0]       0.482456\n",
       "(14.0, 22.0]      0.486486\n",
       "(22.0, 49.0]      0.562500\n",
       "Name: Edibility, dtype: float64"
      ]
     },
     "execution_count": 18,
     "metadata": {},
     "output_type": "execute_result"
    }
   ],
   "source": [
    "# Create bins for \"Temperature\"and calculate the probability \n",
    "# Create 4 quantile bins\n",
    "temp_bins=pd.qcut(mush_Tr_with_id[\"Temperature\"],q=4,)\n",
    "\n",
    "prob_by_temp_bins=mush_Tr_with_id[mush_Tr_with_id[\"Edibility\"]!=\"NotDefined_2\"].groupby(temp_bins)[\"Edibility\"].apply(lambda x: (x == \"edible\").mean())\n",
    "prob_by_temp_bins"
   ]
  },
  {
   "cell_type": "code",
   "execution_count": 19,
   "id": "cf7d8086-f888-47b5-9e27-411456c7830f",
   "metadata": {},
   "outputs": [
    {
     "data": {
      "text/plain": [
       "Incubation Month\n",
       "1    0.518519\n",
       "2    0.485030\n",
       "3    0.548913\n",
       "4    0.486034\n",
       "5    0.476923\n",
       "Name: Edibility, dtype: float64"
      ]
     },
     "execution_count": 19,
     "metadata": {},
     "output_type": "execute_result"
    }
   ],
   "source": [
    "# Convert \"Incubation Date\" to \"Incubation Month\" ensuring there are data for each month and calculate the probability \n",
    "mush_Tr_with_id[\"Incubation Date\"]=pd.to_datetime(mush_Tr_with_id[\"Incubation Date\"],errors=\"coerce\")\n",
    "# Now we have \"Incubation Date\" as datetime object, extract the mon\n",
    "mush_Tr_with_id[\"Incubation Month\"]=mush_Tr_with_id[\"Incubation Date\"].dt.month\n",
    "# Treate any missing values such as NaN and dropna\n",
    "mush_Tr_with_id.dropna(subset=[\"Incubation Month\"],inplace=True)\n",
    "# Calculate the probability of each month\n",
    "prob_by_ID_month=mush_Tr_with_id[mush_Tr_with_id[\"Edibility\"]!=\"NotDefined_2\"].groupby(\"Incubation Month\")[\"Edibility\"].apply(lambda x: (x == \"edible\").mean())\n",
    "prob_by_ID_month"
   ]
  },
  {
   "cell_type": "code",
   "execution_count": null,
   "id": "9cd909d8-584e-463a-8d12-41e7d060bf01",
   "metadata": {},
   "outputs": [],
   "source": []
  },
  {
   "cell_type": "code",
   "execution_count": 20,
   "id": "e313b861-bba7-44ec-9bd7-b759a0bf8d4b",
   "metadata": {},
   "outputs": [
    {
     "name": "stderr",
     "output_type": "stream",
     "text": [
      "/var/folders/zn/1r2fyj917_n2qngrf527q0rr0000gn/T/ipykernel_8207/1506849154.py:7: RuntimeWarning: '<' not supported between instances of 'pandas._libs.interval.Interval' and 'int', sort order is undefined for incomparable objects.\n",
      "  probabilities_df = pd.DataFrame({\n",
      "/var/folders/zn/1r2fyj917_n2qngrf527q0rr0000gn/T/ipykernel_8207/1506849154.py:7: RuntimeWarning: '<' not supported between instances of 'pandas._libs.interval.Interval' and 'int', sort order is undefined for incomparable objects.\n",
      "  probabilities_df = pd.DataFrame({\n",
      "/var/folders/zn/1r2fyj917_n2qngrf527q0rr0000gn/T/ipykernel_8207/1506849154.py:15: FutureWarning: DataFrame.applymap has been deprecated. Use DataFrame.map instead.\n",
      "  probabilities_df = probabilities_df.applymap(lambda x: {'Edible': x, 'Non-Edible': 1-x})\n"
     ]
    },
    {
     "data": {
      "image/png": "[encoded data removed]",
      "text/plain": [
       "<Figure size 1000x600 with 1 Axes>"
      ]
     },
     "metadata": {},
     "output_type": "display_data"
    },
    {
     "data": {
      "image/png": "[encoded data removed]",
      "text/plain": [
       "<Figure size 1000x600 with 1 Axes>"
      ]
     },
     "metadata": {},
     "output_type": "display_data"
    },
    {
     "data": {
      "image/png": "[encoded data removed]",
      "text/plain": [
       "<Figure size 1000x600 with 1 Axes>"
      ]
     },
     "metadata": {},
     "output_type": "display_data"
    },
    {
     "data": {
      "image/png": "[encoded data removed]",
      "text/plain": [
       "<Figure size 1000x600 with 1 Axes>"
      ]
     },
     "metadata": {},
     "output_type": "display_data"
    }
   ],
   "source": [
    "#3 **********visual***************\n",
    "'''\n",
    "import numpy as np\n",
    "import matplotlib.pyplot as plt\n",
    "\n",
    "# 1. Combine the series into a DataFrame\n",
    "probabilities_df = pd.DataFrame({\n",
    "    'Habitat': prob_by_habitat,\n",
    "    'Growth Rate': prob_by_GR_bins,\n",
    "    'Temperature': prob_by_temp_bins,\n",
    "    'Incubation Month': prob_by_ID_month\n",
    "})\n",
    "\n",
    "# For non-edibility probabilities, subtract from 1\n",
    "probabilities_df = probabilities_df.applymap(lambda x: {'Edible': x, 'Non-Edible': 1-x})\n",
    "\n",
    "\n",
    "# 2.\n",
    "# Function to plot the probabilities\n",
    "def plot_probability(prob_series, feature_name):\n",
    "    # Create DataFrame from the series\n",
    "    df = prob_series.to_frame(name='Edible')\n",
    "    \n",
    "    # Calculate non-edible probabilities\n",
    "    df['Non-Edible'] = 1 - df['Edible']\n",
    "    \n",
    "    # Define the bin labels for your x-axis\n",
    "    bin_labels = df.index.astype(str).tolist()\n",
    "    \n",
    "    # Set positions of bars on the X-axis\n",
    "    r1 = np.arange(len(bin_labels))\n",
    "    bar_width = 0.35\n",
    "    r2 = [x + bar_width for x in r1]\n",
    "    \n",
    "    # Create the bar chart\n",
    "    plt.figure(figsize=(10, 6))\n",
    "    \n",
    "    # Create bars for edibility\n",
    "    plt.bar(r1, df['Edible'], color='green', width=bar_width, edgecolor='grey', label='Edible')\n",
    "    \n",
    "    # Create bars for non-edibility\n",
    "    plt.bar(r2, df['Non-Edible'], color='red', width=bar_width, edgecolor='grey', label='Poisonous')\n",
    "    \n",
    "    # Add labels to the chart\n",
    "    plt.xlabel(feature_name, fontweight='bold')\n",
    "    plt.xticks([r + bar_width/2 for r in range(len(r1))], bin_labels, rotation=45)\n",
    "    plt.ylabel('Probability')\n",
    "    plt.title(f'Probability of Edibility vs Non-Edibility for {feature_name}')\n",
    "    \n",
    "    # Create legend & Show graphic\n",
    "    plt.legend()\n",
    "    plt.tight_layout()\n",
    "    plt.show()\n",
    "\n",
    "# Plot for each feature\n",
    "plot_probability(prob_by_habitat, 'Habitat')\n",
    "plot_probability(prob_by_GR_bins, 'Growth Rate')\n",
    "plot_probability(prob_by_temp_bins, 'Temperature')\n",
    "plot_probability(prob_by_ID_month, 'Incubation Month')\n",
    "\n",
    "               \n",
    "'''"
   ]
  },
  {
   "cell_type": "code",
   "execution_count": null,
   "id": "e1c8d837-2485-4583-a1a2-76aa8550cea9",
   "metadata": {},
   "outputs": [],
   "source": []
  }
 ],
 "metadata": {
  "kernelspec": {
   "display_name": "Python 3 (ipykernel)",
   "language": "python",
   "name": "python3"
  },
  "language_info": {
   "codemirror_mode": {
    "name": "ipython",
    "version": 3
   },
   "file_extension": ".py",
   "mimetype": "text/x-python",
   "name": "python",
   "nbconvert_exporter": "python",
   "pygments_lexer": "ipython3",
   "version": "3.11.5"
  }
 },
 "nbformat": 4,
 "nbformat_minor": 5
}
