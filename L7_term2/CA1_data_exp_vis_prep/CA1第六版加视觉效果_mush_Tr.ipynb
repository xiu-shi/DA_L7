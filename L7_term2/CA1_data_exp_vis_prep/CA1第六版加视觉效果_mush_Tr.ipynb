{
 "cells": [
  {
   "cell_type": "code",
   "execution_count": null,
   "id": "0bf559eb-9159-4b4f-abaf-bc8b09729181",
   "metadata": {},
   "outputs": [],
   "source": [
    "# ***visualizations after cell 33 ***"
   ]
  },
  {
   "cell_type": "code",
   "execution_count": null,
   "id": "3fa1d3cb-1af5-4092-8c49-deb788486dda",
   "metadata": {},
   "outputs": [],
   "source": [
    "# 6th version\n",
    "import pandas as pd\n",
    "import numpy as np\n",
    "import seaborn as sns\n",
    "import matplotlib.pyplot as plt\n",
    "from sklearn.impute import KNNImputer, SimpleImputer\n",
    "from sklearn.model_selection import train_test_split\n",
    "from sklearn.preprocessing import LabelEncoder\n",
    "from sklearn.ensemble import RandomForestClassifier\n",
    "from sklearn.metrics import accuracy_score, classification_report"
   ]
  },
  {
   "cell_type": "code",
   "execution_count": null,
   "id": "a9a1dbb0-2658-4b21-960c-45c719928bd5",
   "metadata": {},
   "outputs": [],
   "source": [
    "mushroom_raw_df = pd.read_csv(\"/Users/eupirate/Desktop/CA_data_exp_visdual/mush.csv\")\n",
    "mushroom_raw_df.head(10)"
   ]
  },
  {
   "cell_type": "code",
   "execution_count": null,
   "id": "0efa12bc-ced8-4ecf-9c79-deebe44cbacf",
   "metadata": {},
   "outputs": [],
   "source": [
    "# Handle Mushroom ID column indexing\n",
    "mushroom_raw_df[\"Mushroom ID\"] = mushroom_raw_df.index+1\n",
    "#print(mushroom_raw_df.iloc[:16])"
   ]
  },
  {
   "cell_type": "code",
   "execution_count": null,
   "id": "238fbd82-92d6-4676-813c-711a6a855a24",
   "metadata": {},
   "outputs": [],
   "source": [
    "# mushroom categorical columns\n",
    "mushroom_raw_df.replace(\"?\",np.nan,inplace=True)\n",
    "\n",
    "# Include Edibility Column\n",
    "'''\n",
    "df_bool = mushroom_raw_df[[\"Cap Shape\",\"Cap Color\",\"Gill Size\",\"Stalk Shape\",\n",
    "                            \"Habitat\",\"Edibility\",\"Spore Print Color\",\"Population\",\n",
    "                            \"Odor\",\"Bruising\",\"Ring Type\",\"Stalk Surface Above Ring\",\"Stalk Surface Below Ring\",\n",
    "                            \"Stalk Color Above Ring\",\"Stalk Color Below Ring\",\"Veil Type\",\"Veil Color\",\n",
    "                            ]].isna()\n",
    "#print(df_bool)\n",
    "df_bool.isnull().sum()\n",
    "'''\n",
    "\n",
    "\n",
    "# Exclude Edibility Column\n",
    "df_bool = mushroom_raw_df[[\"Cap Shape\",\"Cap Color\",\"Gill Size\",\"Stalk Shape\",\n",
    "                            \"Habitat\",\"Spore Print Color\",\"Population\",\n",
    "                            \"Odor\",\"Bruising\",\"Ring Type\",\"Stalk Surface Above Ring\",\"Stalk Surface Below Ring\",\n",
    "                            \"Stalk Color Above Ring\",\"Stalk Color Below Ring\",\"Veil Type\",\"Veil Color\",\n",
    "                           ]].isna()\n",
    "#print(df_bool)\n",
    "df_bool.isnull().sum()"
   ]
  },
  {
   "cell_type": "code",
   "execution_count": null,
   "id": "3fcae106-6443-43f7-b8e3-54b7ea7c977d",
   "metadata": {},
   "outputs": [],
   "source": [
    "# include NaN, run describe()\n",
    "mushroom_raw_df.describe()"
   ]
  },
  {
   "cell_type": "code",
   "execution_count": null,
   "id": "ed44278f-78d6-4652-80b5-c5b4ac87d808",
   "metadata": {},
   "outputs": [],
   "source": [
    "# now we drop all rows with any NaN values\n",
    "mushroom_drop_NaN = mushroom_raw_df.dropna()\n",
    "mushroom_drop_NaN.describe()"
   ]
  },
  {
   "cell_type": "markdown",
   "id": "92999da4-30a4-4f89-a016-b33d68d790df",
   "metadata": {},
   "source": [
    "# Before dropping NaN, we had 1000 rows of data, after dropped NaN, we only have 119 rows of data to work with, which is not a good representation of the dataset. I think we should explore other approaches to replace with NaN values."
   ]
  },
  {
   "cell_type": "markdown",
   "id": "640b51e1-787f-4d5c-b16c-e9360871a590",
   "metadata": {},
   "source": [
    "# Identified those columns are mushroom's feature categorical columns, we choose to apply mode to replace NaN with the most common value of a column."
   ]
  },
  {
   "cell_type": "markdown",
   "id": "e448c304-d104-44f4-8859-1b156b7a6976",
   "metadata": {},
   "source": [
    "# With a better understanding of the data, Edibility column is excluded from the mode replacement, as we don't want to misclassify or make inaccurate predictions, mushroom's edibility safely is the highest priority."
   ]
  },
  {
   "cell_type": "code",
   "execution_count": null,
   "id": "392ad211-05fc-43df-af92-3b84034f3ab5",
   "metadata": {},
   "outputs": [],
   "source": [
    "# Exclude Edibility Column, it will be handled seprately soon.\n",
    "for column in mushroom_raw_df.select_dtypes(include=\"object\").columns:\n",
    "    if column != \"Edibility\":\n",
    "        mushroom_raw_df[column].fillna(mushroom_raw_df[column].mode()[0], inplace=True)\n",
    "#print(mushroom_raw_df)\n",
    "#mushroom_raw_df.head(21)\n",
    "#mushroom_raw_df.describe()"
   ]
  },
  {
   "cell_type": "code",
   "execution_count": null,
   "id": "d55ff96b-566f-44c9-9a70-005d50cc9c41",
   "metadata": {},
   "outputs": [],
   "source": [
    "# make a copy of df - which excluded 'Edibility' column\n",
    "mushroom_raw_df_tr=mushroom_raw_df.copy()\n",
    "mushroom_raw_df.info()"
   ]
  },
  {
   "cell_type": "code",
   "execution_count": null,
   "id": "301d01a8-c807-4a91-812e-c8bef0c10d36",
   "metadata": {},
   "outputs": [],
   "source": [
    "# create a treated 'Edibility_Tr1' column hardcode \"NotDefined\"\n",
    "'''\n",
    "mushroom_raw_df_tr=mushroom_raw_df.copy()\n",
    "mushroom_raw_df_tr[\"Edibility_Tr1\"]=mushroom_raw_df_tr[\"Edibility\"].fillna(\"NotDefined_1\")\n",
    "mushroom_raw_df_tr.info()\n",
    "mushroom_raw_df_tr.head(21)\n",
    "'''"
   ]
  },
  {
   "cell_type": "markdown",
   "id": "1567840e-c6c2-442f-8fea-651a2174c812",
   "metadata": {},
   "source": [
    "# We apply SimpleImputer to converted \"Edibility\" column's missing value \"?\" to \"NotDefined_2\". So we can easily identify NotDefined_2 cells are due to be handled when we understand other columns better. First we need to ensure \"Mushroom ID\" are properly indexed. "
   ]
  },
  {
   "cell_type": "code",
   "execution_count": null,
   "id": "9fe30c7e-4e11-43ba-95fb-3f79883470c2",
   "metadata": {},
   "outputs": [],
   "source": [
    "# Appy SimpleImputer to treat \"Edibility\" column\n",
    "from sklearn.impute import SimpleImputer\n",
    "\n",
    "mushroom_raw_df_tr=mushroom_raw_df.copy()\n",
    "\n",
    "# Create \"NotDefined\" with SimpleImputer\n",
    "imp=SimpleImputer(strategy=\"constant\",fill_value=\"NotDefined_2\")\n",
    "\n",
    "# create a treated 'Edibility_Tr2' column by using SimpleImputer fit_transform function\n",
    "mushroom_raw_df_tr[[\"Edibility_Tr2\"]]=imp.fit_transform(mushroom_raw_df_tr[[\"Edibility\"]])\n",
    "#mushroom_raw_df_tr[[\"Edibility_Tr2\"]]\n",
    "mushroom_raw_df_tr\n",
    "#mushroom_raw_df_tr.head(50)\n",
    "\n",
    "# replace treated \"Edibility_Tr2\" with \"Edibility\" column\n",
    "mushroom_raw_df_tr[\"Edibility\"]=mushroom_raw_df_tr[\"Edibility_Tr2\"]\n",
    "mushroom_raw_df_tr.drop([\"Edibility_Tr2\"],axis=\"columns\",inplace=True)\n",
    "mushroom_raw_df_tr"
   ]
  },
  {
   "cell_type": "markdown",
   "id": "1fd002d2-d2b5-430c-bca1-28f36ba34040",
   "metadata": {},
   "source": [
    "# Convert \"Temperature\" from Fahrenheit F to  Celsius C"
   ]
  },
  {
   "cell_type": "code",
   "execution_count": null,
   "id": "6bf2cc08-a044-40ee-aba8-289db960c8d0",
   "metadata": {},
   "outputs": [],
   "source": [
    "#----------Temperature Column------------\n",
    "# Index \"Mushroom ID\" column\n",
    "mushroom_raw_df_tr.set_index(\"Mushroom ID\",inplace=True)\n",
    "#mushroom_raw_df_tr[\"Mushroom ID\"]=pd.to_numeric(mushroom_raw_df_tr[\"Mushroom ID\"], errors=\"coerce\")\n",
    "\n",
    "# Identify rows with F temperatures and convert them to C ( there are no missing data in Temperature column, we have 0 )\n",
    "f_rows=mushroom_raw_df_tr['Measurement']=='F'\n",
    "mushroom_raw_df[\"Temperature_Tr\"]=mushroom_raw_df_tr[\"Temperature\"]\n",
    "mushroom_raw_df_tr.loc[f_rows,\"Temperature\"]=(mushroom_raw_df_tr.loc[f_rows,\"Temperature\"]-32)*5/9\n",
    "\n",
    "# Update the Measurement column to C for these rows\n",
    "mushroom_raw_df_tr.loc[f_rows,\"Measurement\"]=\"C\"\n",
    "\n",
    "# Ensuring \"Mushroom ID\" is indexed correctly\n",
    "#mushroom_raw_df_tr.set_index(\"Mushroom ID\",inplace=True)\n",
    "\n",
    "# Quickly spot check ensuring the F values have been converted to C values\n",
    "#temps_index=mushroom_raw_df_tr.loc[[87,88,99,111,141],\"Temperature\"]\n",
    "#print(mushroom_raw_df_tr)\n",
    "#mushroom_raw_df_tr.head(114)\n",
    "\n",
    "mushroom_raw_df_tr.info() #ensure we now have 1000 rows of data"
   ]
  },
  {
   "cell_type": "markdown",
   "id": "2f73eff4-d51a-4d9d-bbd2-82f15a2384ac",
   "metadata": {},
   "source": [
    "# Investigate has Temperature have any correlation on mushroom's Growth Rate."
   ]
  },
  {
   "cell_type": "code",
   "execution_count": null,
   "id": "2a4f6069-74e1-491a-bf8e-6f50c05d73e4",
   "metadata": {},
   "outputs": [],
   "source": [
    "corr_temp_growth=mushroom_raw_df_tr[[\"Growth Rate\",\"Temperature\"]].corr()\n",
    "corr_temp_growth"
   ]
  },
  {
   "cell_type": "markdown",
   "id": "6a657f31-6b9b-4871-a81c-e5422de918d5",
   "metadata": {},
   "source": [
    "# The correlation value of 0.049409 is very low, indicated a very weak positive correlation between \"Growth Rate\" and \"Temperature\" columns."
   ]
  },
  {
   "cell_type": "code",
   "execution_count": null,
   "id": "fa654804-6a4b-43c0-9800-739278cf1d8f",
   "metadata": {},
   "outputs": [],
   "source": [
    "# Identify outliers in \"Temperature\" column\n",
    "\n",
    "plt.figure(figsize=(10,6))\n",
    "sns.set(style=\"whitegrid\")\n",
    "sns.boxplot(x=\"Temperature\",y=\"Growth Rate\",data=mushroom_raw_df_tr,palette=\"coolwarm\")\n",
    "\n",
    "plt.title(\"Mushroom Temperature Distribution of Outliers\")\n",
    "plt.xlabel(\"Temperature in C\")\n",
    "plt.yticks([])\n",
    "plt.legend()\n",
    "plt.show()\n",
    "\n",
    "\n",
    "# By applying 3 quartiles \n",
    "# Q1 represents 25% of data value below this point\n",
    "# Q2 represents 50% the median point\n",
    "# Q3 represents 75% data value below this point\n",
    "# By working out the difference between Q3 and Q1 to identify data points that are significantly higher or lower than the typical ranage.\n",
    "\n",
    "Q1=mushroom_raw_df_tr[\"Temperature\"].quantile(0.25)\n",
    "Q3=mushroom_raw_df_tr[\"Temperature\"].quantile(0.75)\n",
    "\n",
    "outliers=Q3-Q1\n",
    "print(outliers)\n",
    "\n",
    "plt.figure(figsize=(10,6))\n",
    "sns.set(style=\"whitegrid\")\n",
    "sns.boxplot(x=mushroom_raw_df_tr[\"Temperature\"],palette=\"coolwarm\")\n",
    "plt.title(\"Mushroom Temperature Distribution of Outliers\")\n",
    "plt.xlabel(\"Temperature in C\")\n",
    "plt.legend()\n",
    "plt.show()\n",
    "\n",
    "print(mushroom_raw_df_tr.info())"
   ]
  },
  {
   "cell_type": "markdown",
   "id": "500be662-8618-419a-945b-20eaa9bd3930",
   "metadata": {},
   "source": [
    "# With above mushroom temperature distribution visual, we learned the majority of mushroom growth happens in normal range temperatures, but the minority outliers. It also validated the weak positive correlation between \"Growth Rate\" and \"Temperature\" column from previous correlation analysis."
   ]
  },
  {
   "cell_type": "markdown",
   "id": "a2611f8e-d077-455d-b531-12257d2674c6",
   "metadata": {},
   "source": [
    "# With additional research about growing mushrooms in commercial cultivation farms, we need to include more columns to analyse the mushrooms to investigate what key attributes influence mushroom's Edibility.\n",
    "# Identified columns are: \"Growth Rate\",\"Temperature\",\"Incubation date\",\"Habitat\"."
   ]
  },
  {
   "cell_type": "code",
   "execution_count": null,
   "id": "b4d949c2-026c-40f5-bc3f-a4a43d07785f",
   "metadata": {},
   "outputs": [],
   "source": [
    "'''\n",
    "# The only 2 key dated columns in datasets are \"Inspection Date\" and \"Incubation Date\", we need to convert them to datetime or numeric format\n",
    "# \"Incubation date\"s \"date\" need to be renamed to \"Date\"\n",
    "\n",
    "mushroom_raw_df_tr[\"Incubation Date\"]=mushroom_raw_df_tr[\"Incubation date\"]\n",
    "\n",
    "mushroom_raw_df_tr[\"Inspection Date\"]=pd.to_datetime(mushroom_raw_df_tr[\"Inspection Date\"]) \n",
    "mushroom_raw_df_tr[\"Incubation Date\"]=pd.to_datetime(mushroom_raw_df_tr[\"Incubation Date\"]) \n",
    "\n",
    "# Drop \"Incubation date\" column\n",
    "mushroom_raw_df_tr.drop([\"Incubation date\"],axis=\"columns\",inplace=True)\n",
    "\n",
    "#mushroom_raw_df_tr.info()\n",
    "#mushroom_raw_df_tr.head(50)\n",
    "'''"
   ]
  },
  {
   "cell_type": "code",
   "execution_count": null,
   "id": "b22c02c1-d7c8-4471-89a1-fac2494f0915",
   "metadata": {},
   "outputs": [],
   "source": [
    "# Encode categorical \"Habitat\" column using OneHotEncoder\n",
    "\n",
    "from sklearn.preprocessing import LabelEncoder, OneHotEncoder\n",
    "\n",
    "encoder=LabelEncoder()\n",
    "mushroom_raw_df_tr[\"Habitat\"]=encoder.fit_transform(mushroom_raw_df_tr[\"Habitat\"])\n",
    "\n",
    "unique_habitats=mushroom_raw_df_tr[\"Habitat\"].unique()\n",
    "unique_habitats.sort()\n",
    "\n",
    "## Validate unique 5 encoding: 0,1,2,3,4\n",
    "print(unique_habitats)\n",
    "\n",
    "#mushroom_raw_df_tr.info()\n",
    "#mushroom_raw_df_tr.head(50)"
   ]
  },
  {
   "cell_type": "markdown",
   "id": "a161a357-79c9-431d-8163-290ab83a25dc",
   "metadata": {},
   "source": [
    "# We've managed to cleanse our mushroom dataset by processing missing value with various of techniques. managed to cleanse our mushroom dataset by processing missing values with various techniques.\n",
    "# Next we can carry out in depth analysis and process of \"Edibility\" column with treated new mush_Tr.csv"
   ]
  },
  {
   "cell_type": "code",
   "execution_count": null,
   "id": "4cc8657b-fd86-493e-90df-bb5d8629796a",
   "metadata": {},
   "outputs": [],
   "source": [
    "mush_Tr=pd.read_csv(\"/Users/eupirate/Desktop/CA_data_exp_visdual/mush_Tr.csv\")\n",
    "mush_Tr_with_id=mush_Tr.copy()\n",
    "# Index \"Mushroom ID\" column\n",
    "mush_Tr_with_id.insert(0,\"Mushroom ID\",range(1,1+len(mush_Tr_with_id)))\n",
    "mush_Tr_with_id.set_index(\"Mushroom ID\",inplace=True)\n",
    "#mush_Tr_with_id.head(50)"
   ]
  },
  {
   "cell_type": "markdown",
   "id": "d2f05707-8536-407f-89d6-472e44f7192a",
   "metadata": {},
   "source": [
    "# Let's consider the conditional probability of edibility of each categorical feature and create bins with numerical features.\n",
    "\n",
    "# Habitat - habitat\n",
    "# Growth Rate - GR\n",
    "# Temperature - temp\n",
    "# Incubation Date - ID\n",
    "# Market Demand - MD"
   ]
  },
  {
   "cell_type": "code",
   "execution_count": null,
   "id": "10f5a0e0-1c33-47dc-aa93-2c35d97582ea",
   "metadata": {},
   "outputs": [],
   "source": [
    "# Create bins for \"Habitat\" and calculate the probability \n",
    "prob_by_habitat=mush_Tr_with_id[mush_Tr_with_id[\"Edibility\"]!=\"NotDefined_2\"].groupby(\"Habitat\")[\"Edibility\"].apply(lambda x:(x==\"edible\").mean())\n",
    "prob_by_habitat\n",
    "# weak influence - we may don't have enough data"
   ]
  },
  {
   "cell_type": "code",
   "execution_count": null,
   "id": "cc2c6494-e481-46a3-89c7-80ccddff8378",
   "metadata": {},
   "outputs": [],
   "source": [
    "# Create bins for \"Growth Rate\" and calculate the probability\n",
    "# Create 4 quantile bins\n",
    "GR_bins=pd.qcut(mush_Tr_with_id[\"Growth Rate\"],q=4,duplicates=\"drop\")\n",
    "prob_by_GR_bins=mush_Tr_with_id[mush_Tr_with_id[\"Edibility\"]!=\"NotDefined_2\"].groupby(GR_bins)[\"Edibility\"].apply(lambda x: (x == \"edible\").mean())\n",
    "prob_by_GR_bins\n",
    "# weak influence - we may don't have enough data"
   ]
  },
  {
   "cell_type": "code",
   "execution_count": null,
   "id": "f4a29405-36ba-4031-986a-d0a4bd6e1e40",
   "metadata": {},
   "outputs": [],
   "source": [
    "# Based on the wide range of temperature, we try to normalizae and standardize it\n",
    "from sklearn.preprocessing import StandardScaler\n",
    "scaler=StandardScaler()\n",
    "mush_Tr_with_id[\"Temperature\"]=scaler.fit_transform(mush_Tr_with_id[[\"Temperature\"]])\n",
    "mush_Tr_with_id\n",
    "\n",
    "# Create bins for \"Temperature\"and calculate the probability \n",
    "# Create 4 quantile bins\n",
    "temp_bins=pd.qcut(mush_Tr_with_id[\"Temperature\"],q=4,)\n",
    "prob_by_temp_bins=mush_Tr_with_id[mush_Tr_with_id[\"Edibility\"]!=\"NotDefined_2\"].groupby(temp_bins)[\"Edibility\"].apply(lambda x: (x == \"edible\").mean())\n",
    "prob_by_temp_bins\n",
    "# weak influence - we may don't have enough data"
   ]
  },
  {
   "cell_type": "code",
   "execution_count": null,
   "id": "bb8dccaf-bfec-4c62-b074-88c89f24d2ec",
   "metadata": {},
   "outputs": [],
   "source": [
    "# Convert \"Incubation Date\" to \"Incubation Month\" ensuring there are data for each month and calculate the probability \n",
    "mush_Tr_with_id[\"Incubation Date\"]=pd.to_datetime(mush_Tr_with_id[\"Incubation Date\"],errors=\"coerce\")\n",
    "# Now we have \"Incubation Date\" as datetime object, extract the mon\n",
    "mush_Tr_with_id[\"Incubation Month\"]=mush_Tr_with_id[\"Incubation Date\"].dt.month\n",
    "# Treate any missing values such as NaN and dropna\n",
    "mush_Tr_with_id.dropna(subset=[\"Incubation Month\"],inplace=True)\n",
    "# Calculate the probability of each month\n",
    "prob_by_ID_month=mush_Tr_with_id[mush_Tr_with_id[\"Edibility\"]!=\"NotDefined_2\"].groupby(\"Incubation Month\")[\"Edibility\"].apply(lambda x: (x == \"edible\").mean())\n",
    "prob_by_ID_month\n",
    "# weak influence - we may don't have enough data"
   ]
  },
  {
   "cell_type": "code",
   "execution_count": null,
   "id": "1e375095-ef44-4945-9ae1-4de2836c3059",
   "metadata": {},
   "outputs": [],
   "source": [
    "# Create bins for \"Market Demand\" and calculate the probability \n",
    "# Create 4 quantile bins\n",
    "MD_bins=pd.qcut(mush_Tr_with_id[\"Market Demand\"],q=4,duplicates=\"drop\")\n",
    "prob_by_MD_bins=mush_Tr_with_id[mush_Tr_with_id[\"Edibility\"]!=\"NotDefined_2\"].groupby(MD_bins)[\"Edibility\"].apply(lambda x: (x == \"edible\").mean())\n",
    "prob_by_MD_bins\n",
    "# weak influence - we may don't have enough data"
   ]
  },
  {
   "cell_type": "code",
   "execution_count": null,
   "id": "e67e4dfd-711a-4e76-bac6-a5e46dea7059",
   "metadata": {},
   "outputs": [],
   "source": [
    "# ****From here onwards, will be generated a new version of csv ****"
   ]
  },
  {
   "cell_type": "code",
   "execution_count": null,
   "id": "99e05a92-eec6-4c89-98b0-559d50c76550",
   "metadata": {},
   "outputs": [],
   "source": [
    "from sklearn.preprocessing import LabelEncoder\n",
    "from sklearn.impute import KNNImputer\n",
    "import numpy as np\n",
    "\n",
    "# Read from the latest processed cleansed csv\n",
    "mush_Tr_with_id=pd.read_csv(\"/Users/eupirate/Desktop/CA_data_exp_visdual/mush_Tr_with_imputed_edibility.csv\")\n",
    "\n",
    "# Encode non numerica columns - as error 'sunken' fired up from \"Cap Shape\" column\n",
    "encoders={}\n",
    "for column in mush_Tr_with_id.columns:\n",
    "    if mush_Tr_with_id[column].dtype==object and column != \"Edibility\":\n",
    "        encode=LabelEncoder()\n",
    "        mush_Tr_with_id[column]=encoder.fit_transform(mush_Tr_with_id[column].astype(str))\n",
    "        encoders[column]=encoder\n",
    "#encoders"
   ]
  },
  {
   "cell_type": "code",
   "execution_count": null,
   "id": "272bffba-e945-4ebf-abbb-d5254137c69c",
   "metadata": {},
   "outputs": [],
   "source": [
    "# Replace \"NotDefined_2\" with NaN\n",
    "mush_Tr_with_id[\"Edibility\"]=mush_Tr_with_id[\"Edibility\"].replace(\"NotDefined_2\",np.nan)\n",
    "\n",
    "## Apply KNN 1\n",
    "## imputer=KNNImputer(n_neighbors=5)\n",
    "## mush_Tr_with_id_imputed=imputer.fit_transform(mush_Tr_with_id)\n",
    "\n",
    "# run code at this point, we get \" ValueError: could not convert string to float: 'edible' \"\n",
    "# KNN can't process string but only numerical values. we will need to exclude \"Edibility\" and handle seprately \n",
    "# We temporarily remove \"Edibility\" column and then save it back after complete imputation \n",
    "\n",
    "edibility_column=mush_Tr_with_id[\"Edibility\"]\n",
    "mush_Tr_with_id=mush_Tr_with_id.drop(\"Edibility\",axis=1)\n",
    "\n",
    "# Apply KNN 2\n",
    "imputer=KNNImputer(n_neighbors=5)\n",
    "mush_Tr_with_id_imputed=imputer.fit_transform(mush_Tr_with_id)\n",
    "\n",
    "# Convert imputed np arrary back to a DataFrame\n",
    "mush_Tr_with_id_imputed=pd.DataFrame(mush_Tr_with_id_imputed,columns=mush_Tr_with_id.columns)\n",
    "\n",
    "# Add \"Edibility\" column back to DataFrame\n",
    "mush_Tr_with_id_imputed[\"Edibility\"]=edibility_column.values\n",
    "\n",
    "# mush_Tr_with_id_imputed\n",
    "\n",
    "# Handle Mushroom ID column indexing\n",
    "mush_Tr_with_id_imputed[\"Mushroom ID\"] = mush_Tr_with_id_imputed.index+1\n",
    "\n",
    "# output_file_path = \"/Users/eupirate/Desktop/CA_data_exp_visdual/mush_Tr_with_imputed_edibility.csv\"\n",
    "# mush_Tr_with_id_imputed.to_csv(output_file_path, index=False)"
   ]
  },
  {
   "cell_type": "markdown",
   "id": "99cea7df-4870-4fb8-96ad-63f3fbe7f92d",
   "metadata": {},
   "source": [
    "# Export the latest csv file as \"mush_Tr_with_imputed_edibility.csv\" "
   ]
  },
  {
   "cell_type": "code",
   "execution_count": null,
   "id": "3a80ecab-caca-4c54-a5fb-dc24cf1bafef",
   "metadata": {},
   "outputs": [],
   "source": [
    "num_na_edibility=mush_Tr_with_id_imputed[\"Edibility\"].isna().sum()\n",
    "print(num_na_edibility)"
   ]
  },
  {
   "cell_type": "markdown",
   "id": "90d81281-a39e-46c5-979f-68d1418d1184",
   "metadata": {},
   "source": [
    "# Now we split the \"Edibility\" values into 2 parts, known(edible, poisonous) and unknown (NaN)\n",
    "# Our goal is to apply classification algorithm, use the part with known \"Edibility\" to train a classifier, and using \"Edibility\" as the target variable and the other features as predictors."
   ]
  },
  {
   "cell_type": "code",
   "execution_count": null,
   "id": "b3d0d747-e177-4943-afbd-f71641febc3e",
   "metadata": {},
   "outputs": [],
   "source": [
    "mush_Tr_with_id_imputed.head()"
   ]
  },
  {
   "cell_type": "code",
   "execution_count": null,
   "id": "ef989060-1b2f-4c99-8d2f-92d053055727",
   "metadata": {},
   "outputs": [],
   "source": [
    "known_edibility=mush_Tr_with_id_imputed[mush_Tr_with_id_imputed[\"Edibility\"].notna()]\n",
    "# known_edibility\n",
    "known_edibility=known_edibility.copy()\n",
    "# Encode \"Edibility\" column of all \"known\" values, we then can apply in classification algorithms\n",
    "encoder=LabelEncoder()\n",
    "known_edibility.loc[:,\"Edibility_Encoded\"]=encoder.fit_transform(known_edibility[\"Edibility\"])\n",
    "\n",
    "\n",
    "unknown_edibility=mush_Tr_with_id_imputed[mush_Tr_with_id_imputed[\"Edibility\"].isna()]\n",
    "unknown_edibility"
   ]
  },
  {
   "cell_type": "code",
   "execution_count": null,
   "id": "ac20435d-cb54-4990-97f9-53ac0b6169ff",
   "metadata": {},
   "outputs": [],
   "source": [
    "from sklearn.neighbors import KNeighborsClassifier\n",
    "from sklearn.tree import DecisionTreeClassifier"
   ]
  },
  {
   "cell_type": "code",
   "execution_count": null,
   "id": "a3efa46d-2ed3-4a90-8b11-80e0d6cc21a7",
   "metadata": {},
   "outputs": [],
   "source": [
    "# Split data by known valued to train\n",
    "from sklearn.model_selection import train_test_split\n",
    "X=known_edibility.drop([\"Edibility\",\"Edibility_Encoded\"],axis=1)\n",
    "y=known_edibility[\"Edibility_Encoded\"]\n",
    "\n",
    "X_train,X_test,y_train,y_test=train_test_split(X,y,test_size=0.2,random_state=42)"
   ]
  },
  {
   "cell_type": "code",
   "execution_count": null,
   "id": "677f59f0-279f-42af-ae05-fd296f2b9ca6",
   "metadata": {},
   "outputs": [],
   "source": [
    "# Train KNN and Decision Tree classifier using training set\n",
    "from sklearn.neighbors import KNeighborsClassifier\n",
    "from sklearn.tree import DecisionTreeClassifier\n",
    "\n",
    "# Train the classifiers\n",
    "knn=KNeighborsClassifier()\n",
    "decision_tree=DecisionTreeClassifier()\n",
    "\n",
    "knn.fit(X_train,y_train)\n",
    "decision_tree.fit(X_train,y_train)\n",
    "\n",
    "# Make prediction on the test\n",
    "y_pred_knn=knn.predict(X_test)\n",
    "y_pred_decision_tree=decision_tree.predict(X_test)"
   ]
  },
  {
   "cell_type": "code",
   "execution_count": null,
   "id": "2da0963d-ab61-4d68-a682-0abfbd2ae573",
   "metadata": {},
   "outputs": [],
   "source": [
    "# Evaluate KNN classifier' scores:\n",
    "from sklearn.metrics import classification_report,accuracy_score\n",
    "print(f\"KNN Accuracy:\",accuracy_score(y_test,y_pred_knn))\n",
    "print(f\"KNN Classification Report:\\n\",classification_report(y_test,y_pred_knn))"
   ]
  },
  {
   "cell_type": "markdown",
   "id": "72b3882b-8fcb-4c93-ae10-f2aea341c8b5",
   "metadata": {},
   "source": [
    "KNN Accuracy score at: 0.4157303370786517, which is low. KNN don't perform well with our dataset."
   ]
  },
  {
   "cell_type": "code",
   "execution_count": null,
   "id": "087046f7-228e-4e97-999a-570d56978c28",
   "metadata": {},
   "outputs": [],
   "source": [
    "# Evaluate Decision Tree classifier' scores:\n",
    "print(f\"Decision Tree Accuracy:\",accuracy_score(y_test,y_pred_decision_tree))\n",
    "print(f\"Decision Tree Classification Report:\\n\",classification_report(y_test,y_pred_decision_tree))"
   ]
  },
  {
   "cell_type": "markdown",
   "id": "3ca1dbaf-f1b8-4910-9eab-6f3b1ddca9ea",
   "metadata": {},
   "source": [
    "Decision Tree Accuracy score at: 0.5224719101123596, it performed a little better than KNN classifier but not significantly."
   ]
  },
  {
   "cell_type": "code",
   "execution_count": null,
   "id": "1cc34ad5-344b-4019-adb0-8b20e2849370",
   "metadata": {},
   "outputs": [],
   "source": [
    "# *** visualizations ***"
   ]
  },
  {
   "cell_type": "code",
   "execution_count": null,
   "id": "d6c1f7a1-4dcf-433f-895c-5419d7a71b58",
   "metadata": {},
   "outputs": [],
   "source": [
    "import matplotlib.pyplot as plt\n",
    "import seaborn as sns\n",
    "sns.set(style=\"whitegrid\")\n",
    "mush_Tr_with_id_imputed[\"Edibility\"]=mush_Tr_with_id_imputed[\"Edibility\"].fillna(\"Unknown\")"
   ]
  },
  {
   "cell_type": "code",
   "execution_count": null,
   "id": "8eb153e4-b163-4f79-ab0e-dc8473dfcf8d",
   "metadata": {},
   "outputs": [],
   "source": [
    "# Visualization 1 \n",
    "# Distribution of Edible and Poisonous Mushroom ( Unclassified = Unknown )\n",
    "plt.figure(figsize=(10, 6))\n",
    "sns.countplot(x=\"Edibility\",data=mush_Tr_with_id_imputed,palette=\"coolwarm\")\n",
    "plt.title(\"Distribution of Edible vs Poisonous Mushrooms\")\n",
    "plt.ylabel(\"Count\")\n",
    "plt.xlabel(\"Edibility Status\")\n",
    "plt.show()"
   ]
  },
  {
   "cell_type": "code",
   "execution_count": null,
   "id": "46b2b1f6-0810-49ed-89a8-4364b69b46a8",
   "metadata": {},
   "outputs": [],
   "source": [
    "# Visualization 2\n",
    "# Market Demand by EEdibility\n",
    "plt.figure(figsize=(10, 6))\n",
    "sns.boxplot(x=\"Edibility\", y=\"Market Demand\",data=mush_Tr_with_id_imputed, palette=\"coolwarm\")\n",
    "plt.title(\"Market Demand by Edibility\")\n",
    "plt.ylabel(\"Market Demand\")\n",
    "plt.xlabel(\"Edibility Status\")\n",
    "plt.show()"
   ]
  },
  {
   "cell_type": "code",
   "execution_count": null,
   "id": "973ff8c9-dcf7-4219-b305-68350be0c0f5",
   "metadata": {},
   "outputs": [],
   "source": [
    "# Visualization 3\n",
    "# Habitat Distribution of Mushrooms\n",
    "plt.figure(figsize=(10, 6))\n",
    "habitat_counts=mush_Tr_with_id_imputed[\"Habitat\"].value_counts()\n",
    "habitat_labels=habitat_counts.index\n",
    "plt.pie(habitat_counts,labels=habitat_labels,autopct=\"%1.1f%%\",startangle=140,colors=sns.color_palette(\"Set2\"))\n",
    "plt.title(\"Habitat Distribution of Mushrooms\")\n",
    "plt.axis(\"equal\")  \n",
    "plt.show()"
   ]
  },
  {
   "cell_type": "code",
   "execution_count": null,
   "id": "d8464e4b-5d8b-4c2a-a76d-5b6b5a7a366d",
   "metadata": {},
   "outputs": [],
   "source": [
    "# Visualization 4\n",
    "# Temperature Range for Mushroom Growth\n",
    "plt.figure(figsize=(10, 6))\n",
    "sns.histplot(data=mush_Tr_with_id_imputed,x=\"Temperature\", hue=\"Edibility\", multiple=\"stack\", palette=\"cool\")\n",
    "plt.title(\"Temperature Range of Mushroom's Growth\")\n",
    "plt.xlabel(\"Temperature\")\n",
    "plt.ylabel(\"Count\")\n",
    "plt.show()"
   ]
  },
  {
   "cell_type": "code",
   "execution_count": null,
   "id": "ffe82a7c-ce56-490f-9ab4-2933d897d357",
   "metadata": {},
   "outputs": [],
   "source": [
    "# Visualization 5 - drop\n",
    "# Correlation Heatmap\n",
    "plt.figure(figsize=(14, 10))\n",
    "correlation_matrix=mush_Tr_with_id_imputed.select_dtypes(include=[\"float64\", \"int64\"]).corr()\n",
    "sns.heatmap(correlation_matrix,annot=True,cmap=\"coolwarm\",fmt=\".2f\")\n",
    "plt.title(\"Correlation Heatmap of Mushroom Attributes\")\n",
    "plt.show()"
   ]
  },
  {
   "cell_type": "markdown",
   "id": "1d218324-82fb-4856-b11d-ca1d09e72dff",
   "metadata": {},
   "source": [
    "\n",
    "Conclusion:\n",
    "\n",
    "Consider the risk of mushroom's Edibility when wrong predictions are made can be dangerous.\n",
    "Given the datase and dictionary, we don't know how the raw data was collected, processed, were there human errors or sensor errors.\n",
    "\n",
    "According to the Mushroom's Edibility Unknown category data, it is not positioned in extreme low or high of Market Demand, so it’s worth exploring further to unfold the potential commercial value.\n",
    "\n",
    "For the business standpoint, we would recommend holding these mushrooms off for sales for further analysis, testing and classifying.\n",
    "We recommend consulting with domain experts and seek their advice, based on these mushroom's characteristics and what additional features we should explore and identify for official certification if they turned out to be Edible.\n",
    "\n",
    "With additional research, we are recommending these resources for this agriculture company seeking professional advice and evaluating the current classification process and obtaining ISO standard to prevent unknown, low quality data leaking into the rest of the business pipeline.\n",
    "\n",
    "According to data, China, US and Japan are the highest mushroom producers in the world. Here are some useful resources to assist.\n"
   ]
  }
 ],
 "metadata": {
  "kernelspec": {
   "display_name": "Python 3 (ipykernel)",
   "language": "python",
   "name": "python3"
  },
  "language_info": {
   "codemirror_mode": {
    "name": "ipython",
    "version": 3
   },
   "file_extension": ".py",
   "mimetype": "text/x-python",
   "name": "python",
   "nbconvert_exporter": "python",
   "pygments_lexer": "ipython3",
   "version": "3.11.5"
  }
 },
 "nbformat": 4,
 "nbformat_minor": 5
}
