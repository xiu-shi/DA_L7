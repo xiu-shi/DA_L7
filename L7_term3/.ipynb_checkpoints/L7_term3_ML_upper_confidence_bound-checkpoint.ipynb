{
 "cells": [
  {
   "cell_type": "code",
   "execution_count": 1,
   "id": "e51604ad-4254-4000-bf41-88b6e2c64ae9",
   "metadata": {},
   "outputs": [],
   "source": [
    "#Importing the libraries\n",
    "\n",
    "import pandas as pd\n",
    "import numpy as np\n",
    "import matplotlib.pyplot as plt\n",
    "import math"
   ]
  },
  {
   "cell_type": "code",
   "execution_count": 2,
   "id": "e5003010-10b6-489b-9104-b7611b5f86b5",
   "metadata": {},
   "outputs": [
    {
     "data": {
      "text/html": [
       "<div>\n",
       "<style scoped>\n",
       "    .dataframe tbody tr th:only-of-type {\n",
       "        vertical-align: middle;\n",
       "    }\n",
       "\n",
       "    .dataframe tbody tr th {\n",
       "        vertical-align: top;\n",
       "    }\n",
       "\n",
       "    .dataframe thead th {\n",
       "        text-align: right;\n",
       "    }\n",
       "</style>\n",
       "<table border=\"1\" class=\"dataframe\">\n",
       "  <thead>\n",
       "    <tr style=\"text-align: right;\">\n",
       "      <th></th>\n",
       "      <th>Ad 1</th>\n",
       "      <th>Ad 2</th>\n",
       "      <th>Ad 3</th>\n",
       "      <th>Ad 4</th>\n",
       "      <th>Ad 5</th>\n",
       "      <th>Ad 6</th>\n",
       "      <th>Ad 7</th>\n",
       "      <th>Ad 8</th>\n",
       "      <th>Ad 9</th>\n",
       "      <th>Ad 10</th>\n",
       "    </tr>\n",
       "  </thead>\n",
       "  <tbody>\n",
       "    <tr>\n",
       "      <th>0</th>\n",
       "      <td>1</td>\n",
       "      <td>0</td>\n",
       "      <td>0</td>\n",
       "      <td>0</td>\n",
       "      <td>1</td>\n",
       "      <td>0</td>\n",
       "      <td>0</td>\n",
       "      <td>0</td>\n",
       "      <td>1</td>\n",
       "      <td>0</td>\n",
       "    </tr>\n",
       "    <tr>\n",
       "      <th>1</th>\n",
       "      <td>0</td>\n",
       "      <td>0</td>\n",
       "      <td>0</td>\n",
       "      <td>0</td>\n",
       "      <td>0</td>\n",
       "      <td>0</td>\n",
       "      <td>0</td>\n",
       "      <td>0</td>\n",
       "      <td>1</td>\n",
       "      <td>0</td>\n",
       "    </tr>\n",
       "    <tr>\n",
       "      <th>2</th>\n",
       "      <td>0</td>\n",
       "      <td>0</td>\n",
       "      <td>0</td>\n",
       "      <td>0</td>\n",
       "      <td>0</td>\n",
       "      <td>0</td>\n",
       "      <td>0</td>\n",
       "      <td>0</td>\n",
       "      <td>0</td>\n",
       "      <td>0</td>\n",
       "    </tr>\n",
       "    <tr>\n",
       "      <th>3</th>\n",
       "      <td>0</td>\n",
       "      <td>1</td>\n",
       "      <td>0</td>\n",
       "      <td>0</td>\n",
       "      <td>0</td>\n",
       "      <td>0</td>\n",
       "      <td>0</td>\n",
       "      <td>1</td>\n",
       "      <td>0</td>\n",
       "      <td>0</td>\n",
       "    </tr>\n",
       "    <tr>\n",
       "      <th>4</th>\n",
       "      <td>0</td>\n",
       "      <td>0</td>\n",
       "      <td>0</td>\n",
       "      <td>0</td>\n",
       "      <td>0</td>\n",
       "      <td>0</td>\n",
       "      <td>0</td>\n",
       "      <td>0</td>\n",
       "      <td>0</td>\n",
       "      <td>0</td>\n",
       "    </tr>\n",
       "  </tbody>\n",
       "</table>\n",
       "</div>"
      ],
      "text/plain": [
       "   Ad 1  Ad 2  Ad 3  Ad 4  Ad 5  Ad 6  Ad 7  Ad 8  Ad 9  Ad 10\n",
       "0     1     0     0     0     1     0     0     0     1      0\n",
       "1     0     0     0     0     0     0     0     0     1      0\n",
       "2     0     0     0     0     0     0     0     0     0      0\n",
       "3     0     1     0     0     0     0     0     1     0      0\n",
       "4     0     0     0     0     0     0     0     0     0      0"
      ]
     },
     "execution_count": 2,
     "metadata": {},
     "output_type": "execute_result"
    }
   ],
   "source": [
    "dataset=pd.read_csv('/Users/eupirate/Documents/DA_L7/L7_term3/L7_term3_MLAds_CTR.csv')\n",
    "dataset.head()"
   ]
  },
  {
   "cell_type": "code",
   "execution_count": 3,
   "id": "5878d0aa-36c4-437f-a1c0-69177c5dff62",
   "metadata": {},
   "outputs": [],
   "source": [
    "#Step 1: At each round \"n\" we consider two numbers for each ad i\n",
    "#Ni(n) = the number of times the ad i was selected up to round n\n",
    "#Ri(n) = the sum of rewards of the ad i up to round n\n",
    "\n",
    "N = 1000 #number of users\n",
    "d = 10 #number of ads\n",
    "ads_selected = []\n",
    "numbers_of_selections = [0] * d #we use here only the observations that contain 0 #Ni(n)\n",
    "sums_of_rewards = [0] * d #sum of rewards for each of the variables #Ri(n)\n",
    "total_reward = 0 #total reward accumulated during the time that we are working. It starts from 0 because nothing happen\n",
    "                #at the momento zero, when we begin the process\n",
    "#Step 2: We create a for loop from 0 up to round 10k (N) and in each round, we will see the average reward of ad i up to round n\n",
    "\n",
    "#We also here create the confidence interval to select the ad with the highest UCB.\n",
    "for n in range(0, N): #n is the variable name because they are the rounds\n",
    "    ad = 0 #we start from the first ad (index is 0)\n",
    "    max_upper_bound = 0 #we create the variable max ucb \n",
    "    for i in range(0, d): #second loop will iterate the ads (results from 1 to 10)\n",
    "        if (numbers_of_selections[i] > 0): # if it is larger than 0, the add was selected at least once\n",
    "            average_reward = sums_of_rewards[i] / numbers_of_selections[i] #r bar is an average of rewards\n",
    "            delta_i = math.sqrt(3/2 * math.log(n + 1) / numbers_of_selections[i]) # we build here the CI\n",
    "            upper_bound = average_reward + delta_i #last calculation: rbar + delta(n)\n",
    "        else:\n",
    "            upper_bound = 1e400 #we set a super high value for the confidence\n",
    "        if upper_bound > max_upper_bound: #if the upper band is larger than the max upper bound we set\n",
    "            max_upper_bound = upper_bound # we update the max upper bound value\n",
    "            ad = i #this is the value that we are using at the beginning of the loop\n",
    "            \n",
    "    #We go now to the first for loop of this second step to complete the model\n",
    "    \n",
    "    ads_selected.append(ad) #this is the full list of all the ads selected\n",
    "    numbers_of_selections[ad] = numbers_of_selections[ad] + 1 #we modify the number of selections created in the loop\n",
    "    reward = dataset.values[n, ad] #we count the rewards from the dataset \n",
    "    sums_of_rewards[ad] = sums_of_rewards[ad] + reward # we update the sum of rewards, and the rewards is in the dataset\n",
    "    total_reward = total_reward + reward #we modify the total reward and add the reward variable in the end"
   ]
  },
  {
   "cell_type": "code",
   "execution_count": 4,
   "id": "8295f256-1900-4127-bd41-e3f789d1cc24",
   "metadata": {},
   "outputs": [
    {
     "data": {
      "image/png": "[encoded data removed]",
      "text/plain": [
       "<Figure size 640x480 with 1 Axes>"
      ]
     },
     "metadata": {},
     "output_type": "display_data"
    }
   ],
   "source": [
    "#We visualise the results\n",
    "\n",
    "plt.hist(ads_selected)\n",
    "plt.title('Histogram of ads selection')\n",
    "plt.xlabel('Ads')\n",
    "plt.ylabel('Number of time that each ad was selected')\n",
    "plt.show()"
   ]
  },
  {
   "cell_type": "code",
   "execution_count": null,
   "id": "f8982cbd-eff2-4c71-b2cc-fec8d46c96b6",
   "metadata": {},
   "outputs": [],
   "source": []
  },
  {
   "cell_type": "code",
   "execution_count": null,
   "id": "6c35667d-9a3c-4a47-98ee-fc813db8c52c",
   "metadata": {},
   "outputs": [],
   "source": []
  }
 ],
 "metadata": {
  "kernelspec": {
   "display_name": "Python 3 (ipykernel)",
   "language": "python",
   "name": "python3"
  },
  "language_info": {
   "codemirror_mode": {
    "name": "ipython",
    "version": 3
   },
   "file_extension": ".py",
   "mimetype": "text/x-python",
   "name": "python",
   "nbconvert_exporter": "python",
   "pygments_lexer": "ipython3",
   "version": "3.11.5"
  }
 },
 "nbformat": 4,
 "nbformat_minor": 5
}
