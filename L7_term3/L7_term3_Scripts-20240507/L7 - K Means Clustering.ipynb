{
 "cells": [
  {
   "cell_type": "code",
   "execution_count": 1,
   "id": "6bcf7278",
   "metadata": {},
   "outputs": [],
   "source": [
    "#Importing the libraries\n",
    "\n",
    "import pandas as pd\n",
    "import numpy as np\n",
    "import matplotlib.pyplot as plt\n",
    "import warnings\n",
    "warnings.filterwarnings('ignore')"
   ]
  },
  {
   "cell_type": "code",
   "execution_count": 2,
   "id": "dab0d889",
   "metadata": {},
   "outputs": [
    {
     "data": {
      "text/html": [
       "<div>\n",
       "<style scoped>\n",
       "    .dataframe tbody tr th:only-of-type {\n",
       "        vertical-align: middle;\n",
       "    }\n",
       "\n",
       "    .dataframe tbody tr th {\n",
       "        vertical-align: top;\n",
       "    }\n",
       "\n",
       "    .dataframe thead th {\n",
       "        text-align: right;\n",
       "    }\n",
       "</style>\n",
       "<table border=\"1\" class=\"dataframe\">\n",
       "  <thead>\n",
       "    <tr style=\"text-align: right;\">\n",
       "      <th></th>\n",
       "      <th>Production Budget(M)</th>\n",
       "      <th>Worldwide Gross Income (M)</th>\n",
       "      <th>Genre</th>\n",
       "    </tr>\n",
       "  </thead>\n",
       "  <tbody>\n",
       "    <tr>\n",
       "      <th>0</th>\n",
       "      <td>13</td>\n",
       "      <td>230</td>\n",
       "      <td>action</td>\n",
       "    </tr>\n",
       "    <tr>\n",
       "      <th>1</th>\n",
       "      <td>16</td>\n",
       "      <td>224</td>\n",
       "      <td>drama</td>\n",
       "    </tr>\n",
       "    <tr>\n",
       "      <th>2</th>\n",
       "      <td>15</td>\n",
       "      <td>221</td>\n",
       "      <td>thriller_suspense</td>\n",
       "    </tr>\n",
       "    <tr>\n",
       "      <th>3</th>\n",
       "      <td>14</td>\n",
       "      <td>202</td>\n",
       "      <td>adventure</td>\n",
       "    </tr>\n",
       "    <tr>\n",
       "      <th>4</th>\n",
       "      <td>16</td>\n",
       "      <td>198</td>\n",
       "      <td>adventure</td>\n",
       "    </tr>\n",
       "  </tbody>\n",
       "</table>\n",
       "</div>"
      ],
      "text/plain": [
       "   Production Budget(M)  Worldwide Gross Income (M)              Genre\n",
       "0                    13                         230             action\n",
       "1                    16                         224              drama\n",
       "2                    15                         221  thriller_suspense\n",
       "3                    14                         202          adventure\n",
       "4                    16                         198          adventure"
      ]
     },
     "execution_count": 2,
     "metadata": {},
     "output_type": "execute_result"
    }
   ],
   "source": [
    "dataset = pd.read_csv('C:/Users/miant/Desktop/Python/Movies.csv')\n",
    "dataset.head()"
   ]
  },
  {
   "cell_type": "code",
   "execution_count": 3,
   "id": "85ea13cd",
   "metadata": {},
   "outputs": [],
   "source": [
    "#We define the X\n",
    "X = dataset.iloc[:,[0,1]].values"
   ]
  },
  {
   "cell_type": "code",
   "execution_count": 4,
   "id": "dc0ec10b",
   "metadata": {},
   "outputs": [
    {
     "data": {
      "image/png": "[encoded data removed]",
      "text/plain": [
       "<Figure size 640x480 with 1 Axes>"
      ]
     },
     "metadata": {},
     "output_type": "display_data"
    }
   ],
   "source": [
    "#We conduct the Elbow method to select the best number of clusters\n",
    "from sklearn.cluster import KMeans\n",
    "\n",
    "wcss = []\n",
    "for i in range(1,11):\n",
    "    kmeans = KMeans(n_clusters = i, init = 'k-means++', random_state=0)\n",
    "    kmeans.fit(X)\n",
    "    wcss.append(kmeans.inertia_)\n",
    "plt.plot(range(1,11),wcss)\n",
    "plt.title('The Elbow Method')\n",
    "plt.xlabel('Number of Clusters')\n",
    "plt.ylabel('WCSS')\n",
    "plt.show()"
   ]
  },
  {
   "cell_type": "code",
   "execution_count": 5,
   "id": "834b5b41",
   "metadata": {},
   "outputs": [],
   "source": [
    "#We create our y\n",
    "kmeans = KMeans(n_clusters = 3, init = 'k-means++', random_state = 0)\n",
    "y = kmeans.fit_predict(X)"
   ]
  },
  {
   "cell_type": "code",
   "execution_count": 6,
   "id": "5ab2ec95",
   "metadata": {},
   "outputs": [],
   "source": [
    "#Append the y into the dataset\n",
    "dataset['Movie_Type'] = y"
   ]
  },
  {
   "cell_type": "code",
   "execution_count": 7,
   "id": "78d32874",
   "metadata": {},
   "outputs": [
    {
     "data": {
      "text/html": [
       "<div>\n",
       "<style scoped>\n",
       "    .dataframe tbody tr th:only-of-type {\n",
       "        vertical-align: middle;\n",
       "    }\n",
       "\n",
       "    .dataframe tbody tr th {\n",
       "        vertical-align: top;\n",
       "    }\n",
       "\n",
       "    .dataframe thead th {\n",
       "        text-align: right;\n",
       "    }\n",
       "</style>\n",
       "<table border=\"1\" class=\"dataframe\">\n",
       "  <thead>\n",
       "    <tr style=\"text-align: right;\">\n",
       "      <th></th>\n",
       "      <th>Production Budget(M)</th>\n",
       "      <th>Worldwide Gross Income (M)</th>\n",
       "      <th>Genre</th>\n",
       "      <th>Movie_Type</th>\n",
       "    </tr>\n",
       "  </thead>\n",
       "  <tbody>\n",
       "    <tr>\n",
       "      <th>0</th>\n",
       "      <td>13</td>\n",
       "      <td>230</td>\n",
       "      <td>action</td>\n",
       "      <td>1</td>\n",
       "    </tr>\n",
       "    <tr>\n",
       "      <th>1</th>\n",
       "      <td>16</td>\n",
       "      <td>224</td>\n",
       "      <td>drama</td>\n",
       "      <td>1</td>\n",
       "    </tr>\n",
       "    <tr>\n",
       "      <th>2</th>\n",
       "      <td>15</td>\n",
       "      <td>221</td>\n",
       "      <td>thriller_suspense</td>\n",
       "      <td>1</td>\n",
       "    </tr>\n",
       "    <tr>\n",
       "      <th>3</th>\n",
       "      <td>14</td>\n",
       "      <td>202</td>\n",
       "      <td>adventure</td>\n",
       "      <td>1</td>\n",
       "    </tr>\n",
       "    <tr>\n",
       "      <th>4</th>\n",
       "      <td>16</td>\n",
       "      <td>198</td>\n",
       "      <td>adventure</td>\n",
       "      <td>1</td>\n",
       "    </tr>\n",
       "    <tr>\n",
       "      <th>...</th>\n",
       "      <td>...</td>\n",
       "      <td>...</td>\n",
       "      <td>...</td>\n",
       "      <td>...</td>\n",
       "    </tr>\n",
       "    <tr>\n",
       "      <th>95</th>\n",
       "      <td>37</td>\n",
       "      <td>16</td>\n",
       "      <td>adventure</td>\n",
       "      <td>0</td>\n",
       "    </tr>\n",
       "    <tr>\n",
       "      <th>96</th>\n",
       "      <td>32</td>\n",
       "      <td>19</td>\n",
       "      <td>action</td>\n",
       "      <td>0</td>\n",
       "    </tr>\n",
       "    <tr>\n",
       "      <th>97</th>\n",
       "      <td>31</td>\n",
       "      <td>17</td>\n",
       "      <td>action</td>\n",
       "      <td>0</td>\n",
       "    </tr>\n",
       "    <tr>\n",
       "      <th>98</th>\n",
       "      <td>26</td>\n",
       "      <td>16</td>\n",
       "      <td>western</td>\n",
       "      <td>0</td>\n",
       "    </tr>\n",
       "    <tr>\n",
       "      <th>99</th>\n",
       "      <td>20</td>\n",
       "      <td>14</td>\n",
       "      <td>action</td>\n",
       "      <td>0</td>\n",
       "    </tr>\n",
       "  </tbody>\n",
       "</table>\n",
       "<p>100 rows × 4 columns</p>\n",
       "</div>"
      ],
      "text/plain": [
       "    Production Budget(M)  Worldwide Gross Income (M)              Genre  \\\n",
       "0                     13                         230             action   \n",
       "1                     16                         224              drama   \n",
       "2                     15                         221  thriller_suspense   \n",
       "3                     14                         202          adventure   \n",
       "4                     16                         198          adventure   \n",
       "..                   ...                         ...                ...   \n",
       "95                    37                          16          adventure   \n",
       "96                    32                          19             action   \n",
       "97                    31                          17             action   \n",
       "98                    26                          16            western   \n",
       "99                    20                          14             action   \n",
       "\n",
       "    Movie_Type  \n",
       "0            1  \n",
       "1            1  \n",
       "2            1  \n",
       "3            1  \n",
       "4            1  \n",
       "..         ...  \n",
       "95           0  \n",
       "96           0  \n",
       "97           0  \n",
       "98           0  \n",
       "99           0  \n",
       "\n",
       "[100 rows x 4 columns]"
      ]
     },
     "execution_count": 7,
     "metadata": {},
     "output_type": "execute_result"
    }
   ],
   "source": [
    "dataset"
   ]
  },
  {
   "cell_type": "markdown",
   "id": "8ad61a71",
   "metadata": {},
   "source": [
    "# We will prepare for classification model"
   ]
  },
  {
   "cell_type": "code",
   "execution_count": 8,
   "id": "6453ad59",
   "metadata": {},
   "outputs": [],
   "source": [
    "from sklearn.model_selection import train_test_split\n",
    "from sklearn.preprocessing import StandardScaler\n",
    "from sklearn.metrics import accuracy_score\n",
    "from sklearn.svm import SVC\n",
    "from sklearn.ensemble import RandomForestClassifier\n",
    "from sklearn.tree import DecisionTreeClassifier\n",
    "from sklearn.neighbors import KNeighborsClassifier\n",
    "from sklearn.naive_bayes import GaussianNB"
   ]
  },
  {
   "cell_type": "code",
   "execution_count": 9,
   "id": "6e2cfd64",
   "metadata": {},
   "outputs": [],
   "source": [
    "#We define X and y\n",
    "\n",
    "X = dataset.iloc[:, :2].values\n",
    "y = dataset.iloc[:, -1].values\n"
   ]
  },
  {
   "cell_type": "code",
   "execution_count": 10,
   "id": "e960c02c",
   "metadata": {},
   "outputs": [],
   "source": [
    "#Splitting into training and test set\n",
    "\n",
    "from sklearn.model_selection import train_test_split\n",
    "X_train, X_test, y_train, y_test = train_test_split(X, y, test_size = 0.25, random_state = 0)"
   ]
  },
  {
   "cell_type": "code",
   "execution_count": 11,
   "id": "99a765f5",
   "metadata": {},
   "outputs": [],
   "source": [
    "#Feature scaling\n",
    "\n",
    "from sklearn.preprocessing import StandardScaler\n",
    "sc = StandardScaler()\n",
    "X_train = sc.fit_transform(X_train)\n",
    "X_test = sc.transform(X_test)"
   ]
  },
  {
   "cell_type": "code",
   "execution_count": 12,
   "id": "a2712c35",
   "metadata": {},
   "outputs": [],
   "source": [
    "#We initialise the classifiers\n",
    "\n",
    "classifiers = {\n",
    "    'SVM Classifier': SVC(),\n",
    "    'Random Forest Classifier': RandomForestClassifier(),\n",
    "    'Decision Tree Classifier': DecisionTreeClassifier(),\n",
    "    'KNN Classifier': KNeighborsClassifier(),\n",
    "    'Naive Bayes Classifier': GaussianNB()\n",
    "}"
   ]
  },
  {
   "cell_type": "code",
   "execution_count": 13,
   "id": "f6e5442c",
   "metadata": {},
   "outputs": [
    {
     "name": "stdout",
     "output_type": "stream",
     "text": [
      "SVM Classifier:1.00\n",
      "Random Forest Classifier:1.00\n",
      "Decision Tree Classifier:1.00\n",
      "KNN Classifier:1.00\n",
      "Naive Bayes Classifier:1.00\n"
     ]
    }
   ],
   "source": [
    "#We train and evalute the models\n",
    "\n",
    "results = {}\n",
    "for name, clf in classifiers.items():\n",
    "    clf.fit(X_train, y_train)\n",
    "    y_pred = clf.predict(X_test)\n",
    "    accuracy = accuracy_score(y_test, y_pred)\n",
    "    results[name] = accuracy\n",
    "#Print the results\n",
    "for name, accuracy in results.items():\n",
    "    print(f\"{name}:{accuracy:.2f}\")"
   ]
  },
  {
   "cell_type": "code",
   "execution_count": 14,
   "id": "3e97d0a7",
   "metadata": {},
   "outputs": [],
   "source": [
    "#We conduct Cross validation with decision tree to see if there is over fitting\n",
    "\n",
    "from sklearn.model_selection import cross_val_score\n",
    "from sklearn.tree import DecisionTreeRegressor\n",
    "# Initialise the Decision Tree Regressor\n",
    "tree_reg = DecisionTreeRegressor(random_state=0)"
   ]
  },
  {
   "cell_type": "code",
   "execution_count": 15,
   "id": "58c15687",
   "metadata": {},
   "outputs": [],
   "source": [
    "# Perform 10-fold cross-validation\n",
    "scores = cross_val_score(tree_reg, X, y, cv=10, scoring='neg_mean_squared_error')"
   ]
  },
  {
   "cell_type": "code",
   "execution_count": 16,
   "id": "7e6ff130",
   "metadata": {},
   "outputs": [],
   "source": [
    "# Calculate RMSE (Root Mean Squared Error) for each fold\n",
    "rmse_scores = np.sqrt(-scores)"
   ]
  },
  {
   "cell_type": "code",
   "execution_count": 17,
   "id": "d72a5e1b",
   "metadata": {},
   "outputs": [
    {
     "name": "stdout",
     "output_type": "stream",
     "text": [
      "Scores: [0. 0. 0. 0. 0. 0. 0. 0. 0. 0.]\n",
      "Mean: 0.0\n",
      "Standard deviation: 0.0\n"
     ]
    }
   ],
   "source": [
    "# Print the results\n",
    "print(\"Scores:\", rmse_scores)\n",
    "print(\"Mean:\", rmse_scores.mean())\n",
    "print(\"Standard deviation:\", rmse_scores.std())"
   ]
  },
  {
   "cell_type": "code",
   "execution_count": null,
   "id": "5020d487",
   "metadata": {},
   "outputs": [],
   "source": []
  }
 ],
 "metadata": {
  "kernelspec": {
   "display_name": "Python 3 (ipykernel)",
   "language": "python",
   "name": "python3"
  },
  "language_info": {
   "codemirror_mode": {
    "name": "ipython",
    "version": 3
   },
   "file_extension": ".py",
   "mimetype": "text/x-python",
   "name": "python",
   "nbconvert_exporter": "python",
   "pygments_lexer": "ipython3",
   "version": "3.11.5"
  }
 },
 "nbformat": 4,
 "nbformat_minor": 5
}
