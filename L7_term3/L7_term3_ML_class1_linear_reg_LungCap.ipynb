{
 "cells": [
  {
   "cell_type": "code",
   "execution_count": 1,
   "id": "0b6d10bc-a70a-46ca-a744-c3324b65cfa8",
   "metadata": {},
   "outputs": [],
   "source": [
    "import pandas as pd\n",
    "from sklearn.model_selection import train_test_split\n",
    "from sklearn.linear_model import LinearRegression\n"
   ]
  },
  {
   "cell_type": "code",
   "execution_count": 2,
   "id": "50f6a409-3c88-4dd6-bc66-c5b53f04f812",
   "metadata": {},
   "outputs": [
    {
     "data": {
      "text/plain": [
       "'\\nfrom sklearn.metrics import mean_squared_error, r2_score\\n\\n\\n\\ndata=pd.read_csv(\"/Users/eupirate/Documents/DA_L7/L7_term3/term3_ml_LungCapData.csv\")\\n\\n# Convert \\'Smoke\\' and \\'Gender\\' to binary numerical values\\ndata[\\'Smoke\\'] = data[\\'Smoke\\'].map({\\'no\\': 0, \\'yes\\': 1})\\ndata[\\'Gender\\'] = data[\\'Gender\\'].map({\\'male\\': 0, \\'female\\': 1})\\n\\n# Split the data into independent variables (X) and dependent variable (y)\\nX = data[[\\'Age\\', \\'Height\\', \\'Smoke\\', \\'Gender\\']]\\ny = data[\\'LungCap\\']\\n\\n# Split the data into training and testing sets\\nX_train, X_test, y_train, y_test = train_test_split(X, y, test_size=0.2, random_state=42)\\n\\n# Initialize and train the linear regression model\\nmodel = LinearRegression()\\nmodel.fit(X_train, y_train)\\n\\n# Predictions\\ny_pred = model.predict(X_test)\\n\\n# Evaluate the model\\nmse = mean_squared_error(y_test, y_pred)\\nr2 = r2_score(y_test, y_pred)\\n\\n# Display model performance\\nmse, r2\\n\\n'"
      ]
     },
     "execution_count": 2,
     "metadata": {},
     "output_type": "execute_result"
    }
   ],
   "source": [
    "'''\n",
    "from sklearn.metrics import mean_squared_error, r2_score\n",
    "\n",
    "\n",
    "\n",
    "data=pd.read_csv(\"/Users/eupirate/Documents/DA_L7/L7_term3/term3_ml_LungCapData.csv\")\n",
    "\n",
    "# Convert 'Smoke' and 'Gender' to binary numerical values\n",
    "data['Smoke'] = data['Smoke'].map({'no': 0, 'yes': 1})\n",
    "data['Gender'] = data['Gender'].map({'male': 0, 'female': 1})\n",
    "\n",
    "# Split the data into independent variables (X) and dependent variable (y)\n",
    "X = data[['Age', 'Height', 'Smoke', 'Gender']]\n",
    "y = data['LungCap']\n",
    "\n",
    "# Split the data into training and testing sets\n",
    "X_train, X_test, y_train, y_test = train_test_split(X, y, test_size=0.2, random_state=42)\n",
    "\n",
    "# Initialize and train the linear regression model\n",
    "model = LinearRegression()\n",
    "model.fit(X_train, y_train)\n",
    "\n",
    "# Predictions\n",
    "y_pred = model.predict(X_test)\n",
    "\n",
    "# Evaluate the model\n",
    "mse = mean_squared_error(y_test, y_pred)\n",
    "r2 = r2_score(y_test, y_pred)\n",
    "\n",
    "# Display model performance\n",
    "mse, r2\n",
    "\n",
    "'''\n"
   ]
  },
  {
   "cell_type": "code",
   "execution_count": 3,
   "id": "7b64447e-968c-4c12-8ded-22ed7b724e3e",
   "metadata": {},
   "outputs": [
    {
     "data": {
      "text/plain": [
       "(1.1333866182924492, 0.8383420690060891)"
      ]
     },
     "execution_count": 3,
     "metadata": {},
     "output_type": "execute_result"
    }
   ],
   "source": [
    "from sklearn.preprocessing import OneHotEncoder\n",
    "from sklearn.compose import ColumnTransformer\n",
    "from sklearn.metrics import mean_squared_error, r2_score\n",
    "\n",
    "data=pd.read_csv(\"/Users/eupirate/Documents/DA_L7/L7_term3/term3_ml_LungCapData.csv\")\n",
    "\n",
    "\n",
    "# Initializing OneHotEncoder\n",
    "encoder = OneHotEncoder(drop='first')  # Drop one of the binary columns to avoid multicollinearity\n",
    "\n",
    "# Applying OneHotEncoder to 'Smoke' and 'Gender' columns\n",
    "# We use ColumnTransformer to only transform these two columns\n",
    "ct = ColumnTransformer([('one_hot_encoder', encoder, ['Smoke', 'Gender'])], remainder='passthrough')\n",
    "\n",
    "# Transforming the data and converting it into a DataFrame\n",
    "X_transformed = ct.fit_transform(data[['Smoke', 'Gender', 'Age', 'Height']])\n",
    "X_transformed_df = pd.DataFrame(X_transformed, columns=['Smoke_yes', 'Gender_female', 'Age', 'Height'])\n",
    "y = data['LungCap']\n",
    "\n",
    "# Split the data into training and testing sets with the newly transformed X\n",
    "X_train, X_test, y_train, y_test = train_test_split(X_transformed_df, y, test_size=0.2, random_state=42)\n",
    "\n",
    "# Initialize and train the linear regression model\n",
    "model = LinearRegression()\n",
    "model.fit(X_train, y_train)\n",
    "\n",
    "# Predictions\n",
    "y_pred = model.predict(X_test)\n",
    "\n",
    "# Evaluate the model\n",
    "mse = mean_squared_error(y_test, y_pred)\n",
    "r2 = r2_score(y_test, y_pred)\n",
    "\n",
    "# Display model performance\n",
    "mse, r2\n"
   ]
  },
  {
   "cell_type": "code",
   "execution_count": null,
   "id": "43dfe1f2-8295-4dc5-b877-e0b46217e020",
   "metadata": {},
   "outputs": [],
   "source": []
  },
  {
   "cell_type": "code",
   "execution_count": null,
   "id": "6db93ebd-ac61-4900-b679-03783c983df2",
   "metadata": {},
   "outputs": [],
   "source": []
  }
 ],
 "metadata": {
  "kernelspec": {
   "display_name": "Python 3 (ipykernel)",
   "language": "python",
   "name": "python3"
  },
  "language_info": {
   "codemirror_mode": {
    "name": "ipython",
    "version": 3
   },
   "file_extension": ".py",
   "mimetype": "text/x-python",
   "name": "python",
   "nbconvert_exporter": "python",
   "pygments_lexer": "ipython3",
   "version": "3.11.5"
  }
 },
 "nbformat": 4,
 "nbformat_minor": 5
}
