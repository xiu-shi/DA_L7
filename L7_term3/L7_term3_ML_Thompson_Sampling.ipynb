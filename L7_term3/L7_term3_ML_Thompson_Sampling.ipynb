{
 "cells": [
  {
   "cell_type": "code",
   "execution_count": 1,
   "id": "af20d115-aac0-490b-a373-39dbc78cc661",
   "metadata": {},
   "outputs": [],
   "source": [
    "#Importing the libraries\n",
    "\n",
    "import pandas as pd\n",
    "import numpy as np\n",
    "import matplotlib.pyplot as plt\n",
    "import math"
   ]
  },
  {
   "cell_type": "code",
   "execution_count": 2,
   "id": "9f4a2304-f355-490f-ac2b-2d7a803da5c9",
   "metadata": {},
   "outputs": [
    {
     "data": {
      "text/html": [
       "<div>\n",
       "<style scoped>\n",
       "    .dataframe tbody tr th:only-of-type {\n",
       "        vertical-align: middle;\n",
       "    }\n",
       "\n",
       "    .dataframe tbody tr th {\n",
       "        vertical-align: top;\n",
       "    }\n",
       "\n",
       "    .dataframe thead th {\n",
       "        text-align: right;\n",
       "    }\n",
       "</style>\n",
       "<table border=\"1\" class=\"dataframe\">\n",
       "  <thead>\n",
       "    <tr style=\"text-align: right;\">\n",
       "      <th></th>\n",
       "      <th>Ad 1</th>\n",
       "      <th>Ad 2</th>\n",
       "      <th>Ad 3</th>\n",
       "      <th>Ad 4</th>\n",
       "      <th>Ad 5</th>\n",
       "      <th>Ad 6</th>\n",
       "      <th>Ad 7</th>\n",
       "      <th>Ad 8</th>\n",
       "      <th>Ad 9</th>\n",
       "      <th>Ad 10</th>\n",
       "    </tr>\n",
       "  </thead>\n",
       "  <tbody>\n",
       "    <tr>\n",
       "      <th>0</th>\n",
       "      <td>1</td>\n",
       "      <td>0</td>\n",
       "      <td>0</td>\n",
       "      <td>0</td>\n",
       "      <td>1</td>\n",
       "      <td>0</td>\n",
       "      <td>0</td>\n",
       "      <td>0</td>\n",
       "      <td>1</td>\n",
       "      <td>0</td>\n",
       "    </tr>\n",
       "    <tr>\n",
       "      <th>1</th>\n",
       "      <td>0</td>\n",
       "      <td>0</td>\n",
       "      <td>0</td>\n",
       "      <td>0</td>\n",
       "      <td>0</td>\n",
       "      <td>0</td>\n",
       "      <td>0</td>\n",
       "      <td>0</td>\n",
       "      <td>1</td>\n",
       "      <td>0</td>\n",
       "    </tr>\n",
       "    <tr>\n",
       "      <th>2</th>\n",
       "      <td>0</td>\n",
       "      <td>0</td>\n",
       "      <td>0</td>\n",
       "      <td>0</td>\n",
       "      <td>0</td>\n",
       "      <td>0</td>\n",
       "      <td>0</td>\n",
       "      <td>0</td>\n",
       "      <td>0</td>\n",
       "      <td>0</td>\n",
       "    </tr>\n",
       "    <tr>\n",
       "      <th>3</th>\n",
       "      <td>0</td>\n",
       "      <td>1</td>\n",
       "      <td>0</td>\n",
       "      <td>0</td>\n",
       "      <td>0</td>\n",
       "      <td>0</td>\n",
       "      <td>0</td>\n",
       "      <td>1</td>\n",
       "      <td>0</td>\n",
       "      <td>0</td>\n",
       "    </tr>\n",
       "    <tr>\n",
       "      <th>4</th>\n",
       "      <td>0</td>\n",
       "      <td>0</td>\n",
       "      <td>0</td>\n",
       "      <td>0</td>\n",
       "      <td>0</td>\n",
       "      <td>0</td>\n",
       "      <td>0</td>\n",
       "      <td>0</td>\n",
       "      <td>0</td>\n",
       "      <td>0</td>\n",
       "    </tr>\n",
       "  </tbody>\n",
       "</table>\n",
       "</div>"
      ],
      "text/plain": [
       "   Ad 1  Ad 2  Ad 3  Ad 4  Ad 5  Ad 6  Ad 7  Ad 8  Ad 9  Ad 10\n",
       "0     1     0     0     0     1     0     0     0     1      0\n",
       "1     0     0     0     0     0     0     0     0     1      0\n",
       "2     0     0     0     0     0     0     0     0     0      0\n",
       "3     0     1     0     0     0     0     0     1     0      0\n",
       "4     0     0     0     0     0     0     0     0     0      0"
      ]
     },
     "execution_count": 2,
     "metadata": {},
     "output_type": "execute_result"
    }
   ],
   "source": [
    "dataset=pd.read_csv('/Users/eupirate/Documents/DA_L7/L7_term3/L7_term3_MLAds_CTR.csv')\n",
    "dataset.head()"
   ]
  },
  {
   "cell_type": "code",
   "execution_count": 3,
   "id": "6e149caa-2df3-420e-800e-2aff847bf253",
   "metadata": {},
   "outputs": [
    {
     "ename": "NameError",
     "evalue": "name 'd' is not defined",
     "output_type": "error",
     "traceback": [
      "\u001b[0;31m---------------------------------------------------------------------------\u001b[0m",
      "\u001b[0;31mNameError\u001b[0m                                 Traceback (most recent call last)",
      "Cell \u001b[0;32mIn[3], line 4\u001b[0m\n\u001b[1;32m      1\u001b[0m \u001b[38;5;66;03m#Step 1\u001b[39;00m\n\u001b[1;32m      3\u001b[0m ads_selected \u001b[38;5;241m=\u001b[39m [] \u001b[38;5;66;03m#list of all the ads that will be selected over the rounds\u001b[39;00m\n\u001b[0;32m----> 4\u001b[0m number_of_rewards_1 \u001b[38;5;241m=\u001b[39m [\u001b[38;5;241m0\u001b[39m] \u001b[38;5;241m*\u001b[39m d \u001b[38;5;66;03m# zero is the first element of the index, and at the first moment nothing happens\u001b[39;00m\n\u001b[1;32m      5\u001b[0m number_of_rewards_0 \u001b[38;5;241m=\u001b[39m [\u001b[38;5;241m0\u001b[39m] \u001b[38;5;241m*\u001b[39m d \u001b[38;5;66;03m# zero is the first element of the index, and at the first moment nothing happens\u001b[39;00m\n\u001b[1;32m      6\u001b[0m total_reward \u001b[38;5;241m=\u001b[39m \u001b[38;5;241m0\u001b[39m\n",
      "\u001b[0;31mNameError\u001b[0m: name 'd' is not defined"
     ]
    }
   ],
   "source": [
    "#Step 1\n",
    "\n",
    "ads_selected = [] #list of all the ads that will be selected over the rounds\n",
    "number_of_rewards_1 = [0] * d # zero is the first element of the index, and at the first moment nothing happens\n",
    "number_of_rewards_0 = [0] * d # zero is the first element of the index, and at the first moment nothing happens\n",
    "total_reward = 0 #as at the beginning nothing happens, we start in zero, because here it is the cumulation during the time we are working"
   ]
  },
  {
   "cell_type": "code",
   "execution_count": null,
   "id": "6e4e9b68-c0a6-49fa-9367-e06dfeda5f7c",
   "metadata": {},
   "outputs": [],
   "source": [
    "for n in range(0, N): # n = rounds, index starts in 0 and goes up to N\n",
    "    ad = 0 # there will be a econd loop iterating the 0 until the last ad\n",
    "    max_random = 0 #we start from zero because nothing happened yet. This is the maximum of the random draws\n",
    "    \n",
    "    #We start the second loop\n",
    "    for i in range(0, d): # here we go from 0 till the number of ads\n",
    "        random_beta = random.betavariate(number_of_rewards_1[i] +1,  number_of_rewards_0[i] + 1)\n",
    "        #We implement the step 3\n",
    "        if random_beta > max_random: #if the max random is higher than the random beta then it will update the algorithm\n",
    "            max_random = random_beta\n",
    "            ad = i\n",
    "#We finish the implementation updating the variables\n",
    "    ads_selected.append(ad) # the ad selected list  will create a list of all the rewards\n",
    "    reward = dataset.values[n, ad]\n",
    "        #we need to indicate if we have a reward of 0 or 1\n",
    "    if reward == 1:\n",
    "        number_of_rewards_1[ad] = number_of_rewards_1[ad] + 1 # list when reward is 1\n",
    "    else:\n",
    "        number_of_rewards_0[ad] = number_of_rewards_0[ad] + 1 # list of reward 0\n",
    "        \n",
    "    total_reward = total_reward + reward #0 where we started  + cumulated rewards"
   ]
  },
  {
   "cell_type": "code",
   "execution_count": null,
   "id": "5fff086a-69a5-44e4-a2c5-6d4a95157229",
   "metadata": {},
   "outputs": [],
   "source": []
  },
  {
   "cell_type": "code",
   "execution_count": null,
   "id": "cbfa18c3-89a9-49c8-ac8c-464058cd816e",
   "metadata": {},
   "outputs": [],
   "source": []
  },
  {
   "cell_type": "code",
   "execution_count": null,
   "id": "70573d4e-1094-4f27-bf76-0bdaaa8ffe0e",
   "metadata": {},
   "outputs": [],
   "source": []
  },
  {
   "cell_type": "code",
   "execution_count": null,
   "id": "be165185-b65e-4093-a275-2bfd65e2fdcb",
   "metadata": {},
   "outputs": [],
   "source": []
  }
 ],
 "metadata": {
  "kernelspec": {
   "display_name": "Python 3 (ipykernel)",
   "language": "python",
   "name": "python3"
  },
  "language_info": {
   "codemirror_mode": {
    "name": "ipython",
    "version": 3
   },
   "file_extension": ".py",
   "mimetype": "text/x-python",
   "name": "python",
   "nbconvert_exporter": "python",
   "pygments_lexer": "ipython3",
   "version": "3.11.5"
  }
 },
 "nbformat": 4,
 "nbformat_minor": 5
}
