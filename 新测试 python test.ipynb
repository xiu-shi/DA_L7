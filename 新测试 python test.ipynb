{
 "cells": [
  {
   "cell_type": "code",
   "execution_count": null,
   "id": "7debe0e7",
   "metadata": {},
   "outputs": [],
   "source": []
  },
  {
   "cell_type": "code",
   "execution_count": 1,
   "id": "b76f864a",
   "metadata": {},
   "outputs": [
    {
     "name": "stdout",
     "output_type": "stream",
     "text": [
      "*\n",
      "**\n",
      "***\n",
      "****\n",
      "*****\n",
      "****\n",
      "***\n",
      "**\n",
      "*\n"
     ]
    }
   ],
   "source": [
    "#1\n",
    "num_rows = 9\n",
    "for row in range(1, num_rows + 1):\n",
    " \n",
    "    num_stars = row if row <= 5 else num_rows - row + 1\n",
    " \n",
    "    print(\"*\" * num_stars)"
   ]
  },
  {
   "cell_type": "code",
   "execution_count": null,
   "id": "d1ded802",
   "metadata": {},
   "outputs": [],
   "source": [
    "#"
   ]
  },
  {
   "cell_type": "code",
   "execution_count": 3,
   "id": "264084f7",
   "metadata": {},
   "outputs": [
    {
     "name": "stdout",
     "output_type": "stream",
     "text": [
      "*\n",
      "**\n",
      "***\n",
      "****\n",
      "*****\n",
      "****\n",
      "***\n",
      "**\n",
      "*\n"
     ]
    }
   ],
   "source": [
    "#2\n",
    "num_rows = 9\n",
    "for row in range(1, num_rows + 1):\n",
    " \n",
    "    num_stars = row if row <= 5 else num_rows - row + 1\n",
    " \n",
    "    print(\"*\" * num_stars)"
   ]
  },
  {
   "cell_type": "code",
   "execution_count": null,
   "id": "1ecf5a98",
   "metadata": {},
   "outputs": [],
   "source": []
  },
  {
   "cell_type": "code",
   "execution_count": 5,
   "id": "8dc731a8",
   "metadata": {},
   "outputs": [
    {
     "name": "stdout",
     "output_type": "stream",
     "text": [
      "*\n",
      "**\n",
      "***\n",
      "****\n",
      "*****\n",
      "****\n",
      "***\n",
      "**\n",
      "*\n"
     ]
    }
   ],
   "source": [
    "#3\n",
    "num_rows = 9\n",
    "for i in range(1, 10):\n",
    "    print('*' * min(i, 10 - i))"
   ]
  },
  {
   "cell_type": "code",
   "execution_count": 6,
   "id": "70417ece",
   "metadata": {},
   "outputs": [
    {
     "name": "stdout",
     "output_type": "stream",
     "text": [
      "*\n",
      "**\n",
      "***\n",
      "****\n",
      "*****\n",
      "****\n",
      "***\n",
      "**\n",
      "*\n"
     ]
    }
   ],
   "source": [
    "#4\n",
    "def draw_things(height):\n",
    "    for i in range(1, height + 1):\n",
    "        print('*' * i)\n",
    "    for i in range(height -1, 0, -1):\n",
    "        print('*' * i)\n",
    "draw_things(5)"
   ]
  },
  {
   "cell_type": "code",
   "execution_count": null,
   "id": "2de5af6c",
   "metadata": {},
   "outputs": [],
   "source": []
  },
  {
   "cell_type": "code",
   "execution_count": 8,
   "id": "48af72be",
   "metadata": {},
   "outputs": [
    {
     "name": "stdout",
     "output_type": "stream",
     "text": [
      "*\n",
      "**\n",
      "***\n",
      "****\n",
      "*****\n",
      "****\n",
      "***\n",
      "**\n",
      "*\n"
     ]
    }
   ],
   "source": [
    "#5\n",
    "for i in range(-4,5):\n",
    "    print('*' * (5 - abs(i)))"
   ]
  },
  {
   "cell_type": "code",
   "execution_count": null,
   "id": "928e6e57",
   "metadata": {},
   "outputs": [],
   "source": []
  }
 ],
 "metadata": {
  "kernelspec": {
   "display_name": "Python 3 (ipykernel)",
   "language": "python",
   "name": "python3"
  },
  "language_info": {
   "codemirror_mode": {
    "name": "ipython",
    "version": 3
   },
   "file_extension": ".py",
   "mimetype": "text/x-python",
   "name": "python",
   "nbconvert_exporter": "python",
   "pygments_lexer": "ipython3",
   "version": "3.9.18"
  }
 },
 "nbformat": 4,
 "nbformat_minor": 5
}
