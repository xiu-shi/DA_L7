{
 "cells": [
  {
   "cell_type": "code",
   "execution_count": 1,
   "id": "15953789",
   "metadata": {},
   "outputs": [],
   "source": [
    "#IMPORTING LIBRARIES\n",
    "import pandas as pd\n",
    "import statistics as stats\n",
    "import numpy as np\n",
    "import matplotlib.pyplot as plt\n",
    "import seaborn as sns"
   ]
  },
  {
   "cell_type": "code",
   "execution_count": 3,
   "id": "2fa247c8",
   "metadata": {},
   "outputs": [],
   "source": [
    "\n",
    "#IMPORTING DATASET\n",
    "# Importing the dataset\n",
    "dataset = pd.read_csv('/Users/eupirate/Documents/DA_L7_CCT/DA_L7/WK3_25_Sep_1_Oct/50_Startups.csv')\n"
   ]
  },
  {
   "cell_type": "code",
   "execution_count": 4,
   "id": "856e3c6c",
   "metadata": {},
   "outputs": [
    {
     "data": {
      "text/html": [
       "<div>\n",
       "<style scoped>\n",
       "    .dataframe tbody tr th:only-of-type {\n",
       "        vertical-align: middle;\n",
       "    }\n",
       "\n",
       "    .dataframe tbody tr th {\n",
       "        vertical-align: top;\n",
       "    }\n",
       "\n",
       "    .dataframe thead th {\n",
       "        text-align: right;\n",
       "    }\n",
       "</style>\n",
       "<table border=\"1\" class=\"dataframe\">\n",
       "  <thead>\n",
       "    <tr style=\"text-align: right;\">\n",
       "      <th></th>\n",
       "      <th>R&amp;D Spend</th>\n",
       "      <th>Administration</th>\n",
       "      <th>Marketing Spend</th>\n",
       "      <th>State</th>\n",
       "      <th>Profit</th>\n",
       "      <th>Unnamed: 5</th>\n",
       "      <th>Administration.1</th>\n",
       "      <th>Unnamed: 7</th>\n",
       "    </tr>\n",
       "  </thead>\n",
       "  <tbody>\n",
       "    <tr>\n",
       "      <th>0</th>\n",
       "      <td>165349.20</td>\n",
       "      <td>136897.80</td>\n",
       "      <td>471784.10</td>\n",
       "      <td>New York</td>\n",
       "      <td>192261.83</td>\n",
       "      <td>NaN</td>\n",
       "      <td>NaN</td>\n",
       "      <td>NaN</td>\n",
       "    </tr>\n",
       "    <tr>\n",
       "      <th>1</th>\n",
       "      <td>162597.70</td>\n",
       "      <td>151377.59</td>\n",
       "      <td>443898.53</td>\n",
       "      <td>California</td>\n",
       "      <td>191792.06</td>\n",
       "      <td>NaN</td>\n",
       "      <td>Mean</td>\n",
       "      <td>121344.639600</td>\n",
       "    </tr>\n",
       "    <tr>\n",
       "      <th>2</th>\n",
       "      <td>153441.51</td>\n",
       "      <td>101145.55</td>\n",
       "      <td>407934.54</td>\n",
       "      <td>Florida</td>\n",
       "      <td>191050.39</td>\n",
       "      <td>NaN</td>\n",
       "      <td>Standard Error</td>\n",
       "      <td>3962.315664</td>\n",
       "    </tr>\n",
       "    <tr>\n",
       "      <th>3</th>\n",
       "      <td>144372.41</td>\n",
       "      <td>118671.85</td>\n",
       "      <td>383199.62</td>\n",
       "      <td>New York</td>\n",
       "      <td>182901.99</td>\n",
       "      <td>NaN</td>\n",
       "      <td>Median</td>\n",
       "      <td>122699.795000</td>\n",
       "    </tr>\n",
       "    <tr>\n",
       "      <th>4</th>\n",
       "      <td>142107.34</td>\n",
       "      <td>91391.77</td>\n",
       "      <td>366168.42</td>\n",
       "      <td>Florida</td>\n",
       "      <td>166187.94</td>\n",
       "      <td>NaN</td>\n",
       "      <td>Mode</td>\n",
       "      <td>NaN</td>\n",
       "    </tr>\n",
       "  </tbody>\n",
       "</table>\n",
       "</div>"
      ],
      "text/plain": [
       "   R&D Spend  Administration  Marketing Spend       State     Profit  \\\n",
       "0  165349.20       136897.80        471784.10    New York  192261.83   \n",
       "1  162597.70       151377.59        443898.53  California  191792.06   \n",
       "2  153441.51       101145.55        407934.54     Florida  191050.39   \n",
       "3  144372.41       118671.85        383199.62    New York  182901.99   \n",
       "4  142107.34        91391.77        366168.42     Florida  166187.94   \n",
       "\n",
       "   Unnamed: 5 Administration.1     Unnamed: 7  \n",
       "0         NaN              NaN            NaN  \n",
       "1         NaN             Mean  121344.639600  \n",
       "2         NaN   Standard Error    3962.315664  \n",
       "3         NaN           Median  122699.795000  \n",
       "4         NaN             Mode            NaN  "
      ]
     },
     "execution_count": 4,
     "metadata": {},
     "output_type": "execute_result"
    }
   ],
   "source": [
    "dataset.head()"
   ]
  },
  {
   "cell_type": "code",
   "execution_count": null,
   "id": "9b33a38d",
   "metadata": {
    "scrolled": true
   },
   "outputs": [],
   "source": [
    "dataset.describe()"
   ]
  },
  {
   "cell_type": "code",
   "execution_count": null,
   "id": "099ac8d9",
   "metadata": {},
   "outputs": [],
   "source": [
    "dataset.State.value_counts()"
   ]
  },
  {
   "cell_type": "code",
   "execution_count": null,
   "id": "e91c7d50",
   "metadata": {},
   "outputs": [],
   "source": [
    "#We count the values\n",
    "\n",
    "value_counts = dataset['State'].value_counts()\n",
    "relative_frequencies = value_counts / len(dataset)"
   ]
  },
  {
   "cell_type": "code",
   "execution_count": null,
   "id": "94ca8453",
   "metadata": {},
   "outputs": [],
   "source": [
    "#We create the subtable to find the relative frequency\n",
    "\n",
    "subtable = pd.DataFrame({'State': value_counts.index, \n",
    "                         'Frequency': value_counts.values, \n",
    "                         'Relative Frequency': relative_frequencies.values})\n",
    "subtable"
   ]
  },
  {
   "cell_type": "code",
   "execution_count": null,
   "id": "cd9ba751",
   "metadata": {},
   "outputs": [],
   "source": [
    "mean_adm= dataset['Administration'].mean()\n",
    "print(mean_adm)"
   ]
  },
  {
   "cell_type": "code",
   "execution_count": null,
   "id": "0ae3a2a2",
   "metadata": {},
   "outputs": [],
   "source": [
    "median = dataset['Administration'].median()\n",
    "print(median)"
   ]
  },
  {
   "cell_type": "code",
   "execution_count": null,
   "id": "98abbd15",
   "metadata": {},
   "outputs": [],
   "source": [
    "mode = dataset['Administration'].mode()\n",
    "print(mode)"
   ]
  },
  {
   "cell_type": "code",
   "execution_count": null,
   "id": "e8c5dd1d",
   "metadata": {},
   "outputs": [],
   "source": [
    "ax = sns.histplot(dataset.Administration)\n",
    "ax.set(xlabel='Adm Spent', ylabel='Companies', title ='Administration Histogram')"
   ]
  },
  {
   "cell_type": "code",
   "execution_count": null,
   "id": "174bbc5a",
   "metadata": {},
   "outputs": [],
   "source": [
    "ax = sns.histplot(dataset.Administration, kde=True, color ='green')\n",
    "ax.set(xlabel='Adm spent', ylabel='Companies', title ='Administration Histogram')"
   ]
  },
  {
   "cell_type": "code",
   "execution_count": null,
   "id": "907ff62c",
   "metadata": {},
   "outputs": [],
   "source": [
    "sns.boxplot(x = 'State', y ='Administration', data=dataset, hue = 'State')\n",
    "plt.title('Box plot Administration', fontsize=15)\n",
    "#plt.legend([], [], frameon=False)\n",
    "plt.show()"
   ]
  },
  {
   "cell_type": "code",
   "execution_count": null,
   "id": "5050874b",
   "metadata": {},
   "outputs": [],
   "source": [
    "data_locations = dataset.groupby('State', axis = 0).sum()\n",
    "data_locations\n"
   ]
  },
  {
   "cell_type": "code",
   "execution_count": null,
   "id": "94f90715",
   "metadata": {},
   "outputs": [],
   "source": [
    "locations = ['California', 'Florida', 'New York']\n",
    "data_locations['Administration'].plot(kind='pie', labels = locations, radius=1, autopct='%1.1f%%', shadow = True)\n",
    "plt.title('Administration spent by location')\n",
    "plt.ylabel(\"\")\n",
    "plt.tight_layout()"
   ]
  },
  {
   "cell_type": "code",
   "execution_count": null,
   "id": "04cace06",
   "metadata": {},
   "outputs": [],
   "source": [
    "data_locations.reset_index(inplace=True)"
   ]
  },
  {
   "cell_type": "code",
   "execution_count": null,
   "id": "da88213c",
   "metadata": {},
   "outputs": [],
   "source": [
    "#rename columns\n",
    "data_locations.columns = ['State', 'R&D Spend', 'Administration', 'Marketing Spend', 'Profit']"
   ]
  },
  {
   "cell_type": "code",
   "execution_count": null,
   "id": "1c397f55",
   "metadata": {},
   "outputs": [],
   "source": [
    "data_locations"
   ]
  },
  {
   "cell_type": "code",
   "execution_count": null,
   "id": "8e41bb12",
   "metadata": {},
   "outputs": [],
   "source": [
    "plt.figure(figsize=(8, 6))\n",
    "ax = sns.barplot(x=\"State\", y=\"Administration\", data=data_locations)"
   ]
  },
  {
   "cell_type": "code",
   "execution_count": null,
   "id": "4944e527",
   "metadata": {},
   "outputs": [],
   "source": []
  },
  {
   "cell_type": "code",
   "execution_count": null,
   "id": "f2adb2e2",
   "metadata": {},
   "outputs": [],
   "source": []
  }
 ],
 "metadata": {
  "kernelspec": {
   "display_name": "Python 3 (ipykernel)",
   "language": "python",
   "name": "python3"
  },
  "language_info": {
   "codemirror_mode": {
    "name": "ipython",
    "version": 3
   },
   "file_extension": ".py",
   "mimetype": "text/x-python",
   "name": "python",
   "nbconvert_exporter": "python",
   "pygments_lexer": "ipython3",
   "version": "3.11.4"
  }
 },
 "nbformat": 4,
 "nbformat_minor": 5
}
